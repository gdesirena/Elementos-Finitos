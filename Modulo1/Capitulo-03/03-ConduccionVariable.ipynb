{
 "cells": [
  {
   "cell_type": "markdown",
   "metadata": {
    "slideshow": {
     "slide_type": "slide"
    }
   },
   "source": [
    "![Titulo](Imagenes/Titulos/Head2-5.png)"
   ]
  },
  {
   "cell_type": "markdown",
   "metadata": {
    "slideshow": {
     "slide_type": "slide"
    }
   },
   "source": [
    "## Conducción variable y convección en la frontera"
   ]
  },
  {
   "cell_type": "markdown",
   "metadata": {
    "slideshow": {
     "slide_type": "slide"
    }
   },
   "source": [
    "Extenderemos el planteamiento anterior para resolver un sistema de conducción con estado estable con __convección__ el el extremo izquierdo ($x=0$), temperatura fija $T_L$ en el extremo derecho ($x=L$). En este desarrollo supondremos que no hay generación de calor ($Q=0$), pero haremos una variación en la conductividad del elemento, esto es $K = K(x)$.\n",
    "\n",
    "La ecuación diferencial que describe este problema es:\n",
    "\n",
    "$$- \\dfrac {d} {dx} \\left( K(x) \\dfrac {dT} {dx} \\right) = 0 $$\n",
    "\n",
    "con\n",
    "\n",
    "$$ -K \\dfrac {dT} {dx} + h(T-T_{\\infty})=0 \\text{ en } x=0$$\n",
    "\n",
    "y \n",
    "\n",
    "$$ T=T_L \\text{ en } x=L$$"
   ]
  },
  {
   "cell_type": "markdown",
   "metadata": {
    "slideshow": {
     "slide_type": "slide"
    }
   },
   "source": [
    "La formulación de residuos ponderados se obtiene de la misma manera que en los anteriores:\n",
    "\n",
    "$$ \\int_0^L K(x) \\dfrac {dW} {dx} \\dfrac {dT} {dx} dx- \\left[W \\left( -K \\dfrac {dT} {dx} \\right) \\right]_{x=0} + \\left[W \\left( -K \\dfrac {dT} {dx} \\right) \\right]_{x=L} = 0$$"
   ]
  },
  {
   "cell_type": "markdown",
   "metadata": {
    "slideshow": {
     "slide_type": "slide"
    }
   },
   "source": [
    "También remplazamos la condición en la frontera izquierda ($x=0$) tenemos:\n",
    "\n",
    "$$ \\int_0^L K(x) \\dfrac {dW} {dx} \\dfrac {dT} {dx} dx + Wh(T-T_{\\infty})_{x=0}= 0$$"
   ]
  },
  {
   "cell_type": "markdown",
   "metadata": {
    "slideshow": {
     "slide_type": "slide"
    }
   },
   "source": [
    "Utilizaremos una función de $T(x)$ igual que las anteriores:\n",
    "\n",
    "\n",
    "$$ T(x) = \\sum_{i=1}^{n+1} N_i(x) T_i $$ \n",
    "\n",
    "Con funciones lineales para $N_i(x)$."
   ]
  },
  {
   "cell_type": "markdown",
   "metadata": {
    "slideshow": {
     "slide_type": "slide"
    }
   },
   "source": [
    "La forma de Galerkin del sistema queda:\n",
    "\n",
    "$$ \\int_0^L K(x) \\dfrac {dN_i} {dx} \\left(\\sum_{j=1}^{n+1} \\dfrac {N_j} {dx} T_j  \\right) dx + N_i h(T-T_{\\infty})\\big|_{x=0} = 0$$"
   ]
  },
  {
   "cell_type": "markdown",
   "metadata": {
    "slideshow": {
     "slide_type": "slide"
    }
   },
   "source": [
    "Como la parte de la convección únicamente aparece en el primer nodo del primer elemento (extremo izquierdo) y sabiendo que $N_1^{(e_1)}(0) = 1 $ y $ N_2^{(e_1)}(0)=0$, expresamos $N_i h(T-T_{\\infty})\\big|_{x=0}$ en forma matricial:\n",
    "\n",
    "$$N_i h(T-T_{\\infty})\\big|_{x=0} = \\begin{bmatrix} N_1 \\\\ N_2 \\end{bmatrix} h \\begin{bmatrix} N_1 & N_2 \\end{bmatrix} \\begin{bmatrix} T_1 - T_{\\infty} \\\\ T_2 - T_{\\infty} \\end{bmatrix}\\Big|_{x=0}$$"
   ]
  },
  {
   "cell_type": "markdown",
   "metadata": {
    "slideshow": {
     "slide_type": "slide"
    }
   },
   "source": [
    "$$ = \\left( h \\begin{bmatrix} N_1 \\\\ N_2 \\end{bmatrix} \\begin{bmatrix} N_1 & N_2 \\end{bmatrix} \\begin{bmatrix} T_1  \\\\ T_2  \\end{bmatrix} - \\begin{bmatrix} N_1 \\\\ N_2 \\end{bmatrix}h T_{\\infty} \\right)\\Big|_{x=0}$$"
   ]
  },
  {
   "cell_type": "markdown",
   "metadata": {
    "slideshow": {
     "slide_type": "slide"
    }
   },
   "source": [
    "$$ = \\left( h \\begin{bmatrix} N_1N_1 && N_1N_2 \\\\ N_2N_1 && N_2N_2 \\end{bmatrix} \\begin{bmatrix} T_1  \\\\ T_2  \\end{bmatrix} - \\begin{bmatrix} N_1 \\\\ N_2 \\end{bmatrix}h T_{\\infty}\\right)\\Big|_{x=0}$$"
   ]
  },
  {
   "cell_type": "markdown",
   "metadata": {
    "slideshow": {
     "slide_type": "slide"
    }
   },
   "source": [
    "$$ = h \\begin{bmatrix} -1 && 0 \\\\ 0 && 0 \\end{bmatrix} \\begin{bmatrix} T_1  \\\\ T_2  \\end{bmatrix} + h T_{\\infty}\\begin{bmatrix} 1 \\\\ 0 \\end{bmatrix}$$"
   ]
  },
  {
   "cell_type": "markdown",
   "metadata": {
    "slideshow": {
     "slide_type": "slide"
    }
   },
   "source": [
    "Independientemente de que forma tenga la conductividad $K(x)$ utilizaremos las mismas funciones de forma que las utilizadas para la variable dependiente $T(x)$, interpolando entre los valores conocidos (en los nodos) de manera lineal:\n",
    "\n",
    "$$K^{(e)}(x) = N_1^{(e)}K_1^{(e)}+N_2^{(e)}K_2^{(e)}$$"
   ]
  },
  {
   "cell_type": "markdown",
   "metadata": {
    "slideshow": {
     "slide_type": "slide"
    }
   },
   "source": [
    "Las ecuaciones del primer elemento, que incluyen la frontera de transferencia por convección:\n",
    "\n",
    "$$ \\int_{x_1}^{x_2} \\begin{bmatrix} N_1^{(e_1)} & N_2^{(e_1)}\\end{bmatrix} \\begin{bmatrix} K_1^{(e_1)} \\\\ K_2^{(e1)}\\end{bmatrix} \\left( \\begin{bmatrix} \\dfrac {dN_1^{(e_1)}} {dx} \\\\ \\dfrac {dN_2^{(e_1)}} {dx} \\end{bmatrix} \\begin{bmatrix} \\dfrac {dN_1^{(e_1)}} {dx} & \\dfrac {dN_2^{(e_1)}} {dx} \\end{bmatrix}  \\right) dx \\begin{bmatrix} T_1^{(e_1)} \\\\ T_2^{(e_1)} \\end{bmatrix} + \\begin{bmatrix} h & 0 \\\\ 0 & 0 \\end{bmatrix} \\begin{bmatrix} T_1^{(e_1)} \\\\ T_2^{(e_1)} \\end{bmatrix} = hT_{\\infty} \\begin{bmatrix} 1 \\\\ 0 \\end{bmatrix}$$ "
   ]
  },
  {
   "cell_type": "markdown",
   "metadata": {
    "slideshow": {
     "slide_type": "slide"
    }
   },
   "source": [
    "Integrando para el primer elemento:\n",
    "\n",
    "$$ \\dfrac {1} {2h^{(e_1)}} \\left( K_1^{(e_1)} + K_2^{(e_1)} \\right) \\begin{bmatrix} 1 & -1 \\\\ -1 & 1 \\end{bmatrix} \\begin{bmatrix} T_1^{(e_1)} \\\\ T_2^{(e_1)} \\end{bmatrix} + \\begin{bmatrix} h & 0 \\\\ 0 & 0 \\end{bmatrix} \\begin{bmatrix} T_1^{(e_1)} \\\\ T_2^{(e_1)} \\end{bmatrix} = hT_{\\infty} \\begin{bmatrix} 1 \\\\ 0 \\end{bmatrix}$$ "
   ]
  },
  {
   "cell_type": "markdown",
   "metadata": {
    "slideshow": {
     "slide_type": "slide"
    }
   },
   "source": [
    "Para todos los otros elementos, i.e. $e_i \\ne e_1$, las ecuaciones quedan:\n",
    "\n",
    "$$ \\dfrac {1} {2h^{(e_i)}} \\left( K_1^{(e_i)} + K_2^{(e_i)} \\right) \\begin{bmatrix} 1 & -1 \\\\ -1 & 1 \\end{bmatrix} \\begin{bmatrix} T_1^{(e_i)} \\\\ T_2^{(e_i)} \\end{bmatrix} = 0$$"
   ]
  },
  {
   "cell_type": "markdown",
   "metadata": {
    "slideshow": {
     "slide_type": "slide"
    }
   },
   "source": [
    "Para un dominio $0 \\le x \\le L$ discretizado en dos elementos de $L/2$ de longitud, el sistema ensamblado queda:\n",
    "\n",
    "$$\\dfrac{1}{L} \\begin{bmatrix} K_1+K_2+Lh & -(K_1+K_2) & 0 \\\\ -(K_1+K_2) & K_1+2K_2+K_3 & -(K_2+K_3) \\\\ 0 & -(K_2+K_3) & K_2+K_3 \\end{bmatrix} \\begin{bmatrix} T_1  \\\\ T_2 \\\\ T_3 \\end{bmatrix} = \\begin{bmatrix} hT_{\\infty} \\\\0 \\\\ K dT/dx \\end{bmatrix}$$"
   ]
  },
  {
   "cell_type": "markdown",
   "metadata": {
    "slideshow": {
     "slide_type": "slide"
    }
   },
   "source": [
    "Las ecuaciones para el caso de convección el en extremo derecho del dominio se pueden obtener de la misma manera, resultando:\n",
    "\n",
    "$$ \\dfrac {1} {2h^{(e_n)}} \\left( K_1^{(e_n)} + K_2^{(en)} \\right) \\begin{bmatrix} 1 & -1 \\\\ -1 & 1 \\end{bmatrix} \\begin{bmatrix} T_1^{(e_n)} \\\\ T_2^{(e_n)} \\end{bmatrix} + \\begin{bmatrix} 0 & 0 \\\\ 0 & h \\end{bmatrix} \\begin{bmatrix} T_1^{(e_n)} \\\\ T_2^{(e_n)} \\end{bmatrix} = hT_{\\infty} \\begin{bmatrix} 0 \\\\ 1 \\end{bmatrix}$$ "
   ]
  },
  {
   "cell_type": "markdown",
   "metadata": {
    "slideshow": {
     "slide_type": "slide"
    }
   },
   "source": [
    "La condición de frontera de convección se puede aplicar a cualquiera de los extremos o a los dos.  Estas ecuaciones son válidas para cualquier sistema con cualquier malla (uniforme o no uniforme), conductividad variable y para convección en ninguna, una o dos de las fronteras."
   ]
  },
  {
   "cell_type": "markdown",
   "metadata": {
    "slideshow": {
     "slide_type": "slide"
    }
   },
   "source": [
    "### Ejemplo usando un elemento\n",
    "\n",
    "Resolveremos la ecuación\n",
    "\n",
    "$$- \\dfrac {d} {dx} \\left( K(x) \\dfrac {dT} {dx} \\right) = 0 $$\n",
    "\n",
    "para $L=10 \\,cm$ con una variación de $K(x)$ lineal de $40$ a $60 \\, W/m\\,^oC$, $h=100 \\, W/m^2\\,^oC$, $T_{\\infty} = 400 \\,^oC$ y $T_L = 39.18 \\, ^oC$ en $x=L$. "
   ]
  },
  {
   "cell_type": "markdown",
   "metadata": {
    "slideshow": {
     "slide_type": "slide"
    }
   },
   "source": [
    "Empezaremos por la malla más simple posible, formada por un sólo elemento. Remplazando los datos en:\n",
    "\n",
    "$$ \\dfrac {1} {2h^{(e)}} \\left( K_1 + K_2 \\right) \\begin{bmatrix} 1 & -1 \\\\ -1 & 1 \\end{bmatrix} \\begin{bmatrix} T_1 \\\\ T_2 \\end{bmatrix} + \\begin{bmatrix} h & 0 \\\\ 0 & 0 \\end{bmatrix} \\begin{bmatrix} T_1 \\\\ T_2 \\end{bmatrix} = hT_{\\infty} \\begin{bmatrix} 1 \\\\ 0 \\end{bmatrix}$$ "
   ]
  },
  {
   "cell_type": "markdown",
   "metadata": {
    "slideshow": {
     "slide_type": "slide"
    }
   },
   "source": [
    "$$ \\dfrac {1} {2(0.10)} \\left( 40 + 60 \\right) \\begin{bmatrix} 1 & -1 \\\\ -1 & 1 \\end{bmatrix} \\begin{bmatrix} T_1 \\\\ T_2 \\end{bmatrix} + \\begin{bmatrix} 100 & 0 \\\\ 0 & 0 \\end{bmatrix} \\begin{bmatrix} T_1 \\\\ T_2 \\end{bmatrix} = 100(400) \\begin{bmatrix} 1 \\\\ 0 \\end{bmatrix}$$ "
   ]
  },
  {
   "cell_type": "markdown",
   "metadata": {
    "slideshow": {
     "slide_type": "slide"
    }
   },
   "source": [
    "$$ 500 \\begin{bmatrix} 1 & -1 \\\\ -1 & 1 \\end{bmatrix} \\begin{bmatrix} T_1 \\\\ T_2 \\end{bmatrix} + \\begin{bmatrix} 100 & 0 \\\\ 0 & 0 \\end{bmatrix} \\begin{bmatrix} T_1 \\\\ T_2 \\end{bmatrix} =  \\begin{bmatrix} 40000 \\\\ 0 \\end{bmatrix}$$ "
   ]
  },
  {
   "cell_type": "markdown",
   "metadata": {
    "slideshow": {
     "slide_type": "slide"
    }
   },
   "source": [
    "Que se puede simplificar a:\n",
    "\n",
    "$$ \\begin{bmatrix} 6 & -5 \\\\ -5 & 5 \\end{bmatrix} \\begin{bmatrix} T_1 \\\\ T_2 \\end{bmatrix}  =  \\begin{bmatrix} 400 \\\\ 0 \\end{bmatrix}$$ "
   ]
  },
  {
   "cell_type": "markdown",
   "metadata": {
    "slideshow": {
     "slide_type": "slide"
    }
   },
   "source": [
    "Podemos, en este punto, resolver el sistema, obteniendo $T_1 = T_2 = 400^oC$, esto es $T(x) = T_{\\infty}$ (constante en todo el dominio. Que es la respuesta correcta para una condición de frontera _adiabatica_ (sin flujo de calor) en el lado derecho.\n",
    "\n",
    "Así, si no fijamos explicitamente la temperatura en alguna de las fronteras el MEF automáticamente impone esta condición de flujo cero."
   ]
  },
  {
   "cell_type": "markdown",
   "metadata": {
    "slideshow": {
     "slide_type": "slide"
    }
   },
   "source": [
    "Como en este caso si tenemos una temperatura fija $T(L) = 39.18^oC$, modificamos la ecuación a:\n",
    "\n",
    "$$ \\begin{bmatrix} 6 & -5 \\\\ 0 & 1 \\end{bmatrix} \\begin{bmatrix} T_1 \\\\ T_2 \\end{bmatrix}  =  \\begin{bmatrix} 400 \\\\ 39.18 \\end{bmatrix}$$ "
   ]
  },
  {
   "cell_type": "markdown",
   "metadata": {
    "slideshow": {
     "slide_type": "slide"
    }
   },
   "source": [
    "De donde podemos obtener el valor de $T_1 = 99.317^oC$. La solución exacta de este problema es $T_1=100^oC$, y por lo tanto, con un sólo elemento logramos un error de menos del 0.7%."
   ]
  },
  {
   "cell_type": "markdown",
   "metadata": {
    "slideshow": {
     "slide_type": "slide"
    }
   },
   "source": [
    "### Clasificación de los tipos de condiciones de frontera"
   ]
  },
  {
   "cell_type": "markdown",
   "metadata": {
    "slideshow": {
     "slide_type": "slide"
    }
   },
   "source": [
    "Este ejemplo sirve para mostrar como podemos incorporar las condiciones de frontera con la forma genérica:\n",
    "\n",
    "$$aT + b\\dfrac {dT} {dx}+c = 0$$\n",
    "\n",
    "para cualquier valor de $a$, $b$ y $c$. En este problema tenemos $a = h$, $b= -K(0)$ y $c=-hT_{\\infty}$. "
   ]
  },
  {
   "cell_type": "markdown",
   "metadata": {
    "slideshow": {
     "slide_type": "slide"
    }
   },
   "source": [
    "Las condiciones de frontera son conocidas como __mixtas__ si $a \\ne 0$ y $b \\ne 0$, __Newmann__ cuando $a=0$ y de __Dirichlet__ cuando $b=0$."
   ]
  },
  {
   "cell_type": "markdown",
   "metadata": {
    "slideshow": {
     "slide_type": "slide"
    }
   },
   "source": [
    "Algunos ejemplos de condiciones de frontera de __Dirichlet__:\n",
    "\n",
    "* Un apoyo fijo de una viga.\n",
    "* Temperatura fija en una superficie.\n",
    "* Un voltaje fijo en un nodo."
   ]
  },
  {
   "cell_type": "markdown",
   "metadata": {
    "slideshow": {
     "slide_type": "slide"
    }
   },
   "source": [
    "Como ejemplo de condición de frontera de __Newman__ tenemos el flujo de calor constante (como en el desarrollo anterior)."
   ]
  },
  {
   "cell_type": "markdown",
   "metadata": {
    "slideshow": {
     "slide_type": "slide"
    }
   },
   "source": [
    "### Ejemplo usando dos elementos"
   ]
  },
  {
   "cell_type": "markdown",
   "metadata": {
    "slideshow": {
     "slide_type": "slide"
    }
   },
   "source": [
    "Ahora calcularemos la solución a este problema utilizando dos elementos iguales, i.e. $h^{(e_1)} = h^{(e_2)} = L/2 = 0.05$. "
   ]
  },
  {
   "cell_type": "markdown",
   "metadata": {
    "slideshow": {
     "slide_type": "slide"
    }
   },
   "source": [
    "__Conducción variable__:"
   ]
  },
  {
   "cell_type": "markdown",
   "metadata": {
    "slideshow": {
     "slide_type": "slide"
    }
   },
   "source": [
    "Para el elemento 1 tenemos:\n",
    "\n",
    "$$\\begin{bmatrix} K_1^{(e_1)} \\\\ K_2^{(e_1)} \\end{bmatrix} = \\begin{bmatrix} 40 \\\\ 50 \\end{bmatrix}$$"
   ]
  },
  {
   "cell_type": "markdown",
   "metadata": {
    "slideshow": {
     "slide_type": "slide"
    }
   },
   "source": [
    "Para el elemento 2 tenemos:\n",
    "\n",
    "$$\\begin{bmatrix} K_1^{(e_2)} \\\\ K_2^{(e_2)} \\end{bmatrix} = \\begin{bmatrix} 50 \\\\ 60 \\end{bmatrix}$$"
   ]
  },
  {
   "cell_type": "markdown",
   "metadata": {
    "slideshow": {
     "slide_type": "slide"
    }
   },
   "source": [
    "__Elemento 1:__"
   ]
  },
  {
   "cell_type": "markdown",
   "metadata": {
    "slideshow": {
     "slide_type": "slide"
    }
   },
   "source": [
    "La ecuación del elemento 1:\n",
    "\n",
    "$$ \\dfrac {1} {2h^{(e_1)}} \\left( K_1^{(e_1)} + K_2^{(e_1)} \\right) \\begin{bmatrix} 1 & -1 \\\\ -1 & 1 \\end{bmatrix} \\begin{bmatrix} T_1^{(e_1)} \\\\ T_2^{(e_1)} \\end{bmatrix} + \\begin{bmatrix} h & 0 \\\\ 0 & 0 \\end{bmatrix} \\begin{bmatrix} T_1^{(e_1)} \\\\ T_2^{(e_1)} \\end{bmatrix} = hT_{\\infty} \\begin{bmatrix} 1 \\\\ 0 \\end{bmatrix}$$ "
   ]
  },
  {
   "cell_type": "markdown",
   "metadata": {
    "slideshow": {
     "slide_type": "slide"
    }
   },
   "source": [
    "Substituyendo los valores\n",
    "\n",
    "$$ \\dfrac {1} {2(0.05)} \\left( 40 + 50 \\right) \\begin{bmatrix} 1 & -1 \\\\ -1 & 1 \\end{bmatrix} \\begin{bmatrix} T_1^{(e_1)} \\\\ T_2^{(e_1)} \\end{bmatrix} + \\begin{bmatrix} 100 & 0 \\\\ 0 & 0 \\end{bmatrix} \\begin{bmatrix} T_1^{(e_1)} \\\\ T_2^{(e_1)} \\end{bmatrix} = 100(400) \\begin{bmatrix} 1 \\\\ 0 \\end{bmatrix}$$ "
   ]
  },
  {
   "cell_type": "markdown",
   "metadata": {
    "slideshow": {
     "slide_type": "slide"
    }
   },
   "source": [
    "y simplificando:\n",
    "\n",
    "$$ 900 \\begin{bmatrix} 1 & -1 \\\\ -1 & 1 \\end{bmatrix} \\begin{bmatrix} T_1^{(e_1)} \\\\ T_2^{(e_1)} \\end{bmatrix} + \\begin{bmatrix} 100 & 0 \\\\ 0 & 0 \\end{bmatrix} \\begin{bmatrix} T_1^{(e_1)} \\\\ T_2^{(e_1)} \\end{bmatrix} =  \\begin{bmatrix} 40000 \\\\ 0 \\end{bmatrix}$$ "
   ]
  },
  {
   "cell_type": "markdown",
   "metadata": {
    "slideshow": {
     "slide_type": "slide"
    }
   },
   "source": [
    "Para facilitar el proceso de ensamble podemos extender las matrices y vectores con ceros, cambiando las incognitas del elemento por las del dominio:\n",
    "\n",
    "$$ 900 \\begin{bmatrix} 1 & -1 & 0 \\\\ -1 & 1  & 0 \\\\ 0 & 0 & 0 \\end{bmatrix} \\begin{bmatrix} T_1 \\\\ T_2 \\\\ T_3 \\end{bmatrix} + \\begin{bmatrix} 100 & 0 & 0 \\\\ 0 & 0 & 0 \\\\ 0 & 0 & 0 \\end{bmatrix} \\begin{bmatrix} T_1 \\\\ T_2 \\\\ T_3 \\end{bmatrix} =  \\begin{bmatrix} 40000 \\\\ 0 \\\\ 0 \\end{bmatrix}$$ "
   ]
  },
  {
   "cell_type": "markdown",
   "metadata": {
    "slideshow": {
     "slide_type": "slide"
    }
   },
   "source": [
    "__Elemento 2:__"
   ]
  },
  {
   "cell_type": "markdown",
   "metadata": {
    "slideshow": {
     "slide_type": "slide"
    }
   },
   "source": [
    "Para el elemento 2:\n",
    "\n",
    "$$ \\dfrac {1} {2h^{(e_2)}} \\left( K_1^{(e_2)} + K_2^{(e_2)} \\right) \\begin{bmatrix} 1 & -1 \\\\ -1 & 1 \\end{bmatrix} \\begin{bmatrix} T_1^{(e_2)} \\\\ T_2^{(e_2)} \\end{bmatrix} = 0$$"
   ]
  },
  {
   "cell_type": "markdown",
   "metadata": {
    "slideshow": {
     "slide_type": "slide"
    }
   },
   "source": [
    "Substituyendo los valores\n",
    "\n",
    "$$ \\dfrac {1} {2(0.05)} \\left( 50 + 60 \\right) \\begin{bmatrix} 1 & -1 \\\\ -1 & 1 \\end{bmatrix} \\begin{bmatrix} T_1^{(e_2)} \\\\ T_2^{(e_2)} \\end{bmatrix}  = 0$$ "
   ]
  },
  {
   "cell_type": "markdown",
   "metadata": {
    "slideshow": {
     "slide_type": "slide"
    }
   },
   "source": [
    "y simplificando:\n",
    "\n",
    "\n",
    "$$ 1100 \\begin{bmatrix} 1 & -1 \\\\ -1 & 1 \\end{bmatrix} \\begin{bmatrix} T_1^{(e_2)} \\\\ T_2^{(e_2)} \\end{bmatrix} =  \\begin{bmatrix} 0 \\\\ 0 \\end{bmatrix}$$ "
   ]
  },
  {
   "cell_type": "markdown",
   "metadata": {
    "slideshow": {
     "slide_type": "slide"
    }
   },
   "source": [
    "Extendiendo las matrices y vectores y cambiando las variables ($T_1^{(e_2)} = T_2$ y $T_2^{(e_2)} = T_3$):\n",
    "\n",
    "$$ 1100 \\begin{bmatrix} 0 & 0 & 0 \\\\ 0 & 1 & -1 \\\\ 0 & -1 & 1 \\end{bmatrix} \\begin{bmatrix} T_1 \\\\ T_2 \\\\ T_3 \\end{bmatrix} =  \\begin{bmatrix} 0 \\\\ 0 \\\\ 0 \\end{bmatrix}$$ "
   ]
  },
  {
   "cell_type": "markdown",
   "metadata": {
    "slideshow": {
     "slide_type": "slide"
    }
   },
   "source": [
    "__Ensamble__:"
   ]
  },
  {
   "cell_type": "markdown",
   "metadata": {
    "slideshow": {
     "slide_type": "slide"
    }
   },
   "source": [
    "Con las matrices extendidas el proceso de ensamble se convierte en una suma, obteniendo:\n",
    "\n",
    "$$\\begin{bmatrix} 10 & -9 & 0 \\\\ -9 & 20 & -11 \\\\ 0 & -11 & 11 \\end{bmatrix} \\begin{bmatrix} T_1  \\\\ T_2 \\\\ T_3 \\end{bmatrix} = \\begin{bmatrix} 400 \\\\0 \\\\0 \\end{bmatrix}$$"
   ]
  },
  {
   "cell_type": "markdown",
   "metadata": {
    "slideshow": {
     "slide_type": "slide"
    }
   },
   "source": [
    "Imponemos la condición de __Dirichlet__ en el extremo derecho $T_3=39.18^oC$:\n",
    "\n",
    "$$\\begin{bmatrix} 10 & -9 & 0 \\\\ -9 & 20 & -11 \\\\ 0 & 0 & 1 \\end{bmatrix} \\begin{bmatrix} T_1  \\\\ T_2 \\\\ T_3 \\end{bmatrix} = \\begin{bmatrix} 400 \\\\0 \\\\ 39.18 \\end{bmatrix}$$"
   ]
  },
  {
   "cell_type": "markdown",
   "metadata": {
    "slideshow": {
     "slide_type": "slide"
    }
   },
   "source": [
    "Con la solución:\n",
    "\n",
    "$$  \\begin{bmatrix} T_1 \\\\ T_2 \\\\T_3 \\end{bmatrix}  =  \\begin{bmatrix} 99.822 \\\\ 66.469 \\\\39.18 \\end{bmatrix}$$"
   ]
  }
 ],
 "metadata": {
  "celltoolbar": "Slideshow",
  "julynter-results": {
   "filteredId": [],
   "filteredIndividual": [],
   "filteredRestart": [],
   "filteredType": [],
   "hash": "077d803aeaf5f3c2585894508fe93fc5f798b5d9",
   "visible": []
  },
  "kernelspec": {
   "display_name": "Python 3 (ipykernel)",
   "language": "python",
   "name": "python3"
  },
  "language_info": {
   "codemirror_mode": {
    "name": "ipython",
    "version": 3
   },
   "file_extension": ".py",
   "mimetype": "text/x-python",
   "name": "python",
   "nbconvert_exporter": "python",
   "pygments_lexer": "ipython3",
   "version": "3.11.3"
  }
 },
 "nbformat": 4,
 "nbformat_minor": 4
}
