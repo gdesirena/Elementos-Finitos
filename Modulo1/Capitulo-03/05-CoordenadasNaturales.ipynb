{
 "cells": [
  {
   "cell_type": "markdown",
   "metadata": {
    "slideshow": {
     "slide_type": "slide"
    }
   },
   "source": [
    "![Titulo](Imagenes/Titulos/Head3.png)"
   ]
  },
  {
   "cell_type": "markdown",
   "metadata": {
    "slideshow": {
     "slide_type": "slide"
    }
   },
   "source": [
    "![Titulo](Imagenes/Titulos/Head3-1.png)"
   ]
  },
  {
   "cell_type": "markdown",
   "metadata": {
    "slideshow": {
     "slide_type": "slide"
    }
   },
   "source": [
    "## Sistema de coordenadas naturales."
   ]
  },
  {
   "cell_type": "markdown",
   "metadata": {
    "slideshow": {
     "slide_type": "slide"
    }
   },
   "source": [
    "Aunque el método que hemos utilizado hasta ahora para definir las coordenadas locales en los elementos ha funcionado bien cuando extendamos este método a $2D$ y $3D$ será muy útil redefinir las coordenadas de cada elemento utilizando __Coordenadas Naturales__ para definir una posición al interior de un elemento."
   ]
  },
  {
   "cell_type": "markdown",
   "metadata": {
    "slideshow": {
     "slide_type": "slide"
    }
   },
   "source": [
    "### Coordenadas naturales para elementos lineales\n",
    "\n",
    "Para esto, diremos que un elemento está definido en el intervalo $-1 \\le \\xi \\le 1$, y la transformación:\n",
    "\n",
    "$$x = \\frac {1}{2} \\left(1-\\xi\\right)x_i +\\frac {1}{2} \\left(1+\\xi\\right)x_{i+1}$$\n",
    "\n",
    "Que relaciona el intervalo $-1 \\le \\xi \\le 1$ con el intervalo del elemento $x_i \\le x \\le x_{i+1}$. Las ventajas de usar este método se harán evidentes para la integración numérica y cuando estemos utilizando elementos de $2D$ y $3D$."
   ]
  },
  {
   "cell_type": "markdown",
   "metadata": {
    "slideshow": {
     "slide_type": "slide"
    }
   },
   "source": [
    "Las funciones lineales de forma para estas coordenadas son:\n",
    "\n",
    "$$N_1(\\xi)=\\dfrac{1}{2}(1-\\xi)$$\n",
    "\n",
    "$$N_2(\\xi)=\\dfrac{1}{2}(1+\\xi)$$"
   ]
  },
  {
   "cell_type": "markdown",
   "metadata": {
    "slideshow": {
     "slide_type": "slide"
    }
   },
   "source": [
    "![Fig3.8](Imagenes/Fig3.8.png)"
   ]
  },
  {
   "cell_type": "markdown",
   "metadata": {
    "slideshow": {
     "slide_type": "slide"
    }
   },
   "source": [
    "La primera ventaja de utilizar este tipo de sistema de coordenadas es que permite que las ecuaciones de forma puedan ser evaluadas numericamente utilizando la transformación:\n",
    "\n",
    "$$x = \\frac {1}{2} \\left(1-\\xi\\right)x_i +\\frac {1}{2} \\left(1+\\xi\\right)x_{i+1}$$\n",
    "\n",
    "Si notamos que:\n",
    "\n",
    "$$\\dfrac {d} {dx} = \\dfrac {d} {d\\xi} \\cdot \\dfrac {d\\xi} {dx} = \\dfrac {2} {h^{(e_i)}} \\dfrac {d} {d\\xi}$$"
   ]
  },
  {
   "cell_type": "markdown",
   "metadata": {
    "slideshow": {
     "slide_type": "slide"
    }
   },
   "source": [
    "y, por lo tanto:\n",
    "\n",
    "$$dx=\\dfrac{h^{(e_i)}} {2} d\\xi$$"
   ]
  },
  {
   "cell_type": "markdown",
   "metadata": {
    "slideshow": {
     "slide_type": "slide"
    }
   },
   "source": [
    "Así, la transformación puede ser reescrita como:\n",
    "\n",
    "$$x=N_1(\\xi)x_1+N_2(\\xi)x_2$$"
   ]
  },
  {
   "cell_type": "markdown",
   "metadata": {
    "slideshow": {
     "slide_type": "slide"
    }
   },
   "source": [
    "Como las transformaciones se pueden escribir en términos de las funciones de forma y de las coordenadas de los nodos. Las integrales toman la forma:\n",
    "\n",
    "$$\\int_{x_i}^{x_{i+1}} N_j (x) N_k(x)dx = \\dfrac {h^{(e_i)}} {2}\\int_{-1}^{1} N_j (\\xi) N_k(\\xi)d\\xi$$"
   ]
  },
  {
   "cell_type": "markdown",
   "metadata": {
    "slideshow": {
     "slide_type": "slide"
    }
   },
   "source": [
    "$$\\int_{x_i}^{x_{i+1}} \\dfrac{dN_j}{dx} \\dfrac{dN_k}{dx} dx = \\dfrac {2} {h^{(e_i)}}\\int_{-1}^{1} \\dfrac{dN_j}{d\\xi} \\dfrac{dN_k}{d\\xi} d\\xi$$"
   ]
  },
  {
   "cell_type": "markdown",
   "metadata": {
    "slideshow": {
     "slide_type": "slide"
    }
   },
   "source": [
    "$$\\int_{x_i}^{x_{i+1}} \\dfrac{dN_j}{dx} N_k(x) dx = \\int_{-1}^{1} \\dfrac{dN_j}{d\\xi} N_k(\\xi) d\\xi$$"
   ]
  },
  {
   "cell_type": "markdown",
   "metadata": {
    "slideshow": {
     "slide_type": "slide"
    }
   },
   "source": [
    "Además la integral\n",
    "\n",
    "$$\\int_{-1}^{1} \\left(N_j (\\xi)\\right)^a \\left(N_k(\\xi)\\right)^b d\\xi$$\n",
    "\n",
    "puede ser fácilmente evaluada para cualquier combinación de valores enteros positivos de las potencias $a$ y $b$, utilizando:\n",
    "\n",
    "$$\\int_{-1}^{1} \\left(N_j (\\xi)\\right)^a \\left(N_k(\\xi)\\right)^b d\\xi = 2 \\dfrac {a!b!} {\\left(1+a+b\\right)!}$$"
   ]
  },
  {
   "cell_type": "markdown",
   "metadata": {
    "slideshow": {
     "slide_type": "slide"
    }
   },
   "source": [
    "El uso de esta ecuación es relativamente simple, p.e., para el caso lineal:\n",
    "\n",
    "\n",
    "$$\\int_{x_i}^{x_{i+1}} N_j (x) N_k(x)dx = \\dfrac {h^{(e_i)}} {2}\\int_{-1}^{1}\\begin{bmatrix} N_1({\\xi}) \\\\ N_2({\\xi})\\end{bmatrix} \\begin{bmatrix} N_1({\\xi}) & N_2({\\xi})\\end{bmatrix}d\\xi $$"
   ]
  },
  {
   "cell_type": "markdown",
   "metadata": {
    "slideshow": {
     "slide_type": "slide"
    }
   },
   "source": [
    "$$ = \\dfrac {h^{(e_i)}} {2}\\int_{-1}^{1}\\begin{bmatrix} (N_1({\\xi}))^2 & N_1({\\xi})N_2({\\xi}) \\\\ N_1({\\xi})N_2({\\xi}) & (N_2({\\xi}))^2 \\end{bmatrix}d\\xi $$"
   ]
  },
  {
   "cell_type": "markdown",
   "metadata": {
    "slideshow": {
     "slide_type": "slide"
    }
   },
   "source": [
    "$$ = \\dfrac {h^{(e_i)}} {2}\\begin{bmatrix} 2 \\dfrac {2!0!} {\\left(1+2+0\\right)!} & 2 \\dfrac {1!1!} {\\left(1+1+1\\right)!} \\\\ 2 \\dfrac {1!1!} {\\left(1+1+1\\right)!} & 2 \\dfrac {0!2!} {\\left(1+0+2\\right)!} \\end{bmatrix} $$"
   ]
  },
  {
   "cell_type": "markdown",
   "metadata": {
    "slideshow": {
     "slide_type": "slide"
    }
   },
   "source": [
    "$$ = \\dfrac {h^{(e_i)}} {2}\\begin{bmatrix} \\dfrac {4} {6} & \\dfrac {2} {6} \\\\ \\dfrac {2} {6} &  \\dfrac {4} {6} \\end{bmatrix} = \\dfrac {h^{(e_i)}} {6}\\begin{bmatrix} 2 & 1 \\\\ 1 &  2 \\end{bmatrix}$$"
   ]
  },
  {
   "cell_type": "markdown",
   "metadata": {
    "slideshow": {
     "slide_type": "slide"
    }
   },
   "source": [
    "La integral sobre las derivadas de las funciones de forma, para el elemento lineal:\n",
    "\n",
    "$$\\int_{x_i}^{x_{i+1}} \\dfrac{dN_j}{dx} \\dfrac{dN_k}{dx} dx = \\dfrac {2} {h^{(e_i)}}\\int_{-1}^{1} \\begin{bmatrix} \\dfrac{dN_1}{d\\xi} \\\\ \\dfrac{dN_2}{d\\xi}\\end{bmatrix} \\begin{bmatrix} \\dfrac{dN_1}{d\\xi} & \\dfrac{dN_2}{d\\xi}\\end{bmatrix}d\\xi$$"
   ]
  },
  {
   "cell_type": "markdown",
   "metadata": {
    "slideshow": {
     "slide_type": "slide"
    }
   },
   "source": [
    "$$ = \\dfrac {2} {h^{(e_i)}}\\int_{-1}^{1} \\dfrac{1}{4} \\begin{bmatrix} -1 \\\\ 1\\end{bmatrix} \\begin{bmatrix} -1 & 1\\end{bmatrix}d\\xi$$"
   ]
  },
  {
   "cell_type": "markdown",
   "metadata": {
    "slideshow": {
     "slide_type": "slide"
    }
   },
   "source": [
    "$$= \\dfrac {1} {h^{(e_i)}} \\begin{bmatrix} 1 &-1 \\\\ -1& 1\\end{bmatrix} $$\n",
    "\n",
    "Que es el termino de difusión que hemos estado utilizando en el caso de transferencia de calor."
   ]
  },
  {
   "cell_type": "markdown",
   "metadata": {
    "slideshow": {
     "slide_type": "slide"
    }
   },
   "source": [
    "### Coordenadas naturales para elementos cuadráticos\n",
    "\n",
    "Podemos fácilmente extender este desarrollo para elementos de orden más alto. En el caso del elemento cuadrático tenemos:\n",
    "\n",
    "$$N_1(\\xi)=\\dfrac{1}{2}\\xi(\\xi-1)$$\n",
    "\n",
    "$$N_2(\\xi)=1-\\xi^2$$\n",
    "\n",
    "$$N_3(\\xi)=\\dfrac{1}{2}\\xi(\\xi+1)$$"
   ]
  },
  {
   "cell_type": "markdown",
   "metadata": {
    "slideshow": {
     "slide_type": "slide"
    }
   },
   "source": [
    "Sus derivadas son:\n",
    "\n",
    "$$\\dfrac {dN_1}{d\\xi}=\\dfrac{1}{2}(2\\xi-1)$$\n",
    "\n",
    "$$\\dfrac {dN_2}{d\\xi}=- 2 \\xi$$\n",
    "\n",
    "$$\\dfrac {dN_3}{d\\xi}=\\dfrac{1}{2}(2\\xi+1)$$"
   ]
  },
  {
   "cell_type": "markdown",
   "metadata": {
    "slideshow": {
     "slide_type": "slide"
    }
   },
   "source": [
    "La transformación del intervalo $-1 \\le \\xi \\le 1$ al elemento en el dominio $x_{2i-1} \\le x \\le x_{2i+1}$ esta dada por:\n",
    "\n",
    "$$x = N_1(\\xi)x_{2i-1} + N_2(\\xi)x_{2i} + N_3(\\xi)x_{2i+1}$$"
   ]
  },
  {
   "cell_type": "markdown",
   "metadata": {
    "slideshow": {
     "slide_type": "slide"
    }
   },
   "source": [
    "La derivada de $N_i(\\xi)$ con respecto a $x$ se obtiene de:\n",
    "\n",
    "$$\\dfrac {dN_i} {d\\xi} = \\dfrac {dN_i} {dx} \\cdot \\dfrac {dx} {d\\xi} $$"
   ]
  },
  {
   "cell_type": "markdown",
   "metadata": {
    "slideshow": {
     "slide_type": "slide"
    }
   },
   "source": [
    "y está dada por:\n",
    "\n",
    "$$\\dfrac {dN_i} {dx} = \\dfrac {1} {dx/d\\xi} \\dfrac {dN_i} {d\\xi}  $$\n",
    "\n",
    "Donde al termino $dx/d\\xi$ se le llama _Jacobiano_ y normalmente se denota con $J$.\n",
    "\n",
    "$$\\dfrac {dN_i} {dx} = J^{-1} \\dfrac {dN_i} {d\\xi}  $$"
   ]
  },
  {
   "cell_type": "markdown",
   "metadata": {
    "slideshow": {
     "slide_type": "slide"
    }
   },
   "source": [
    "### Ejemplo:\n",
    "\n",
    "Usando el sistema de coordenadas naturales para un elemento cuadrático, evaluaremos el término:\n",
    "\n",
    "$$-K \\int_{ek} W \\dfrac {d^2T} {dx^2} dx$$\n",
    "\n",
    "Que es el término de difusión con $K$ constante. Fijando $W_i = N_i$, el procedimiento de Galerkin nos da:\n",
    "\n",
    "$$\\left[ K \\int_{x_{2k-1}}^{x_{2k+1}} \\dfrac{dN_i^{(e_k)}}{dx} \\dfrac{dN_j^{(e_k)}}{dx} dx\\right] T_j + \\left( -K\\dfrac {dT} {dx} N_i \\right)_{x=x_{2k-1}}^{x=x_{2k+1}} = 0$$"
   ]
  },
  {
   "cell_type": "markdown",
   "metadata": {
    "slideshow": {
     "slide_type": "slide"
    }
   },
   "source": [
    "Y, si tomamos $x_{2i-1} =  0$, $x_{2i} = L/2$ y $x_{2i+1} = L$, el _Jacobiano_ de la transformación es:\n",
    "\n",
    "\n",
    "$$J=\\dfrac {dN_1(\\xi)} {d\\xi} 0 + \\dfrac {dN_2(\\xi)} {d\\xi} \\dfrac {L} {2} + \\dfrac {dN_3(\\xi)} {d\\xi} L $$\n",
    "\n",
    "$$= (-2\\xi)\\cdot \\dfrac {L} {2} + \\left[ \\xi + \\dfrac {1} {2}\\right] \\cdot L = \\dfrac {L} {2}$$"
   ]
  },
  {
   "cell_type": "markdown",
   "metadata": {
    "slideshow": {
     "slide_type": "slide"
    }
   },
   "source": [
    "Entonces los valores de las derivadas son:\n",
    "\n",
    "$$\\dfrac {dN_i^{(e_k)}} {dx} = J^{-1} \\dfrac {dN_i} {d\\xi} = \\dfrac {2} {L} \\dfrac {dN_i} {d\\xi}$$"
   ]
  },
  {
   "cell_type": "markdown",
   "metadata": {
    "slideshow": {
     "slide_type": "slide"
    }
   },
   "source": [
    "En forma vectorial:\n",
    "\n",
    "$$\\begin{bmatrix} \\dfrac {dN_1^{(e_k)}} {dx} \\\\ \\dfrac {dN_2^{(e_k)}} {dx} \\\\ \\dfrac {dN_3^{(e_k)}} {dx} \\end{bmatrix} = \\dfrac {1} {L} \\begin{bmatrix} -1 + 2\\xi \\\\ -4\\xi \\\\ 1+2\\xi \\end{bmatrix}$$"
   ]
  },
  {
   "cell_type": "markdown",
   "metadata": {
    "slideshow": {
     "slide_type": "slide"
    }
   },
   "source": [
    "Ahora si, podemos resolver la integral:\n",
    "\n",
    "$$K\\int_{x_{2k-1}}^{x_{2k+1}} \\begin{bmatrix} \\dfrac {dN_1^{(e_k)}} {dx} \\\\ \\dfrac {dN_2^{(e_k)}} {dx} \\\\ \\dfrac {dN_3^{(e_k)}} {dx} \\end{bmatrix} \\begin{bmatrix} \\dfrac {dN_1^{(e_k)}} {dx} & \\dfrac {dN_2^{(e_k)}} {dx} & \\dfrac {dN_3^{(e_k)}} {dx} \\end{bmatrix} dx = $$"
   ]
  },
  {
   "cell_type": "markdown",
   "metadata": {
    "slideshow": {
     "slide_type": "slide"
    }
   },
   "source": [
    "$$= \\dfrac{K}{2L}\\int_{-1}^{1} \\begin{bmatrix} -1 + 2\\xi \\\\ -4\\xi \\\\ 1+2\\xi \\end{bmatrix} \\begin{bmatrix} -1 + 2\\xi & -4\\xi & 1+2\\xi \\end{bmatrix} d\\xi$$"
   ]
  },
  {
   "cell_type": "markdown",
   "metadata": {
    "slideshow": {
     "slide_type": "slide"
    }
   },
   "source": [
    "$$= \\dfrac{K}{2L}\\int_{-1}^{1} \\begin{bmatrix} (-1 + 2\\xi)^2 & -4\\xi(-1 + 2\\xi) & (-1 + 2\\xi)(1+2\\xi) \\\\ -4\\xi(-1 + 2\\xi) & 16\\xi^2 & -4\\xi(1+2\\xi) \\\\ (-1 + 2\\xi)(1+2\\xi) & -4\\xi(1+2\\xi) & (1 + 2\\xi)^2 \\end{bmatrix}  d\\xi$$"
   ]
  },
  {
   "cell_type": "markdown",
   "metadata": {
    "slideshow": {
     "slide_type": "slide"
    }
   },
   "source": [
    "$$=\\dfrac{K}{6L} \\begin{bmatrix} 14 & -16 & 2 \\\\ -16 & 32 & -16 \\\\ 2 & -16 & 14 \\end{bmatrix} \\begin{bmatrix} T_1 \\\\ T_2 \\\\ T_3 \\end{bmatrix} - q \\begin{bmatrix} 1 \\\\ 0 \\\\ 0 \\end{bmatrix} = 0$$"
   ]
  },
  {
   "cell_type": "markdown",
   "metadata": {
    "slideshow": {
     "slide_type": "slide"
    }
   },
   "source": [
    "Ahora, como ejemplo, evaluaremos la integral correspondiente a generación de calor en el dominio $Q$.\n",
    "\n",
    "$$\\int_{e_i} WQdx $$"
   ]
  },
  {
   "cell_type": "markdown",
   "metadata": {
    "slideshow": {
     "slide_type": "slide"
    }
   },
   "source": [
    "Para el elemento lineal:\n",
    "\n",
    "$$Q\\int_{x_{2k-1}}^{x_{2k+1}} \\begin{bmatrix} N_1^{(e_k)} \\\\ N_2^{(e_k)} \\end{bmatrix} dx  = \\frac{QL} {2}\\int_{-1}^1 \\begin{bmatrix}\\dfrac{1}{2}(1-\\xi) \\\\ \\dfrac{1}{2}(1+ \\xi) \\end{bmatrix} d\\xi = \\frac{QL} {2} \\begin{bmatrix}1 \\\\ 1 \\end{bmatrix} $$"
   ]
  },
  {
   "cell_type": "markdown",
   "metadata": {
    "slideshow": {
     "slide_type": "slide"
    }
   },
   "source": [
    "Para el elemento cuadrático:\n",
    "\n",
    "$$Q\\int_{x_{2k-1}}^{x_{2k+1}} \\begin{bmatrix} N_1^{(e_k)} \\\\ N_2^{(e_k)} \\\\ N_3^{(e_k)} \\end{bmatrix} dx  = \\frac{QL} {2}\\int_{-1}^1 \\begin{bmatrix}\\dfrac{1}{2}\\xi(\\xi-1) \\\\ 1-\\xi^2 \\\\ \\dfrac{1}{2}\\xi(\\xi+1) \\end{bmatrix} d\\xi = \\frac{QL} {6} \\begin{bmatrix}1 \\\\ 4 \\\\ 1 \\end{bmatrix} $$"
   ]
  },
  {
   "cell_type": "markdown",
   "metadata": {
    "slideshow": {
     "slide_type": "slide"
    }
   },
   "source": [
    "### Ejercicio:\n",
    "\n",
    "Resolveremos nuevamente el problema dado por la siguiente ecuación, pero usando un sólo elemento cuadrático:\n",
    "\n",
    "$$- \\dfrac {d} {dx} \\left( K(x) \\dfrac {dT} {dx} \\right) = 0 $$\n",
    "\n",
    "para $L=10 \\,cm$ con una variación de $K(x)$ lineal de $40$ a $60 \\, W/m$, $h=100 \\, W/m^2\\,^oC$, $T_{\\infty} = 400 \\,^oC$ y $T_L = 39.18 \\, ^oC$ en $x=L$."
   ]
  },
  {
   "cell_type": "markdown",
   "metadata": {
    "slideshow": {
     "slide_type": "slide"
    }
   },
   "source": [
    "El elemento se puede expresar, usando el método de Galerkin, como:\n",
    "\n",
    "$$\\sum_{j=1}^1 \\left( \\int_0^L \\dfrac {dN_i^{(e)}} {dx} K(x) \\dfrac {dN_j^{(e)}} {dx} dx\\right)T_j + N_i^{(e)}h(T-T_{\\infty})\\Big|_{x=0} = 0 \\text{ para } i=1,2,3$$"
   ]
  },
  {
   "cell_type": "markdown",
   "metadata": {
    "slideshow": {
     "slide_type": "slide"
    }
   },
   "source": [
    "En modo matricial, tenemos:\n",
    "\n",
    "$$ \\left \\{ \\int_0^L \\begin{bmatrix} \\dfrac {dN_1} {dx} \\\\ \\dfrac {dN_2} {dx} \\\\ \\dfrac {dN_3} {dx} \\end{bmatrix} \\left( \\begin{bmatrix} N_1 & N_2 & N_3 \\end{bmatrix} \\begin{bmatrix} 40 \\\\ 50 \\\\ 60 \\end{bmatrix} \\right) \\begin{bmatrix} \\dfrac {dN_1} {dx} & \\dfrac {dN_2} {dx} & \\dfrac {dN_3} {dx} \\end{bmatrix} dx + 100 \\begin{bmatrix} 1 & 0 & 0 \\\\ 0 & 0 & 0 \\\\ 0 & 0 & 0 \\end{bmatrix} \\right\\}\\begin{bmatrix} T_1 \\\\ T_2 \\\\ T_3 \\end{bmatrix}= \\begin{bmatrix} 40000 \\\\ 0 \\\\ 0 \\end{bmatrix}$$"
   ]
  },
  {
   "cell_type": "markdown",
   "metadata": {
    "slideshow": {
     "slide_type": "slide"
    }
   },
   "source": [
    "Completa este ejercicio siguiendo los pasos:\n",
    "\n",
    "1. Cambia la variable de integración de $x$ a $\\xi$ en:\n",
    "$$ \\int_0^L \\begin{bmatrix} \\dfrac {dN_1} {dx} \\\\ \\dfrac {dN_2} {dx} \\\\ \\dfrac {dN_3} {dx} \\end{bmatrix} \\left( \\begin{bmatrix} N_1 & N_2 & N_3 \\end{bmatrix} \\begin{bmatrix} 40 \\\\ 50 \\\\ 60 \\end{bmatrix} \\right) \\begin{bmatrix} \\dfrac {dN_1} {dx} & \\dfrac {dN_2} {dx} & \\dfrac {dN_3} {dx} \\end{bmatrix} dx $$\n",
    "usando:\n",
    "$$\\dfrac {dN_i} {dx} = J^{-1} \\dfrac {dN_i} {d\\xi}$$\n",
    "2. Resuelve la integral evaluando los límites ($-1$ y $1$).\n",
    "3. Completa el problema con las otras partes de la ecuación.\n",
    "4. Modifica el sistema para imponer la temperatura fija en $T_L$\n",
    "5. Resuelve el sistema (numéricamente)."
   ]
  },
  {
   "cell_type": "markdown",
   "metadata": {
    "slideshow": {
     "slide_type": "slide"
    }
   },
   "source": [
    "### Comparación de los resultados\n",
    "\n",
    "Esta solución da $T_1 = 99.992^oC$ y $T_2 = 66.546^oC$. Comparando la solución con dos elementos lineales se puede ver que se obtuvo una mejoría importante en la solución (la solución exacta da $T_1=100^oC$). Esto es consecuencia del hecho de que el error en una aproximación por elemento finito se comporta según:\n",
    "\n",
    "$|e(x)| \\le ch^{n+1}$\n",
    "\n",
    "donde:\n",
    "* $c$ es una constante.\n",
    "* $n$ es el orden de la interpolación polinomial.\n",
    "* $h$ es la distancia entre los nodos."
   ]
  }
 ],
 "metadata": {
  "celltoolbar": "Slideshow",
  "julynter-results": {
   "filteredId": [],
   "filteredIndividual": [],
   "filteredRestart": [],
   "filteredType": [],
   "hash": "8643bf7cd85f836af771459a1dca62cb0d6829a9",
   "visible": []
  },
  "kernelspec": {
   "display_name": "Python 3 (ipykernel)",
   "language": "python",
   "name": "python3"
  },
  "language_info": {
   "codemirror_mode": {
    "name": "ipython",
    "version": 3
   },
   "file_extension": ".py",
   "mimetype": "text/x-python",
   "name": "python",
   "nbconvert_exporter": "python",
   "pygments_lexer": "ipython3",
   "version": "3.8.8"
  }
 },
 "nbformat": 4,
 "nbformat_minor": 4
}
