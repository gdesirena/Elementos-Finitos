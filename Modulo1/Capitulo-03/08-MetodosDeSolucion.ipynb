{
 "cells": [
  {
   "cell_type": "markdown",
   "metadata": {
    "slideshow": {
     "slide_type": "slide"
    }
   },
   "source": [
    "![Titulo](Imagenes/Titulos/Head3-4.png)"
   ]
  },
  {
   "cell_type": "markdown",
   "metadata": {
    "slideshow": {
     "slide_type": "slide"
    }
   },
   "source": [
    "## Métodos de solución"
   ]
  },
  {
   "cell_type": "markdown",
   "metadata": {
    "slideshow": {
     "slide_type": "slide"
    }
   },
   "source": [
    "En todos los desarrollos anteriores la aplicación del MEF resultó en un conjunto de ecuaciones lineales formadas por matrices asociadas con los diferentes términos de la ecuación diferencial. En general, podemos expresar esta ecuación como:\n",
    "\n",
    "$$\\mathbf{A}\\Phi = \\mathbf{B}$$"
   ]
  },
  {
   "cell_type": "markdown",
   "metadata": {
    "slideshow": {
     "slide_type": "slide"
    }
   },
   "source": [
    "Donde, por ejemplo, para un sistema dependiente con el tiempo:\n",
    "\n",
    "$$\\mathbf{A} = \\mathbf{M} + \\theta \\Delta t \\mathbf{K}$$\n",
    "\n",
    "$$\\Phi = \\mathbf{T}^{n+1}$$\n",
    "\n",
    "$$\\mathbf{B} = \\left( \\mathbf{M} + (1-\\theta) \\Delta t \\mathbf{K} \\right)\\mathbf{T}^n + \\Delta t \\left(\\theta \\mathbf{F}^{n+1} + (1-\\theta) \\mathbf{F}^n\\right)$$"
   ]
  },
  {
   "cell_type": "markdown",
   "metadata": {
    "slideshow": {
     "slide_type": "slide"
    }
   },
   "source": [
    "Todos los términos en $\\mathbf{A}$ y $\\mathbf{B}$ son conocidos, por lo que podemos encontrar los valores de $\\Phi$. La solución se puede encontrar multiplicando por la izquierda las dos matrices por $\\mathbf{A}^{-1}$, ya que $\\mathbf{A}^{-1}\\mathbf{A}\\equiv\\mathbf{I}$ (la matriz identidad). Entonces:\n",
    "\n",
    "$$\\Phi = \\mathbf{A}^{-1}\\mathbf{B}$$"
   ]
  },
  {
   "cell_type": "markdown",
   "metadata": {
    "slideshow": {
     "slide_type": "slide"
    }
   },
   "source": [
    "Sin embargo, sabemos que obtener una matriz inversa ($\\mathbf{A}^{-1}$) puede requerir mucho tiempo y recursos si la matriz ($\\mathbf{A}$) es muy grande. En esta sección mencionaremos otras opciones (numéricas) que pueden resultar más eficientes para resolver este tipo de sistemas (La mayor parte de la información que resta en esta sección se tomó de: _Introduction to Numerical Methods and FORTRAN Programing_, McCalla, 1967, Willey & Sons, P.169):\n",
    "\n",
    "1. Métodos directos.\n",
    "2. Aplicación repetida de métodos directos.\n",
    "3. Métodos iterativos."
   ]
  },
  {
   "cell_type": "markdown",
   "metadata": {
    "slideshow": {
     "slide_type": "slide"
    }
   },
   "source": [
    "### 1. Métodos directos"
   ]
  },
  {
   "cell_type": "markdown",
   "metadata": {
    "slideshow": {
     "slide_type": "slide"
    }
   },
   "source": [
    "Los métodos directos nos permiten obtener una solución exacta (siempre y cuando __no ocurran errores de redondeo__) aplicando un número predeterminado de operaciones. El método de eliminación de __Gauss-Jordan__ es representativo de este tipo de métodos, siendo relativamente eficiente (se necesitan aproximadamente $n^3/2$ divisiones y multiplicaciones para resolver una matriz) y preciso (si se tiene cuidado con los errores de redondeo)."
   ]
  },
  {
   "cell_type": "markdown",
   "metadata": {
    "slideshow": {
     "slide_type": "slide"
    }
   },
   "source": [
    "__Ejemplo__:\n",
    "\n",
    "Resolver el sistema de ecuaciones:\n",
    "\n",
    "$$ 4x_1 + x_2 + 2x_3 = 16 \\\\ x_1 + 3x_2 + x_3 = 10 \\\\ x_1 + 2x_2 + 5x_3 = 12$$"
   ]
  },
  {
   "cell_type": "markdown",
   "metadata": {
    "slideshow": {
     "slide_type": "slide"
    }
   },
   "source": [
    "La matriz aumentada de este sistema es:\n",
    "\n",
    "$$\\begin{bmatrix} 4 & 1 & 2 & 16 \\\\ 1 & 3 & 1 & 10 \\\\ 1 & 2 & 5 & 12 \\end{bmatrix}$$"
   ]
  },
  {
   "cell_type": "markdown",
   "metadata": {
    "slideshow": {
     "slide_type": "slide"
    }
   },
   "source": [
    "El primer paso es ($R_1, R_2, R_3$ son los renglones):\n",
    "\n",
    "$$R_1 = R_1 / a_{11} \\\\ R_2 = R_2 - a_{21}R_1 \\\\ R_3 = R_3 - a_{31}R_1$$"
   ]
  },
  {
   "cell_type": "markdown",
   "metadata": {
    "slideshow": {
     "slide_type": "slide"
    }
   },
   "source": [
    "Con lo que la matriz aumentada queda:\n",
    "\n",
    "$$\\begin{bmatrix} 1 & 1/4 & 1/2 & 4 \\\\ 0 & 11/4 & 1/2 & 6 \\\\ 0 & 7/4 & 9/2 & 8 \\end{bmatrix}$$"
   ]
  },
  {
   "cell_type": "markdown",
   "metadata": {
    "slideshow": {
     "slide_type": "slide"
    }
   },
   "source": [
    "El segundo paso:\n",
    "\n",
    "$$R_2 = R_2 / a_{22} \\\\ R_1 = R_1 - a_{12}R_2 \\\\ R_3 = R_3 - a_{32}R_2$$"
   ]
  },
  {
   "cell_type": "markdown",
   "metadata": {
    "slideshow": {
     "slide_type": "slide"
    }
   },
   "source": [
    "Con lo que la matriz aumentada queda:\n",
    "\n",
    "$$\\begin{bmatrix} 1 & 0 & 5/11 & 38/11 \\\\ 0 & 1 & 2/11 & 24/11 \\\\ 0 & 0 & 46/11 & 46/11 \\end{bmatrix}$$"
   ]
  },
  {
   "cell_type": "markdown",
   "metadata": {
    "slideshow": {
     "slide_type": "slide"
    }
   },
   "source": [
    "El tercer paso:\n",
    "\n",
    "$$R_3 = R_3 / a_{33} \\\\ R_1 = R_1 - a_{13}R_3 \\\\ R_2 = R_2 - a_{23}R_3$$"
   ]
  },
  {
   "cell_type": "markdown",
   "metadata": {
    "slideshow": {
     "slide_type": "slide"
    }
   },
   "source": [
    "Con lo que la matriz aumentada queda:\n",
    "\n",
    "$$\\begin{bmatrix} 1 & 0 & 0 & 3 \\\\ 0 & 1 & 0 & 2 \\\\ 0 & 0 & 1 & 1 \\end{bmatrix}$$"
   ]
  },
  {
   "cell_type": "markdown",
   "metadata": {
    "slideshow": {
     "slide_type": "slide"
    }
   },
   "source": [
    "Por lo que la solución es:\n",
    "\n",
    "$$x_1 = 3 \\\\ x_2 = 2 \\\\ x_3 = 1$$"
   ]
  },
  {
   "cell_type": "markdown",
   "metadata": {
    "slideshow": {
     "slide_type": "slide"
    }
   },
   "source": [
    "Para exponer el problema de redondeo se resolverá un problema más, usando 6 decimales:\n",
    "\n",
    "$$\\begin{bmatrix} 15.0 & 15.0 & 14.0 & 58.0 \\\\ 15.0 & 14.0 & 13.0 & 55.0 \\\\ 14.0 & 13.0 & 12.0 & 51.0 \\end{bmatrix}$$"
   ]
  },
  {
   "cell_type": "markdown",
   "metadata": {
    "slideshow": {
     "slide_type": "slide"
    }
   },
   "source": [
    "Después del primer paso:\n",
    "\n",
    "$$\\begin{bmatrix} 1.0 & \\phantom{-}1.0 & \\phantom{-}0.933333 & \\phantom{-}3.866667 \\\\ 0.0 & -1.0 & -0.999995 & -3.000005 \\\\ 0.0 & -1.0 & -1.066662 & -3.133338 \\end{bmatrix}$$"
   ]
  },
  {
   "cell_type": "markdown",
   "metadata": {
    "slideshow": {
     "slide_type": "slide"
    }
   },
   "source": [
    "Después del segundo paso:\n",
    "\n",
    "$$\\begin{bmatrix} 1.0 & 0.0 & -0.066662 & 0.866662 \\\\ 0.0 & 1.0 & \\phantom{-}0.999995 & 3.000005 \\\\ 0.0 & 0.0 & \\phantom{-}0.066662 & 0.133333 \\end{bmatrix}$$"
   ]
  },
  {
   "cell_type": "markdown",
   "metadata": {
    "slideshow": {
     "slide_type": "slide"
    }
   },
   "source": [
    "Después del tercer paso:\n",
    "\n",
    "$$\\begin{bmatrix} 1.0 & 0.0 & 0.0 & 0.999985 \\\\ 0.0 & 1.0 & 0.0 & 1.000030 \\\\ 0.0 & 0.0 & 1.0 & 1.999985 \\end{bmatrix}$$\n",
    "\n",
    "Este error está presente en cualquier calculo con números reales donde su representación está limitada a cierto número de dígitos (o, en una computadora, bytes). Esta claro que en este caso el error sigue siendo pequeño, sin embargo tiene la característica que es __acumulativo__. Así, entre más operaciones tenemos más grande será este error."
   ]
  },
  {
   "cell_type": "markdown",
   "metadata": {
    "slideshow": {
     "slide_type": "slide"
    }
   },
   "source": [
    "La magnitud de este error por redondeo depende de la relación de la magnitud del determinante con la magnitud de los elementos de la matriz."
   ]
  },
  {
   "cell_type": "markdown",
   "metadata": {
    "slideshow": {
     "slide_type": "slide"
    }
   },
   "source": [
    "## 2. Aplicación repetida de métodos directos."
   ]
  },
  {
   "cell_type": "markdown",
   "metadata": {
    "slideshow": {
     "slide_type": "slide"
    }
   },
   "source": [
    "Cuando tenemos una matriz mal condicionada se puede aplicar repetidamente el método directo para corregir el error. Esto se hace de la manera descrita a continuación:\n",
    "\n",
    "* Se resuelve el sistema:\n",
    "\n",
    "$$\\mathbf{M} X = \\mathbf{B}$$"
   ]
  },
  {
   "cell_type": "markdown",
   "metadata": {
    "slideshow": {
     "slide_type": "slide"
    }
   },
   "source": [
    "* Se calcula el error $E_1$, definido por:\n",
    "\n",
    "$$\\mathbf{M} X_0 - \\mathbf{B} = \\mathbf{E}_1$$"
   ]
  },
  {
   "cell_type": "markdown",
   "metadata": {
    "slideshow": {
     "slide_type": "slide"
    }
   },
   "source": [
    "* Se calcula un vector de corrección $\\delta x_1$ resolviendo:\n",
    "\n",
    "$$\\mathbf{M} \\delta X_1 = \\mathbf{E}_1$$"
   ]
  },
  {
   "cell_type": "markdown",
   "metadata": {
    "slideshow": {
     "slide_type": "slide"
    }
   },
   "source": [
    "* Se obtiene una nueva solución, ahora al sistema:\n",
    "\n",
    "$$\\mathbf{M} (X_0 + \\delta X_1) = \\mathbf{B}$$"
   ]
  },
  {
   "cell_type": "markdown",
   "metadata": {
    "slideshow": {
     "slide_type": "slide"
    }
   },
   "source": [
    "* Con esto se calcula nuevamente el error, ahora $E_2$:\n",
    "\n",
    "$$\\mathbf{M} (X_0 + \\delta X_1) - \\mathbf{B} = \\mathbf{E}_2$$"
   ]
  },
  {
   "cell_type": "markdown",
   "metadata": {
    "slideshow": {
     "slide_type": "slide"
    }
   },
   "source": [
    "* Se calcula un nuevo vector de corrección $\\delta x_2$ resolviendo:\n",
    "\n",
    "$$\\mathbf{M} \\delta X_2 = \\mathbf{E}_2$$"
   ]
  },
  {
   "cell_type": "markdown",
   "metadata": {
    "slideshow": {
     "slide_type": "slide"
    }
   },
   "source": [
    "* Se obtiene una nueva solución, ahora al sistema:\n",
    "\n",
    "$$\\mathbf{M} (X_0 + \\delta X_1 + \\delta X_2) = \\mathbf{B}$$"
   ]
  },
  {
   "cell_type": "markdown",
   "metadata": {
    "slideshow": {
     "slide_type": "slide"
    }
   },
   "source": [
    "Este procedimiento se repite hasta que se haya llegado a cierto valor del error. La solución, después de $k$ iteraciones será:\n",
    "\n",
    "$$ X = X_0 + \\delta X_1 + \\delta X_2 + \\dots \\delta X_k $$"
   ]
  },
  {
   "cell_type": "markdown",
   "metadata": {
    "slideshow": {
     "slide_type": "slide"
    }
   },
   "source": [
    "### 3. Métodos iterativos."
   ]
  },
  {
   "cell_type": "markdown",
   "metadata": {
    "slideshow": {
     "slide_type": "slide"
    }
   },
   "source": [
    "Los métodos iterativos son métodos aproximados. Se dice que estos métodos __convergen__ a la solución cuando a cada iteración los valores obtenidos tienen una variación menor que las anteriores. Según la distribución de los valores en la matriz estos métodos pueden o no converger y/o hacerlo más rápido o lento."
   ]
  },
  {
   "cell_type": "markdown",
   "metadata": {
    "slideshow": {
     "slide_type": "slide"
    }
   },
   "source": [
    "__3.1.__ Método de Jacobi:"
   ]
  },
  {
   "cell_type": "markdown",
   "metadata": {
    "slideshow": {
     "slide_type": "slide"
    }
   },
   "source": [
    "Si partimos de un sistema:\n",
    "\n",
    "$$a_{11}x_1 + a_{12}x_2 + a_{13}x_3 = b_1 \\\\ a_{21}x_1 + a_{22}x_2 + a_{23}x_3 = b_2 \\\\ a_{31}x_1 + a_{32}x_2 + a_{33}x_3 = b_3$$"
   ]
  },
  {
   "cell_type": "markdown",
   "metadata": {
    "slideshow": {
     "slide_type": "slide"
    }
   },
   "source": [
    "Si despejamos $x_n$ en cada una de ellas obtendremos:\n",
    "\n",
    "$$x_1 = \\dfrac {1} {a_{11}} \\left(b_1 - a_{12}x_2 - a_{13}x_3 \\right) \\\\ x_2 = \\dfrac {1} {a_{22}} \\left(b_2 - a_{21}x_1 - a_{23}x_3 \\right) \\\\ x_3 = \\dfrac {1} {a_{33}} \\left(b_3 - a_{31}x_1 - a_{32}x_2 \\right)$$\n",
    "\n",
    "Estas fórmulas se utilizan para calcular los valores de [$x_1, x_2, x_3$] para cada iteración."
   ]
  },
  {
   "cell_type": "markdown",
   "metadata": {
    "slideshow": {
     "slide_type": "slide"
    }
   },
   "source": [
    "__Ejemplo__:\n",
    "\n",
    "Con el mismo problema que vimos anteriormente:\n",
    "\n",
    "$$4x_1 + x_2 + 2x_3 = 16 \\\\ x_1 + 3x_2 + x_3 = 10 \\\\ x_1 + 2x_2 + 5x_3 = 12$$"
   ]
  },
  {
   "cell_type": "markdown",
   "metadata": {
    "slideshow": {
     "slide_type": "slide"
    }
   },
   "source": [
    "Despejando las $x$:\n",
    "\n",
    "$$x_1 = \\dfrac {1} {4} \\left(16 - x_2 - 2x_3 \\right) \\\\ x_2 = \\dfrac {1} {3} \\left(10 - x_1 - x_3 \\right) \\\\ x_3 = \\dfrac {1} {5} \\left(12 - x_1 - 2x_2 \\right)$$"
   ]
  },
  {
   "cell_type": "markdown",
   "metadata": {
    "slideshow": {
     "slide_type": "slide"
    }
   },
   "source": [
    "Este sistema también se puede expresar de forma matricial, para la iteración $k+1$\n",
    "\n",
    "$$ \\begin{bmatrix} x_1^{k+1} \\\\ x_2^{k+1} \\\\ x_3^{k+1} \\end{bmatrix} = \\begin{bmatrix} 0 & -1/4 & -1/2 \\\\ -1/3 & 0 & -1/3 \\\\ -1/5 & -2/5 & 0 \\end{bmatrix} \\begin{bmatrix} x_1^k \\\\ x_2^k \\\\ x_3^k \\end{bmatrix} + \\begin{bmatrix} 4 \\\\ 10/3 \\\\ 12/5 \\end{bmatrix}$$"
   ]
  },
  {
   "cell_type": "markdown",
   "metadata": {
    "slideshow": {
     "slide_type": "slide"
    }
   },
   "source": [
    "Comenzando con valores $0$ en el vector $X$:\n",
    "\n",
    "$$ \\begin{bmatrix} x_1 \\\\ x_2 \\\\ x_3 \\end{bmatrix} = \\left[\\begin{matrix}0\\\\0\\\\0\\end{matrix}\\right]$$"
   ]
  },
  {
   "cell_type": "markdown",
   "metadata": {
    "slideshow": {
     "slide_type": "slide"
    }
   },
   "source": [
    "La primera iteración resulta: \n",
    "\n",
    "$$ \\begin{bmatrix} x_1 \\\\ x_2 \\\\ x_3 \\end{bmatrix} = \\begin{bmatrix} 0 & -1/4 & -1/2 \\\\ -1/3 & 0 & -1/3 \\\\ -1/5 & -2/5 & 0 \\end{bmatrix} \\begin{bmatrix} 0 \\\\ 0 \\\\ 0 \\end{bmatrix} + \\begin{bmatrix} 4 \\\\ 10/3 \\\\ 12/5 \\end{bmatrix} = \\left[\\begin{matrix}4\\\\3.33333333333333\\\\2.4\\end{matrix}\\right]$$"
   ]
  },
  {
   "cell_type": "markdown",
   "metadata": {
    "slideshow": {
     "slide_type": "slide"
    }
   },
   "source": [
    "Iteración 2\n",
    "\n",
    "$$ \\begin{bmatrix} x_1 \\\\ x_2 \\\\ x_3 \\end{bmatrix} = \\left[\\begin{matrix}1.96666666666667\\\\1.2\\\\0.266666666666666\\end{matrix}\\right]$$"
   ]
  },
  {
   "cell_type": "markdown",
   "metadata": {
    "slideshow": {
     "slide_type": "slide"
    }
   },
   "source": [
    "Iteración 3\n",
    "\n",
    "$$ \\begin{bmatrix} x_1 \\\\ x_2 \\\\ x_3 \\end{bmatrix} = \\left[\\begin{matrix}3.56666666666667\\\\2.58888888888889\\\\1.52666666666667\\end{matrix}\\right]$$"
   ]
  },
  {
   "cell_type": "markdown",
   "metadata": {
    "slideshow": {
     "slide_type": "slide"
    }
   },
   "source": [
    "Iteración 4\n",
    "\n",
    "$$ \\begin{bmatrix} x_1 \\\\ x_2 \\\\ x_3 \\end{bmatrix} = \\left[\\begin{matrix}2.58944444444444\\\\1.63555555555556\\\\0.651111111111111\\end{matrix}\\right]$$"
   ]
  },
  {
   "cell_type": "markdown",
   "metadata": {
    "slideshow": {
     "slide_type": "slide"
    }
   },
   "source": [
    "Iteración 5\n",
    "\n",
    "$$ \\begin{bmatrix} x_1 \\\\ x_2 \\\\ x_3 \\end{bmatrix} = \\left[\\begin{matrix}3.26555555555556\\\\2.25314814814815\\\\1.22788888888889\\end{matrix}\\right]$$"
   ]
  },
  {
   "cell_type": "markdown",
   "metadata": {
    "slideshow": {
     "slide_type": "slide"
    }
   },
   "source": [
    "Iteración 6\n",
    "\n",
    "$$ \\begin{bmatrix} x_1 \\\\ x_2 \\\\ x_3 \\end{bmatrix} = \\left[\\begin{matrix}2.82276851851852\\\\1.83551851851852\\\\0.845629629629629\\end{matrix}\\right]$$"
   ]
  },
  {
   "cell_type": "markdown",
   "metadata": {
    "slideshow": {
     "slide_type": "slide"
    }
   },
   "source": [
    "Iteración 7\n",
    "\n",
    "$$ \\begin{bmatrix} x_1 \\\\ x_2 \\\\ x_3 \\end{bmatrix} = \\left[\\begin{matrix}3.11830555555556\\\\2.11053395061728\\\\1.10123888888889\\end{matrix}\\right]$$"
   ]
  },
  {
   "cell_type": "markdown",
   "metadata": {
    "slideshow": {
     "slide_type": "slide"
    }
   },
   "source": [
    "Iteración 8\n",
    "\n",
    "$$ \\begin{bmatrix} x_1 \\\\ x_2 \\\\ x_3 \\end{bmatrix} = \\left[\\begin{matrix}2.92174706790123\\\\1.92681851851852\\\\0.932125308641975\\end{matrix}\\right]$$"
   ]
  },
  {
   "cell_type": "markdown",
   "metadata": {
    "slideshow": {
     "slide_type": "slide"
    }
   },
   "source": [
    "Iteración 9\n",
    "\n",
    "$$ \\begin{bmatrix} x_1 \\\\ x_2 \\\\ x_3 \\end{bmatrix} = \\left[\\begin{matrix}3.05223271604938\\\\2.04870920781893\\\\1.04492317901235\\end{matrix}\\right]$$"
   ]
  },
  {
   "cell_type": "markdown",
   "metadata": {
    "slideshow": {
     "slide_type": "slide"
    }
   },
   "source": [
    "Iteración 10\n",
    "\n",
    "$$ \\begin{bmatrix} x_1 \\\\ x_2 \\\\ x_3 \\end{bmatrix} = \\left[\\begin{matrix}2.96536110853909\\\\1.96761470164609\\\\0.970069773662551\\end{matrix}\\right]$$"
   ]
  },
  {
   "cell_type": "markdown",
   "metadata": {
    "slideshow": {
     "slide_type": "slide"
    }
   },
   "source": [
    "Iteración 11\n",
    "\n",
    "$$ \\begin{bmatrix} x_1 \\\\ x_2 \\\\ x_3 \\end{bmatrix} = \\left[\\begin{matrix}3.0230614377572\\\\2.02152303926612\\\\1.01988189763374\\end{matrix}\\right]$$"
   ]
  },
  {
   "cell_type": "markdown",
   "metadata": {
    "slideshow": {
     "slide_type": "slide"
    }
   },
   "source": [
    "Iteración 12\n",
    "\n",
    "$$ \\begin{bmatrix} x_1 \\\\ x_2 \\\\ x_3 \\end{bmatrix} = \\left[\\begin{matrix}2.9846782913666\\\\1.98568555486968\\\\0.986778496742112\\end{matrix}\\right]$$"
   ]
  },
  {
   "cell_type": "markdown",
   "metadata": {
    "slideshow": {
     "slide_type": "slide"
    }
   },
   "source": [
    "Iteración 13\n",
    "\n",
    "$$ \\begin{bmatrix} x_1 \\\\ x_2 \\\\ x_3 \\end{bmatrix} = \\left[\\begin{matrix}3.01018936291152\\\\2.00951440396376\\\\1.00879011977881\\end{matrix}\\right]$$"
   ]
  },
  {
   "cell_type": "markdown",
   "metadata": {
    "slideshow": {
     "slide_type": "slide"
    }
   },
   "source": [
    "![grafica](Imagenes/SolucionIterativa.png)"
   ]
  },
  {
   "cell_type": "markdown",
   "metadata": {
    "slideshow": {
     "slide_type": "slide"
    }
   },
   "source": [
    "__3.2.__ Método iterativo Gauss-Seidel:"
   ]
  },
  {
   "cell_type": "markdown",
   "metadata": {
    "slideshow": {
     "slide_type": "slide"
    }
   },
   "source": [
    "Este método se parece mucho al anterior, solo que se evalúa una $x_i$ a la vez, tomando el valor obtenido de las otras $x$ a cada vez. Esto es:\n",
    "\n",
    "$$x_1^{k+1} = \\dfrac {1} {a_{11}} \\left(b_1 - a_{12}x_2^k + a_{13}x_3^k \\right) \\\\ x_2^{k+1} = \\dfrac {1} {a_{22}} \\left(b_2 - a_{21}x_1^{k+1} + a_{23}x_3^k \\right) \\\\ x_3^{k+1} = \\dfrac {1} {a_{33}} \\left(b_3 - a_{31}x_1^{k+1} + a_{32}x_2^{k+1} \\right)\\\\ x_1^{k+2} = \\dfrac {1} {a_{11}} \\left(b_1 - a_{12}x_2^{k+1} + a_{13}x_3^{k+1} \\right)$$"
   ]
  },
  {
   "cell_type": "markdown",
   "metadata": {
    "slideshow": {
     "slide_type": "slide"
    }
   },
   "source": [
    "Esta diferencia hace que el método converja más rápido (se estima que se necesitan la mitad de las iteraciones para llegar al mismo error)."
   ]
  }
 ],
 "metadata": {
  "celltoolbar": "Slideshow",
  "julynter-results": {
   "filteredId": [],
   "filteredIndividual": [],
   "filteredRestart": [],
   "filteredType": [],
   "hash": "fea895c1efa628b0bb536935c61d47ae91933948",
   "visible": []
  },
  "kernelspec": {
   "display_name": "Python 3 (ipykernel)",
   "language": "python",
   "name": "python3"
  },
  "language_info": {
   "codemirror_mode": {
    "name": "ipython",
    "version": 3
   },
   "file_extension": ".py",
   "mimetype": "text/x-python",
   "name": "python",
   "nbconvert_exporter": "python",
   "pygments_lexer": "ipython3",
   "version": "3.8.8"
  }
 },
 "nbformat": 4,
 "nbformat_minor": 4
}
