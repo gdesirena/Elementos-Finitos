{
 "cells": [
  {
   "cell_type": "markdown",
   "metadata": {
    "slideshow": {
     "slide_type": "slide"
    }
   },
   "source": [
    "## Aplicación de las funciones de forma para el problema de conducción estable."
   ]
  },
  {
   "cell_type": "markdown",
   "metadata": {
    "slideshow": {
     "slide_type": "slide"
    }
   },
   "source": [
    "Consideramos nuevamente el problema estudiado anteriormente:\n",
    "\n",
    "$$ -K \\frac {d^2T} {dx^2} = Q$$\n",
    "\n",
    "para $0 \\le x \\le L$"
   ]
  },
  {
   "cell_type": "markdown",
   "metadata": {
    "slideshow": {
     "slide_type": "slide"
    }
   },
   "source": [
    "Con las condiciones de frontera:\n",
    "\n",
    "$$-K \\frac {dT} {dx} = q \\text{  en  } x=0$$\n",
    "\n",
    "\n",
    "y\n",
    "\n",
    "$$ T = T_L \\text{  en  } x=L$$ "
   ]
  },
  {
   "cell_type": "markdown",
   "metadata": {
    "slideshow": {
     "slide_type": "slide"
    }
   },
   "source": [
    "Resolveremos nuevamente el sistema usando dos elementos lineales de longitud igual tendremos dos conjuntos de ecuaciones simultaneas con tres valores nodales: $T_1$, $T_2$ y $T_3$. "
   ]
  },
  {
   "cell_type": "markdown",
   "metadata": {
    "slideshow": {
     "slide_type": "slide"
    }
   },
   "source": [
    "La expresión de residuos ponderados para esta ecuación diferencial queda:\n",
    "\n",
    "$$ \\int_0^L W \\left( -K \\frac {d^2T} {dx^2} - Q\\right)dx=0$$"
   ]
  },
  {
   "cell_type": "markdown",
   "metadata": {
    "slideshow": {
     "slide_type": "slide"
    }
   },
   "source": [
    "Usando la propiedad aditiva de la integral sobre los dos elementos esta ecuación puede ser reescrita:\n",
    "\n",
    "$$ \\int_0^L W \\left( -K \\frac {d^2T} {dx^2} - Q\\right)dx=  \\sum_{i=1}^2 \\int_{x_i}^{x_{i+1}} W \\left( -K \\frac {d^2T} {dx^2} - Q\\right)dx$$\n",
    "\n",
    "$$=  \\int_{0}^{L/2} W \\left( -K \\frac {d^2T} {dx^2} - Q\\right)dx + \\int_{L/2}^{L} W \\left( -K \\frac {d^2T} {dx^2} - Q\\right)dx$$"
   ]
  },
  {
   "cell_type": "markdown",
   "metadata": {
    "slideshow": {
     "slide_type": "slide"
    }
   },
   "source": [
    "Aproximaremos la función $T(X)$ de todo el dominio con:\n",
    "\n",
    "$$ T(x) = \\sum_{j=1}^3 N_j(x) T_j = N_1(x) T_1 + N_2(x) T_2 + N_3(x) T_3$$"
   ]
  },
  {
   "cell_type": "markdown",
   "metadata": {
    "slideshow": {
     "slide_type": "slide"
    }
   },
   "source": [
    "Donde las funciones de forma $N_j$ estan dadas por:\n",
    "\n",
    "$$N_1(x)=\\begin{cases}\\frac{x_2-x}{h_1} & x_1 \\le x \\le x_2\\\\0 & \\text{Resto del dominio}\\end{cases}$$\n",
    "\n",
    "$$N_i(x)=\\begin{cases}\\frac{x-x_{i-1}}{h_{i-1}} & x_{i-1} \\le x \\le x_i\\\\\\frac{x_{i+1}-x}{h_{i}} & x_i \\le x \\le x_{i+1} \\\\0 & \\text{Resto del dominio}\\end{cases}  i=2,3,4,...,n$$\n",
    "\n",
    "$$N_{n+1}(x)=\\begin{cases}\\frac{x-x_{n}}{h_n} & x_n \\le x \\le x_{n+1}\\\\0 & \\text{Resto del dominio}\\end{cases}$$"
   ]
  },
  {
   "cell_type": "markdown",
   "metadata": {
    "slideshow": {
     "slide_type": "slide"
    }
   },
   "source": [
    "Con $n=2$ y $x_1 = 0$, $x_2 = L/2$ y $x_3 = L$."
   ]
  },
  {
   "cell_type": "markdown",
   "metadata": {
    "slideshow": {
     "slide_type": "slide"
    }
   },
   "source": [
    "![Titulo](Imagenes/Titulos/Head2-2.png)"
   ]
  },
  {
   "cell_type": "markdown",
   "metadata": {
    "slideshow": {
     "slide_type": "slide"
    }
   },
   "source": [
    "Usando $W_i(x) = N_i(x)$ (Galerkin) la expresión de residuos ponderados se convierte a:\n",
    "\n",
    "$$ \\int_{0}^{L/2} \\left[ K \\frac {dN_i} {dx} \\left(\\sum_{j=1}^{3}\\frac {dN_j} {dx}T_j\\right) - N_i Q \\right]dx + \\left[N_i\\left(-K \\frac {dT} {dx}\\right)\\right]_0^{L/2}$$\n",
    "$$ + \\int_{L/2}^{L} \\left[ K \\frac {dN_i} {dx} \\left(\\sum_{j=1}^{3}\\frac {dN_j} {dx}T_j\\right) - N_i Q \\right]dx + \\left[N_i\\left(-K \\frac {dT} {dx}\\right)\\right]_{L/2}^L$$"
   ]
  },
  {
   "cell_type": "markdown",
   "metadata": {
    "slideshow": {
     "slide_type": "slide"
    }
   },
   "source": [
    "Los dos primeros términos se refieren al elemento $e_1$, mientras que los dos últimos al elemento $e_2$. Consideremos cada uno de ellos independientemente: para el elemento $e_1$, $N_3(x) = 0$, por lo tanto podemos escribir las ecuaciones que surgen de $i = 1, 2$ en forma matricial como:\n",
    "\n",
    "$$ \\int_0^{L/2} \\left \\{ K  \\left( \\begin{bmatrix} \\dfrac {dN_1^{(e_1)}} {dx} \\\\ \\dfrac {dN_2^{(e_1)}} {dx} \\end{bmatrix} \\begin{bmatrix} \\dfrac {dN_1^{(e_1)}} {dx} & \\dfrac {dN_2^{(e_1)}} {dx} \\end{bmatrix}  \\right)\\begin{bmatrix} T_1^{(e_1)} \\\\ T_2^{(e_1)} \\end{bmatrix} - \\begin{bmatrix} N_1^{(e_1)} \\\\ N_2^{(e_1)} \\end{bmatrix} Q \\right \\}dx $$\n",
    "\n",
    "$$ + \\left \\{ \\begin{bmatrix} N_1^{(e_1)} \\\\ N_2^{(e_1)} \\end{bmatrix} \\left( -K \\dfrac {dT} {dx} \\right) \\right \\}_0^{L/2}= \\begin{bmatrix} 0 \\\\ 0 \\end{bmatrix}$$"
   ]
  },
  {
   "cell_type": "markdown",
   "metadata": {
    "slideshow": {
     "slide_type": "slide"
    }
   },
   "source": [
    "Sabiendo que $h^{(e)} = L/2$ y usando:\n",
    "\n",
    "$$N_1^{(e)}(x) = \\left[ 1 - \\frac {x} {h^{(e)}} \\right]$$\n",
    "\n",
    "$$N_2^{(e)}(x) = \\left[ \\frac {x} {h^{(e)}} \\right]$$\n",
    "\n",
    "y\n",
    "\n",
    "$$\\dfrac{dN_1^{(e)}}{dx} = -\\dfrac {1} {h^{(e)}}$$\n",
    "\n",
    "$$\\dfrac{dN_2^{(e)}}{dx} = \\dfrac {1} {h^{(e)}}$$"
   ]
  },
  {
   "cell_type": "markdown",
   "metadata": {
    "slideshow": {
     "slide_type": "slide"
    }
   },
   "source": [
    "Obtenemos: \n",
    "\n",
    "$$ \\int_0^{L/2} \\left \\{ K  \\left( \\begin{bmatrix} \\dfrac {4} {L^2} & -\\dfrac {4} {L^2} \\\\ -\\dfrac {4} {L^2} & \\dfrac {4} {L^2} \\end{bmatrix}  \\right)\\begin{bmatrix} T_1^{(e_1)} \\\\ T_2^{(e_1)} \\end{bmatrix} - \\begin{bmatrix} 1 - \\dfrac {x} {h^{(e)}} \\\\ \\dfrac {x} {h^{(e)}} \\end{bmatrix} Q \\right \\}dx +  \\begin{bmatrix} - \\left( -K \\dfrac {dT} {dx} \\right)_{x=0} \\\\ \\left( -K \\dfrac {dT} {dx} \\right)_{x=L/2} \\end{bmatrix}  = \\begin{bmatrix} 0 \\\\ 0 \\end{bmatrix}$$"
   ]
  },
  {
   "cell_type": "markdown",
   "metadata": {
    "slideshow": {
     "slide_type": "slide"
    }
   },
   "source": [
    "Integrando y usando \n",
    "\n",
    "$$-K \\frac {dT} {dx} = q \\text{  en  } x=0$$\n",
    "\n",
    "resulta:\n",
    "\n",
    "$$  \\dfrac {2K}{L}  \\begin{bmatrix} 1 & -1 \\\\ -1 & 1 \\end{bmatrix} \\begin{bmatrix} T_1 \\\\ T_2 \\end{bmatrix} = \\dfrac{QL} {4} \\begin{bmatrix} 1 \\\\ 1 \\end{bmatrix} +  \\begin{bmatrix} q \\\\ - \\left( -K \\dfrac {dT} {dx} \\right)_{x=L/2} \\end{bmatrix}$$"
   ]
  },
  {
   "cell_type": "markdown",
   "metadata": {
    "slideshow": {
     "slide_type": "slide"
    }
   },
   "source": [
    "Para el elemento $e_2$, usando el mismo procedimiento se obtiene:\n",
    "\n",
    "$$  \\dfrac {2K}{L}  \\begin{bmatrix} 1 & -1 \\\\ -1 & 1 \\end{bmatrix} \\begin{bmatrix} T_2 \\\\ T_3 \\end{bmatrix} = \\dfrac{QL} {4} \\begin{bmatrix} 1 \\\\ 1 \\end{bmatrix} +  \\begin{bmatrix} \\left( -K \\dfrac {dT} {dx} \\right)_{x=L/2}  \\\\ -\\left( -K \\dfrac {dT} {dx} \\right)_{x=L} \\end{bmatrix}$$ "
   ]
  },
  {
   "cell_type": "markdown",
   "metadata": {
    "slideshow": {
     "slide_type": "slide"
    }
   },
   "source": [
    "![Titulo](Imagenes/Titulos/Head2-3.png)"
   ]
  },
  {
   "cell_type": "markdown",
   "metadata": {
    "slideshow": {
     "slide_type": "slide"
    }
   },
   "source": [
    "Las integrales de cada uno de los elementos deben de ser añadidas para obtener el sistema completo de ecuaciones. Esta operación se llama \"ensamblar\" las ecuaciones y producirá la matriz global de $3\\times 3$. Para lograr esto usamos la numeración global de los elementos y grados de libertad y es equivalente a añadir las contribuciones de las ecuaciones producidas por las mismas funciones de ponderación ($W(x)$) en los diferentes elementos."
   ]
  },
  {
   "cell_type": "markdown",
   "metadata": {
    "slideshow": {
     "slide_type": "slide"
    }
   },
   "source": [
    "Para este caso en particular las ecuaciones de peso $W_2 = N_2$ se encuentran en los dos elementos y deberán de ser sumadas en la matriz global. "
   ]
  },
  {
   "cell_type": "markdown",
   "metadata": {
    "slideshow": {
     "slide_type": "slide"
    }
   },
   "source": [
    "![Fig3.7](Imagenes/Fig3.7.png)"
   ]
  },
  {
   "cell_type": "markdown",
   "metadata": {
    "slideshow": {
     "slide_type": "slide"
    }
   },
   "source": [
    "Se puede ver en la figura anterior que los flujos en los nodos interiores se cancelan mutuamente. De hecho, lo único que indica es que los flujos deben de ser continuos en el interior. Por esta razón estos términos son normalmente omitidos cuando son construidas las ecuaciones correspondientes a cada elemento. Sin embargo, debemos ser cuidados porque si omitimos estos términos la igualdad con cero __no__ se cumplirá en las ecuaciones de cada elemento."
   ]
  },
  {
   "cell_type": "markdown",
   "metadata": {
    "slideshow": {
     "slide_type": "slide"
    }
   },
   "source": [
    "El sistema global de ecuaciones resulta:\n",
    "\n",
    "$$  \\dfrac {2K}{L}  \\begin{bmatrix} 1 & -1  & 0 \\\\ -1 & 2 & -1 \\\\ 0 & -1 & 1 \\end{bmatrix} \\begin{bmatrix} T_1 \\\\ T_2 \\\\T_3 \\end{bmatrix} = \\dfrac{QL} {4} \\begin{bmatrix} 1 \\\\ 2 \\\\ 1 \\end{bmatrix} +  \\begin{bmatrix} q \\\\ 0 \\\\ - \\left( -K \\dfrac {dT} {dx} \\right)_{x=L} \\end{bmatrix}$$"
   ]
  },
  {
   "cell_type": "markdown",
   "metadata": {
    "slideshow": {
     "slide_type": "slide"
    }
   },
   "source": [
    "![Titulo](Imagenes/Titulos/Head2-4.png)"
   ]
  },
  {
   "cell_type": "markdown",
   "metadata": {
    "slideshow": {
     "slide_type": "slide"
    }
   },
   "source": [
    "En la última ecuación aparece el flujo en $x=L$, sin embargo sabemos que esta linea es como la ecuación relacionada con $T_3$ y, como sabemos el valor de $T_3$ y el flujo en $x=L$ no aparece en las otras ecuaciones podemos simplemente quitar esta línea, incluyendo el producto de $T_3$ de la segunda linea."
   ]
  },
  {
   "cell_type": "markdown",
   "metadata": {
    "slideshow": {
     "slide_type": "slide"
    }
   },
   "source": [
    "$$  \\dfrac {2K}{L}  \\begin{bmatrix} 1 & -1  \\\\ -1 & 2 \\end{bmatrix} \\begin{bmatrix} T_1 \\\\ T_2 \\end{bmatrix} = \\dfrac{QL} {4} \\begin{bmatrix} 1 \\\\ 2 \\end{bmatrix} +  \\begin{bmatrix} q \\\\ 0 \\\\  \\end{bmatrix} + \\dfrac {2K} {L} T_L \\begin{bmatrix} 0 \\\\ 1 \\end{bmatrix}$$"
   ]
  },
  {
   "cell_type": "markdown",
   "metadata": {
    "slideshow": {
     "slide_type": "slide"
    }
   },
   "source": [
    "Esto es:\n",
    "\n",
    "$$  \\dfrac {2K}{L} T_1 - \\dfrac {2K}{L} T_2 = \\dfrac{QL} {4} +  q  $$\n",
    "\n",
    "$$ - \\dfrac {2K}{L} T_1 + \\dfrac {4K}{L} T_2 = \\dfrac{QL} {2} + \\dfrac {2K} {L} T_L $$"
   ]
  },
  {
   "cell_type": "markdown",
   "metadata": {
    "slideshow": {
     "slide_type": "slide"
    }
   },
   "source": [
    "De donde, como ya habíamos obtenido:\n",
    "\n",
    "$$ T_1 = \\frac {qL}{K} + \\frac {QL^2}{2K} + T_L \\ \\checkmark $$ \n",
    "\n",
    "$$ T_2 = \\frac {qL}{2K} + \\frac {3QL^2}{8K} + T_L \\ \\checkmark $$  "
   ]
  },
  {
   "cell_type": "markdown",
   "metadata": {
    "slideshow": {
     "slide_type": "slide"
    }
   },
   "source": [
    "De esta ecuación podemos resolver ya $T_1$ y $T_2$. Una vez resueltas estas incógnitas podemos usar la tercera ecuación para obtener el flujo de calor en el extremo $x=L$:\n",
    "\n",
    "$$  \\left( -K \\dfrac {dT} {dx} \\right)_{x=L} = \\dfrac {2K} {L} \\left(T_2-T_L \\right) + \\dfrac {QL} {4}$$"
   ]
  },
  {
   "cell_type": "markdown",
   "metadata": {
    "slideshow": {
     "slide_type": "slide"
    }
   },
   "source": [
    "### Solución usando el elemento cuadrático\n",
    "\n",
    "Resolveremos, como ejemplo, el mismo problema utilizando el elemento cuadrático pero con los mismos tres nodos (es decir, con un sólo elemento).\n",
    "\n",
    "$$ \\int_{0}^{L} \\left[ K \\frac {dN_i} {dx} \\left(\\sum_{j=1}^{3}\\frac {dN_j} {dx}T_j\\right) - N_i Q \\right]dx + \\left[N_i\\left(-K \\frac {dT} {dx}\\right)\\right]_0^{L} = 0$$"
   ]
  },
  {
   "cell_type": "markdown",
   "metadata": {
    "slideshow": {
     "slide_type": "slide"
    }
   },
   "source": [
    "Lo que, substituyendo las funciones de forma y sus derivadas nos da:\n",
    "\n",
    "$$ \\int_{0}^{L} \\left \\{ K \\left( \\begin{bmatrix} \\dfrac {1} {L} \\left(\\dfrac {4x} {L}-3\\right) \\\\  \\dfrac {4} {L} \\left(1 - \\dfrac {2x} {L}\\right) \\\\ \\dfrac {1} {L} \\left(\\dfrac {4x} {L}-1\\right) \\end{bmatrix} \\begin{bmatrix} \\dfrac {1} {L} \\left(\\dfrac {4x} {L}-3\\right) & \\dfrac {4} {L} \\left(1 - \\dfrac {2x} {L}\\right) & \\dfrac {1} {L} \\left(\\dfrac {4x} {L}-1\\right) \\end{bmatrix}  \\right) \\begin{bmatrix} T_1 \\\\ T_2 \\\\T_3 \\end{bmatrix} - \\begin{bmatrix} 1- \\dfrac {3x} {L} +2 \\left(\\dfrac {x} {L}\\right)^2 \\\\  \\dfrac {4x} {L} \\left(1 - \\dfrac {x} {L}\\right) \\\\ \\dfrac {x} {L} \\left(\\dfrac {2x} {L}-1\\right) \\end{bmatrix} Q \\right \\}dx= \\begin{bmatrix} q \\\\ 0 \\\\ -\\left( -K \\dfrac {dT} {dx} \\right) \\end{bmatrix}$$"
   ]
  },
  {
   "cell_type": "markdown",
   "metadata": {
    "slideshow": {
     "slide_type": "slide"
    }
   },
   "source": [
    "La multiplicación de los vectores da:\n",
    "\n",
    "$$\\left[\\begin{matrix}\\dfrac{9}{L^{2}} - \\dfrac{24 x}{L^{3}} + \\dfrac{16 x^{2}}{L^{4}} & - \\dfrac{12}{L^{2}} + \\dfrac{40 x}{L^{3}} - \\dfrac{32 x^{2}}{L^{4}} & \\dfrac{3}{L^{2}} - \\dfrac{16 x}{L^{3}} + \\dfrac{16 x^{2}}{L^{4}}\\\\- \\dfrac{12}{L^{2}} + \\dfrac{40 x}{L^{3}} - \\dfrac{32 x^{2}}{L^{4}} & \\dfrac{16}{L^{2}} - \\dfrac{64 x}{L^{3}} + \\dfrac{64 x^{2}}{L^{4}} & - \\dfrac{4}{L^{2}} + \\dfrac{24 x}{L^{3}} - \\dfrac{32 x^{2}}{L^{4}}\\\\\\dfrac{3}{L^{2}} - \\dfrac{16 x}{L^{3}} + \\dfrac{16 x^{2}}{L^{4}} & - \\dfrac{4}{L^{2}} + \\dfrac{24 x}{L^{3}} - \\dfrac{32 x^{2}}{L^{4}} & \\dfrac{1}{L^{2}} - \\dfrac{8 x}{L^{3}} + \\dfrac{16 x^{2}}{L^{4}}\\end{matrix}\\right]$$"
   ]
  },
  {
   "cell_type": "markdown",
   "metadata": {
    "slideshow": {
     "slide_type": "slide"
    }
   },
   "source": [
    "Y su integración (sacando $K$ y el vector de $T_1, T_2, T_3$):\n",
    "\n",
    "\n",
    "$$\\left[\\begin{matrix}\\dfrac{7}{3 L} & - \\dfrac{8}{3 L} & \\dfrac{1}{3 L}\\\\- \\dfrac{8}{3 L} & \\dfrac{16}{3 L} & - \\dfrac{8}{3 L}\\\\\\dfrac{1}{3 L} & - \\dfrac{8}{3 L} & \\dfrac{7}{3 L}\\end{matrix}\\right]$$"
   ]
  },
  {
   "cell_type": "markdown",
   "metadata": {
    "slideshow": {
     "slide_type": "slide"
    }
   },
   "source": [
    "La integración del vector $N$ queda:\n",
    "\n",
    "$$\\left[\\begin{matrix}\\frac{L}{6}\\\\\\frac{2 L}{3}\\\\\\frac{L}{6}\\end{matrix}\\right]$$"
   ]
  },
  {
   "cell_type": "markdown",
   "metadata": {
    "slideshow": {
     "slide_type": "slide"
    }
   },
   "source": [
    "Juntando los resultados:\n",
    "\n",
    "$$  \\dfrac {K}{6L}  \\begin{bmatrix} 14 & -16  & 2 \\\\ -16 & 32 & -16 \\\\ 2 & -16 & 14 \\end{bmatrix} \\begin{bmatrix} T_1 \\\\ T_2 \\\\T_3 \\end{bmatrix} = \\dfrac{QL} {6} \\begin{bmatrix} 1 \\\\ 4 \\\\ 1 \\end{bmatrix} +  \\begin{bmatrix} q \\\\ 0 \\\\ - \\left( -K \\dfrac {dT} {dx} \\right)_{x=L} \\end{bmatrix}$$"
   ]
  },
  {
   "cell_type": "markdown",
   "metadata": {
    "slideshow": {
     "slide_type": "slide"
    }
   },
   "source": [
    "Nuevamente la tercera línea puede ser eliminada (pues ya conocemos el valor de $T_3$):\n",
    "\n",
    "\n",
    " $$  \\dfrac {K}{6L}  \\begin{bmatrix} 14 & -16  \\\\ -16 & 32 \\end{bmatrix} \\begin{bmatrix} T_1 \\\\ T_2 \\end{bmatrix} = \\dfrac{QL} {6} \\begin{bmatrix} 1 \\\\ 4 \\end{bmatrix} +  \\begin{bmatrix} q \\\\ 0 \\\\  \\end{bmatrix} + \\dfrac {K} {6L} T_L \\begin{bmatrix} -2 \\\\ 16 \\end{bmatrix}$$"
   ]
  },
  {
   "cell_type": "markdown",
   "metadata": {
    "slideshow": {
     "slide_type": "slide"
    }
   },
   "source": [
    "De donde:\n",
    "\n",
    "$$  \\dfrac {7K}{3L} T_1 - \\dfrac {8K}{3L} T_2 = \\dfrac{QL} {6} +  q  - \\dfrac {K} {3L} T_L $$\n",
    "\n",
    "$$ - \\dfrac {8K}{3L} T_1 + \\dfrac {16K}{3L} T_2 = \\dfrac{2QL} {3} + \\dfrac {8K} {3L} T_L $$"
   ]
  },
  {
   "cell_type": "markdown",
   "metadata": {
    "slideshow": {
     "slide_type": "slide"
    }
   },
   "source": [
    "Nuevamente, los valores en los nodos desconocidos resultan:\n",
    "\n",
    "$$ T_1 = \\frac {qL}{K} + \\frac {QL^2}{2K} + T_L \\ \\checkmark $$ \n",
    "\n",
    "$$ T_2 = \\frac {qL}{2K} + \\frac {3QL^2}{8K} + T_L \\ \\checkmark $$"
   ]
  },
  {
   "cell_type": "markdown",
   "metadata": {
    "slideshow": {
     "slide_type": "slide"
    }
   },
   "source": [
    "Aunque estos resultados son exactamente los mismos que habíamos obtenido anteriormente lo interesante es que usando esta solución la función obtenida es:\n",
    "\n",
    "$$T(x) = \\left( 1-3\\frac {x} {L}+2 \\left( \\frac {x} {L} \\right)^2 \\right) T_1 + \\left( 4\\frac {x} {L}-4 \\left( \\frac {x} {L} \\right)^2 \\right) T_2 + \\left( -1\\frac {x} {L}+2 \\left( \\frac {x} {L} \\right)^2 \\right) T_3$$"
   ]
  },
  {
   "cell_type": "markdown",
   "metadata": {
    "slideshow": {
     "slide_type": "slide"
    }
   },
   "source": [
    "$$T(x) = \\left( 1-3\\frac {x} {L}+2 \\left( \\frac {x} {L} \\right)^2 \\right) \\left( \\frac {qL}{K} + \\frac {QL^2}{2K} + T_L \\right)  + \\left( 4\\frac {x} {L}-4 \\left( \\frac {x} {L} \\right)^2 \\right) \\left( \\frac {qL}{2K} + \\frac {3QL^2}{8K} + T_L  \\right) + \\left( -1\\frac {x} {L}+2 \\left( \\frac {x} {L} \\right)^2 \\right) T_L$$"
   ]
  },
  {
   "cell_type": "markdown",
   "metadata": {
    "slideshow": {
     "slide_type": "slide"
    }
   },
   "source": [
    "Agrupando los términos obtenemos:\n",
    "\n",
    "$$ T(x) = T_L + \\dfrac {Q}{2K}\\left(L^2 - x^2\\right) + \\dfrac {q} {K} \\left(L-x \\right)$$\n",
    "\n",
    "Que corresponde __exactamente__ a la solución analítica."
   ]
  }
 ],
 "metadata": {
  "celltoolbar": "Slideshow",
  "julynter-results": {
   "filteredId": [],
   "filteredIndividual": [],
   "filteredRestart": [],
   "filteredType": [],
   "hash": "e53e3f0ab06b267b0987776abcf0447f8e6a066e",
   "visible": []
  },
  "kernelspec": {
   "display_name": "Python 3 (ipykernel)",
   "language": "python",
   "name": "python3"
  },
  "language_info": {
   "codemirror_mode": {
    "name": "ipython",
    "version": 3
   },
   "file_extension": ".py",
   "mimetype": "text/x-python",
   "name": "python",
   "nbconvert_exporter": "python",
   "pygments_lexer": "ipython3",
   "version": "3.8.8"
  },
  "latex_envs": {
   "LaTeX_envs_menu_present": true,
   "autocomplete": true,
   "bibliofile": "biblio.bib",
   "cite_by": "apalike",
   "current_citInitial": 1,
   "eqLabelWithNumbers": true,
   "eqNumInitial": 1,
   "hotkeys": {
    "equation": "Ctrl-E",
    "itemize": "Ctrl-I"
   },
   "labels_anchors": false,
   "latex_user_defs": false,
   "report_style_numbering": false,
   "user_envs_cfg": false
  }
 },
 "nbformat": 4,
 "nbformat_minor": 4
}
