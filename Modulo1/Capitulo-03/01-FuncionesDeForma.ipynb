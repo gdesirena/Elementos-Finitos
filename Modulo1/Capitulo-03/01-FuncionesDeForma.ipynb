{
 "cells": [
  {
   "cell_type": "markdown",
   "metadata": {
    "slideshow": {
     "slide_type": "slide"
    }
   },
   "source": [
    "![Titulo](Imagenes/Titulos/Head2.png)"
   ]
  },
  {
   "cell_type": "markdown",
   "metadata": {
    "slideshow": {
     "slide_type": "slide"
    }
   },
   "source": [
    "En el tema anterior estudiamos como el procedimiento del __Galerkin__ junto con una interpolación lineal por elemento de la variable dependiente resulta en un conjunto de relaciones algebraicas obtenidas sobre segmentos diferentes que discretizan el dominio. Las funciones de aproximación están definidas localmente sobre los segmentos, llamados _elementos finitos_, cualquier función puede ser utilizada para esta aproximación (¡incluso un polinomio de primer orden!)."
   ]
  },
  {
   "cell_type": "markdown",
   "metadata": {
    "slideshow": {
     "slide_type": "slide"
    }
   },
   "source": [
    "El primer paso en el método de los elementos finitos es dividir la región de interés en subregiones, o _elementos_, que contienen _nodos_ y definir el tipo de __función de forma__ que será usada en cada elemento. Anteriormente vimos el elemento _lineal_ (1er orden) que tiene un nodo en cada extremo. Un elemento _cuadrado_ (2do orden) contiene un nodo adicional en el centro del elemento y un elemento _cúbico_ (3er orden) tiene un total de cuatro nodos: dos extremos y dos colocados en intervalos de 1/3 del tamaño."
   ]
  },
  {
   "cell_type": "markdown",
   "metadata": {
    "slideshow": {
     "slide_type": "slide"
    }
   },
   "source": [
    "El conjunto de _elementos_ y _nodos_ determina la __malla__ de elementos finitos. El tipo de __función de forma__ esta directamente asociado con el tipo de malla."
   ]
  },
  {
   "cell_type": "markdown",
   "metadata": {
    "slideshow": {
     "slide_type": "slide"
    }
   },
   "source": [
    "![Titulo](Imagenes/Titulos/Head2-1.png)"
   ]
  },
  {
   "cell_type": "markdown",
   "metadata": {
    "slideshow": {
     "slide_type": "slide"
    }
   },
   "source": [
    "## Funciones de forma"
   ]
  },
  {
   "cell_type": "markdown",
   "metadata": {
    "slideshow": {
     "slide_type": "slide"
    }
   },
   "source": [
    "Anteriormente trabajamos con funciones de forma $\\phi_i(x)$ para el problema de conducción de calor unidimensional (1-D) de una manera sencilla. Ahora formalizaremos el proceso de interpolación polinomial por partes y mostraremos que es más conveniente trabajar con elementos individuales y funciones locales."
   ]
  },
  {
   "cell_type": "markdown",
   "metadata": {
    "slideshow": {
     "slide_type": "slide"
    }
   },
   "source": [
    "## Elementos lineales\n",
    "\n",
    "Comencemos por definir una malla en $0 \\le x \\le L$ de elementos donde no todos tienen necesariamente el mismo tamaño. Entonces podemos definir las funciones de forma para cada elemento. Al igual que en el anterior estas será la representación en coordenadas __globales__ (i.e. de todo el dominio). Este sistema de coordenadas nos permite describir la geometría de nuestro problema. Si la malla tiene $n$ elementos, tendremos $n+1$ nodos con las coordenadas $x_1, ..., x_{n+1}$."
   ]
  },
  {
   "cell_type": "markdown",
   "metadata": {
    "slideshow": {
     "slide_type": "slide"
    }
   },
   "source": [
    "![Fig3.1](Imagenes/Fig3.1.png)"
   ]
  },
  {
   "cell_type": "markdown",
   "metadata": {
    "slideshow": {
     "slide_type": "slide"
    }
   },
   "source": [
    "Los dominios de cada elemento están dados por:\n",
    "\n",
    "$$e_i;\\left \\{ x \\big| x_i \\le x \\le x_{i+1} \\right \\}$$ \n",
    "\n",
    "para $i = 1,2,...,n$"
   ]
  },
  {
   "cell_type": "markdown",
   "metadata": {
    "slideshow": {
     "slide_type": "slide"
    }
   },
   "source": [
    "Las funciones de forma asociadas con cada nodo serán denotadas por $N_i(x)$ y deben de cumplir:\n",
    "\n",
    "$$ N_i(x_i) = 1$$\n",
    "\n",
    "y\n",
    "\n",
    "$$ N_i(x_j) = 0$$\n",
    "\n",
    "si $j \\ne i$."
   ]
  },
  {
   "cell_type": "markdown",
   "metadata": {
    "slideshow": {
     "slide_type": "slide"
    }
   },
   "source": [
    "Están dados por las siguientes tres expresiones:\n",
    "$$N_1(x)= \\begin{cases} \\frac{x_2-x}{h_1} & x_1 \\le x \\le x_2\\\\ 0 & \\text{Resto del dominio} \\end{cases} $$"
   ]
  },
  {
   "cell_type": "markdown",
   "metadata": {
    "slideshow": {
     "slide_type": "slide"
    }
   },
   "source": [
    "$$N_i(x)=\\begin{cases}\\frac{x-x_{i-1}}{h_{i-1}} & x_{i-1} \\le x \\le x_i\\\\\\frac{x_{i+1}-x}{h_{i}} & x_i \\le x \\le x_{i+1} \\\\0 & \\text{Resto del dominio}\\end{cases} i=2,3,4,...,n $$"
   ]
  },
  {
   "cell_type": "markdown",
   "metadata": {
    "slideshow": {
     "slide_type": "slide"
    }
   },
   "source": [
    "$$N_{n+1}(x)=\\begin{cases}\\frac{x-x_{n}}{h_n} & x_n \\le x \\le x_{n+1}\\\\0 & \\text{Resto del dominio}\\end{cases}$$"
   ]
  },
  {
   "cell_type": "markdown",
   "metadata": {
    "slideshow": {
     "slide_type": "slide"
    }
   },
   "source": [
    "Donde:\n",
    "\n",
    "\n",
    "$$ h_i = x_{i+1} - x_i$$ \n",
    "para $i=1,2,3,...,n$. (es decir, la longitud del elemento)"
   ]
  },
  {
   "cell_type": "markdown",
   "metadata": {
    "slideshow": {
     "slide_type": "slide"
    }
   },
   "source": [
    "Y ahora definimos $T(x)$ como:\n",
    "\n",
    "$$T(x)=N_1(x)T_1 + N_2(x)T_2 + ... + N_{n+1}(x)T_{n+1} = \\sum_{i=1}^{n+1}N_i(x)T_i$$\n",
    "\n",
    "donde:\n",
    "\n",
    "* $T_i$ denota el valor de $T$ en $x_1$, es decir en el nodo $i$.\n",
    "* $T(x)$ es lineal entre nodos"
   ]
  },
  {
   "cell_type": "markdown",
   "metadata": {
    "slideshow": {
     "slide_type": "slide"
    }
   },
   "source": [
    "Esto se puede ver en una malla de un solo elemento, es decir, $n=1$. Si $T(x)$ es lineal entre nodos, debe de tener la forma $T(x) = m\\cdot x + b$. Además se debe de cumplir que $T(x_1)=T_1$ y $T(x_2)=T_2$."
   ]
  },
  {
   "cell_type": "markdown",
   "metadata": {
    "slideshow": {
     "slide_type": "slide"
    }
   },
   "source": [
    "Así:\n",
    "\n",
    "$$T_1 = m \\cdot x_1 + b $$\n",
    "\n",
    "$$T_2 = m \\cdot x_2 + b $$"
   ]
  },
  {
   "cell_type": "markdown",
   "metadata": {
    "slideshow": {
     "slide_type": "slide"
    }
   },
   "source": [
    "Despejando de la primera:\n",
    "\n",
    "$$b = T_1 - m \\cdot x_1 $$\n",
    "\n",
    "y substituyendo en la segunda:\n",
    "\n",
    "$$T_2 = m \\cdot x_2 + T_1 - m \\cdot x_1 $$"
   ]
  },
  {
   "cell_type": "markdown",
   "metadata": {
    "slideshow": {
     "slide_type": "slide"
    }
   },
   "source": [
    "De donde $m$ es igual a:\n",
    "\n",
    "$$ m = \\frac {T_2 - T_1} {x_2 - x_1} = \\frac {T_2 - T_1} {h_1} = \\alpha_2$$\n",
    "\n",
    "*El libro (y esto hará sentido en elementos de orden más alto) utiliza $b=\\alpha_1$ y $m=\\alpha_2$"
   ]
  },
  {
   "cell_type": "markdown",
   "metadata": {
    "slideshow": {
     "slide_type": "slide"
    }
   },
   "source": [
    "Resolviendo para $b$ obtenemos:\n",
    "\n",
    "$$ b = \\frac {T_1x_2 - T_2x_1} {x_2 - x_1} = \\frac {T_1x_2 - T_2x_1} {h_1} = \\alpha_1$$"
   ]
  },
  {
   "cell_type": "markdown",
   "metadata": {
    "slideshow": {
     "slide_type": "slide"
    }
   },
   "source": [
    "De tal manera que la ecuación lineal queda:\n",
    "\n",
    "$$T(x) = \\alpha_1 + \\alpha_2 \\cdot x = \\frac {T_1x_2 - T_2x_1} {h_1} + \\frac {T_2 - T_1} {h_1} \\cdot x $$\n",
    "\n",
    "Factorizando $T_1$ y $T_2$ obtenemos:\n",
    "\n",
    "$$T(x) = \\left[ \\frac {x_2 - x} {h_1} \\right]T_1 + \\left[ \\frac {x - x_1} {h_1} \\right]T_2 $$\n",
    "\n",
    "Que coincide efectivamente con la ecuación desarrollada anteriormente."
   ]
  },
  {
   "cell_type": "markdown",
   "metadata": {
    "slideshow": {
     "slide_type": "slide"
    }
   },
   "source": [
    "Además, las condiciones de la frontera que vimos en el ejemplo en el tema pasado se pueden imponer, simplemente substituyendo el parámetro (en ese caso $T_{n+1}$) con el valor conocido de la temperatura en dicho nodo."
   ]
  },
  {
   "cell_type": "markdown",
   "metadata": {
    "slideshow": {
     "slide_type": "slide"
    }
   },
   "source": [
    "### Coordenadas locales\n",
    "\n",
    "En práctica será conveniente trabajar cada elemento usando un _sistema de coordenadas locales_ asociado con dicho elemento. Si aislamos un elemento de longitud $h^{(e)}$ en coordenadas locales, usaremos la notación:\n",
    "\n",
    "$$T^{(e)}(x) = N_1^{(e)}(x)T_1^{(e)} + N_2^{(e)}(x)T_2^{(e)} $$\n",
    "\n",
    "Donde $^{(e)}$ se refiere al elemento (p.e. $^{(1)}$ es el elemento 1) y \n",
    "\n",
    "$$N_1^{(e)}(x) = \\left[ 1 - \\frac {x} {h^{(e)}} \\right]$$\n",
    "\n",
    "$$N_2^{(e)}(x) = \\left[ \\frac {x} {h^{(e)}} \\right]$$"
   ]
  },
  {
   "cell_type": "markdown",
   "metadata": {
    "slideshow": {
     "slide_type": "slide"
    }
   },
   "source": [
    "La derivada de la función $T^{(e)}$ puede ser calculada usando:\n",
    "\n",
    "$$\\frac {dT^{(e)}} {dx} =\\begin{bmatrix} \\dfrac {dN_1^{(e)}} {dx} & \\dfrac {dN_2^{(e)}} {dx}\\end{bmatrix} \\begin{bmatrix} T_1^{(e)} \\\\ T_2^{(e)} \\end{bmatrix} $$\n",
    "\n",
    "$$\\frac {dT^{(e)}} {dx} =\\begin{bmatrix} -\\dfrac {1} {h^{(e)}} & \\dfrac {1} {h^{(e)}} \\end{bmatrix} \\begin{bmatrix} T_1^{(e)} \\\\ T_2^{(e)} \\end{bmatrix} $$"
   ]
  },
  {
   "cell_type": "markdown",
   "metadata": {
    "slideshow": {
     "slide_type": "slide"
    }
   },
   "source": [
    "Si graficamos nuestras funciones de forma en coordenadas locales, obtenemos:\n",
    "\n",
    "![Fig3.2](Imagenes/Fig3.2.png)"
   ]
  },
  {
   "cell_type": "markdown",
   "metadata": {
    "slideshow": {
     "slide_type": "slide"
    }
   },
   "source": [
    "Debemos incluir también una lógica de relacionamiento entre las numeraciones global y local (del elemento) de los nodos.\n",
    "La lógica de numeración se muestra en la siguiente figura.\n",
    "\n",
    "![Fig3.2](Imagenes/Fig3.3.png)"
   ]
  },
  {
   "cell_type": "markdown",
   "metadata": {
    "slideshow": {
     "slide_type": "slide"
    }
   },
   "source": [
    "## Elementos cuadráticos\n",
    "\n",
    "Con la finalidad de aproximar una función por interpolación se pueden lograr mejores resultados usando arcos parabólicos en lugar de segmentos lineales.\n",
    "\n",
    "![Fig3.4](Imagenes/Fig3.4.png)"
   ]
  },
  {
   "cell_type": "markdown",
   "metadata": {
    "slideshow": {
     "slide_type": "slide"
    }
   },
   "source": [
    "Para cada elemento, las funciones $T^{(e)}(x)$ serán cuadráticas en $x$ y por lo tanto de la forma:\n",
    "\n",
    "$$T^{(e)}(x) = \\alpha_1 + \\alpha_2 x + \\alpha_3 x^2$$\n",
    "\n",
    "__*__ Aquí es evidente que la notación usando $\\alpha$ es más conveniente que $m,b$ ya que podemos usar los mismos símbolos para funciones de orden superior."
   ]
  },
  {
   "cell_type": "markdown",
   "metadata": {
    "slideshow": {
     "slide_type": "slide"
    }
   },
   "source": [
    "Para determinar los valores de estos tres parámetros usamos los puntos conocidos, es decir:\n",
    "\n",
    "$$T^{(e)}\\Big{|}_{x=0} = \\alpha_1 + \\alpha_2 (0) + \\alpha_3 (0)^2 = T_1^{(e)}$$\n",
    "\n",
    "$$T^{(e)}\\Big{|}_{x=\\frac{h^{(e)}} 2} = \\alpha_1 + \\alpha_2 (\\frac{h^{(e)}} 2) + \\alpha_3 (\\frac{h^{(e)}} 2)^2 = T_2^{(e)}$$\n",
    "\n",
    "$$T^{(e)}\\Big{|}_{x=h^{(e)}} = \\alpha_1 + \\alpha_2 (h^{(e)}) + \\alpha_3 (h^{(e)})^2 = T_3^{(e)}$$"
   ]
  },
  {
   "cell_type": "markdown",
   "metadata": {
    "slideshow": {
     "slide_type": "slide"
    }
   },
   "source": [
    "La solución de este sistema de ecuaciones resulta:\n",
    "\n",
    "$$\\alpha_1 = T_1^{(e)}$$\n",
    "\n",
    "$$\\alpha_2 = \\frac 1 {h^{(e)}} \\left( -3 T_1^{(e)} + 4 T_2^{(e)} - T_3^{(e)} \\right)$$\n",
    "\n",
    "$$\\alpha_3 = \\frac 2{(h^{(e)})^2} \\left( T_1^{(e)} -2 T_2^{(e)} + T_3^{(e)} \\right)$$"
   ]
  },
  {
   "cell_type": "markdown",
   "metadata": {
    "slideshow": {
     "slide_type": "slide"
    }
   },
   "source": [
    "Substituyendo en la expresión de $T^{(e)}(x)$ obtenemos:\n",
    "\n",
    "$$T^{(e)}(x) = T_1^{(e)} + \\frac 1 {h^{(e)}} \\left( -3 T_1^{(e)} + 4 T_2^{(e)} - T_3^{(e)} \\right) x + \\frac 2 {(h^{(e)})^2} \\left( T_1^{(e)} -2 T_2^{(e)} + T_3^{(e)} \\right) x^2$$"
   ]
  },
  {
   "cell_type": "markdown",
   "metadata": {
    "slideshow": {
     "slide_type": "slide"
    }
   },
   "source": [
    "Factorizando para $T^{(e)}_1$, $T^{(e)}_2$ y $T^{(e)}_3$:\n",
    "\n",
    "$$T^{(e)}(x) = \\left[1-3 \\left[ \\frac x {h^{(e)}}\\right] + 2 \\left[ \\frac x {h^{(e)}}\\right]^2 \\right] T_1 + \\left[4 \\left[ \\frac x {h^{(e)}}\\right] -4  \\left[ \\frac x {h^{(e)}}\\right]^2 \\right] T_2 + \\left[-1 \\left[ \\frac x {h^{(e)}}\\right] + 2 \\left[ \\frac x {h^{(e)}}\\right]^2 \\right] T_3  $$"
   ]
  },
  {
   "cell_type": "markdown",
   "metadata": {
    "slideshow": {
     "slide_type": "slide"
    }
   },
   "source": [
    "Las funciones de forma resultan entonces:\n",
    "\n",
    "\n",
    "$$N^{(e)}_1(x) = 1-3 \\left[ \\frac x {h^{(e)}}\\right] + 2 \\left[ \\frac x {h^{(e)}}\\right]^2 $$\n",
    "\n",
    "$$N^{(e)}_2(x) = 4 \\left[ \\frac x {h^{(e)}}\\right] -4  \\left[ \\frac x {h^{(e)}}\\right]^2 $$\n",
    "\n",
    "$$N^{(e)}_3(x) = -1 \\left[ \\frac x {h^{(e)}}\\right] + 2 \\left[ \\frac x {h^{(e)}}\\right]^2 $$"
   ]
  },
  {
   "cell_type": "markdown",
   "metadata": {
    "slideshow": {
     "slide_type": "slide"
    }
   },
   "source": [
    "![Fig3.5](Imagenes/Fig3.5.png)"
   ]
  },
  {
   "cell_type": "markdown",
   "metadata": {
    "slideshow": {
     "slide_type": "slide"
    }
   },
   "source": [
    "Estas funciones tienen algunas propiedades interesantes:\n",
    "\n",
    "\n",
    "$$N^{(e)}_1(x) + N^{(e)}_2(x) + N^{(e)}_3(x) = 1-3 \\left[ \\frac x {h^{(e)}}\\right] + 2 \\left[ \\frac x {h^{(e)}}\\right]^2 + 4 \\left[ \\frac x {h^{(e)}}\\right] -4  \\left[ \\frac x {h^{(e)}}\\right]^2 + -1 \\left[ \\frac x {h^{(e)}}\\right] + 2 \\left[ \\frac x {h^{(e)}}\\right]^2 $$\n",
    "\n",
    "\n",
    "$$N^{(e)}_1(x) + N^{(e)}_2(x) + N^{(e)}_3(x) = 1 $$"
   ]
  },
  {
   "cell_type": "markdown",
   "metadata": {
    "slideshow": {
     "slide_type": "slide"
    }
   },
   "source": [
    "En este caso la numeración de los nodos está relacionada con la numeración de los elementos por:\n",
    "\n",
    "![Fig3.6](Imagenes/Fig3.6.png)"
   ]
  },
  {
   "cell_type": "markdown",
   "metadata": {
    "slideshow": {
     "slide_type": "slide"
    }
   },
   "source": [
    "Y por lo tanto, los elementos están definidos:\n",
    "\n",
    "$$e_i=\\{ x \\big{|} x_{2i-1} \\le x \\le x_{2i+1}\\}$$"
   ]
  },
  {
   "cell_type": "markdown",
   "metadata": {
    "slideshow": {
     "slide_type": "slide"
    }
   },
   "source": [
    "La longitud del elemento está dada por:\n",
    "\n",
    "$$h^{(i)} = x_{2i+1} - x_{2i-1}$$"
   ]
  },
  {
   "cell_type": "markdown",
   "metadata": {
    "slideshow": {
     "slide_type": "slide"
    }
   },
   "source": [
    "La derivada de la función $T^{(e)}(x)$ se puede obtener con:\n",
    "\n",
    "$$T^{(e)}(x) = N^{(e)}_1(x) T^{(e)}_1 + N^{(e)}_2(x) T^{(e)}_2 +N^{(e)}_3(x) T^{(e)}_3 $$\n",
    "\n",
    "$$T^{(e)}(x) = \\begin{bmatrix} N^{(e)}_1(x) & N^{(e)}_2(x) & N^{(e)}_3(x)\\end{bmatrix} \\begin{bmatrix} T^{(e)}_1 \\\\ T^{(e)}_2 \\\\ T^{(e)}_3 \\end{bmatrix}$$"
   ]
  },
  {
   "cell_type": "markdown",
   "metadata": {
    "slideshow": {
     "slide_type": "slide"
    }
   },
   "source": [
    "y estará dada por:\n",
    "\n",
    "$$\\frac {dT^{(e)}}{dx} = \\begin{bmatrix} \\dfrac 1 {h^{(e)}} \\left( 4 \\dfrac x {h^{(e)}} - 3 \\right) & \\dfrac 4 {h^{(e)}} \\left( 1- 2 \\dfrac x {h^{(e)}} \\right) & \\dfrac 1 {h^{(e)}} \\left( 4 \\dfrac x {h^{(e)}} - 1 \\right)\\end{bmatrix} \\begin{bmatrix} T^{(e)}_1 \\\\ T^{(e)}_2 \\\\ T^{(e)}_3 \\end{bmatrix}$$"
   ]
  },
  {
   "cell_type": "markdown",
   "metadata": {
    "slideshow": {
     "slide_type": "slide"
    }
   },
   "source": [
    "## Elementos cúbicos\n",
    "\n",
    "Con esta misma lógica podemos proseguir a elementos de mayor grado. Los elementos cúbicos podemos formarlos usando:\n",
    "\n",
    "\n",
    "$$T^{(e)}(x) = \\alpha_1 + \\alpha_2 x + \\alpha_3 x^2 + \\alpha_4 x^3$$"
   ]
  },
  {
   "cell_type": "markdown",
   "metadata": {
    "slideshow": {
     "slide_type": "slide"
    }
   },
   "source": [
    "En este caso dividimos el elemento en cuatro segmentos iguales, con valores de $T$ conocidos:\n",
    "\n",
    "$$T^{(e)}\\Big{|}_{x=0} = \\alpha_1 + \\alpha_2 (0) + \\alpha_3 (0)^2 + \\alpha_4 (0)^3 = T_1^{(e)}$$\n",
    "\n",
    "$$T^{(e)}\\Big{|}_{x=\\frac{h^{(e)}} 3} = \\alpha_1 + \\alpha_2 (\\frac{h^{(e)}} 3) + \\alpha_3 (\\frac{h^{(e)}} 3)^2 + \\alpha_4 (\\frac{h^{(e)}} 3)^3= T_2^{(e)}$$\n",
    "\n",
    "$$T^{(e)}\\Big{|}_{x=\\frac{2 h^{(e)}} 3} = \\alpha_1 + \\alpha_2 (\\frac{2 h^{(e)}} 3) + \\alpha_3 (\\frac{2 h^{(e)}} 3)^2 + \\alpha_4 (\\frac{2 h^{(e)}} 3)^3 = T_3^{(e)}$$\n",
    "\n",
    "$$T^{(e)}\\Big{|}_{x=h^{(e)}} = \\alpha_1 + \\alpha_2 (h^{(e)}) + \\alpha_3 (h^{(e)})^2 + \\alpha_4 (h^{(e)})^3= T_4^{(e)}$$"
   ]
  },
  {
   "cell_type": "markdown",
   "metadata": {
    "slideshow": {
     "slide_type": "slide"
    }
   },
   "source": [
    "Después de utilizar el mismo procedimiento que utilizamos para los elementos cuadráticos obtenemos:\n",
    "\n",
    "$$N_1^{(e)}(x) = \\left(1 - \\dfrac {3x} {h^{(e)}} \\right) \\left(1 - \\dfrac {3x} {2h^{(e)}} \\right) \\left(1 - \\dfrac {x} {h^{(e)}} \\right)$$\n",
    "\n",
    "$$N_2^{(e)}(x) = \\dfrac {9x} {h^{(e)}}  \\left(1 - \\dfrac {3x} {2h^{(e)}} \\right) \\left(1 - \\dfrac {x} {h^{(e)}} \\right)$$\n",
    "\n",
    "$$N_3^{(e)}(x) = - \\dfrac {9x} {2h^{(e)}}  \\left(1 - \\dfrac {3x} {h^{(e)}} \\right) \\left(1 - \\dfrac {x} {h^{(e)}} \\right)$$\n",
    "\n",
    "$$N_4^{(e)}(x) = \\dfrac {x} {h^{(e)}}  \\left(1 - \\dfrac {3x} {h^{(e)}} \\right) \\left(1 - \\dfrac {3x} {2h^{(e)}} \\right)$$"
   ]
  },
  {
   "cell_type": "markdown",
   "metadata": {
    "slideshow": {
     "slide_type": "slide"
    }
   },
   "source": [
    "Algunas observaciones sobre estos elementos:\n",
    "\n",
    "__(1)__ Aunque las derivadas de los elementos cuadráticos y cúbicos son funciones de la variable independiente $x$ estas no serán continuas en los nodos extremos de los elementos. Este tipo de interpolación se fue propuesta por _Lagrange_ y solo garantiza la continuidad de la función ($T(x)$ en este caso) entre los elementos. Los elementos son conocidos como elementos $C^0$, donde el cero significa que solo las derivadas de orden cero son continuas, esto es, la función."
   ]
  },
  {
   "cell_type": "markdown",
   "metadata": {
    "slideshow": {
     "slide_type": "slide"
    }
   },
   "source": [
    "![Lagrange](Imagenes/Lagrange_basis_functions.png)"
   ]
  },
  {
   "cell_type": "markdown",
   "metadata": {
    "slideshow": {
     "slide_type": "slide"
    }
   },
   "source": [
    "__(2)__ Evidentemente se pueden construir elementos de mayor orden añadiendo más nodos en le elemento. De hecho, se pueden construir elementos que permitan continuidad en las derivadas de los nodos. Los elementos más sencillos con estas características son los formados por la matriz de _Hermite_ que interpolan la función y la primera derivada en los dos nodos localizados al final del elemento. Estos elementos son elementos $C^1$ porque ahora la primera derivada será continua en todo el dominio. Otros elementos más complicados se pueden construir. De hecho, no hay límite en cuanto al nivel de complejidad o comportamiento predeterminado que se pueda lograr. Sin embargo, tenemos que ser conscientes de que entre la relación existente entre la complejidad sea el elemento y la dificultad asociada para su solución en un computador. Los elementos cúbicos resultan muchas veces prohibitivos en cálculos multidimensionales, de tal manera que se opta por elementos más sencillos."
   ]
  },
  {
   "cell_type": "markdown",
   "metadata": {
    "slideshow": {
     "slide_type": "slide"
    }
   },
   "source": [
    "![Hermite](Imagenes/HermiteBasis.png)"
   ]
  },
  {
   "cell_type": "markdown",
   "metadata": {
    "slideshow": {
     "slide_type": "slide"
    }
   },
   "source": [
    "__(3)__ La función de interpolación consideradas cumplen la propiedad $N^{(e)}_i(x_j) = \\delta_{ij}$, donde $\\delta_{ij}$ es la delta de _Kronecker_, esto es:\n",
    "\n",
    "$$\\delta_{ij} = \\begin{cases} 1 & \\text{si } i=j \\\\ 0 & \\text{si } i \\ne j \\end{cases}$$\n",
    "\n",
    "Esto resulta práctico porque cuando evaluamos la función en los nodos obtenemos el valor de la función en dichos nodos."
   ]
  },
  {
   "cell_type": "markdown",
   "metadata": {
    "slideshow": {
     "slide_type": "slide"
    }
   },
   "source": [
    "__(4)__ El tipo de interpolación define la \"forma\" que la variable dependiente puede tomar en el elemento, es decir: lineal, cuadrada, cúbica, etc. Por lo tanto, el nombre \"función de forma\" se usa para denotar las funciones $N_i$ que definen el elemento. Es importante hacer notar que las ecuaciones de forma de orden superior siempre se pueden reducir a ecuaciones de forma de orden inferior. Es decir: se puede representar un sistema lineal con una ecuación cuadrática o cubica, pero no al contrario. Este hecho garantiza que las funciones de forma de orden superior nos darán una mejor aproximación de nuestra variable dependiente. "
   ]
  }
 ],
 "metadata": {
  "celltoolbar": "Slideshow",
  "julynter-results": {
   "filteredId": [],
   "filteredIndividual": [],
   "filteredRestart": [],
   "filteredType": [],
   "hash": "205b8089793ee36c4c2789d5e429a5228ce5e661",
   "visible": []
  },
  "kernelspec": {
   "display_name": "Python 3 (ipykernel)",
   "language": "python",
   "name": "python3"
  },
  "language_info": {
   "codemirror_mode": {
    "name": "ipython",
    "version": 3
   },
   "file_extension": ".py",
   "mimetype": "text/x-python",
   "name": "python",
   "nbconvert_exporter": "python",
   "pygments_lexer": "ipython3",
   "version": "3.8.8"
  },
  "toc-autonumbering": false,
  "toc-showcode": false,
  "toc-showmarkdowntxt": false
 },
 "nbformat": 4,
 "nbformat_minor": 4
}
