{
 "cells": [
  {
   "cell_type": "markdown",
   "id": "05987d6a",
   "metadata": {},
   "source": [
    "### Métodos Directos Gauss-Jordan"
   ]
  },
  {
   "cell_type": "code",
   "execution_count": null,
   "id": "82f85551",
   "metadata": {},
   "outputs": [],
   "source": []
  },
  {
   "cell_type": "code",
   "execution_count": null,
   "id": "e17e631e",
   "metadata": {},
   "outputs": [],
   "source": []
  },
  {
   "cell_type": "markdown",
   "id": "11197bea",
   "metadata": {},
   "source": [
    "### Métodos Iterativos"
   ]
  },
  {
   "cell_type": "markdown",
   "id": "4262e1f4",
   "metadata": {},
   "source": [
    "#### Método de Jacobi"
   ]
  },
  {
   "cell_type": "code",
   "execution_count": null,
   "id": "b50bc6a8",
   "metadata": {},
   "outputs": [],
   "source": []
  },
  {
   "cell_type": "markdown",
   "id": "30739ea6",
   "metadata": {},
   "source": [
    "#### Método iterativo Gauss-Seidel\n"
   ]
  },
  {
   "cell_type": "code",
   "execution_count": null,
   "id": "6e183ba2",
   "metadata": {},
   "outputs": [],
   "source": []
  },
  {
   "cell_type": "code",
   "execution_count": null,
   "id": "5dc8c3e9",
   "metadata": {},
   "outputs": [],
   "source": []
  },
  {
   "cell_type": "code",
   "execution_count": null,
   "id": "8549f633",
   "metadata": {},
   "outputs": [],
   "source": [
    "A = np.array([[4, 1,   2],\n",
    "              [1, 3, 1],\n",
    "              [ 1,  2,   5]])\n"
   ]
  },
  {
   "cell_type": "code",
   "execution_count": null,
   "id": "fe690d44",
   "metadata": {},
   "outputs": [],
   "source": [
    "b = np.array([16, 10, 12], dtype=float)"
   ]
  },
  {
   "cell_type": "code",
   "execution_count": null,
   "id": "d9792595",
   "metadata": {},
   "outputs": [],
   "source": []
  },
  {
   "cell_type": "code",
   "execution_count": null,
   "id": "c5bd01c3",
   "metadata": {},
   "outputs": [],
   "source": []
  },
  {
   "cell_type": "code",
   "execution_count": null,
   "id": "ef430ed9",
   "metadata": {},
   "outputs": [],
   "source": []
  },
  {
   "cell_type": "code",
   "execution_count": null,
   "id": "4a2f4785",
   "metadata": {},
   "outputs": [],
   "source": []
  }
 ],
 "metadata": {
  "kernelspec": {
   "display_name": "Python 3 (ipykernel)",
   "language": "python",
   "name": "python3"
  },
  "language_info": {
   "codemirror_mode": {
    "name": "ipython",
    "version": 3
   },
   "file_extension": ".py",
   "mimetype": "text/x-python",
   "name": "python",
   "nbconvert_exporter": "python",
   "pygments_lexer": "ipython3",
   "version": "3.8.8"
  }
 },
 "nbformat": 4,
 "nbformat_minor": 5
}
