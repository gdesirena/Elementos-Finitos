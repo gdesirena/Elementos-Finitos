{
 "cells": [
  {
   "cell_type": "code",
   "execution_count": 1,
   "metadata": {},
   "outputs": [],
   "source": [
    "import sympy as sp"
   ]
  },
  {
   "cell_type": "code",
   "execution_count": 2,
   "metadata": {},
   "outputs": [],
   "source": [
    "L, x, K = sp.symbols('L, x, K')"
   ]
  },
  {
   "cell_type": "code",
   "execution_count": 3,
   "metadata": {},
   "outputs": [
    {
     "data": {
      "text/latex": [
       "$\\displaystyle 1 - \\frac{3 x}{L} + \\frac{2 x^{2}}{L^{2}}$"
      ],
      "text/plain": [
       "1 - 3*x/L + 2*x**2/L**2"
      ]
     },
     "execution_count": 3,
     "metadata": {},
     "output_type": "execute_result"
    }
   ],
   "source": [
    "N_1 = 1 - 3 * x / L + 2 * (x / L)**2\n",
    "N_2 = 4 * (x/L) - 4 * (x/L)**2\n",
    "N_3 = -1 * (x/L) + 2 * (x/L)**2\n",
    "N_1"
   ]
  },
  {
   "cell_type": "code",
   "execution_count": 4,
   "metadata": {},
   "outputs": [
    {
     "data": {
      "text/latex": [
       "$\\displaystyle - \\frac{3}{L} + \\frac{4 x}{L^{2}}$"
      ],
      "text/plain": [
       "-3/L + 4*x/L**2"
      ]
     },
     "execution_count": 4,
     "metadata": {},
     "output_type": "execute_result"
    }
   ],
   "source": [
    "dN_1 = sp.diff(N_1,x)\n",
    "dN_2 = sp.diff(N_2,x)\n",
    "dN_3 = sp.diff(N_3,x)\n",
    "dN_1"
   ]
  },
  {
   "cell_type": "code",
   "execution_count": 5,
   "metadata": {},
   "outputs": [
    {
     "data": {
      "text/latex": [
       "$\\displaystyle \\left[\\begin{matrix}- \\frac{3}{L} + \\frac{4 x}{L^{2}}\\\\\\frac{4}{L} - \\frac{8 x}{L^{2}}\\\\- \\frac{1}{L} + \\frac{4 x}{L^{2}}\\end{matrix}\\right]$"
      ],
      "text/plain": [
       "Matrix([\n",
       "[-3/L + 4*x/L**2],\n",
       "[ 4/L - 8*x/L**2],\n",
       "[-1/L + 4*x/L**2]])"
      ]
     },
     "execution_count": 5,
     "metadata": {},
     "output_type": "execute_result"
    }
   ],
   "source": [
    "v = sp.Matrix([dN_1, dN_2, dN_3])\n",
    "v"
   ]
  },
  {
   "cell_type": "code",
   "execution_count": 6,
   "metadata": {},
   "outputs": [
    {
     "data": {
      "text/latex": [
       "$\\displaystyle \\left[\\begin{matrix}\\left(- \\frac{3}{L} + \\frac{4 x}{L^{2}}\\right)^{2} & \\left(- \\frac{3}{L} + \\frac{4 x}{L^{2}}\\right) \\left(\\frac{4}{L} - \\frac{8 x}{L^{2}}\\right) & \\left(- \\frac{3}{L} + \\frac{4 x}{L^{2}}\\right) \\left(- \\frac{1}{L} + \\frac{4 x}{L^{2}}\\right)\\\\\\left(- \\frac{3}{L} + \\frac{4 x}{L^{2}}\\right) \\left(\\frac{4}{L} - \\frac{8 x}{L^{2}}\\right) & \\left(\\frac{4}{L} - \\frac{8 x}{L^{2}}\\right)^{2} & \\left(- \\frac{1}{L} + \\frac{4 x}{L^{2}}\\right) \\left(\\frac{4}{L} - \\frac{8 x}{L^{2}}\\right)\\\\\\left(- \\frac{3}{L} + \\frac{4 x}{L^{2}}\\right) \\left(- \\frac{1}{L} + \\frac{4 x}{L^{2}}\\right) & \\left(- \\frac{1}{L} + \\frac{4 x}{L^{2}}\\right) \\left(\\frac{4}{L} - \\frac{8 x}{L^{2}}\\right) & \\left(- \\frac{1}{L} + \\frac{4 x}{L^{2}}\\right)^{2}\\end{matrix}\\right]$"
      ],
      "text/plain": [
       "Matrix([\n",
       "[               (-3/L + 4*x/L**2)**2, (-3/L + 4*x/L**2)*(4/L - 8*x/L**2), (-3/L + 4*x/L**2)*(-1/L + 4*x/L**2)],\n",
       "[ (-3/L + 4*x/L**2)*(4/L - 8*x/L**2),                (4/L - 8*x/L**2)**2,  (-1/L + 4*x/L**2)*(4/L - 8*x/L**2)],\n",
       "[(-3/L + 4*x/L**2)*(-1/L + 4*x/L**2), (-1/L + 4*x/L**2)*(4/L - 8*x/L**2),                (-1/L + 4*x/L**2)**2]])"
      ]
     },
     "execution_count": 6,
     "metadata": {},
     "output_type": "execute_result"
    }
   ],
   "source": [
    "vv = v * v.T\n",
    "vv"
   ]
  },
  {
   "cell_type": "code",
   "execution_count": 7,
   "metadata": {},
   "outputs": [
    {
     "data": {
      "text/latex": [
       "$\\displaystyle \\left[\\begin{matrix}\\frac{9 x}{L^{2}} - \\frac{12 x^{2}}{L^{3}} + \\frac{16 x^{3}}{3 L^{4}} & - \\frac{12 x}{L^{2}} + \\frac{20 x^{2}}{L^{3}} - \\frac{32 x^{3}}{3 L^{4}} & \\frac{3 x}{L^{2}} - \\frac{8 x^{2}}{L^{3}} + \\frac{16 x^{3}}{3 L^{4}}\\\\- \\frac{12 x}{L^{2}} + \\frac{20 x^{2}}{L^{3}} - \\frac{32 x^{3}}{3 L^{4}} & \\frac{16 x}{L^{2}} - \\frac{32 x^{2}}{L^{3}} + \\frac{64 x^{3}}{3 L^{4}} & - \\frac{4 x}{L^{2}} + \\frac{12 x^{2}}{L^{3}} - \\frac{32 x^{3}}{3 L^{4}}\\\\\\frac{3 x}{L^{2}} - \\frac{8 x^{2}}{L^{3}} + \\frac{16 x^{3}}{3 L^{4}} & - \\frac{4 x}{L^{2}} + \\frac{12 x^{2}}{L^{3}} - \\frac{32 x^{3}}{3 L^{4}} & \\frac{x}{L^{2}} - \\frac{4 x^{2}}{L^{3}} + \\frac{16 x^{3}}{3 L^{4}}\\end{matrix}\\right]$"
      ],
      "text/plain": [
       "Matrix([\n",
       "[  9*x/L**2 - 12*x**2/L**3 + 16*x**3/(3*L**4), -12*x/L**2 + 20*x**2/L**3 - 32*x**3/(3*L**4),   3*x/L**2 - 8*x**2/L**3 + 16*x**3/(3*L**4)],\n",
       "[-12*x/L**2 + 20*x**2/L**3 - 32*x**3/(3*L**4),  16*x/L**2 - 32*x**2/L**3 + 64*x**3/(3*L**4), -4*x/L**2 + 12*x**2/L**3 - 32*x**3/(3*L**4)],\n",
       "[   3*x/L**2 - 8*x**2/L**3 + 16*x**3/(3*L**4),  -4*x/L**2 + 12*x**2/L**3 - 32*x**3/(3*L**4),     x/L**2 - 4*x**2/L**3 + 16*x**3/(3*L**4)]])"
      ]
     },
     "execution_count": 7,
     "metadata": {},
     "output_type": "execute_result"
    }
   ],
   "source": [
    "integral = sp.integrate(vv, x)\n",
    "integral"
   ]
  },
  {
   "cell_type": "code",
   "execution_count": 9,
   "metadata": {},
   "outputs": [
    {
     "data": {
      "text/latex": [
       "$\\displaystyle \\left[\\begin{matrix}\\frac{7 K}{3 L} & - \\frac{8 K}{3 L} & \\frac{K}{3 L}\\\\- \\frac{8 K}{3 L} & \\frac{16 K}{3 L} & - \\frac{8 K}{3 L}\\\\\\frac{K}{3 L} & - \\frac{8 K}{3 L} & \\frac{7 K}{3 L}\\end{matrix}\\right]$"
      ],
      "text/plain": [
       "Matrix([\n",
       "[ 7*K/(3*L), -8*K/(3*L),    K/(3*L)],\n",
       "[-8*K/(3*L), 16*K/(3*L), -8*K/(3*L)],\n",
       "[   K/(3*L), -8*K/(3*L),  7*K/(3*L)]])"
      ]
     },
     "execution_count": 9,
     "metadata": {},
     "output_type": "execute_result"
    }
   ],
   "source": [
    "K * integral.subs({x:L})"
   ]
  },
  {
   "cell_type": "code",
   "execution_count": 13,
   "metadata": {},
   "outputs": [],
   "source": [
    "q, Q, T_L = sp.symbols('q, Q, T_L')"
   ]
  },
  {
   "cell_type": "code",
   "execution_count": 16,
   "metadata": {},
   "outputs": [
    {
     "data": {
      "text/latex": [
       "$\\displaystyle T_{L} + \\frac{3 L^{2} Q}{8 K} + \\frac{L q}{2 K}$"
      ],
      "text/plain": [
       "T_L + 3*L**2*Q/(8*K) + L*q/(2*K)"
      ]
     },
     "execution_count": 16,
     "metadata": {},
     "output_type": "execute_result"
    }
   ],
   "source": [
    "#Soluciones de las ecuaciones\n",
    "T_1 = q*L/K+Q*L**2/(2*K)+T_L\n",
    "T_2 = q*L/(2*K)+3*Q*L**2/(8*K)+T_L\n",
    "T_2"
   ]
  },
  {
   "cell_type": "code",
   "execution_count": 18,
   "metadata": {},
   "outputs": [
    {
     "data": {
      "text/latex": [
       "$\\displaystyle T_{L} \\left(- \\frac{x}{L} + \\frac{2 x^{2}}{L^{2}}\\right) + \\left(\\frac{4 x}{L} - \\frac{4 x^{2}}{L^{2}}\\right) \\left(T_{L} + \\frac{3 L^{2} Q}{8 K} + \\frac{L q}{2 K}\\right) + \\left(1 - \\frac{3 x}{L} + \\frac{2 x^{2}}{L^{2}}\\right) \\left(T_{L} + \\frac{L^{2} Q}{2 K} + \\frac{L q}{K}\\right)$"
      ],
      "text/plain": [
       "T_L*(-x/L + 2*x**2/L**2) + (4*x/L - 4*x**2/L**2)*(T_L + 3*L**2*Q/(8*K) + L*q/(2*K)) + (1 - 3*x/L + 2*x**2/L**2)*(T_L + L**2*Q/(2*K) + L*q/K)"
      ]
     },
     "execution_count": 18,
     "metadata": {},
     "output_type": "execute_result"
    }
   ],
   "source": [
    "T = N_1*T_1 + N_2*T_2 + N_3*T_L\n",
    "T"
   ]
  },
  {
   "cell_type": "code",
   "execution_count": 19,
   "metadata": {},
   "outputs": [
    {
     "data": {
      "text/latex": [
       "$\\displaystyle \\frac{K T_{L} + \\frac{L^{2} Q}{2} + L q - \\frac{Q x^{2}}{2} - q x}{K}$"
      ],
      "text/plain": [
       "(K*T_L + L**2*Q/2 + L*q - Q*x**2/2 - q*x)/K"
      ]
     },
     "execution_count": 19,
     "metadata": {},
     "output_type": "execute_result"
    }
   ],
   "source": [
    "T.simplify()"
   ]
  }
 ],
 "metadata": {
  "julynter-results": {
   "filteredId": [],
   "filteredIndividual": [],
   "filteredRestart": [],
   "filteredType": [],
   "hash": "f7563c4081b5c020f56a8e8d52352cd181ac92fd",
   "visible": [
    {
     "cellId": "group",
     "hash": "c0de46ba034d710c2b2406a37ee6816be9634aa0",
     "reason": "This groups other lint messages",
     "reportId": "group",
     "reportType": "hiddenstate",
     "suggestion": null,
     "text": "Hidden State"
    },
    {
     "cellId": 0,
     "hash": "c763ac6903a5a38ea3bfad7c0c630ac3e5186762",
     "reason": "A cell with results of a previous session may fail to execute or produce different results in this one, hampering the reproducibility.",
     "reportId": "h1",
     "reportType": "hiddenstate",
     "suggestion": "Please consider executing it to guarantee the reproducibility.",
     "text": "Cell 0 has execution results, but it wasn't executed on this session"
    },
    {
     "cellId": 1,
     "hash": "84fa0bada78d8994005c4087b0fb587fd0625003",
     "reason": "A cell with results of a previous session may fail to execute or produce different results in this one, hampering the reproducibility.",
     "reportId": "h1",
     "reportType": "hiddenstate",
     "suggestion": "Please consider executing it to guarantee the reproducibility.",
     "text": "Cell 1 has execution results, but it wasn't executed on this session"
    },
    {
     "cellId": 2,
     "hash": "e82fe4a61f9ca4faf46078e4651c40a4a4a299f7",
     "reason": "A cell with results of a previous session may fail to execute or produce different results in this one, hampering the reproducibility.",
     "reportId": "h1",
     "reportType": "hiddenstate",
     "suggestion": "Please consider executing it to guarantee the reproducibility.",
     "text": "Cell 2 has execution results, but it wasn't executed on this session"
    },
    {
     "cellId": 3,
     "hash": "27e4b780c457d814cf1d044a1dea95cc9c77336c",
     "reason": "A cell with results of a previous session may fail to execute or produce different results in this one, hampering the reproducibility.",
     "reportId": "h1",
     "reportType": "hiddenstate",
     "suggestion": "Please consider executing it to guarantee the reproducibility.",
     "text": "Cell 3 has execution results, but it wasn't executed on this session"
    },
    {
     "cellId": 4,
     "hash": "8b9bfd77d658f72079c5eafbdbda9338a68fc5e9",
     "reason": "A cell with results of a previous session may fail to execute or produce different results in this one, hampering the reproducibility.",
     "reportId": "h1",
     "reportType": "hiddenstate",
     "suggestion": "Please consider executing it to guarantee the reproducibility.",
     "text": "Cell 4 has execution results, but it wasn't executed on this session"
    },
    {
     "cellId": 5,
     "hash": "b789dd01c1fb67a5a7124690ef487833e8dcb4a1",
     "reason": "A cell with results of a previous session may fail to execute or produce different results in this one, hampering the reproducibility.",
     "reportId": "h1",
     "reportType": "hiddenstate",
     "suggestion": "Please consider executing it to guarantee the reproducibility.",
     "text": "Cell 5 has execution results, but it wasn't executed on this session"
    },
    {
     "cellId": 6,
     "hash": "a8d7d25d9cbe0e5fcf9a622a7229f1d36842c7aa",
     "reason": "A cell with results of a previous session may fail to execute or produce different results in this one, hampering the reproducibility.",
     "reportId": "h1",
     "reportType": "hiddenstate",
     "suggestion": "Please consider executing it to guarantee the reproducibility.",
     "text": "Cell 6 has execution results, but it wasn't executed on this session"
    },
    {
     "cellId": 7,
     "hash": "129ee32a3f6a634407da92f5d5dd30b788160fdd",
     "reason": "A cell with results of a previous session may fail to execute or produce different results in this one, hampering the reproducibility.",
     "reportId": "h1",
     "reportType": "hiddenstate",
     "suggestion": "Please consider executing it to guarantee the reproducibility.",
     "text": "Cell 7 has execution results, but it wasn't executed on this session"
    },
    {
     "cellId": 8,
     "hash": "ef90f63f4d555d5b21b2035794e0d05e841d562c",
     "reason": "A cell with results of a previous session may fail to execute or produce different results in this one, hampering the reproducibility.",
     "reportId": "h1",
     "reportType": "hiddenstate",
     "suggestion": "Please consider executing it to guarantee the reproducibility.",
     "text": "Cell 8 has execution results, but it wasn't executed on this session"
    },
    {
     "cellId": 9,
     "hash": "594b4516bf9371244464ac3ce2cd8579ab098427",
     "reason": "A cell with results of a previous session may fail to execute or produce different results in this one, hampering the reproducibility.",
     "reportId": "h1",
     "reportType": "hiddenstate",
     "suggestion": "Please consider executing it to guarantee the reproducibility.",
     "text": "Cell 9 has execution results, but it wasn't executed on this session"
    },
    {
     "cellId": 10,
     "hash": "6a565c3c4da1efe5cd75f19eaa0e3a5a6e4856b8",
     "reason": "A cell with results of a previous session may fail to execute or produce different results in this one, hampering the reproducibility.",
     "reportId": "h1",
     "reportType": "hiddenstate",
     "suggestion": "Please consider executing it to guarantee the reproducibility.",
     "text": "Cell 10 has execution results, but it wasn't executed on this session"
    },
    {
     "cellId": 11,
     "hash": "f9efed9cc03ab32350636aa6dcf4861e1afd9e57",
     "reason": "A cell with results of a previous session may fail to execute or produce different results in this one, hampering the reproducibility.",
     "reportId": "h1",
     "reportType": "hiddenstate",
     "suggestion": "Please consider executing it to guarantee the reproducibility.",
     "text": "Cell 11 has execution results, but it wasn't executed on this session"
    },
    {
     "cellId": 7,
     "hash": "0f5ad371eb4d6fbf89cad9d19b5d3809883e4af5",
     "reason": "A skip in the execution count might indicate the presence of a hidden state caused by a cell that does not exist anymore. Hidden states might prevent cells from executing or producing the same results, hampering the reproducibility.",
     "reportId": "h4",
     "reportType": "hiddenstate",
     "suggestion": "Please consider re-running the notebook to guarantee the reproducibility.",
     "text": "Cell 7 skips the execution count"
    },
    {
     "cellId": 8,
     "hash": "86300a6a3d87a5dbd0f3549d9a7f6b00feee633c",
     "reason": "A skip in the execution count might indicate the presence of a hidden state caused by a cell that does not exist anymore. Hidden states might prevent cells from executing or producing the same results, hampering the reproducibility.",
     "reportId": "h4",
     "reportType": "hiddenstate",
     "suggestion": "Please consider re-running the notebook to guarantee the reproducibility.",
     "text": "Cell 8 skips the execution count"
    },
    {
     "cellId": 9,
     "hash": "6976c04f5e1a6b8aea8dcd383164abaf74f7c028",
     "reason": "A skip in the execution count might indicate the presence of a hidden state caused by a cell that does not exist anymore. Hidden states might prevent cells from executing or producing the same results, hampering the reproducibility.",
     "reportId": "h4",
     "reportType": "hiddenstate",
     "suggestion": "Please consider re-running the notebook to guarantee the reproducibility.",
     "text": "Cell 9 skips the execution count"
    },
    {
     "cellId": 10,
     "hash": "3fa0f45f0682e0049524529e4e11b899aa007979",
     "reason": "A skip in the execution count might indicate the presence of a hidden state caused by a cell that does not exist anymore. Hidden states might prevent cells from executing or producing the same results, hampering the reproducibility.",
     "reportId": "h4",
     "reportType": "hiddenstate",
     "suggestion": "Please consider re-running the notebook to guarantee the reproducibility.",
     "text": "Cell 10 skips the execution count"
    },
    {
     "cellId": "group",
     "hash": "19d3d3d153f22e318cbe061df9e685ba5165b0aa",
     "reason": "This groups other lint messages",
     "reportId": "group",
     "reportType": "confusenotebook",
     "suggestion": null,
     "text": "Confuse Notebook"
    },
    {
     "cellId": 0,
     "hash": "af8c920d78940a7822e2f5942d64aa2957017d45",
     "reason": "A markdown cell at the beginning of the notebook can provide a human-friendly title with no constraints and introduce the notebook, indicating its purpose and external requirements.",
     "reportId": "c4",
     "reportType": "confusenotebook",
     "suggestion": "Please consider adding a markdown cell to describe the notebook.",
     "text": "The first cell of the notebook is not a markdown cell"
    },
    {
     "cellId": 11,
     "hash": "56d04a4ce14ec9599157b79d1d627d5d72635cea",
     "reason": "A markdown cell at the end of the notebook can conclude it, presenting a summary of the obtained results.",
     "reportId": "c5",
     "reportType": "confusenotebook",
     "suggestion": "Please consider adding a markdown cell to conclude the notebook.",
     "text": "The last cell of the notebook is not a markdown cell"
    }
   ]
  },
  "kernelspec": {
   "display_name": "Python 3 (ipykernel)",
   "language": "python",
   "name": "python3"
  },
  "language_info": {
   "codemirror_mode": {
    "name": "ipython",
    "version": 3
   },
   "file_extension": ".py",
   "mimetype": "text/x-python",
   "name": "python",
   "nbconvert_exporter": "python",
   "pygments_lexer": "ipython3",
   "version": "3.8.8"
  }
 },
 "nbformat": 4,
 "nbformat_minor": 4
}
