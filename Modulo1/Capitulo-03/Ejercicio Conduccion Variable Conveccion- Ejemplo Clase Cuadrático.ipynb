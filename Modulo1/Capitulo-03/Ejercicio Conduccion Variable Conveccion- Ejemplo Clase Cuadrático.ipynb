{
 "cells": [
  {
   "cell_type": "code",
   "execution_count": 23,
   "metadata": {},
   "outputs": [],
   "source": [
    "import sympy as sp\n",
    "import numpy as np\n",
    "import matplotlib.pyplot as plt\n",
    "sp.init_printing(use_unicode=True)"
   ]
  },
  {
   "cell_type": "code",
   "execution_count": 50,
   "metadata": {},
   "outputs": [],
   "source": [
    "x, he, L, Q = sp.symbols('x, h^{(e)}, L, Q')\n",
    "h, T_inf = sp.symbols('h, T_{\\infty}')\n",
    "k1e1, k2e1, k3e1, k1e2, k2e2, k3e2 = sp.symbols('k1e1, k2e1, k3e1, k1e2, k2e2, k3e2')\n",
    "T1, T2, T3, T4, T5= sp.symbols('T1, T2, T3, T4, T5')"
   ]
  },
  {
   "cell_type": "code",
   "execution_count": 51,
   "metadata": {},
   "outputs": [
    {
     "data": {
      "text/latex": [
       "$\\displaystyle \\left[\\begin{matrix}T_{1}\\\\T_{2}\\\\T_{3}\\\\T_{4}\\\\T_{5}\\end{matrix}\\right]$"
      ],
      "text/plain": [
       "⎡T₁⎤\n",
       "⎢  ⎥\n",
       "⎢T₂⎥\n",
       "⎢  ⎥\n",
       "⎢T₃⎥\n",
       "⎢  ⎥\n",
       "⎢T₄⎥\n",
       "⎢  ⎥\n",
       "⎣T₅⎦"
      ]
     },
     "execution_count": 51,
     "metadata": {},
     "output_type": "execute_result"
    }
   ],
   "source": [
    "T = sp.Matrix([T1,T2,T3,T4,T5])\n",
    "T"
   ]
  },
  {
   "cell_type": "code",
   "execution_count": 52,
   "metadata": {},
   "outputs": [],
   "source": [
    "# Funciones de forma que se utilizarán son funciones de forma para elementos lineales\n",
    "N_1 = (1- 3*x/he + 2*(x/he)**2)\n",
    "N_2 = (4*x/he - 4*(x/he)**2)\n",
    "N_3 = (-1*x/he + 2*(x/he)**2)"
   ]
  },
  {
   "cell_type": "code",
   "execution_count": 53,
   "metadata": {},
   "outputs": [],
   "source": [
    "dN_1 = sp.diff(N_1, x)\n",
    "dN_2 = sp.diff(N_2, x)\n",
    "dN_3 = sp.diff(N_3, x)"
   ]
  },
  {
   "cell_type": "code",
   "execution_count": 54,
   "metadata": {},
   "outputs": [
    {
     "data": {
      "text/latex": [
       "$\\displaystyle \\left[\\begin{matrix}1 - \\frac{3 x}{h^{(e)}} + \\frac{2 x^{2}}{\\left(h^{(e)}\\right)^{2}}\\\\\\frac{4 x}{h^{(e)}} - \\frac{4 x^{2}}{\\left(h^{(e)}\\right)^{2}}\\\\- \\frac{x}{h^{(e)}} + \\frac{2 x^{2}}{\\left(h^{(e)}\\right)^{2}}\\end{matrix}\\right]$"
      ],
      "text/plain": [
       "⎡                     2  ⎤\n",
       "⎢      3⋅x         2⋅x   ⎥\n",
       "⎢1 - ──────── + ─────────⎥\n",
       "⎢    h__{(e)}           2⎥\n",
       "⎢               h__{(e)} ⎥\n",
       "⎢                        ⎥\n",
       "⎢                   2    ⎥\n",
       "⎢    4⋅x         4⋅x     ⎥\n",
       "⎢  ──────── - ─────────  ⎥\n",
       "⎢  h__{(e)}           2  ⎥\n",
       "⎢             h__{(e)}   ⎥\n",
       "⎢                        ⎥\n",
       "⎢                    2   ⎥\n",
       "⎢      x          2⋅x    ⎥\n",
       "⎢ - ──────── + ───────── ⎥\n",
       "⎢   h__{(e)}           2 ⎥\n",
       "⎣              h__{(e)}  ⎦"
      ]
     },
     "execution_count": 54,
     "metadata": {},
     "output_type": "execute_result"
    }
   ],
   "source": [
    "N = sp.Matrix([N_1, N_2, N_3])\n",
    "N"
   ]
  },
  {
   "cell_type": "code",
   "execution_count": 55,
   "metadata": {},
   "outputs": [
    {
     "data": {
      "text/latex": [
       "$\\displaystyle \\left[\\begin{matrix}- \\frac{3}{h^{(e)}} + \\frac{4 x}{\\left(h^{(e)}\\right)^{2}}\\\\\\frac{4}{h^{(e)}} - \\frac{8 x}{\\left(h^{(e)}\\right)^{2}}\\\\- \\frac{1}{h^{(e)}} + \\frac{4 x}{\\left(h^{(e)}\\right)^{2}}\\end{matrix}\\right]$"
      ],
      "text/plain": [
       "⎡     3          4⋅x   ⎤\n",
       "⎢- ──────── + ─────────⎥\n",
       "⎢  h__{(e)}           2⎥\n",
       "⎢             h__{(e)} ⎥\n",
       "⎢                      ⎥\n",
       "⎢    4          8⋅x    ⎥\n",
       "⎢ ──────── - ───────── ⎥\n",
       "⎢ h__{(e)}           2 ⎥\n",
       "⎢            h__{(e)}  ⎥\n",
       "⎢                      ⎥\n",
       "⎢     1          4⋅x   ⎥\n",
       "⎢- ──────── + ─────────⎥\n",
       "⎢  h__{(e)}           2⎥\n",
       "⎣             h__{(e)} ⎦"
      ]
     },
     "execution_count": 55,
     "metadata": {},
     "output_type": "execute_result"
    }
   ],
   "source": [
    "dN = sp.Matrix([dN_1, dN_2, dN_3])\n",
    "dN\n"
   ]
  },
  {
   "cell_type": "code",
   "execution_count": 56,
   "metadata": {},
   "outputs": [
    {
     "data": {
      "text/latex": [
       "$\\displaystyle \\left[\\begin{matrix}1 - \\frac{3 x}{h^{(e)}} + \\frac{2 x^{2}}{\\left(h^{(e)}\\right)^{2}} & \\frac{4 x}{h^{(e)}} - \\frac{4 x^{2}}{\\left(h^{(e)}\\right)^{2}} & - \\frac{x}{h^{(e)}} + \\frac{2 x^{2}}{\\left(h^{(e)}\\right)^{2}}\\end{matrix}\\right]$"
      ],
      "text/plain": [
       "⎡                     2                     2                       2  ⎤\n",
       "⎢      3⋅x         2⋅x       4⋅x         4⋅x          x          2⋅x   ⎥\n",
       "⎢1 - ──────── + ─────────  ──────── - ─────────  - ──────── + ─────────⎥\n",
       "⎢    h__{(e)}           2  h__{(e)}           2    h__{(e)}           2⎥\n",
       "⎣               h__{(e)}              h__{(e)}                h__{(e)} ⎦"
      ]
     },
     "execution_count": 56,
     "metadata": {},
     "output_type": "execute_result"
    }
   ],
   "source": [
    "N.T"
   ]
  },
  {
   "cell_type": "code",
   "execution_count": 57,
   "metadata": {},
   "outputs": [
    {
     "data": {
      "text/latex": [
       "$\\displaystyle \\left[\\begin{matrix}k1e1\\\\k2e1\\\\k3e1\\end{matrix}\\right]$"
      ],
      "text/plain": [
       "⎡k1e1⎤\n",
       "⎢    ⎥\n",
       "⎢k2e1⎥\n",
       "⎢    ⎥\n",
       "⎣k3e1⎦"
      ]
     },
     "execution_count": 57,
     "metadata": {},
     "output_type": "execute_result"
    }
   ],
   "source": [
    "sp.Matrix([k1e1, k2e1, k3e1])"
   ]
  },
  {
   "cell_type": "markdown",
   "metadata": {},
   "source": [
    "#### Elemento 1"
   ]
  },
  {
   "cell_type": "code",
   "execution_count": 58,
   "metadata": {},
   "outputs": [
    {
     "data": {
      "image/png": "[encoded data removed]",
      "text/latex": [
       "$\\displaystyle k1e1 \\left(1 - \\frac{3 x}{h^{(e)}} + \\frac{2 x^{2}}{\\left(h^{(e)}\\right)^{2}}\\right) + k2e1 \\left(\\frac{4 x}{h^{(e)}} - \\frac{4 x^{2}}{\\left(h^{(e)}\\right)^{2}}\\right) + k3e1 \\left(- \\frac{x}{h^{(e)}} + \\frac{2 x^{2}}{\\left(h^{(e)}\\right)^{2}}\\right)$"
      ],
      "text/plain": [
       "     ⎛                     2  ⎞        ⎛                 2  ⎞        ⎛        \n",
       "     ⎜      3⋅x         2⋅x   ⎟        ⎜  4⋅x         4⋅x   ⎟        ⎜     x  \n",
       "k1e1⋅⎜1 - ──────── + ─────────⎟ + k2e1⋅⎜──────── - ─────────⎟ + k3e1⋅⎜- ──────\n",
       "     ⎜    h__{(e)}           2⎟        ⎜h__{(e)}           2⎟        ⎜  h__{(e\n",
       "     ⎝               h__{(e)} ⎠        ⎝           h__{(e)} ⎠        ⎝        \n",
       "\n",
       "           2  ⎞\n",
       "        2⋅x   ⎟\n",
       "── + ─────────⎟\n",
       ")}           2⎟\n",
       "     h__{(e)} ⎠"
      ]
     },
     "execution_count": 58,
     "metadata": {},
     "output_type": "execute_result"
    }
   ],
   "source": [
    "((N.T)*sp.Matrix([k1e1, k2e1, k3e1]))[0]"
   ]
  },
  {
   "cell_type": "code",
   "execution_count": 59,
   "metadata": {},
   "outputs": [
    {
     "data": {
      "text/latex": [
       "$\\displaystyle \\left[\\begin{matrix}\\left(- \\frac{3}{h^{(e)}} + \\frac{4 x}{\\left(h^{(e)}\\right)^{2}}\\right)^{2} & \\left(- \\frac{3}{h^{(e)}} + \\frac{4 x}{\\left(h^{(e)}\\right)^{2}}\\right) \\left(\\frac{4}{h^{(e)}} - \\frac{8 x}{\\left(h^{(e)}\\right)^{2}}\\right) & \\left(- \\frac{3}{h^{(e)}} + \\frac{4 x}{\\left(h^{(e)}\\right)^{2}}\\right) \\left(- \\frac{1}{h^{(e)}} + \\frac{4 x}{\\left(h^{(e)}\\right)^{2}}\\right)\\\\\\left(- \\frac{3}{h^{(e)}} + \\frac{4 x}{\\left(h^{(e)}\\right)^{2}}\\right) \\left(\\frac{4}{h^{(e)}} - \\frac{8 x}{\\left(h^{(e)}\\right)^{2}}\\right) & \\left(\\frac{4}{h^{(e)}} - \\frac{8 x}{\\left(h^{(e)}\\right)^{2}}\\right)^{2} & \\left(- \\frac{1}{h^{(e)}} + \\frac{4 x}{\\left(h^{(e)}\\right)^{2}}\\right) \\left(\\frac{4}{h^{(e)}} - \\frac{8 x}{\\left(h^{(e)}\\right)^{2}}\\right)\\\\\\left(- \\frac{3}{h^{(e)}} + \\frac{4 x}{\\left(h^{(e)}\\right)^{2}}\\right) \\left(- \\frac{1}{h^{(e)}} + \\frac{4 x}{\\left(h^{(e)}\\right)^{2}}\\right) & \\left(- \\frac{1}{h^{(e)}} + \\frac{4 x}{\\left(h^{(e)}\\right)^{2}}\\right) \\left(\\frac{4}{h^{(e)}} - \\frac{8 x}{\\left(h^{(e)}\\right)^{2}}\\right) & \\left(- \\frac{1}{h^{(e)}} + \\frac{4 x}{\\left(h^{(e)}\\right)^{2}}\\right)^{2}\\end{matrix}\\right]$"
      ],
      "text/plain": [
       "⎡                                    2                                        \n",
       "⎢            ⎛     3          4⋅x   ⎞               ⎛     3          4⋅x   ⎞ ⎛\n",
       "⎢            ⎜- ──────── + ─────────⎟               ⎜- ──────── + ─────────⎟⋅⎜\n",
       "⎢            ⎜  h__{(e)}           2⎟               ⎜  h__{(e)}           2⎟ ⎜\n",
       "⎢            ⎝             h__{(e)} ⎠               ⎝             h__{(e)} ⎠ ⎝\n",
       "⎢                                                                             \n",
       "⎢                                                                             \n",
       "⎢ ⎛     3          4⋅x   ⎞ ⎛   4          8⋅x   ⎞               ⎛   4         \n",
       "⎢ ⎜- ──────── + ─────────⎟⋅⎜──────── - ─────────⎟               ⎜──────── - ──\n",
       "⎢ ⎜  h__{(e)}           2⎟ ⎜h__{(e)}           2⎟               ⎜h__{(e)}     \n",
       "⎢ ⎝             h__{(e)} ⎠ ⎝           h__{(e)} ⎠               ⎝           h_\n",
       "⎢                                                                             \n",
       "⎢                                                                             \n",
       "⎢⎛     3          4⋅x   ⎞ ⎛     1          4⋅x   ⎞  ⎛     1          4⋅x   ⎞ ⎛\n",
       "⎢⎜- ──────── + ─────────⎟⋅⎜- ──────── + ─────────⎟  ⎜- ──────── + ─────────⎟⋅⎜\n",
       "⎢⎜  h__{(e)}           2⎟ ⎜  h__{(e)}           2⎟  ⎜  h__{(e)}           2⎟ ⎜\n",
       "⎣⎝             h__{(e)} ⎠ ⎝             h__{(e)} ⎠  ⎝             h__{(e)} ⎠ ⎝\n",
       "\n",
       "                                                                        ⎤\n",
       "   4          8⋅x   ⎞  ⎛     3          4⋅x   ⎞ ⎛     1          4⋅x   ⎞⎥\n",
       "──────── - ─────────⎟  ⎜- ──────── + ─────────⎟⋅⎜- ──────── + ─────────⎟⎥\n",
       "h__{(e)}           2⎟  ⎜  h__{(e)}           2⎟ ⎜  h__{(e)}           2⎟⎥\n",
       "           h__{(e)} ⎠  ⎝             h__{(e)} ⎠ ⎝             h__{(e)} ⎠⎥\n",
       "                                                                        ⎥\n",
       "        2                                                               ⎥\n",
       " 8⋅x   ⎞                ⎛     1          4⋅x   ⎞ ⎛   4          8⋅x   ⎞ ⎥\n",
       "───────⎟                ⎜- ──────── + ─────────⎟⋅⎜──────── - ─────────⎟ ⎥\n",
       "      2⎟                ⎜  h__{(e)}           2⎟ ⎜h__{(e)}           2⎟ ⎥\n",
       "_{(e)} ⎠                ⎝             h__{(e)} ⎠ ⎝           h__{(e)} ⎠ ⎥\n",
       "                                                                        ⎥\n",
       "                                                           2            ⎥\n",
       "   4          8⋅x   ⎞              ⎛     1          4⋅x   ⎞             ⎥\n",
       "──────── - ─────────⎟              ⎜- ──────── + ─────────⎟             ⎥\n",
       "h__{(e)}           2⎟              ⎜  h__{(e)}           2⎟             ⎥\n",
       "           h__{(e)} ⎠              ⎝             h__{(e)} ⎠             ⎦"
      ]
     },
     "execution_count": 59,
     "metadata": {},
     "output_type": "execute_result"
    }
   ],
   "source": [
    "dN*dN.T"
   ]
  },
  {
   "cell_type": "code",
   "execution_count": 60,
   "metadata": {},
   "outputs": [
    {
     "data": {
      "text/latex": [
       "$\\displaystyle \\left[\\begin{matrix}\\left(- \\frac{3}{h^{(e)}} + \\frac{4 x}{\\left(h^{(e)}\\right)^{2}}\\right)^{2} \\left(k1e1 \\left(1 - \\frac{3 x}{h^{(e)}} + \\frac{2 x^{2}}{\\left(h^{(e)}\\right)^{2}}\\right) + k2e1 \\left(\\frac{4 x}{h^{(e)}} - \\frac{4 x^{2}}{\\left(h^{(e)}\\right)^{2}}\\right) + k3e1 \\left(- \\frac{x}{h^{(e)}} + \\frac{2 x^{2}}{\\left(h^{(e)}\\right)^{2}}\\right)\\right) & \\left(- \\frac{3}{h^{(e)}} + \\frac{4 x}{\\left(h^{(e)}\\right)^{2}}\\right) \\left(\\frac{4}{h^{(e)}} - \\frac{8 x}{\\left(h^{(e)}\\right)^{2}}\\right) \\left(k1e1 \\left(1 - \\frac{3 x}{h^{(e)}} + \\frac{2 x^{2}}{\\left(h^{(e)}\\right)^{2}}\\right) + k2e1 \\left(\\frac{4 x}{h^{(e)}} - \\frac{4 x^{2}}{\\left(h^{(e)}\\right)^{2}}\\right) + k3e1 \\left(- \\frac{x}{h^{(e)}} + \\frac{2 x^{2}}{\\left(h^{(e)}\\right)^{2}}\\right)\\right) & \\left(- \\frac{3}{h^{(e)}} + \\frac{4 x}{\\left(h^{(e)}\\right)^{2}}\\right) \\left(- \\frac{1}{h^{(e)}} + \\frac{4 x}{\\left(h^{(e)}\\right)^{2}}\\right) \\left(k1e1 \\left(1 - \\frac{3 x}{h^{(e)}} + \\frac{2 x^{2}}{\\left(h^{(e)}\\right)^{2}}\\right) + k2e1 \\left(\\frac{4 x}{h^{(e)}} - \\frac{4 x^{2}}{\\left(h^{(e)}\\right)^{2}}\\right) + k3e1 \\left(- \\frac{x}{h^{(e)}} + \\frac{2 x^{2}}{\\left(h^{(e)}\\right)^{2}}\\right)\\right)\\\\\\left(- \\frac{3}{h^{(e)}} + \\frac{4 x}{\\left(h^{(e)}\\right)^{2}}\\right) \\left(\\frac{4}{h^{(e)}} - \\frac{8 x}{\\left(h^{(e)}\\right)^{2}}\\right) \\left(k1e1 \\left(1 - \\frac{3 x}{h^{(e)}} + \\frac{2 x^{2}}{\\left(h^{(e)}\\right)^{2}}\\right) + k2e1 \\left(\\frac{4 x}{h^{(e)}} - \\frac{4 x^{2}}{\\left(h^{(e)}\\right)^{2}}\\right) + k3e1 \\left(- \\frac{x}{h^{(e)}} + \\frac{2 x^{2}}{\\left(h^{(e)}\\right)^{2}}\\right)\\right) & \\left(\\frac{4}{h^{(e)}} - \\frac{8 x}{\\left(h^{(e)}\\right)^{2}}\\right)^{2} \\left(k1e1 \\left(1 - \\frac{3 x}{h^{(e)}} + \\frac{2 x^{2}}{\\left(h^{(e)}\\right)^{2}}\\right) + k2e1 \\left(\\frac{4 x}{h^{(e)}} - \\frac{4 x^{2}}{\\left(h^{(e)}\\right)^{2}}\\right) + k3e1 \\left(- \\frac{x}{h^{(e)}} + \\frac{2 x^{2}}{\\left(h^{(e)}\\right)^{2}}\\right)\\right) & \\left(- \\frac{1}{h^{(e)}} + \\frac{4 x}{\\left(h^{(e)}\\right)^{2}}\\right) \\left(\\frac{4}{h^{(e)}} - \\frac{8 x}{\\left(h^{(e)}\\right)^{2}}\\right) \\left(k1e1 \\left(1 - \\frac{3 x}{h^{(e)}} + \\frac{2 x^{2}}{\\left(h^{(e)}\\right)^{2}}\\right) + k2e1 \\left(\\frac{4 x}{h^{(e)}} - \\frac{4 x^{2}}{\\left(h^{(e)}\\right)^{2}}\\right) + k3e1 \\left(- \\frac{x}{h^{(e)}} + \\frac{2 x^{2}}{\\left(h^{(e)}\\right)^{2}}\\right)\\right)\\\\\\left(- \\frac{3}{h^{(e)}} + \\frac{4 x}{\\left(h^{(e)}\\right)^{2}}\\right) \\left(- \\frac{1}{h^{(e)}} + \\frac{4 x}{\\left(h^{(e)}\\right)^{2}}\\right) \\left(k1e1 \\left(1 - \\frac{3 x}{h^{(e)}} + \\frac{2 x^{2}}{\\left(h^{(e)}\\right)^{2}}\\right) + k2e1 \\left(\\frac{4 x}{h^{(e)}} - \\frac{4 x^{2}}{\\left(h^{(e)}\\right)^{2}}\\right) + k3e1 \\left(- \\frac{x}{h^{(e)}} + \\frac{2 x^{2}}{\\left(h^{(e)}\\right)^{2}}\\right)\\right) & \\left(- \\frac{1}{h^{(e)}} + \\frac{4 x}{\\left(h^{(e)}\\right)^{2}}\\right) \\left(\\frac{4}{h^{(e)}} - \\frac{8 x}{\\left(h^{(e)}\\right)^{2}}\\right) \\left(k1e1 \\left(1 - \\frac{3 x}{h^{(e)}} + \\frac{2 x^{2}}{\\left(h^{(e)}\\right)^{2}}\\right) + k2e1 \\left(\\frac{4 x}{h^{(e)}} - \\frac{4 x^{2}}{\\left(h^{(e)}\\right)^{2}}\\right) + k3e1 \\left(- \\frac{x}{h^{(e)}} + \\frac{2 x^{2}}{\\left(h^{(e)}\\right)^{2}}\\right)\\right) & \\left(- \\frac{1}{h^{(e)}} + \\frac{4 x}{\\left(h^{(e)}\\right)^{2}}\\right)^{2} \\left(k1e1 \\left(1 - \\frac{3 x}{h^{(e)}} + \\frac{2 x^{2}}{\\left(h^{(e)}\\right)^{2}}\\right) + k2e1 \\left(\\frac{4 x}{h^{(e)}} - \\frac{4 x^{2}}{\\left(h^{(e)}\\right)^{2}}\\right) + k3e1 \\left(- \\frac{x}{h^{(e)}} + \\frac{2 x^{2}}{\\left(h^{(e)}\\right)^{2}}\\right)\\right)\\end{matrix}\\right]$"
      ],
      "text/plain": [
       "⎡                                    2 ⎛     ⎛                     2  ⎞       \n",
       "⎢            ⎛     3          4⋅x   ⎞  ⎜     ⎜      3⋅x         2⋅x   ⎟       \n",
       "⎢            ⎜- ──────── + ─────────⎟ ⋅⎜k1e1⋅⎜1 - ──────── + ─────────⎟ + k2e1\n",
       "⎢            ⎜  h__{(e)}           2⎟  ⎜     ⎜    h__{(e)}           2⎟       \n",
       "⎢            ⎝             h__{(e)} ⎠  ⎝     ⎝               h__{(e)} ⎠       \n",
       "⎢                                                                             \n",
       "⎢                                                 ⎛     ⎛                     \n",
       "⎢ ⎛     3          4⋅x   ⎞ ⎛   4          8⋅x   ⎞ ⎜     ⎜      3⋅x         2⋅x\n",
       "⎢ ⎜- ──────── + ─────────⎟⋅⎜──────── - ─────────⎟⋅⎜k1e1⋅⎜1 - ──────── + ──────\n",
       "⎢ ⎜  h__{(e)}           2⎟ ⎜h__{(e)}           2⎟ ⎜     ⎜    h__{(e)}         \n",
       "⎢ ⎝             h__{(e)} ⎠ ⎝           h__{(e)} ⎠ ⎝     ⎝               h__{(e\n",
       "⎢                                                                             \n",
       "⎢                                                  ⎛     ⎛                    \n",
       "⎢⎛     3          4⋅x   ⎞ ⎛     1          4⋅x   ⎞ ⎜     ⎜      3⋅x         2⋅\n",
       "⎢⎜- ──────── + ─────────⎟⋅⎜- ──────── + ─────────⎟⋅⎜k1e1⋅⎜1 - ──────── + ─────\n",
       "⎢⎜  h__{(e)}           2⎟ ⎜  h__{(e)}           2⎟ ⎜     ⎜    h__{(e)}        \n",
       "⎣⎝             h__{(e)} ⎠ ⎝             h__{(e)} ⎠ ⎝     ⎝               h__{(\n",
       "\n",
       " ⎛                 2  ⎞        ⎛                   2  ⎞⎞                      \n",
       " ⎜  4⋅x         4⋅x   ⎟        ⎜     x          2⋅x   ⎟⎟              ⎛     3 \n",
       "⋅⎜──────── - ─────────⎟ + k3e1⋅⎜- ──────── + ─────────⎟⎟              ⎜- ─────\n",
       " ⎜h__{(e)}           2⎟        ⎜  h__{(e)}           2⎟⎟              ⎜  h__{(\n",
       " ⎝           h__{(e)} ⎠        ⎝             h__{(e)} ⎠⎠              ⎝       \n",
       "                                                                              \n",
       "2  ⎞        ⎛                 2  ⎞        ⎛                   2  ⎞⎞           \n",
       "   ⎟        ⎜  4⋅x         4⋅x   ⎟        ⎜     x          2⋅x   ⎟⎟           \n",
       "───⎟ + k2e1⋅⎜──────── - ─────────⎟ + k3e1⋅⎜- ──────── + ─────────⎟⎟           \n",
       "  2⎟        ⎜h__{(e)}           2⎟        ⎜  h__{(e)}           2⎟⎟           \n",
       ")} ⎠        ⎝           h__{(e)} ⎠        ⎝             h__{(e)} ⎠⎠           \n",
       "                                                                              \n",
       " 2  ⎞        ⎛                 2  ⎞        ⎛                   2  ⎞⎞          \n",
       "x   ⎟        ⎜  4⋅x         4⋅x   ⎟        ⎜     x          2⋅x   ⎟⎟  ⎛     1 \n",
       "────⎟ + k2e1⋅⎜──────── - ─────────⎟ + k3e1⋅⎜- ──────── + ─────────⎟⎟  ⎜- ─────\n",
       "   2⎟        ⎜h__{(e)}           2⎟        ⎜  h__{(e)}           2⎟⎟  ⎜  h__{(\n",
       "e)} ⎠        ⎝           h__{(e)} ⎠        ⎝             h__{(e)} ⎠⎠  ⎝       \n",
       "\n",
       "                                        ⎛     ⎛                     2  ⎞      \n",
       "         4⋅x   ⎞ ⎛   4          8⋅x   ⎞ ⎜     ⎜      3⋅x         2⋅x   ⎟      \n",
       "─── + ─────────⎟⋅⎜──────── - ─────────⎟⋅⎜k1e1⋅⎜1 - ──────── + ─────────⎟ + k2e\n",
       "e)}           2⎟ ⎜h__{(e)}           2⎟ ⎜     ⎜    h__{(e)}           2⎟      \n",
       "      h__{(e)} ⎠ ⎝           h__{(e)} ⎠ ⎝     ⎝               h__{(e)} ⎠      \n",
       "                                                                              \n",
       "                          2 ⎛     ⎛                     2  ⎞        ⎛         \n",
       "    ⎛   4          8⋅x   ⎞  ⎜     ⎜      3⋅x         2⋅x   ⎟        ⎜  4⋅x    \n",
       "    ⎜──────── - ─────────⎟ ⋅⎜k1e1⋅⎜1 - ──────── + ─────────⎟ + k2e1⋅⎜──────── \n",
       "    ⎜h__{(e)}           2⎟  ⎜     ⎜    h__{(e)}           2⎟        ⎜h__{(e)} \n",
       "    ⎝           h__{(e)} ⎠  ⎝     ⎝               h__{(e)} ⎠        ⎝         \n",
       "                                                                              \n",
       "                                        ⎛     ⎛                     2  ⎞      \n",
       "         4⋅x   ⎞ ⎛   4          8⋅x   ⎞ ⎜     ⎜      3⋅x         2⋅x   ⎟      \n",
       "─── + ─────────⎟⋅⎜──────── - ─────────⎟⋅⎜k1e1⋅⎜1 - ──────── + ─────────⎟ + k2e\n",
       "e)}           2⎟ ⎜h__{(e)}           2⎟ ⎜     ⎜    h__{(e)}           2⎟      \n",
       "      h__{(e)} ⎠ ⎝           h__{(e)} ⎠ ⎝     ⎝               h__{(e)} ⎠      \n",
       "\n",
       "  ⎛                 2  ⎞        ⎛                   2  ⎞⎞                     \n",
       "  ⎜  4⋅x         4⋅x   ⎟        ⎜     x          2⋅x   ⎟⎟  ⎛     3          4⋅\n",
       "1⋅⎜──────── - ─────────⎟ + k3e1⋅⎜- ──────── + ─────────⎟⎟  ⎜- ──────── + ─────\n",
       "  ⎜h__{(e)}           2⎟        ⎜  h__{(e)}           2⎟⎟  ⎜  h__{(e)}        \n",
       "  ⎝           h__{(e)} ⎠        ⎝             h__{(e)} ⎠⎠  ⎝             h__{(\n",
       "                                                                              \n",
       "        2  ⎞        ⎛                   2  ⎞⎞                                 \n",
       "     4⋅x   ⎟        ⎜     x          2⋅x   ⎟⎟               ⎛     1          4\n",
       "- ─────────⎟ + k3e1⋅⎜- ──────── + ─────────⎟⎟               ⎜- ──────── + ────\n",
       "          2⎟        ⎜  h__{(e)}           2⎟⎟               ⎜  h__{(e)}       \n",
       "  h__{(e)} ⎠        ⎝             h__{(e)} ⎠⎠               ⎝             h__{\n",
       "                                                                              \n",
       "  ⎛                 2  ⎞        ⎛                   2  ⎞⎞                     \n",
       "  ⎜  4⋅x         4⋅x   ⎟        ⎜     x          2⋅x   ⎟⎟              ⎛     1\n",
       "1⋅⎜──────── - ─────────⎟ + k3e1⋅⎜- ──────── + ─────────⎟⎟              ⎜- ────\n",
       "  ⎜h__{(e)}           2⎟        ⎜  h__{(e)}           2⎟⎟              ⎜  h__{\n",
       "  ⎝           h__{(e)} ⎠        ⎝             h__{(e)} ⎠⎠              ⎝      \n",
       "\n",
       "                               ⎛     ⎛                     2  ⎞        ⎛      \n",
       "x   ⎞ ⎛     1          4⋅x   ⎞ ⎜     ⎜      3⋅x         2⋅x   ⎟        ⎜  4⋅x \n",
       "────⎟⋅⎜- ──────── + ─────────⎟⋅⎜k1e1⋅⎜1 - ──────── + ─────────⎟ + k2e1⋅⎜──────\n",
       "   2⎟ ⎜  h__{(e)}           2⎟ ⎜     ⎜    h__{(e)}           2⎟        ⎜h__{(e\n",
       "e)} ⎠ ⎝             h__{(e)} ⎠ ⎝     ⎝               h__{(e)} ⎠        ⎝      \n",
       "                                                                              \n",
       "                              ⎛     ⎛                     2  ⎞        ⎛       \n",
       "⋅x   ⎞ ⎛   4          8⋅x   ⎞ ⎜     ⎜      3⋅x         2⋅x   ⎟        ⎜  4⋅x  \n",
       "─────⎟⋅⎜──────── - ─────────⎟⋅⎜k1e1⋅⎜1 - ──────── + ─────────⎟ + k2e1⋅⎜───────\n",
       "    2⎟ ⎜h__{(e)}           2⎟ ⎜     ⎜    h__{(e)}           2⎟        ⎜h__{(e)\n",
       "(e)} ⎠ ⎝           h__{(e)} ⎠ ⎝     ⎝               h__{(e)} ⎠        ⎝       \n",
       "                                                                              \n",
       "                 2 ⎛     ⎛                     2  ⎞        ⎛                 2\n",
       "          4⋅x   ⎞  ⎜     ⎜      3⋅x         2⋅x   ⎟        ⎜  4⋅x         4⋅x \n",
       "──── + ─────────⎟ ⋅⎜k1e1⋅⎜1 - ──────── + ─────────⎟ + k2e1⋅⎜──────── - ───────\n",
       "(e)}           2⎟  ⎜     ⎜    h__{(e)}           2⎟        ⎜h__{(e)}          \n",
       "       h__{(e)} ⎠  ⎝     ⎝               h__{(e)} ⎠        ⎝           h__{(e)\n",
       "\n",
       "           2  ⎞        ⎛                   2  ⎞⎞⎤\n",
       "        4⋅x   ⎟        ⎜     x          2⋅x   ⎟⎟⎥\n",
       "── - ─────────⎟ + k3e1⋅⎜- ──────── + ─────────⎟⎟⎥\n",
       ")}           2⎟        ⎜  h__{(e)}           2⎟⎟⎥\n",
       "     h__{(e)} ⎠        ⎝             h__{(e)} ⎠⎠⎥\n",
       "                                                ⎥\n",
       "          2  ⎞        ⎛                   2  ⎞⎞ ⎥\n",
       "       4⋅x   ⎟        ⎜     x          2⋅x   ⎟⎟ ⎥\n",
       "─ - ─────────⎟ + k3e1⋅⎜- ──────── + ─────────⎟⎟ ⎥\n",
       "}           2⎟        ⎜  h__{(e)}           2⎟⎟ ⎥\n",
       "    h__{(e)} ⎠        ⎝             h__{(e)} ⎠⎠ ⎥\n",
       "                                                ⎥\n",
       "  ⎞        ⎛                   2  ⎞⎞            ⎥\n",
       "  ⎟        ⎜     x          2⋅x   ⎟⎟            ⎥\n",
       "──⎟ + k3e1⋅⎜- ──────── + ─────────⎟⎟            ⎥\n",
       " 2⎟        ⎜  h__{(e)}           2⎟⎟            ⎥\n",
       "} ⎠        ⎝             h__{(e)} ⎠⎠            ⎦"
      ]
     },
     "execution_count": 60,
     "metadata": {},
     "output_type": "execute_result"
    }
   ],
   "source": [
    "((N.T)*sp.Matrix([k1e1, k2e1, k3e1]))[0]*dN*dN.T"
   ]
  },
  {
   "cell_type": "code",
   "execution_count": 61,
   "metadata": {},
   "outputs": [
    {
     "data": {
      "text/latex": [
       "$\\displaystyle \\left[\\begin{matrix}1966.66666666667 & -2266.66666666667 & 300.0\\\\-2266.66666666667 & 4800.0 & -2533.33333333333\\\\300.0 & -2533.33333333333 & 2233.33333333333\\end{matrix}\\right]$"
      ],
      "text/plain": [
       "⎡1966.66666666667   -2266.66666666667        300.0      ⎤\n",
       "⎢                                                       ⎥\n",
       "⎢-2266.66666666667       4800.0        -2533.33333333333⎥\n",
       "⎢                                                       ⎥\n",
       "⎣      300.0        -2533.33333333333  2233.33333333333 ⎦"
      ]
     },
     "execution_count": 61,
     "metadata": {},
     "output_type": "execute_result"
    }
   ],
   "source": [
    "# elemento 1\n",
    "he1 = 0.05 #m\n",
    "# Como k(x) es lineal en los elementos en el nodo x1^e1 tendríamos 40,en el nodo x2^e1 tendríamos 45, x3^e1 tendríamos 50\n",
    "# k1e1 = 40\n",
    "# k2e1 = 45\n",
    "# k3e1 = 50\n",
    "K1 = sp.integrate(((N.T)*sp.Matrix([k1e1, k2e1, k3e1]))[0]*dN*dN.T, (x, 0, he1)).subs({he:he1, k1e1:40, k2e1:45, k3e1:50})\n",
    "K1"
   ]
  },
  {
   "cell_type": "code",
   "execution_count": 62,
   "metadata": {},
   "outputs": [
    {
     "data": {
      "text/latex": [
       "$\\displaystyle \\left[\\begin{matrix}100 & 0 & 0\\\\0 & 0 & 0\\\\0 & 0 & 0\\end{matrix}\\right]$"
      ],
      "text/plain": [
       "⎡100  0  0⎤\n",
       "⎢         ⎥\n",
       "⎢ 0   0  0⎥\n",
       "⎢         ⎥\n",
       "⎣ 0   0  0⎦"
      ]
     },
     "execution_count": 62,
     "metadata": {},
     "output_type": "execute_result"
    }
   ],
   "source": [
    "# Coeficiente de convección h=100W/m^2°C\n",
    "H1 = sp.Matrix([[h,0,0],\n",
    "                [0,0,0],\n",
    "                [0,0,0]]).subs({h:100})\n",
    "H1"
   ]
  },
  {
   "cell_type": "code",
   "execution_count": 63,
   "metadata": {},
   "outputs": [
    {
     "data": {
      "text/latex": [
       "$\\displaystyle \\left[\\begin{matrix}40000\\\\0\\\\0\\end{matrix}\\right]$"
      ],
      "text/plain": [
       "⎡40000⎤\n",
       "⎢     ⎥\n",
       "⎢  0  ⎥\n",
       "⎢     ⎥\n",
       "⎣  0  ⎦"
      ]
     },
     "execution_count": 63,
     "metadata": {},
     "output_type": "execute_result"
    }
   ],
   "source": [
    "F1 = (h*T_inf*sp.Matrix([1,0,0])).subs({T_inf:400, h:100})\n",
    "F1"
   ]
  },
  {
   "cell_type": "code",
   "execution_count": 64,
   "metadata": {},
   "outputs": [
    {
     "data": {
      "text/latex": [
       "$\\displaystyle \\left[\\begin{matrix}2066.66666666667 & -2266.66666666667 & 300.0\\\\-2266.66666666667 & 4800.0 & -2533.33333333333\\\\300.0 & -2533.33333333333 & 2233.33333333333\\end{matrix}\\right]$"
      ],
      "text/plain": [
       "⎡2066.66666666667   -2266.66666666667        300.0      ⎤\n",
       "⎢                                                       ⎥\n",
       "⎢-2266.66666666667       4800.0        -2533.33333333333⎥\n",
       "⎢                                                       ⎥\n",
       "⎣      300.0        -2533.33333333333  2233.33333333333 ⎦"
      ]
     },
     "execution_count": 64,
     "metadata": {},
     "output_type": "execute_result"
    }
   ],
   "source": [
    "MK1 = K1 + H1\n",
    "MK1"
   ]
  },
  {
   "cell_type": "markdown",
   "metadata": {},
   "source": [
    "#### Elemento 2"
   ]
  },
  {
   "cell_type": "code",
   "execution_count": 65,
   "metadata": {},
   "outputs": [],
   "source": [
    "# elemento 2\n",
    "#k1e2 = 50 # W/(m*K)\n",
    "#k2e2 = 55 # W/(m*K)\n",
    "#k3e2 = 60 # W/(m*K)\n",
    "he2 = 0.05#m"
   ]
  },
  {
   "cell_type": "code",
   "execution_count": 66,
   "metadata": {},
   "outputs": [
    {
     "data": {
      "text/latex": [
       "$\\displaystyle \\left[\\begin{matrix}2433.33333333334 & -2800.0 & 366.666666666666\\\\-2800.0 & 5866.66666666667 & -3066.66666666666\\\\366.666666666666 & -3066.66666666666 & 2700.0\\end{matrix}\\right]$"
      ],
      "text/plain": [
       "⎡2433.33333333334       -2800.0       366.666666666666 ⎤\n",
       "⎢                                                      ⎥\n",
       "⎢    -2800.0       5866.66666666667   -3066.66666666666⎥\n",
       "⎢                                                      ⎥\n",
       "⎣366.666666666666  -3066.66666666666       2700.0      ⎦"
      ]
     },
     "execution_count": 66,
     "metadata": {},
     "output_type": "execute_result"
    }
   ],
   "source": [
    "K2 = sp.integrate(((N.T)*sp.Matrix([k1e2, k2e2, k3e2]))[0]*dN*dN.T, (x, 0, he2)).subs({he:he2, k1e2:50, k2e2:55,k3e2:60})\n",
    "K2"
   ]
  },
  {
   "cell_type": "code",
   "execution_count": 67,
   "metadata": {},
   "outputs": [
    {
     "data": {
      "text/latex": [
       "$\\displaystyle \\left[\\begin{matrix}0 & 0 & 0\\\\0 & 0 & 0\\\\0 & 0 & 0\\end{matrix}\\right]$"
      ],
      "text/plain": [
       "⎡0  0  0⎤\n",
       "⎢       ⎥\n",
       "⎢0  0  0⎥\n",
       "⎢       ⎥\n",
       "⎣0  0  0⎦"
      ]
     },
     "execution_count": 67,
     "metadata": {},
     "output_type": "execute_result"
    }
   ],
   "source": [
    "H2 = sp.Matrix([[0,0,0],[0,0,0],[0,0,0]])\n",
    "H2"
   ]
  },
  {
   "cell_type": "code",
   "execution_count": 68,
   "metadata": {},
   "outputs": [
    {
     "data": {
      "text/latex": [
       "$\\displaystyle \\left[\\begin{matrix}0\\\\0\\\\0\\end{matrix}\\right]$"
      ],
      "text/plain": [
       "⎡0⎤\n",
       "⎢ ⎥\n",
       "⎢0⎥\n",
       "⎢ ⎥\n",
       "⎣0⎦"
      ]
     },
     "execution_count": 68,
     "metadata": {},
     "output_type": "execute_result"
    }
   ],
   "source": [
    "F2 = sp.Matrix([0,0,0])\n",
    "F2"
   ]
  },
  {
   "cell_type": "code",
   "execution_count": 69,
   "metadata": {},
   "outputs": [
    {
     "data": {
      "text/latex": [
       "$\\displaystyle \\left[\\begin{matrix}2433.33333333334 & -2800.0 & 366.666666666666\\\\-2800.0 & 5866.66666666667 & -3066.66666666666\\\\366.666666666666 & -3066.66666666666 & 2700.0\\end{matrix}\\right]$"
      ],
      "text/plain": [
       "⎡2433.33333333334       -2800.0       366.666666666666 ⎤\n",
       "⎢                                                      ⎥\n",
       "⎢    -2800.0       5866.66666666667   -3066.66666666666⎥\n",
       "⎢                                                      ⎥\n",
       "⎣366.666666666666  -3066.66666666666       2700.0      ⎦"
      ]
     },
     "execution_count": 69,
     "metadata": {},
     "output_type": "execute_result"
    }
   ],
   "source": [
    "MK2 = K2 + H2\n",
    "MK2"
   ]
  },
  {
   "cell_type": "markdown",
   "metadata": {},
   "source": [
    "## Ensamble de la matriz"
   ]
  },
  {
   "cell_type": "code",
   "execution_count": 97,
   "metadata": {},
   "outputs": [
    {
     "data": {
      "text/latex": [
       "$\\displaystyle \\left[\\begin{matrix}2066.66666666667 & -2266.66666666667 & 300.0 & 0.0 & 0.0\\\\-2266.66666666667 & 4800.0 & -2533.33333333333 & 0.0 & 0.0\\\\300.0 & -2533.33333333333 & 4666.66666666667 & -2800.0 & 366.666666666666\\\\0.0 & 0.0 & -2800.0 & 5866.66666666667 & -3066.66666666666\\\\0.0 & 0.0 & 366.666666666666 & -3066.66666666666 & 2700.0\\end{matrix}\\right]$"
      ],
      "text/plain": [
       "⎡2066.66666666667   -2266.66666666667        300.0               0.0          \n",
       "⎢                                                                             \n",
       "⎢-2266.66666666667       4800.0        -2533.33333333333         0.0          \n",
       "⎢                                                                             \n",
       "⎢      300.0        -2533.33333333333  4666.66666666667        -2800.0       3\n",
       "⎢                                                                             \n",
       "⎢       0.0                0.0              -2800.0       5866.66666666667   -\n",
       "⎢                                                                             \n",
       "⎣       0.0                0.0         366.666666666666   -3066.66666666666   \n",
       "\n",
       "      0.0       ⎤\n",
       "                ⎥\n",
       "      0.0       ⎥\n",
       "                ⎥\n",
       "66.666666666666 ⎥\n",
       "                ⎥\n",
       "3066.66666666666⎥\n",
       "                ⎥\n",
       "    2700.0      ⎦"
      ]
     },
     "execution_count": 97,
     "metadata": {},
     "output_type": "execute_result"
    }
   ],
   "source": [
    "#Ensamble de la matriz\n",
    "MK = np.zeros((5,5)) #Matriz de 5x5 por que se consideran 5 nodos en total (3 por cada elemento pero se comparte el nodo inicial del elemento 1 con el nodo final del elemento 2)\n",
    "\n",
    "i = 0\n",
    "for j, MKK in enumerate([MK1, MK2]):\n",
    "    \n",
    "    MK[i,i] = MK[i,i] + np.array(MKK[0,0])\n",
    "    MK[i+1,i] = MK[i+1,i] + np.array(MKK[1,0])\n",
    "    MK[i+2,i] = MK[i+2,i] + np.array(MKK[2,0])\n",
    "    \n",
    "    MK[i,i+1] = MK[i,i+1] + np.array(MKK[0,1])\n",
    "    MK[i,i+2] = MK[i,i+2] + np.array(MKK[0,2])\n",
    "    \n",
    "    MK[i+1,i+1] = MK[i+1,i+1] + np.array(MKK[1,1])\n",
    "    MK[i+1,i+2] = MK[i+2,i+2] + np.array(MKK[1,2])\n",
    "    MK[i+2,i+1] = MK[i+2,i+2] + np.array(MKK[1,2])\n",
    "    \n",
    "    MK[i+2,i+2] = MK[i+2,i+2] + np.array(MKK[2,2])\n",
    "    \n",
    "    i = j + 2\n",
    "\n",
    "sp.Matrix(MK)"
   ]
  },
  {
   "cell_type": "code",
   "execution_count": 103,
   "metadata": {},
   "outputs": [
    {
     "data": {
      "text/plain": [
       "array([40000.,     0.,     0.,     0.,     0.])"
      ]
     },
     "execution_count": 103,
     "metadata": {},
     "output_type": "execute_result"
    }
   ],
   "source": [
    "F = np.zeros((5))\n",
    "\n",
    "for j, FF in enumerate([F1, F2]):\n",
    "    i = j\n",
    "    F[i] = F[i] + np.array(FF[0])\n",
    "    F[i+1] = F[i+1] + np.array(FF[1])\n",
    "F"
   ]
  },
  {
   "cell_type": "markdown",
   "metadata": {},
   "source": [
    "Imponemos la condición de Dirichlet en el extremo derecho $T3=39.18^oC$"
   ]
  },
  {
   "cell_type": "code",
   "execution_count": 104,
   "metadata": {},
   "outputs": [],
   "source": [
    "MK[-1,:] = sp.Matrix([[0,0,0,0,1]])\n",
    "F[-1] = 39.18"
   ]
  },
  {
   "cell_type": "code",
   "execution_count": 105,
   "metadata": {},
   "outputs": [
    {
     "data": {
      "text/plain": [
       "array([[ 2.06665190e+05, -1.86623630e+05,  1.99584394e+04,\n",
       "         0.00000000e+00,  0.00000000e+00],\n",
       "       [-2.26665047e+05,  3.95202980e+05, -1.68537933e+05,\n",
       "         0.00000000e+00,  0.00000000e+00],\n",
       "       [ 2.99997857e+04, -2.08579351e+05,  3.10464613e+05,\n",
       "        -1.46251048e+05,  1.43660000e+04],\n",
       "       [ 0.00000000e+00,  0.00000000e+00, -1.86278768e+05,\n",
       "         3.06430768e+05, -1.20152000e+05],\n",
       "       [ 0.00000000e+00,  0.00000000e+00,  0.00000000e+00,\n",
       "         0.00000000e+00,  3.91800000e+01]])"
      ]
     },
     "execution_count": 105,
     "metadata": {},
     "output_type": "execute_result"
    }
   ],
   "source": [
    "MK*T"
   ]
  },
  {
   "cell_type": "code",
   "execution_count": 106,
   "metadata": {},
   "outputs": [
    {
     "data": {
      "text/plain": [
       "array([4.000e+04, 0.000e+00, 0.000e+00, 0.000e+00, 3.918e+01])"
      ]
     },
     "execution_count": 106,
     "metadata": {},
     "output_type": "execute_result"
    }
   ],
   "source": [
    "F"
   ]
  },
  {
   "cell_type": "code",
   "execution_count": 107,
   "metadata": {},
   "outputs": [
    {
     "data": {
      "text/plain": [
       "array([99.99928552, 82.3339542 , 66.52813143, 52.23251727, 39.18      ])"
      ]
     },
     "execution_count": 107,
     "metadata": {},
     "output_type": "execute_result"
    }
   ],
   "source": [
    "T = np.linalg.solve(MK,F)\n",
    "T"
   ]
  },
  {
   "cell_type": "code",
   "execution_count": 108,
   "metadata": {},
   "outputs": [
    {
     "data": {
      "text/plain": [
       "array([0.   , 0.025, 0.025, 0.025, 0.025])"
      ]
     },
     "execution_count": 108,
     "metadata": {},
     "output_type": "execute_result"
    }
   ],
   "source": [
    "x_val = np.array([0,he1/2,he1/2,he2/2,he2/2])\n",
    "x_val"
   ]
  },
  {
   "cell_type": "code",
   "execution_count": 109,
   "metadata": {},
   "outputs": [
    {
     "data": {
      "text/plain": [
       "array([0.   , 0.025, 0.05 , 0.075, 0.1  ])"
      ]
     },
     "execution_count": 109,
     "metadata": {},
     "output_type": "execute_result"
    }
   ],
   "source": [
    "x_dominio = np.cumsum(x_val)\n",
    "x_dominio"
   ]
  },
  {
   "cell_type": "code",
   "execution_count": 110,
   "metadata": {},
   "outputs": [
    {
     "data": {
      "text/plain": [
       "[<matplotlib.lines.Line2D at 0x24ddf50d490>]"
      ]
     },
     "execution_count": 110,
     "metadata": {},
     "output_type": "execute_result"
    },
    {
     "data": {
      "image/png": "[encoded data removed]",
      "text/plain": [
       "<Figure size 720x720 with 1 Axes>"
      ]
     },
     "metadata": {
      "needs_background": "light"
     },
     "output_type": "display_data"
    }
   ],
   "source": [
    "# Gráfica de la aproximación\n",
    "plt.figure(figsize=(10,10))\n",
    "plt.grid()\n",
    "plt.plot(x_dominio,T, 'bo-')"
   ]
  },
  {
   "cell_type": "code",
   "execution_count": null,
   "metadata": {},
   "outputs": [],
   "source": []
  }
 ],
 "metadata": {
  "julynter-results": {
   "filteredId": [],
   "filteredIndividual": [],
   "filteredRestart": [],
   "filteredType": [],
   "hash": "8873bfd3c432573cc30520149818087f701c86ed",
   "visible": [
    {
     "cellId": "group",
     "hash": "c0de46ba034d710c2b2406a37ee6816be9634aa0",
     "reason": "This groups other lint messages",
     "reportId": "group",
     "reportType": "hiddenstate",
     "suggestion": null,
     "text": "Hidden State"
    },
    {
     "cellId": 0,
     "hash": "57d35473f3d6091d65f3a423fac5b6ddc720e9c8",
     "reason": "A cell with results of a previous session may fail to execute or produce different results in this one, hampering the reproducibility.",
     "reportId": "h1",
     "reportType": "hiddenstate",
     "suggestion": "Please consider executing it to guarantee the reproducibility.",
     "text": "Cell 0 has execution results, but it wasn't executed on this session"
    },
    {
     "cellId": 1,
     "hash": "cc5012a14f61c877319ac6392d61f6775f8ce952",
     "reason": "A cell with results of a previous session may fail to execute or produce different results in this one, hampering the reproducibility.",
     "reportId": "h1",
     "reportType": "hiddenstate",
     "suggestion": "Please consider executing it to guarantee the reproducibility.",
     "text": "Cell 1 has execution results, but it wasn't executed on this session"
    },
    {
     "cellId": 2,
     "hash": "d8bb04dc99a796d51ec3759486c2db6fe0efb3d1",
     "reason": "A cell with results of a previous session may fail to execute or produce different results in this one, hampering the reproducibility.",
     "reportId": "h1",
     "reportType": "hiddenstate",
     "suggestion": "Please consider executing it to guarantee the reproducibility.",
     "text": "Cell 2 has execution results, but it wasn't executed on this session"
    },
    {
     "cellId": 3,
     "hash": "19162709e7ce66e2710f6e47524facb79c17a154",
     "reason": "A cell with results of a previous session may fail to execute or produce different results in this one, hampering the reproducibility.",
     "reportId": "h1",
     "reportType": "hiddenstate",
     "suggestion": "Please consider executing it to guarantee the reproducibility.",
     "text": "Cell 3 has execution results, but it wasn't executed on this session"
    },
    {
     "cellId": 4,
     "hash": "1008d4acec7a5e2fab77893ae66bf7c072a367e9",
     "reason": "A cell with results of a previous session may fail to execute or produce different results in this one, hampering the reproducibility.",
     "reportId": "h1",
     "reportType": "hiddenstate",
     "suggestion": "Please consider executing it to guarantee the reproducibility.",
     "text": "Cell 4 has execution results, but it wasn't executed on this session"
    },
    {
     "cellId": 5,
     "hash": "68bae5b4551a6647f1388a5ebdc15380a48a14bb",
     "reason": "A cell with results of a previous session may fail to execute or produce different results in this one, hampering the reproducibility.",
     "reportId": "h1",
     "reportType": "hiddenstate",
     "suggestion": "Please consider executing it to guarantee the reproducibility.",
     "text": "Cell 5 has execution results, but it wasn't executed on this session"
    },
    {
     "cellId": 6,
     "hash": "48c4392333f3375f618603f144f5eb0374a62f89",
     "reason": "A cell with results of a previous session may fail to execute or produce different results in this one, hampering the reproducibility.",
     "reportId": "h1",
     "reportType": "hiddenstate",
     "suggestion": "Please consider executing it to guarantee the reproducibility.",
     "text": "Cell 6 has execution results, but it wasn't executed on this session"
    },
    {
     "cellId": 7,
     "hash": "9e0878327c43d7f63354a10297f20192bd3b4a1d",
     "reason": "A cell with results of a previous session may fail to execute or produce different results in this one, hampering the reproducibility.",
     "reportId": "h1",
     "reportType": "hiddenstate",
     "suggestion": "Please consider executing it to guarantee the reproducibility.",
     "text": "Cell 7 has execution results, but it wasn't executed on this session"
    },
    {
     "cellId": 8,
     "hash": "400f6c3f93ae0a83824a9d49cea37fd4ea4a2bc5",
     "reason": "A cell with results of a previous session may fail to execute or produce different results in this one, hampering the reproducibility.",
     "reportId": "h1",
     "reportType": "hiddenstate",
     "suggestion": "Please consider executing it to guarantee the reproducibility.",
     "text": "Cell 8 has execution results, but it wasn't executed on this session"
    },
    {
     "cellId": 9,
     "hash": "d561818b83d414d2a897a6f8d665b57a93db2379",
     "reason": "A cell with results of a previous session may fail to execute or produce different results in this one, hampering the reproducibility.",
     "reportId": "h1",
     "reportType": "hiddenstate",
     "suggestion": "Please consider executing it to guarantee the reproducibility.",
     "text": "Cell 9 has execution results, but it wasn't executed on this session"
    },
    {
     "cellId": 10,
     "hash": "ea67a4815e672474a244791d8e43f7f6f0f9b059",
     "reason": "A cell with results of a previous session may fail to execute or produce different results in this one, hampering the reproducibility.",
     "reportId": "h1",
     "reportType": "hiddenstate",
     "suggestion": "Please consider executing it to guarantee the reproducibility.",
     "text": "Cell 10 has execution results, but it wasn't executed on this session"
    },
    {
     "cellId": 11,
     "hash": "82609ebc801cc24f4c4507a3632cf06899831e96",
     "reason": "A cell with results of a previous session may fail to execute or produce different results in this one, hampering the reproducibility.",
     "reportId": "h1",
     "reportType": "hiddenstate",
     "suggestion": "Please consider executing it to guarantee the reproducibility.",
     "text": "Cell 11 has execution results, but it wasn't executed on this session"
    },
    {
     "cellId": 12,
     "hash": "2a8962559148310433ca4bf27dec74724e514b7e",
     "reason": "A cell with results of a previous session may fail to execute or produce different results in this one, hampering the reproducibility.",
     "reportId": "h1",
     "reportType": "hiddenstate",
     "suggestion": "Please consider executing it to guarantee the reproducibility.",
     "text": "Cell 12 has execution results, but it wasn't executed on this session"
    },
    {
     "cellId": 13,
     "hash": "11ed248f8ca28492ba581bb8e9f6e240c912cb37",
     "reason": "A cell with results of a previous session may fail to execute or produce different results in this one, hampering the reproducibility.",
     "reportId": "h1",
     "reportType": "hiddenstate",
     "suggestion": "Please consider executing it to guarantee the reproducibility.",
     "text": "Cell 13 has execution results, but it wasn't executed on this session"
    },
    {
     "cellId": 14,
     "hash": "05392cd14118fd49d4aa67956beb66d4f9dfb16c",
     "reason": "A cell with results of a previous session may fail to execute or produce different results in this one, hampering the reproducibility.",
     "reportId": "h1",
     "reportType": "hiddenstate",
     "suggestion": "Please consider executing it to guarantee the reproducibility.",
     "text": "Cell 14 has execution results, but it wasn't executed on this session"
    },
    {
     "cellId": 15,
     "hash": "088b710a436c9ba57fa105b32e09b1d95cb8fbdd",
     "reason": "A cell with results of a previous session may fail to execute or produce different results in this one, hampering the reproducibility.",
     "reportId": "h1",
     "reportType": "hiddenstate",
     "suggestion": "Please consider executing it to guarantee the reproducibility.",
     "text": "Cell 15 has execution results, but it wasn't executed on this session"
    },
    {
     "cellId": 16,
     "hash": "483fe25fb7931f91e6ef86f21dd17f6f9b3753e0",
     "reason": "A cell with results of a previous session may fail to execute or produce different results in this one, hampering the reproducibility.",
     "reportId": "h1",
     "reportType": "hiddenstate",
     "suggestion": "Please consider executing it to guarantee the reproducibility.",
     "text": "Cell 16 has execution results, but it wasn't executed on this session"
    },
    {
     "cellId": "group",
     "hash": "19d3d3d153f22e318cbe061df9e685ba5165b0aa",
     "reason": "This groups other lint messages",
     "reportId": "group",
     "reportType": "confusenotebook",
     "suggestion": null,
     "text": "Confuse Notebook"
    },
    {
     "cellId": 0,
     "hash": "a97518824f6d9451c87377e19cc93007af50b78f",
     "reason": "A markdown cell at the beginning of the notebook can provide a human-friendly title with no constraints and introduce the notebook, indicating its purpose and external requirements.",
     "reportId": "c4",
     "reportType": "confusenotebook",
     "suggestion": "Please consider adding a markdown cell to describe the notebook.",
     "text": "The first cell of the notebook is not a markdown cell"
    },
    {
     "cellId": 16,
     "hash": "4b954007c84fdc6905c862129cc4b74de4049233",
     "reason": "A markdown cell at the end of the notebook can conclude it, presenting a summary of the obtained results.",
     "reportId": "c5",
     "reportType": "confusenotebook",
     "suggestion": "Please consider adding a markdown cell to conclude the notebook.",
     "text": "The last cell of the notebook is not a markdown cell"
    }
   ]
  },
  "kernelspec": {
   "display_name": "Python 3 (ipykernel)",
   "language": "python",
   "name": "python3"
  },
  "language_info": {
   "codemirror_mode": {
    "name": "ipython",
    "version": 3
   },
   "file_extension": ".py",
   "mimetype": "text/x-python",
   "name": "python",
   "nbconvert_exporter": "python",
   "pygments_lexer": "ipython3",
   "version": "3.8.8"
  }
 },
 "nbformat": 4,
 "nbformat_minor": 4
}
