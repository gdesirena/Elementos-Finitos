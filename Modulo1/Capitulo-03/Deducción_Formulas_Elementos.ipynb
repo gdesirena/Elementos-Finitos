{
 "cells": [
  {
   "cell_type": "markdown",
   "metadata": {},
   "source": [
    "## Deducción de fórmulas para elementos Lineales, cuadráticos y cúbicos"
   ]
  },
  {
   "cell_type": "code",
   "execution_count": 3,
   "metadata": {},
   "outputs": [],
   "source": [
    "#importar librerias necesarias\n",
    "import sympy as sp\n",
    "sp.init_printing(use_unicode=True)"
   ]
  },
  {
   "cell_type": "code",
   "execution_count": 4,
   "metadata": {},
   "outputs": [],
   "source": [
    "#crear variables simbólicas\n",
    "L, x, x_1, x_2, x_3, x_4 = sp.symbols('L, x, x_1, x_2, x_3, x_4')\n",
    "T_1, T_2, T_3, T_4 = sp.symbols('T_1, T_2, T_3, T_4')\n",
    "alpha_1, alpha_2, alpha_3 = sp.symbols('alpha_1, alpha_2, alpha_3')"
   ]
  },
  {
   "cell_type": "code",
   "execution_count": 5,
   "metadata": {},
   "outputs": [],
   "source": [
    "h = sp.symbols('h^{(e)}')"
   ]
  },
  {
   "cell_type": "markdown",
   "metadata": {},
   "source": [
    "### Elementos Lineales"
   ]
  },
  {
   "cell_type": "code",
   "execution_count": 7,
   "metadata": {},
   "outputs": [
    {
     "data": {
      "text/latex": [
       "$\\displaystyle \\left[\\begin{matrix}- T_{1} + \\alpha_{1} + \\alpha_{2} x_{1}\\\\- T_{2} + \\alpha_{1} + \\alpha_{2} x_{2}\\end{matrix}\\right]$"
      ],
      "text/plain": [
       "⎡-T₁ + α₁ + α₂⋅x₁⎤\n",
       "⎢                ⎥\n",
       "⎣-T₂ + α₁ + α₂⋅x₂⎦"
      ]
     },
     "execution_count": 7,
     "metadata": {},
     "output_type": "execute_result"
    }
   ],
   "source": [
    "eq1 = sp.Matrix([alpha_2*x_1 + alpha_1 - T_1, alpha_2*x_2 + alpha_1 - T_2])\n",
    "eq1"
   ]
  },
  {
   "cell_type": "code",
   "execution_count": 8,
   "metadata": {},
   "outputs": [
    {
     "data": {
      "image/png": "[encoded data removed]",
      "text/latex": [
       "$\\displaystyle \\left\\{ \\alpha_{1} : \\frac{- T_{1} x_{2} + T_{2} x_{1}}{x_{1} - x_{2}}, \\  \\alpha_{2} : \\frac{T_{1} - T_{2}}{x_{1} - x_{2}}\\right\\}$"
      ],
      "text/plain": [
       "⎧    -T₁⋅x₂ + T₂⋅x₁      T₁ - T₂⎫\n",
       "⎨α₁: ──────────────, α₂: ───────⎬\n",
       "⎩       x₁ - x₂          x₁ - x₂⎭"
      ]
     },
     "execution_count": 8,
     "metadata": {},
     "output_type": "execute_result"
    }
   ],
   "source": [
    "sol1 = sp.solve(eq1, [alpha_1, alpha_2])\n",
    "sol1"
   ]
  },
  {
   "cell_type": "code",
   "execution_count": 9,
   "metadata": {},
   "outputs": [],
   "source": [
    "Tx = alpha_1 + alpha_2*x"
   ]
  },
  {
   "cell_type": "code",
   "execution_count": 10,
   "metadata": {},
   "outputs": [
    {
     "data": {
      "image/png": "[encoded data removed]",
      "text/latex": [
       "$\\displaystyle \\alpha_{1} + \\alpha_{2} x$"
      ],
      "text/plain": [
       "α₁ + α₂⋅x"
      ]
     },
     "execution_count": 10,
     "metadata": {},
     "output_type": "execute_result"
    }
   ],
   "source": [
    "Tx"
   ]
  },
  {
   "cell_type": "code",
   "execution_count": 16,
   "metadata": {},
   "outputs": [
    {
     "data": {
      "image/png": "[encoded data removed]",
      "text/latex": [
       "$\\displaystyle \\frac{T_{1} \\left(x - x_{2}\\right) - T_{2} \\left(x - x_{1}\\right)}{x_{1} - x_{2}}$"
      ],
      "text/plain": [
       "T₁⋅(x - x₂) - T₂⋅(x - x₁)\n",
       "─────────────────────────\n",
       "         x₁ - x₂         "
      ]
     },
     "execution_count": 16,
     "metadata": {},
     "output_type": "execute_result"
    }
   ],
   "source": [
    "Tx.subs(sol1).expand().collect(T_1).collect(T_2).simplify()"
   ]
  },
  {
   "cell_type": "markdown",
   "metadata": {},
   "source": [
    "### Elementos Cuadráticos"
   ]
  },
  {
   "cell_type": "code",
   "execution_count": 17,
   "metadata": {},
   "outputs": [
    {
     "data": {
      "text/latex": [
       "$\\displaystyle \\left[\\begin{matrix}- T_{1} + \\alpha_{1} + \\alpha_{2} x_{1} + \\alpha_{3} x_{1}^{2}\\\\- T_{2} + \\alpha_{1} + \\alpha_{2} x_{2} + \\alpha_{3} x_{2}^{2}\\\\- T_{3} + \\alpha_{1} + \\alpha_{2} x_{3} + \\alpha_{3} x_{3}^{2}\\end{matrix}\\right]$"
      ],
      "text/plain": [
       "⎡                        2⎤\n",
       "⎢-T₁ + α₁ + α₂⋅x₁ + α₃⋅x₁ ⎥\n",
       "⎢                         ⎥\n",
       "⎢                        2⎥\n",
       "⎢-T₂ + α₁ + α₂⋅x₂ + α₃⋅x₂ ⎥\n",
       "⎢                         ⎥\n",
       "⎢                        2⎥\n",
       "⎣-T₃ + α₁ + α₂⋅x₃ + α₃⋅x₃ ⎦"
      ]
     },
     "execution_count": 17,
     "metadata": {},
     "output_type": "execute_result"
    }
   ],
   "source": [
    "eq2 = sp.Matrix([alpha_3*x_1**2 + alpha_2*x_1 + alpha_1 - T_1,\n",
    "                 alpha_3*x_2**2 + alpha_2*x_2 + alpha_1 - T_2,\n",
    "                 alpha_3*x_3**2 + alpha_2*x_3 + alpha_1 - T_3])\n",
    "eq2"
   ]
  },
  {
   "cell_type": "code",
   "execution_count": 19,
   "metadata": {},
   "outputs": [
    {
     "data": {
      "image/png": "[encoded data removed]",
      "text/latex": [
       "$\\displaystyle \\left\\{ \\alpha_{1} : T_{1}, \\  \\alpha_{2} : \\frac{- 3 T_{1} + 4 T_{2} - T_{3}}{h^{(e)}}, \\  \\alpha_{3} : \\frac{2 T_{1} - 4 T_{2} + 2 T_{3}}{\\left(h^{(e)}\\right)^{2}}\\right\\}$"
      ],
      "text/plain": [
       "⎧            -3⋅T₁ + 4⋅T₂ - T₃      2⋅T₁ - 4⋅T₂ + 2⋅T₃⎫\n",
       "⎪α₁: T₁, α₂: ─────────────────, α₃: ──────────────────⎪\n",
       "⎨                 h__{(e)}                      2     ⎬\n",
       "⎪                                       h__{(e)}      ⎪\n",
       "⎩                                                     ⎭"
      ]
     },
     "execution_count": 19,
     "metadata": {},
     "output_type": "execute_result"
    }
   ],
   "source": [
    "sol2 = sp.solve(eq2.subs({x_1:0, x_2:h/2, x_3:h}), [alpha_1, alpha_2, alpha_3])\n",
    "sol2"
   ]
  },
  {
   "cell_type": "code",
   "execution_count": 20,
   "metadata": {},
   "outputs": [
    {
     "data": {
      "image/png": "[encoded data removed]",
      "text/latex": [
       "$\\displaystyle \\alpha_{1} + \\alpha_{2} x + \\alpha_{3} x^{2}$"
      ],
      "text/plain": [
       "                2\n",
       "α₁ + α₂⋅x + α₃⋅x "
      ]
     },
     "execution_count": 20,
     "metadata": {},
     "output_type": "execute_result"
    }
   ],
   "source": [
    "Tx_cuad = alpha_1 + alpha_2*x +alpha_3*x**2\n",
    "Tx_cuad"
   ]
  },
  {
   "cell_type": "code",
   "execution_count": 23,
   "metadata": {},
   "outputs": [
    {
     "data": {
      "image/png": "[encoded data removed]",
      "text/latex": [
       "$\\displaystyle T_{1} \\left(1 - \\frac{3 x}{h^{(e)}} + \\frac{2 x^{2}}{\\left(h^{(e)}\\right)^{2}}\\right) + T_{2} \\left(\\frac{4 x}{h^{(e)}} - \\frac{4 x^{2}}{\\left(h^{(e)}\\right)^{2}}\\right) + T_{3} \\left(- \\frac{x}{h^{(e)}} + \\frac{2 x^{2}}{\\left(h^{(e)}\\right)^{2}}\\right)$"
      ],
      "text/plain": [
       "   ⎛                     2  ⎞      ⎛                 2  ⎞      ⎛              \n",
       "   ⎜      3⋅x         2⋅x   ⎟      ⎜  4⋅x         4⋅x   ⎟      ⎜     x        \n",
       "T₁⋅⎜1 - ──────── + ─────────⎟ + T₂⋅⎜──────── - ─────────⎟ + T₃⋅⎜- ──────── + ─\n",
       "   ⎜    h__{(e)}           2⎟      ⎜h__{(e)}           2⎟      ⎜  h__{(e)}    \n",
       "   ⎝               h__{(e)} ⎠      ⎝           h__{(e)} ⎠      ⎝             h\n",
       "\n",
       "     2  ⎞\n",
       "  2⋅x   ⎟\n",
       "────────⎟\n",
       "       2⎟\n",
       "__{(e)} ⎠"
      ]
     },
     "execution_count": 23,
     "metadata": {},
     "output_type": "execute_result"
    }
   ],
   "source": [
    "Tx_cuad.subs(sol2).expand().collect(T_1).collect(T_2).collect(T_3)"
   ]
  },
  {
   "cell_type": "markdown",
   "metadata": {},
   "source": [
    "### Elementos Cúbicos"
   ]
  },
  {
   "cell_type": "code",
   "execution_count": null,
   "metadata": {},
   "outputs": [],
   "source": []
  }
 ],
 "metadata": {
  "kernelspec": {
   "display_name": "Python 3 (ipykernel)",
   "language": "python",
   "name": "python3"
  },
  "language_info": {
   "codemirror_mode": {
    "name": "ipython",
    "version": 3
   },
   "file_extension": ".py",
   "mimetype": "text/x-python",
   "name": "python",
   "nbconvert_exporter": "python",
   "pygments_lexer": "ipython3",
   "version": "3.8.8"
  }
 },
 "nbformat": 4,
 "nbformat_minor": 4
}
