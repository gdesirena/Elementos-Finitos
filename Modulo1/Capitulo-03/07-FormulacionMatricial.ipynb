{
 "cells": [
  {
   "cell_type": "markdown",
   "metadata": {
    "slideshow": {
     "slide_type": "slide"
    }
   },
   "source": [
    "![Titulo](Imagenes/Titulos/Head3-3.png)"
   ]
  },
  {
   "cell_type": "markdown",
   "metadata": {
    "slideshow": {
     "slide_type": "slide"
    }
   },
   "source": [
    "## Formulación matricial"
   ]
  },
  {
   "cell_type": "markdown",
   "metadata": {
    "slideshow": {
     "slide_type": "slide"
    }
   },
   "source": [
    "En el MEF, buscando aproximar una solución de la variable dependiente en nodos específicos, se producen un conjunto de ecuaciones simultaneas que deben de ser resueltas de forma directa o iterativa. Los ejemplos presentados hasta aquí han tenido un número relativamente pequeño de ecuaciones e incógnitas, por lo que ha sido relativamente fácil resolverlos a mano. Sin embargo, para la mayoría de los problemas, el número de nodos, y por lo tanto incógnitas, será mucho mayor por lo que será indispensable el uso de una computadora para encontrar la solución."
   ]
  },
  {
   "cell_type": "markdown",
   "metadata": {
    "slideshow": {
     "slide_type": "slide"
    }
   },
   "source": [
    "Los coeficientes de las matrices que hemos utilizado se obtienen de las evaluaciones locales (por elemento) y se ensamblan en arreglos globales (del dominio). En otras palabras, los coeficientes _\"rellenan\"_ una matriz grande que contiene las contribuciones de todos los elementos. Usando una computadora esto se puede hacer fácilmente usando _loops_ en el programa. Una vez que formulamos el algoritmo de elemento finito para un elemento la naturaleza del MEF nos permite usar el mismo procedimiento para todos los elementos. De esta manera podemos construir el conjunto de matrices globales a partir en la evaluación local (en cada uno de los elementos) y después resolver la ecuación matricial resultante usando el método que prefiramos."
   ]
  },
  {
   "cell_type": "markdown",
   "metadata": {
    "slideshow": {
     "slide_type": "slide"
    }
   },
   "source": [
    "Será conveniente definir las operaciones usando una notación matricial, que nos servirá en general para trabajar con las ecuaciones con un grado de abstracción mayor."
   ]
  },
  {
   "cell_type": "markdown",
   "metadata": {
    "slideshow": {
     "slide_type": "slide"
    }
   },
   "source": [
    "### Matriz de _masa_:\n",
    "\n",
    "La matriz de _masa_ se obtiene integrando el producto cruz de las funciones de forma con sigo mismas y esta relacionada con la parte temporal de nuestra ecuación diferencial. Para un elemento $e_k$ la matriz $\\mathbf{M}$ (de masa) queda:\n",
    "\n",
    "\n",
    "$$\\mathbf{M}^{(e_k)} = \\begin{bmatrix} m_{ij}^{(e_k)} \\end{bmatrix} = \\int_0^{h^{(e_k)}} \\begin{bmatrix} N_i^{(e_k)} & N_j^{(e_k)} \\end{bmatrix} dx$$"
   ]
  },
  {
   "cell_type": "markdown",
   "metadata": {
    "slideshow": {
     "slide_type": "slide"
    }
   },
   "source": [
    "Para todo el dominio quedaría:\n",
    "\n",
    "$$\\mathbf{M} = \\begin{bmatrix} m_{ij} \\end{bmatrix} = \\sum_{k=1}^n \\mathbf{M}^{(e_k)} = \\sum_{k=1}^n \\int_0^{h^{(e_k)}} \\begin{bmatrix} N_i^{(e_k)} & N_j^{(e_k)} \\end{bmatrix} dx$$\n",
    "\n",
    "donde $n$ es el número de elementos. Para ser cierta esta sumatoria implica que los componentes $m_{ij}^{(e_k)}$ de los elementos serán colocados en los correspondientes lugares $m_{ij}$ de la matriz global. Esta deberá de tener (para el caso lineal) dimensiones $(n+1)\\times(n+1)$."
   ]
  },
  {
   "cell_type": "markdown",
   "metadata": {
    "slideshow": {
     "slide_type": "slide"
    }
   },
   "source": [
    "Así, se puede pensar que las matrices $\\mathbf{M}^{(e_k)}$ son __expandidas__ con ceros para tener las dimensiones de la matriz global antes de ser sumadas."
   ]
  },
  {
   "cell_type": "markdown",
   "metadata": {
    "slideshow": {
     "slide_type": "slide"
    }
   },
   "source": [
    "Como ejemplo, consideremos la discretización del intervalo $0 \\le x \\le 1$ usando tres elementos lineales de la misma longitud. La evaluación de las matrices de masa queda:\n",
    "\n",
    "$$\\mathbf{M}^{(e_1)} = \\mathbf{M}^{(e_2)} = \\mathbf{M}^{(e_3)} = \\dfrac{1}{18} \\begin{bmatrix} 2 & 1 \\\\ 1 & 2 \\end{bmatrix}$$"
   ]
  },
  {
   "cell_type": "markdown",
   "metadata": {
    "slideshow": {
     "slide_type": "slide"
    }
   },
   "source": [
    "La matriz global es:\n",
    "\n",
    "$$\\mathbf{M} = \\begin{bmatrix} 1/9 & 1/18 & 0 & 0 \\\\ 1/18 & 1/9 & 0 & 0 \\\\  0&0&0&0 \\\\ 0&0&0&0 \\end{bmatrix} + \\begin{bmatrix} 0&0&0&0 \\\\ 0 & 1/9 & 1/18 &  0 \\\\ 0 & 1/18 & 1/9 &  0 \\\\ 0&0&0&0 \\end{bmatrix} + \\begin{bmatrix} 0&0&0&0 \\\\ 0&0&0&0 \\\\ 0 & 0 & 1/9 & 1/18 \\\\ 0&0 & 1/18 & 1/9 \\end{bmatrix}$$"
   ]
  },
  {
   "cell_type": "markdown",
   "metadata": {
    "slideshow": {
     "slide_type": "slide"
    }
   },
   "source": [
    "$$\\mathbf{M} = \\begin{bmatrix} 1/9 & 1/18 & 0 & 0 \\\\ 1/18 & 2/9 & 1/18 & 0 \\\\ 0& 1/18 & 2/9 & 1/18 \\\\ 0&0& 1/18 & 1/9 \\end{bmatrix}$$"
   ]
  },
  {
   "cell_type": "markdown",
   "metadata": {
    "slideshow": {
     "slide_type": "slide"
    }
   },
   "source": [
    "Este tipo de matrices son conocidas matrices dispersas (_sparse matrix_) por tener una buena cantidad de ceros. Normalmente, si hay una relación entre la numeración de los nodos y los elementos, se obtienen matrices en los cuales los ceros aparecen al alejarnos de la diagonal principal. Esto facilitará la solución numérica de estos sistemas."
   ]
  },
  {
   "cell_type": "markdown",
   "metadata": {
    "slideshow": {
     "slide_type": "slide"
    }
   },
   "source": [
    "## Matriz de _difusión_:\n",
    "\n",
    "De manera similar a la anterior, del termino de difusión se obtiene la matriz de difusión $\\mathbf{K}$:\n",
    "\n",
    "$$\\mathbf{K} = \\sum_{k=1}^n \\mathbf{K}^{(e_k)} = \\sum_{k=1}^n \\int_0^{h^{(e_k)}} K^{(e_k)} \\begin{bmatrix} \\dfrac{dN_i^{(e_k)}}{dx} & \\dfrac{dN_j^{(e_k)}}{dx} \\end{bmatrix} dx$$\n",
    "\n",
    "Esta matriz es conocida también como matriz de rigidez (_stiffness_) o conductividad (_conductance_)."
   ]
  },
  {
   "cell_type": "markdown",
   "metadata": {
    "slideshow": {
     "slide_type": "slide"
    }
   },
   "source": [
    "## Integral para valores conocidos:\n",
    "\n",
    "La integral que contiene las contribuciones de funciones conocidas (como en el caso de la fuente de calor $Q$) se formulan como un vector, con el mismo número de nodos.\n",
    "\n",
    "$$\\mathbf{F} = \\sum_{k=1}^n \\mathbf{F}^{(e_k)} = \\sum_{k=1}^n \\int_0^{h^{(e_k)}} \\begin{bmatrix} N_i^{(e_k)} \\end{bmatrix} Q^{(e_k)} dx$$\n",
    "\n",
    "Esta vector $\\mathbf{F}$ se usa para fuerzas distribuidas, generación de temperatura, entre otros y se conoce normalmente como vector de carga (_load_)."
   ]
  },
  {
   "cell_type": "markdown",
   "metadata": {
    "slideshow": {
     "slide_type": "slide"
    }
   },
   "source": [
    "En general las condiciones de frontera se añaden a la matriz de difusión $\\mathbf{K}$ aparece la variable dependiente, o a el vector $\\mathbf{F}$."
   ]
  },
  {
   "cell_type": "markdown",
   "metadata": {
    "slideshow": {
     "slide_type": "slide"
    }
   },
   "source": [
    "Usando la notación anterior, un sistema dependiente del tiempo se puede expresar como:\n",
    "\n",
    "$$\\mathbf{M}\\dot{\\mathbf{T}}+\\mathbf{K}\\mathbf{T} = \\mathbf{F}$$\n",
    "\n",
    "Donde:\n",
    "\n",
    "* $\\mathbf{T}$ es el vector de incógnitas.\n",
    "* $\\dot{\\mathbf{T}}$ es el vector que contiene las derivadas con respecto al tiempo de $\\mathbf{T}$"
   ]
  },
  {
   "cell_type": "markdown",
   "metadata": {
    "slideshow": {
     "slide_type": "slide"
    }
   },
   "source": [
    "Siguiendo lo que vimos en el tema de sistemas no estacionarios, la solución de este problema se puede plantear como:\n",
    "\n",
    "$$\\left( \\mathbf{M} + \\theta \\Delta t \\mathbf{K} \\right)\\mathbf{T}^{n+1} = \\left( \\mathbf{M} + (1-\\theta) \\Delta t \\mathbf{K} \\right)\\mathbf{T}^n + \\Delta t \\left(\\theta \\mathbf{F}^{n+1} + (1-\\theta) \\mathbf{F}^n\\right)$$\n",
    "\n",
    "Esto nos permite trabajar con estas expresiones usando el álgebra de matrices."
   ]
  },
  {
   "cell_type": "markdown",
   "metadata": {
    "slideshow": {
     "slide_type": "slide"
    }
   },
   "source": [
    "Por ejemplo, la solución $\\mathbf{T}^{n+1}$ se puede obtener usando:\n",
    "\n",
    "$$\\mathbf{T}^{n+1} = \\left( \\mathbf{M} + \\theta \\Delta t \\mathbf{K} \\right)^{-1}\\left[\\left( \\mathbf{M} + (1-\\theta) \\Delta t \\mathbf{K} \\right)\\mathbf{T}^n + \\Delta t \\left(\\theta \\mathbf{F}^{n+1} + (1-\\theta) \\mathbf{F}^n\\right)\\right]$$\n",
    "\n",
    "Siempre y cuando $\\left( \\mathbf{M} + \\theta \\Delta t \\mathbf{K} \\right)$ sea invertible y no singular."
   ]
  }
 ],
 "metadata": {
  "celltoolbar": "Slideshow",
  "julynter-results": {
   "filteredId": [],
   "filteredIndividual": [],
   "filteredRestart": [],
   "filteredType": [],
   "hash": "f6f96bb5dac851d639153c9da9598e36195f2cca",
   "visible": []
  },
  "kernelspec": {
   "display_name": "Python 3 (ipykernel)",
   "language": "python",
   "name": "python3"
  },
  "language_info": {
   "codemirror_mode": {
    "name": "ipython",
    "version": 3
   },
   "file_extension": ".py",
   "mimetype": "text/x-python",
   "name": "python",
   "nbconvert_exporter": "python",
   "pygments_lexer": "ipython3",
   "version": "3.8.8"
  }
 },
 "nbformat": 4,
 "nbformat_minor": 4
}
