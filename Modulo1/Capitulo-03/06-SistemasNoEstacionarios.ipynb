{
 "cells": [
  {
   "cell_type": "markdown",
   "metadata": {
    "slideshow": {
     "slide_type": "slide"
    }
   },
   "source": [
    "![Titulo](Imagenes/Titulos/Head3-2.png)"
   ]
  },
  {
   "cell_type": "markdown",
   "metadata": {
    "slideshow": {
     "slide_type": "slide"
    }
   },
   "source": [
    "## Sistemas no estacionarios"
   ]
  },
  {
   "cell_type": "markdown",
   "metadata": {
    "slideshow": {
     "slide_type": "slide"
    }
   },
   "source": [
    "Extenderemos ahora nuestro estudio del método a sistemas que varían con el tiempo."
   ]
  },
  {
   "cell_type": "markdown",
   "metadata": {
    "slideshow": {
     "slide_type": "slide"
    }
   },
   "source": [
    "Asumiremos para simplificar que $Q=0$, es decir, que no hay fuentes de calor. La ecuación para conducción de calor con $K$ constante quedaría:\n",
    "\n",
    "$$\\dfrac {\\partial T} {\\partial t} - \\alpha \\dfrac {\\partial^2 T} {\\partial x^2}=0$$\n",
    "\n",
    "Donde:\n",
    "* $\\frac {\\partial T} {\\partial t}$ es la velocidad de cambio de la temperatura respecto al tiempo.\n",
    "* $\\alpha$ es la difusividad térmica:\n",
    "$$\\alpha = \\frac {K} {\\rho c_p}$$\n",
    "* $\\rho$ es la densidad\n",
    "* $c_p$ es la capacidad calorífica (calor específico) del material"
   ]
  },
  {
   "cell_type": "markdown",
   "metadata": {
    "slideshow": {
     "slide_type": "slide"
    }
   },
   "source": [
    "Anteriormente la temperatura $T$ dependía solamente de la variable $x$. Ahora $T = T(x,t)$ es una función del espacio ($x$) y del tiempo ($t$). Como consecuencia, además de las condiciones en la frontera necesitamos especificar un estado inicial. Esto es, además de la ecuación necesitamos que nuestro sistema cumpla:\n",
    "\n",
    "$$-K \\dfrac {\\partial T} {\\partial x} + h \\left( T-T_\\infty \\right) \\Big|_{(0,t)}=0$$\n",
    "\n",
    "$$ T(L,t) = T_L$$\n",
    "\n",
    "y, la condición inicial:\n",
    "\n",
    "$$T(x,0) = T_0(x)$$"
   ]
  },
  {
   "cell_type": "markdown",
   "metadata": {
    "slideshow": {
     "slide_type": "slide"
    }
   },
   "source": [
    "La formulación de residuos ponderados de la ecuación diferencial queda:\n",
    "\n",
    "$$\\int W(x) \\left[ \\dfrac {\\partial T} {\\partial t} - \\alpha \\dfrac {\\partial^2 T} {\\partial x^2} \\right] dx = 0$$\n",
    "\n"
   ]
  },
  {
   "cell_type": "markdown",
   "metadata": {
    "slideshow": {
     "slide_type": "slide"
    }
   },
   "source": [
    "Nótese que la función de peso ($W(x)$) fue seleccionada como función de la variable $x$ solamente, es decir, se refiere únicamente a una discretización en el espacio, no en el tiempo. Mas aún, asumiremos que la temperatura se puede escribir separando las variables y aproximada en el espacio usando las mismas funciones de forma que antes:\n",
    "\n",
    "$$ T(x,t) = \\sum_{i=1}^{n+1} N_i(x) T_i (t) $$\n",
    "\n",
    "Donde $n$ es el número de nodos en la malla."
   ]
  },
  {
   "cell_type": "markdown",
   "metadata": {
    "slideshow": {
     "slide_type": "slide"
    }
   },
   "source": [
    "La dependencia del tiempo __no afecta__ las funciones de forma. La derivada espacial de la temperatura está dada por:\n",
    "\n",
    "$$\\dfrac {\\partial T} {\\partial x} = \\sum_{i=1}^{n+1} \\dfrac {\\partial N_i} {\\partial x} T_i = \\left[ \\dfrac {\\partial N_i} {\\partial x} \\right]\\left[ T_i\\right]  $$\n",
    "\n",
    "que es igual a la anterior. Utilizaremos los símbolos $\\partial$ en lugar de $d$ aunque sabemos que estas funciones sólo dependen de la variable $x$."
   ]
  },
  {
   "cell_type": "markdown",
   "metadata": {
    "slideshow": {
     "slide_type": "slide"
    }
   },
   "source": [
    "También tenemos:\n",
    "\n",
    "$$\\dfrac {\\partial T} {\\partial t} = \\sum_{i=1}^{n+1} N_i \\dfrac {\\partial T_i} {\\partial t} = \\sum_{i=1}^{n+1} N_i \\dot{T_i} =\\left[ N_i\\right]\\left[ \\dot{T_i} \\right]  $$\n",
    "\n",
    "Donde el punto ($\\cdot$) en la parte superior de $T_i$ indica derivación respecto al tiempo."
   ]
  },
  {
   "cell_type": "markdown",
   "metadata": {
    "slideshow": {
     "slide_type": "slide"
    }
   },
   "source": [
    "La formulación de Galerkin queda:\n",
    "\n",
    "$$\\int_0^L \\left\\{N_i \\left( \\sum_{j=1}^{n+1} N_j \\dot{T_j} \\right) + \\alpha \\dfrac {\\partial N_i} {\\partial x} \\left( \\sum_{i=1}^{n+1} \\dfrac {\\partial N_j} {\\partial x} T_j \\right) \\right \\} dx + \\left[N_i \\left( -\\alpha \\dfrac {\\partial T} {\\partial x} \\right) \\right]_{x=0}^{x=L} =0 $$"
   ]
  },
  {
   "cell_type": "markdown",
   "metadata": {
    "slideshow": {
     "slide_type": "slide"
    }
   },
   "source": [
    "En adelante, y para simplificar, quitaremos la notación de sumatorias, dejando solamente los índices de cada elemento, de tal manera que:\n",
    "\n",
    "$$\\sum_{i=1}^{n+1} a_i b_i \\equiv a_i b_i$$"
   ]
  },
  {
   "cell_type": "markdown",
   "metadata": {
    "slideshow": {
     "slide_type": "slide"
    }
   },
   "source": [
    "Por ejemplo, el gradiente de temperatura para el gradiente de temperatura:\n",
    "\n",
    "$$\\dfrac {\\partial N_j} {\\partial x} T_j = \\dfrac {\\partial N_1} {\\partial x} T_1 + \\dfrac {\\partial N_2} {\\partial x} T_2 + \\dots + \\dfrac {\\partial N_n} {\\partial x} T_n $$"
   ]
  },
  {
   "cell_type": "markdown",
   "metadata": {
    "slideshow": {
     "slide_type": "slide"
    }
   },
   "source": [
    "Así, la formulación de Galerkin, escrita sin las sumatorias, queda:\n",
    "\n",
    "$$\\int_0^L \\left\\{N_i \\left(  N_j \\dot{T_j} \\right) + \\alpha \\dfrac {\\partial N_i} {\\partial x} \\left( \\dfrac {\\partial N_j} {\\partial x} T_j \\right) \\right \\} dx + \\left[N_i \\left( -\\alpha \\dfrac {\\partial T} {\\partial x} \\right) \\right]_{x=0}^{x=L} = 0$$"
   ]
  },
  {
   "cell_type": "markdown",
   "metadata": {
    "slideshow": {
     "slide_type": "slide"
    }
   },
   "source": [
    "Separando las integrales:\n",
    "\n",
    "$$\\left[ \\int_0^L  N_i \\left(  N_j \\dot{T_j} \\right) dx \\right]+ \\left[ \\alpha \\int_0^L \\dfrac {\\partial N_i} {\\partial x} \\left( \\dfrac {\\partial N_j} {\\partial x} T_j \\right) dx \\right]  + \\left[N_i \\left( -\\alpha \\dfrac {\\partial T} {\\partial x} \\right) \\right]_{x=0}^{x=L} = 0$$"
   ]
  },
  {
   "cell_type": "markdown",
   "metadata": {
    "slideshow": {
     "slide_type": "slide"
    }
   },
   "source": [
    "Y sacando los valores de $T$ y $\\dot{T}$:\n",
    "\n",
    "$$\\left[ \\int_0^L  N_i N_j dx \\right]\\dot{T_j}+ \\left[ \\alpha \\int_0^L \\dfrac {\\partial N_i} {\\partial x} \\dfrac {\\partial N_j} {\\partial x}   dx \\right] T_j + \\left[N_i \\left( -\\alpha \\dfrac {\\partial T} {\\partial x} \\right) \\right]_{x=0}^{x=L} = 0$$"
   ]
  },
  {
   "cell_type": "markdown",
   "metadata": {
    "slideshow": {
     "slide_type": "slide"
    }
   },
   "source": [
    "Al coeficiente de $\\dot{T_j}$ se le conoce como la matriz de masa, ya que la integral del producto $N_i N_j$ representa el área de los elementos que contienen el nodo $i$ asociados a los nodos conectados $j$."
   ]
  },
  {
   "cell_type": "markdown",
   "metadata": {
    "slideshow": {
     "slide_type": "slide"
    }
   },
   "source": [
    "A este resultado se le conoce como la formulación _semidiscreta de Galerkin_, debido a que sólo se ha discretizado la variable de espacio ($x$), sin decir nada del termino que depende del tiempo. La presencia de esta matriz multiplicando a la derivada con respecto al tiempo es una de las diferencias más importantes entre el método de los elementos finitos con el método de las diferencias finitas (donde al tener diferencias constantes la expresión de masa es simplemente una constante)."
   ]
  },
  {
   "cell_type": "markdown",
   "metadata": {
    "slideshow": {
     "slide_type": "slide"
    }
   },
   "source": [
    "### Discretización de la derivada con respecto al tiempo"
   ]
  },
  {
   "cell_type": "markdown",
   "metadata": {
    "slideshow": {
     "slide_type": "slide"
    }
   },
   "source": [
    "Hay varias maneras de tratar la derivada con respecto al tiempo. Utilizaremos aquí el llamado _método $\\theta$_ que nos lleva a los algoritmos más comúnmente utilizados para integración en en el tiempo. En este método la derivada del tiempo es remplazada por una diferencia simple:\n",
    "\n",
    "$$\\dfrac {\\partial T} {\\partial t} = \\dot{T} =  \\dfrac {T^{n+1}-T^n} {\\Delta t}$$\n",
    "\n",
    "donde:\n",
    "\n",
    "* $T^n = T(x,t_n)$ el valor de la variable en el tiempo $t=t_n$.\n",
    "* $\\Delta t$ es el incremento de tiempo (timestep).\n",
    "* $t_{n+1} = t_n + \\Delta t$"
   ]
  },
  {
   "cell_type": "markdown",
   "metadata": {
    "slideshow": {
     "slide_type": "slide"
    }
   },
   "source": [
    "En general asumiremos que el valor $T(x,t_n)$ es conocido y es utilizado como condición inicial para avanzar a la solución siguiente, $t_{n+1}$, que es desconocida. Utilizaremos un parámetro de relajamiento $\\theta$ y escribiremos la solución de $T$ en la forma:\n",
    "\n",
    "$$ T = \\theta T^{n+1} + (1-\\theta)T^n \\text{ para } t_n \\le t \\le t_{n+1}\\ ^{(*)}$$\n",
    "\n",
    "$^{(*)}$ Es importante hacer énfasis que en este caso el superindice se refiere al tiempo, no se trata de una potencia."
   ]
  },
  {
   "cell_type": "markdown",
   "metadata": {
    "slideshow": {
     "slide_type": "slide"
    }
   },
   "source": [
    "El parámetro $\\theta$ normalmente se escoge en el rango $0 \\le \\theta \\le 1$ y se utiliza para controlar la precisión y la estabilidad del algoritmo. Los valores más comunes para $\\theta$ son: $0$, $1/2$ y $1$."
   ]
  },
  {
   "cell_type": "markdown",
   "metadata": {
    "slideshow": {
     "slide_type": "slide"
    }
   },
   "source": [
    "Según la selección del valor este método coincide con:\n",
    "\n",
    "* Si $\\theta = 1$ obtenemos el método de __Euler__ (explícito o hacia adelante), solo el valor de la derivada en el tiempo $t_n$ es tomada en cuenta.\n",
    "* Si $\\theta = 1/2$ obtenemos la regla del trapecio, \"promediando\" el valor de la derivada en $t_n$ con el de $t_{n+1}$.\n",
    "* Si $\\theta = 0$ obtenemos el método de __Euler implícito__ (o hacia atrás), solo el valor de la derivada en el tiempo $t_{n+1}$ es tomada en cuenta."
   ]
  },
  {
   "cell_type": "markdown",
   "metadata": {
    "slideshow": {
     "slide_type": "slide"
    }
   },
   "source": [
    "Substituyendo estos valores en la integral anterior:\n",
    "\n",
    "$$\\left[ \\int_0^L  N_i N_j dx \\right]\\left( \\dfrac {T_j^{n+1}-T_j^n} {\\Delta t} \\right)+ \\left[ \\alpha \\int_0^L \\dfrac {\\partial N_i} {\\partial x} \\dfrac {\\partial N_j} {\\partial x}   dx \\right] \\left( \\theta T_j^{n+1} + (1-\\theta)T_j^n \\right) + \\left[N_i \\left( -\\alpha \\left\\{ \\theta \\dfrac  {\\partial T^{n+1}} {\\partial x} + (1-\\theta) \\dfrac  {\\partial T^{n}} {\\partial x} \\right\\}\\right) \\right]_{x=0}^{x=L} = 0$$\n"
   ]
  },
  {
   "cell_type": "markdown",
   "metadata": {
    "slideshow": {
     "slide_type": "slide"
    }
   },
   "source": [
    "Que se puede reorganizar como:\n",
    "\n",
    "$$\\left[ \\int_0^L N_i N_j dx + \\alpha \\Delta t \\theta \\int_0^L \\dfrac {\\partial N_i} {\\partial x} \\dfrac {\\partial N_j} {\\partial x} dx \\right] T_j^{n+1} + \\theta \\Delta t \\left[ N_i \\left( -\\alpha \\dfrac {\\partial T} {\\partial x} \\right)\\right]_{x=0}^{x=L}$$\n",
    "\n",
    "$$ = \\left[ \\int_0^L N_i N_j dx + \\alpha \\Delta t (1- \\theta) \\int_0^L \\dfrac {\\partial N_i} {\\partial x} \\dfrac {\\partial N_j} {\\partial x} dx \\right] T_j^n + (1- \\theta) \\Delta t \\left[ N_i \\left( -\\alpha \\dfrac {\\partial T} {\\partial x} \\right)\\right]_{x=0}^{x=L}$$"
   ]
  },
  {
   "cell_type": "markdown",
   "metadata": {
    "slideshow": {
     "slide_type": "slide"
    }
   },
   "source": [
    "### Ejemplo:\n",
    "\n",
    "Resolveremos el sistema de transferencia de calor unidimensional con dependencia en el tiempo. La difusividad térmica es constante en cada elemento y el extremo derecho del elemento se mantiene en una temperatura constante. El extremo izquierdo tiene un flujo de calor de convección en la superficie. La temperatura inicial es constante en todo el elemento. Establecemos el modelo de MEF usando dos elementos."
   ]
  },
  {
   "cell_type": "markdown",
   "metadata": {
    "slideshow": {
     "slide_type": "slide"
    }
   },
   "source": [
    "El primer elemento queda:\n",
    "\n",
    "$$\\left\\{\\dfrac {L} {12} \\begin{bmatrix} 2 & 1 \\\\ 1 & 2 \\end{bmatrix} + \\dfrac {2 \\alpha \\Delta t \\theta} {L} \\begin{bmatrix} 1 & -1 \\\\ -1 & 1\\end{bmatrix} + \\overline{h}\\theta \\Delta t \\begin{bmatrix} 1 & 0 \\\\ 0 & 0\\end{bmatrix}\\right\\} \\begin{bmatrix} T_1^{n+1} \\\\ T_2^{n+1} \\end{bmatrix}$$\n",
    "\n",
    "$$ = \\left\\{\\dfrac {L} {12} \\begin{bmatrix} 2 & 1 \\\\ 1 & 2 \\end{bmatrix} + \\dfrac {2 \\alpha \\Delta t (1- \\theta)} {L} \\begin{bmatrix} 1 & -1 \\\\ -1 & 1\\end{bmatrix} + \\overline{h}(1- \\theta) \\Delta t \\begin{bmatrix} 1 & 0 \\\\ 0 & 0\\end{bmatrix}\\right\\} \\begin{bmatrix} T_1^{n} \\\\ T_2^{n} \\end{bmatrix} + \\overline{h}\\Delta t T_\\infty \\begin{bmatrix} 1 \\\\ 0 \\end{bmatrix} $$\n",
    "\n",
    "Donde:\n",
    "$$\\overline{h}= \\dfrac {h} {\\rho c_p}$$"
   ]
  },
  {
   "cell_type": "markdown",
   "metadata": {
    "slideshow": {
     "slide_type": "slide"
    }
   },
   "source": [
    "El segundo elemento queda:\n",
    "\n",
    "$$\\left\\{\\dfrac {L} {12} \\begin{bmatrix} 2 & 1 \\\\ 1 & 2 \\end{bmatrix} + \\dfrac {2 \\alpha \\Delta t \\theta} {L} \\begin{bmatrix} 1 & -1 \\\\ -1 & 1\\end{bmatrix} \\right\\} \\begin{bmatrix} T_2^{n+1} \\\\ T_3^{n+1} \\end{bmatrix}$$\n",
    "\n",
    "$$ = \\left\\{\\dfrac {L} {12} \\begin{bmatrix} 2 & 1 \\\\ 1 & 2 \\end{bmatrix} + \\dfrac {2 \\alpha \\Delta t (1- \\theta)} {L} \\begin{bmatrix} 1 & -1 \\\\ -1 & 1\\end{bmatrix}  \\right\\} \\begin{bmatrix} T_2^{n} \\\\ T_3^{n} \\end{bmatrix}  $$"
   ]
  },
  {
   "cell_type": "markdown",
   "metadata": {
    "slideshow": {
     "slide_type": "slide"
    }
   },
   "source": [
    "Utilizaremos los siguientes datos:\n",
    "\n",
    "$$\\rho c_p = 4 \\times 10 ^6$$\n",
    "\n",
    "Para el elemento 1:\n",
    "\n",
    "$$\\alpha^{(e_1)} = \\frac {K} {\\rho c_p} = \\frac {45} {4\\times 10^6} = 1.125 \\times 10^{-5} m^2/s$$\n",
    "\n",
    "Para el elemento 2:\n",
    "\n",
    "$$\\alpha^{(e_2)} = \\frac {K} {\\rho c_p} = \\frac {55} {4\\times 10^6} = 1.375 \\times 10^{-5} m^2/s$$\n",
    "\n",
    "$$\\overline{h} = 2.5 \\times 10^{-5} m/s$$\n",
    "\n",
    "$$L = 10\\,cm$$\n",
    "\n",
    "$$T_L = 39.18^oC$$\n",
    "\n",
    "$$T_\\infty = 400^oC$$"
   ]
  },
  {
   "cell_type": "markdown",
   "metadata": {
    "slideshow": {
     "slide_type": "slide"
    }
   },
   "source": [
    "Si utilizamos $\\theta=1$, después de multiplicar por $120$ los dos lados de la ecuación:\n",
    "\n",
    "Para el elemento $e_1$:\n",
    "\n",
    "$$ \\begin{bmatrix} 2+ 0.030\\Delta t & 1-0.027 \\Delta t \\\\ 1-0.027 \\Delta t & 2+ 0.027\\Delta t\\end{bmatrix}\\begin{bmatrix} T_1^{n+1} \\\\ T_2^{n+1}\\end{bmatrix} = \\begin{bmatrix} 2 & 1 \\\\ 1 & 2 \\end{bmatrix}\\begin{bmatrix} T_1^n \\\\ T_2^n \\end{bmatrix} + \\begin{bmatrix} 1.2\\Delta t \\\\ 0\\end{bmatrix}$$"
   ]
  },
  {
   "cell_type": "markdown",
   "metadata": {
    "slideshow": {
     "slide_type": "slide"
    }
   },
   "source": [
    "Para el elemento $e_2$:\n",
    "\n",
    "$$ \\begin{bmatrix} 2+ 0.033\\Delta t & 1-0.027 \\Delta t \\\\ 1-0.033 \\Delta t & 2+ 0.033\\Delta t\\end{bmatrix}\\begin{bmatrix} T_2^{n+1} \\\\ T_3^{n+1}\\end{bmatrix} = \\begin{bmatrix} 2 & 1 \\\\ 1 & 2 \\end{bmatrix}\\begin{bmatrix} T_2^n \\\\ T_3^n \\end{bmatrix} $$"
   ]
  },
  {
   "cell_type": "markdown",
   "metadata": {
    "slideshow": {
     "slide_type": "slide"
    }
   },
   "source": [
    "Ensamblando las matrices:\n",
    "\n",
    "$$ \\begin{bmatrix} 2+ 0.030\\Delta t & 1-0.027 \\Delta t & 0 \\\\ 1-0.027 \\Delta t & 4+ 0.060 \\Delta t & 1-0.033 \\Delta t \\\\  0 & 1-0.033 \\Delta t & 2+0.033\\Delta t\\end{bmatrix}\\begin{bmatrix} T_1^{n+1} \\\\ T_2^{n+1} \\\\ T_3^{n+1} \\end{bmatrix} = \\begin{bmatrix} 2 & 1 & 0 \\\\ 1 & 4 & 1 \\\\ 0 & 1 & 2 \\end{bmatrix}\\begin{bmatrix} T_1^n \\\\ T_2^n \\\\ T_3^n \\end{bmatrix} + \\begin{bmatrix} 1.2\\Delta t \\\\ 0 \\\\ 0 \\end{bmatrix}$$"
   ]
  },
  {
   "cell_type": "markdown",
   "metadata": {
    "slideshow": {
     "slide_type": "slide"
    }
   },
   "source": [
    "Imponiendo la condición de frontera en el lado derecho:\n",
    "\n",
    "$$ \\begin{bmatrix} 2+ 0.030\\Delta t & 1-0.027 \\Delta t & 0 \\\\ 1-0.027 \\Delta t & 4+ 0.060 \\Delta t & 1-0.033 \\Delta t \\\\  0 & 0 & 1 \\end{bmatrix}\\begin{bmatrix} T_1^{n+1} \\\\ T_2^{n+1} \\\\ T_3^{n+1} \\end{bmatrix} = \\begin{bmatrix} 2 & 1 & 0 \\\\ 1 & 4 & 1 \\\\ 0 & 0 & 0 \\end{bmatrix}\\begin{bmatrix} T_1^n \\\\ T_2^n \\\\ T_3^n \\end{bmatrix} + \\begin{bmatrix} 1.2\\Delta t \\\\ 0 \\\\ 39.18 \\end{bmatrix}$$"
   ]
  },
  {
   "cell_type": "markdown",
   "metadata": {
    "slideshow": {
     "slide_type": "slide"
    }
   },
   "source": [
    "Utilizaremos $\\Delta t = 100 s$ y supondremos que $T^1(x)= 39.18^oC$ en toda la barra.\n",
    "\n",
    "$$ \\begin{bmatrix} 2+ 3 & 1-2.7 & 0 \\\\ 1-2.7 & 4+ 6 & 1-3.3  \\\\  0 & 0 & 1\\end{bmatrix}\\begin{bmatrix} T_1^{n+1} \\\\ T_2^{n+1} \\\\ T_3^{n+1} \\end{bmatrix} = \\begin{bmatrix} 2 & 1 & 0 \\\\ 1 & 4 & 1 \\\\ 0 & 0 & 0 \\end{bmatrix}\\begin{bmatrix} 39.18 \\\\ 39.18 \\\\ 39.18 \\end{bmatrix} + \\begin{bmatrix} 120 \\\\ 0 \\\\ 39.18 \\end{bmatrix}$$"
   ]
  },
  {
   "cell_type": "markdown",
   "metadata": {
    "slideshow": {
     "slide_type": "slide"
    }
   },
   "source": [
    "Así, los valores para $T^1(x)$ se obtienen resolviendo:\n",
    "\n",
    "$$ \\begin{bmatrix} 5 & -1.7 & 0 \\\\ -1.7 & 10 & -2.3  \\\\  0 & 0 & 1\\end{bmatrix}\\begin{bmatrix} T_1^{n+1} \\\\ T_2^{n+1} \\\\ T_3^{n+1} \\end{bmatrix} = \\begin{bmatrix} 237.54 \\\\ 235.08 \\\\ 39.18 \\end{bmatrix} $$"
   ]
  },
  {
   "cell_type": "markdown",
   "metadata": {
    "slideshow": {
     "slide_type": "slide"
    }
   },
   "source": [
    "Resolviendo este sistema obtenemos, para $t=\\Delta t$:\n",
    "\n",
    "$$\\begin{bmatrix} T_1 \\\\ T_2 \\\\ T_3 \\end{bmatrix} = \\begin{bmatrix} 60.743 \\\\ 43.083 \\\\ 39.18 \\end{bmatrix} $$"
   ]
  },
  {
   "cell_type": "markdown",
   "metadata": {
    "slideshow": {
     "slide_type": "slide"
    }
   },
   "source": [
    "Repitiendo la operación, utilizando el vector obtenido como temperatura inicial, para $t = 2\\Delta t$:\n",
    "\n",
    "$$ \\begin{bmatrix} 2+ 3 & 1-2.7 & 0 \\\\ 1-2.7 & 4+ 6 & 1-3.3  \\\\  0 & 0 & 1\\end{bmatrix}\\begin{bmatrix} T_1^{n+1} \\\\ T_2^{n+1} \\\\ T_3^{n+1} \\end{bmatrix} = \\begin{bmatrix} 2 & 1 & 0 \\\\ 1 & 4 & 1 \\\\ 0 & 0 & 0 \\end{bmatrix}\\begin{bmatrix} 60.743 \\\\ 43.083 \\\\ 39.18 \\end{bmatrix} + \\begin{bmatrix} 120 \\\\ 0 \\\\ 39.18 \\end{bmatrix}$$"
   ]
  },
  {
   "cell_type": "markdown",
   "metadata": {
    "slideshow": {
     "slide_type": "slide"
    }
   },
   "source": [
    "Obteniendo para  $t = 2\\Delta t$:\n",
    "\n",
    "$$\\begin{bmatrix} T_1 \\\\ T_2 \\\\ T_3 \\end{bmatrix} = \\begin{bmatrix} 74.134 \\\\ 48.982 \\\\ 39.18 \\end{bmatrix} $$"
   ]
  },
  {
   "cell_type": "markdown",
   "metadata": {
    "slideshow": {
     "slide_type": "slide"
    }
   },
   "source": [
    "Para $t = 3\\Delta t$:\n",
    "\n",
    "$$\\begin{bmatrix} T_1 \\\\ T_2 \\\\ T_3 \\end{bmatrix} = \\begin{bmatrix} 81.754 \\\\ 53.834 \\\\ 39.18 \\end{bmatrix} $$"
   ]
  },
  {
   "cell_type": "markdown",
   "metadata": {
    "slideshow": {
     "slide_type": "slide"
    }
   },
   "source": [
    "Para $t = 4\\Delta t$:\n",
    "\n",
    "$$\\begin{bmatrix} T_1 \\\\ T_2 \\\\ T_3 \\end{bmatrix} = \\begin{bmatrix} 86.993 \\\\ 57.427 \\\\ 39.18 \\end{bmatrix} $$"
   ]
  },
  {
   "cell_type": "markdown",
   "metadata": {
    "slideshow": {
     "slide_type": "slide"
    }
   },
   "source": [
    "Para $t = 5\\Delta t$:\n",
    "\n",
    "$$\\begin{bmatrix} T_1 \\\\ T_2 \\\\ T_3 \\end{bmatrix} = \\begin{bmatrix} 90.688 \\\\ 60.167 \\\\ 39.18 \\end{bmatrix} $$"
   ]
  },
  {
   "cell_type": "markdown",
   "metadata": {
    "slideshow": {
     "slide_type": "slide"
    }
   },
   "source": [
    "Para $t = 6\\Delta t$:\n",
    "\n",
    "$$\\begin{bmatrix} T_1 \\\\ T_2 \\\\ T_3 \\end{bmatrix} = \\begin{bmatrix} 93.314 \\\\ 61.868 \\\\ 39.18 \\end{bmatrix} $$"
   ]
  },
  {
   "cell_type": "markdown",
   "metadata": {
    "slideshow": {
     "slide_type": "slide"
    }
   },
   "source": [
    "Para $t = 7\\Delta t$:\n",
    "\n",
    "$$\\begin{bmatrix} T_1 \\\\ T_2 \\\\ T_3 \\end{bmatrix} = \\begin{bmatrix} 95.184 \\\\ 63.189 \\\\ 39.18 \\end{bmatrix} $$"
   ]
  },
  {
   "cell_type": "markdown",
   "metadata": {
    "slideshow": {
     "slide_type": "slide"
    }
   },
   "source": [
    "Para $t = 8\\Delta t$:\n",
    "\n",
    "$$\\begin{bmatrix} T_1 \\\\ T_2 \\\\ T_3 \\end{bmatrix} = \\begin{bmatrix} 96.516 \\\\ 64.161 \\\\ 39.18 \\end{bmatrix} $$"
   ]
  },
  {
   "cell_type": "markdown",
   "metadata": {
    "slideshow": {
     "slide_type": "slide"
    }
   },
   "source": [
    "![NoEstacionario](Imagenes/NoEstacionario0.png)"
   ]
  },
  {
   "cell_type": "markdown",
   "metadata": {
    "slideshow": {
     "slide_type": "slide"
    }
   },
   "source": [
    "![NoEstacionario](Imagenes/NoEstacionario1.png)"
   ]
  },
  {
   "cell_type": "markdown",
   "metadata": {
    "slideshow": {
     "slide_type": "slide"
    }
   },
   "source": [
    "![NoEstacionario](Imagenes/NoEstacionario2.png)"
   ]
  },
  {
   "cell_type": "markdown",
   "metadata": {
    "slideshow": {
     "slide_type": "slide"
    }
   },
   "source": [
    "![NoEstacionario](Imagenes/NoEstacionario3.png)"
   ]
  },
  {
   "cell_type": "markdown",
   "metadata": {
    "slideshow": {
     "slide_type": "slide"
    }
   },
   "source": [
    "![NoEstacionario](Imagenes/NoEstacionario4.png)"
   ]
  },
  {
   "cell_type": "markdown",
   "metadata": {
    "slideshow": {
     "slide_type": "slide"
    }
   },
   "source": [
    "![NoEstacionario](Imagenes/NoEstacionario5.png)"
   ]
  },
  {
   "cell_type": "markdown",
   "metadata": {
    "slideshow": {
     "slide_type": "slide"
    }
   },
   "source": [
    "![NoEstacionario](Imagenes/NoEstacionario6.png)"
   ]
  },
  {
   "cell_type": "markdown",
   "metadata": {
    "slideshow": {
     "slide_type": "slide"
    }
   },
   "source": [
    "![NoEstacionario](Imagenes/NoEstacionario7.png)"
   ]
  },
  {
   "cell_type": "markdown",
   "metadata": {
    "slideshow": {
     "slide_type": "slide"
    }
   },
   "source": [
    "![NoEstacionario](Imagenes/NoEstacionario8.png)"
   ]
  },
  {
   "cell_type": "markdown",
   "metadata": {
    "slideshow": {
     "slide_type": "slide"
    }
   },
   "source": [
    "![NoEstacionario](Imagenes/TemperaturaVsTiempo.png)"
   ]
  }
 ],
 "metadata": {
  "celltoolbar": "Slideshow",
  "julynter-results": {
   "filteredId": [],
   "filteredIndividual": [],
   "filteredRestart": [],
   "filteredType": [],
   "hash": "b1c71b42421043ebb8ad70436ea137ed36cc5a1d",
   "visible": []
  },
  "kernelspec": {
   "display_name": "Python 3 (ipykernel)",
   "language": "python",
   "name": "python3"
  },
  "language_info": {
   "codemirror_mode": {
    "name": "ipython",
    "version": 3
   },
   "file_extension": ".py",
   "mimetype": "text/x-python",
   "name": "python",
   "nbconvert_exporter": "python",
   "pygments_lexer": "ipython3",
   "version": "3.8.8"
  }
 },
 "nbformat": 4,
 "nbformat_minor": 4
}
