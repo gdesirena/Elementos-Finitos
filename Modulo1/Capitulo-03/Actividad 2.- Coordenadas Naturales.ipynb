{
 "cells": [
  {
   "cell_type": "markdown",
   "id": "985eb609",
   "metadata": {},
   "source": [
    "## Actividad 2\n",
    "\n",
    "Resolveremos nuevamente el problema dado por la siguiente ecuación, pero usando un sólo elemento cuadrático:\n",
    "\n",
    "$$- \\dfrac {d} {dx} \\left( K(x) \\dfrac {dT} {dx} \\right) = 0 $$\n",
    "\n",
    "para $L=10 \\,cm$ con una variación de $K(x)$ lineal de $40$ a $60 \\, W/m$, $h=100 \\, W/m^2\\,^oC$, $T_{\\infty} = 400 \\,^oC$ y $T_L = 39.18 \\, ^oC$ en $x=L$.\n",
    "\n"
   ]
  },
  {
   "cell_type": "markdown",
   "id": "2cb9bfef",
   "metadata": {},
   "source": [
    "El elemento se puede expresar, usando el método de Galerkin, como:\n",
    "\n",
    "$$\\sum_{j=1}^1 \\left( \\int_0^L \\dfrac {dN_i^{(e)}} {dx} K(x) \\dfrac {dN_j^{(e)}} {dx} dx\\right)T_j + N_i^{(e)}h(T-T_{\\infty})\\Big|_{x=0} = 0 \\text{ para } i=1,2,3$$"
   ]
  },
  {
   "cell_type": "markdown",
   "id": "afe4bdc8",
   "metadata": {},
   "source": [
    "En modo matricial, tenemos:\n",
    "\n",
    "$$ \\left \\{ \\int_0^L \\begin{bmatrix} \\dfrac {dN_1} {dx} \\\\ \\dfrac {dN_2} {dx} \\\\ \\dfrac {dN_3} {dx} \\end{bmatrix} \\left( \\begin{bmatrix} N_1 & N_2 & N_3 \\end{bmatrix} \\begin{bmatrix} 40 \\\\ 50 \\\\ 60 \\end{bmatrix} \\right) \\begin{bmatrix} \\dfrac {dN_1} {dx} & \\dfrac {dN_2} {dx} & \\dfrac {dN_3} {dx} \\end{bmatrix} dx + 100 \\begin{bmatrix} 1 & 0 & 0 \\\\ 0 & 0 & 0 \\\\ 0 & 0 & 0 \\end{bmatrix} \\right\\}\\begin{bmatrix} T_1 \\\\ T_2 \\\\ T_3 \\end{bmatrix}= \\begin{bmatrix} 40000 \\\\ 0 \\\\ 0 \\end{bmatrix}$$"
   ]
  },
  {
   "cell_type": "markdown",
   "id": "43d6d0d2",
   "metadata": {},
   "source": [
    "Completa este ejercicio siguiendo los pasos:\n",
    "\n",
    "1. Cambia la variable de integración de $x$ a $\\xi$ en:\n",
    "$$ \\int_0^L \\begin{bmatrix} \\dfrac {dN_1} {dx} \\\\ \\dfrac {dN_2} {dx} \\\\ \\dfrac {dN_3} {dx} \\end{bmatrix} \\left( \\begin{bmatrix} N_1 & N_2 & N_3 \\end{bmatrix} \\begin{bmatrix} 40 \\\\ 50 \\\\ 60 \\end{bmatrix} \\right) \\begin{bmatrix} \\dfrac {dN_1} {dx} & \\dfrac {dN_2} {dx} & \\dfrac {dN_3} {dx} \\end{bmatrix} dx $$\n",
    "usando:\n",
    "$$\\dfrac {dN_i} {dx} = J^{-1} \\dfrac {dN_i} {d\\xi}$$\n",
    "\n",
    "2. Después de haber cambiado las coordenadas, resuelve la integral evaluando los límites ($-1$ y $1$).\n",
    "\n",
    "3. Completa el problema con las otras partes de la ecuación.\n",
    "\n",
    "4. Modifica el sistema para imponer la temperatura fija en $T_L$\n",
    "\n",
    "5. Resuelve el sistema (numéricamente) usando sympy."
   ]
  },
  {
   "cell_type": "code",
   "execution_count": null,
   "id": "799e36f1",
   "metadata": {},
   "outputs": [],
   "source": []
  }
 ],
 "metadata": {
  "kernelspec": {
   "display_name": "Python 3 (ipykernel)",
   "language": "python",
   "name": "python3"
  },
  "language_info": {
   "codemirror_mode": {
    "name": "ipython",
    "version": 3
   },
   "file_extension": ".py",
   "mimetype": "text/x-python",
   "name": "python",
   "nbconvert_exporter": "python",
   "pygments_lexer": "ipython3",
   "version": "3.8.8"
  }
 },
 "nbformat": 4,
 "nbformat_minor": 5
}
