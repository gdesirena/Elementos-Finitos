{
 "cells": [
  {
   "cell_type": "markdown",
   "metadata": {
    "slideshow": {
     "slide_type": "slide"
    }
   },
   "source": [
    "Resolveremos el problema resuelto utilizando un elemento cúbico"
   ]
  },
  {
   "cell_type": "markdown",
   "metadata": {
    "slideshow": {
     "slide_type": "slide"
    }
   },
   "source": [
    "Las funciones de forma son, según vimos:\n",
    "\n",
    "$$N_1^{(e)}(x) = \\left(1 - \\dfrac {3x} {h^{(e)}} \\right) \\left(1 - \\dfrac {3x} {2h^{(e)}} \\right) \\left(1 - \\dfrac {x} {h^{(e)}} \\right)$$\n",
    "\n",
    "$$N_2^{(e)}(x) = \\dfrac {9x} {h^{(e)}}  \\left(1 - \\dfrac {3x} {2h^{(e)}} \\right) \\left(1 - \\dfrac {x} {h^{(e)}} \\right)$$\n",
    "\n",
    "$$N_3^{(e)}(x) = - \\dfrac {9x} {2h^{(e)}}  \\left(1 - \\dfrac {3x} {h^{(e)}} \\right) \\left(1 - \\dfrac {x} {h^{(e)}} \\right)$$\n",
    "\n",
    "$$N_4^{(e)}(x) = \\dfrac {x} {h^{(e)}}  \\left(1 - \\dfrac {3x} {h^{(e)}} \\right) \\left(1 - \\dfrac {3x} {2h^{(e)}} \\right)$$"
   ]
  },
  {
   "cell_type": "code",
   "execution_count": 1,
   "metadata": {},
   "outputs": [],
   "source": [
    "import sympy as sp\n",
    "import numpy as np"
   ]
  },
  {
   "cell_type": "code",
   "execution_count": 2,
   "metadata": {},
   "outputs": [],
   "source": [
    "L, x, q = sp.symbols('L, x, q')\n",
    "T_1, T_2, T_3, T_4 = sp.symbols('T_1, T_2, T_3, T_4')"
   ]
  },
  {
   "cell_type": "code",
   "execution_count": 3,
   "metadata": {},
   "outputs": [],
   "source": [
    "T = sp.Matrix([T_1, T_2, T_3, T_4])"
   ]
  },
  {
   "cell_type": "code",
   "execution_count": 4,
   "metadata": {},
   "outputs": [
    {
     "data": {
      "text/latex": [
       "$\\displaystyle \\left(1 - \\frac{3 x}{L}\\right) \\left(1 - \\frac{3 x}{2 L}\\right) \\left(1 - \\frac{x}{L}\\right)$"
      ],
      "text/plain": [
       "(1 - 3*x/L)*(1 - 3*x/(2*L))*(1 - x/L)"
      ]
     },
     "execution_count": 4,
     "metadata": {},
     "output_type": "execute_result"
    }
   ],
   "source": [
    "N_1 = (1-3*x/L) * (1-3*x/(2*L)) * (1-x/L)\n",
    "N_2 = 9*x/L * (1-3*x/(2*L)) * (1-x/L)\n",
    "N_3 = -9*x/(2*L) * (1-3*x/L) * (1-x/L)\n",
    "N_4 = x/L*(1-3*x/L) * (1-3*x/(2*L)) \n",
    "N_1"
   ]
  },
  {
   "cell_type": "code",
   "execution_count": 5,
   "metadata": {},
   "outputs": [
    {
     "data": {
      "text/latex": [
       "$\\displaystyle - \\frac{11}{2 L} + \\frac{18 x}{L^{2}} - \\frac{27 x^{2}}{2 L^{3}}$"
      ],
      "text/plain": [
       "-11/(2*L) + 18*x/L**2 - 27*x**2/(2*L**3)"
      ]
     },
     "execution_count": 5,
     "metadata": {},
     "output_type": "execute_result"
    }
   ],
   "source": [
    "dN_1 = sp.diff(N_1,x).expand()\n",
    "dN_2 = sp.diff(N_2,x).expand()\n",
    "dN_3 = sp.diff(N_3,x).expand()\n",
    "dN_4 = sp.diff(N_4,x).expand()\n",
    "dN_1"
   ]
  },
  {
   "cell_type": "code",
   "execution_count": 6,
   "metadata": {},
   "outputs": [
    {
     "data": {
      "text/latex": [
       "$\\displaystyle \\left[\\begin{matrix}- \\frac{11}{2 L} + \\frac{18 x}{L^{2}} - \\frac{27 x^{2}}{2 L^{3}}\\\\\\frac{9}{L} - \\frac{45 x}{L^{2}} + \\frac{81 x^{2}}{2 L^{3}}\\\\- \\frac{9}{2 L} + \\frac{36 x}{L^{2}} - \\frac{81 x^{2}}{2 L^{3}}\\\\\\frac{1}{L} - \\frac{9 x}{L^{2}} + \\frac{27 x^{2}}{2 L^{3}}\\end{matrix}\\right]$"
      ],
      "text/plain": [
       "Matrix([\n",
       "[-11/(2*L) + 18*x/L**2 - 27*x**2/(2*L**3)],\n",
       "[      9/L - 45*x/L**2 + 81*x**2/(2*L**3)],\n",
       "[ -9/(2*L) + 36*x/L**2 - 81*x**2/(2*L**3)],\n",
       "[       1/L - 9*x/L**2 + 27*x**2/(2*L**3)]])"
      ]
     },
     "execution_count": 6,
     "metadata": {},
     "output_type": "execute_result"
    }
   ],
   "source": [
    "v = sp.Matrix([dN_1, dN_2, dN_3, dN_4])\n",
    "v"
   ]
  },
  {
   "cell_type": "code",
   "execution_count": 7,
   "metadata": {},
   "outputs": [
    {
     "data": {
      "text/latex": [
       "$\\displaystyle \\left[\\begin{matrix}\\left(- \\frac{11}{2 L} + \\frac{18 x}{L^{2}} - \\frac{27 x^{2}}{2 L^{3}}\\right)^{2} & \\left(- \\frac{11}{2 L} + \\frac{18 x}{L^{2}} - \\frac{27 x^{2}}{2 L^{3}}\\right) \\left(\\frac{9}{L} - \\frac{45 x}{L^{2}} + \\frac{81 x^{2}}{2 L^{3}}\\right) & \\left(- \\frac{11}{2 L} + \\frac{18 x}{L^{2}} - \\frac{27 x^{2}}{2 L^{3}}\\right) \\left(- \\frac{9}{2 L} + \\frac{36 x}{L^{2}} - \\frac{81 x^{2}}{2 L^{3}}\\right) & \\left(- \\frac{11}{2 L} + \\frac{18 x}{L^{2}} - \\frac{27 x^{2}}{2 L^{3}}\\right) \\left(\\frac{1}{L} - \\frac{9 x}{L^{2}} + \\frac{27 x^{2}}{2 L^{3}}\\right)\\\\\\left(- \\frac{11}{2 L} + \\frac{18 x}{L^{2}} - \\frac{27 x^{2}}{2 L^{3}}\\right) \\left(\\frac{9}{L} - \\frac{45 x}{L^{2}} + \\frac{81 x^{2}}{2 L^{3}}\\right) & \\left(\\frac{9}{L} - \\frac{45 x}{L^{2}} + \\frac{81 x^{2}}{2 L^{3}}\\right)^{2} & \\left(- \\frac{9}{2 L} + \\frac{36 x}{L^{2}} - \\frac{81 x^{2}}{2 L^{3}}\\right) \\left(\\frac{9}{L} - \\frac{45 x}{L^{2}} + \\frac{81 x^{2}}{2 L^{3}}\\right) & \\left(\\frac{1}{L} - \\frac{9 x}{L^{2}} + \\frac{27 x^{2}}{2 L^{3}}\\right) \\left(\\frac{9}{L} - \\frac{45 x}{L^{2}} + \\frac{81 x^{2}}{2 L^{3}}\\right)\\\\\\left(- \\frac{11}{2 L} + \\frac{18 x}{L^{2}} - \\frac{27 x^{2}}{2 L^{3}}\\right) \\left(- \\frac{9}{2 L} + \\frac{36 x}{L^{2}} - \\frac{81 x^{2}}{2 L^{3}}\\right) & \\left(- \\frac{9}{2 L} + \\frac{36 x}{L^{2}} - \\frac{81 x^{2}}{2 L^{3}}\\right) \\left(\\frac{9}{L} - \\frac{45 x}{L^{2}} + \\frac{81 x^{2}}{2 L^{3}}\\right) & \\left(- \\frac{9}{2 L} + \\frac{36 x}{L^{2}} - \\frac{81 x^{2}}{2 L^{3}}\\right)^{2} & \\left(- \\frac{9}{2 L} + \\frac{36 x}{L^{2}} - \\frac{81 x^{2}}{2 L^{3}}\\right) \\left(\\frac{1}{L} - \\frac{9 x}{L^{2}} + \\frac{27 x^{2}}{2 L^{3}}\\right)\\\\\\left(- \\frac{11}{2 L} + \\frac{18 x}{L^{2}} - \\frac{27 x^{2}}{2 L^{3}}\\right) \\left(\\frac{1}{L} - \\frac{9 x}{L^{2}} + \\frac{27 x^{2}}{2 L^{3}}\\right) & \\left(\\frac{1}{L} - \\frac{9 x}{L^{2}} + \\frac{27 x^{2}}{2 L^{3}}\\right) \\left(\\frac{9}{L} - \\frac{45 x}{L^{2}} + \\frac{81 x^{2}}{2 L^{3}}\\right) & \\left(- \\frac{9}{2 L} + \\frac{36 x}{L^{2}} - \\frac{81 x^{2}}{2 L^{3}}\\right) \\left(\\frac{1}{L} - \\frac{9 x}{L^{2}} + \\frac{27 x^{2}}{2 L^{3}}\\right) & \\left(\\frac{1}{L} - \\frac{9 x}{L^{2}} + \\frac{27 x^{2}}{2 L^{3}}\\right)^{2}\\end{matrix}\\right]$"
      ],
      "text/plain": [
       "Matrix([\n",
       "[                                       (-11/(2*L) + 18*x/L**2 - 27*x**2/(2*L**3))**2, (-11/(2*L) + 18*x/L**2 - 27*x**2/(2*L**3))*(9/L - 45*x/L**2 + 81*x**2/(2*L**3)), (-11/(2*L) + 18*x/L**2 - 27*x**2/(2*L**3))*(-9/(2*L) + 36*x/L**2 - 81*x**2/(2*L**3)), (-11/(2*L) + 18*x/L**2 - 27*x**2/(2*L**3))*(1/L - 9*x/L**2 + 27*x**2/(2*L**3))],\n",
       "[     (-11/(2*L) + 18*x/L**2 - 27*x**2/(2*L**3))*(9/L - 45*x/L**2 + 81*x**2/(2*L**3)),                                         (9/L - 45*x/L**2 + 81*x**2/(2*L**3))**2,       (-9/(2*L) + 36*x/L**2 - 81*x**2/(2*L**3))*(9/L - 45*x/L**2 + 81*x**2/(2*L**3)),       (1/L - 9*x/L**2 + 27*x**2/(2*L**3))*(9/L - 45*x/L**2 + 81*x**2/(2*L**3))],\n",
       "[(-11/(2*L) + 18*x/L**2 - 27*x**2/(2*L**3))*(-9/(2*L) + 36*x/L**2 - 81*x**2/(2*L**3)),  (-9/(2*L) + 36*x/L**2 - 81*x**2/(2*L**3))*(9/L - 45*x/L**2 + 81*x**2/(2*L**3)),                                         (-9/(2*L) + 36*x/L**2 - 81*x**2/(2*L**3))**2,  (-9/(2*L) + 36*x/L**2 - 81*x**2/(2*L**3))*(1/L - 9*x/L**2 + 27*x**2/(2*L**3))],\n",
       "[      (-11/(2*L) + 18*x/L**2 - 27*x**2/(2*L**3))*(1/L - 9*x/L**2 + 27*x**2/(2*L**3)),        (1/L - 9*x/L**2 + 27*x**2/(2*L**3))*(9/L - 45*x/L**2 + 81*x**2/(2*L**3)),        (-9/(2*L) + 36*x/L**2 - 81*x**2/(2*L**3))*(1/L - 9*x/L**2 + 27*x**2/(2*L**3)),                                         (1/L - 9*x/L**2 + 27*x**2/(2*L**3))**2]])"
      ]
     },
     "execution_count": 7,
     "metadata": {},
     "output_type": "execute_result"
    }
   ],
   "source": [
    "vv = v * v.T\n",
    "vv"
   ]
  },
  {
   "cell_type": "code",
   "execution_count": 8,
   "metadata": {},
   "outputs": [
    {
     "data": {
      "text/latex": [
       "$\\displaystyle \\left[\\begin{matrix}\\frac{121 x}{4 L^{2}} - \\frac{99 x^{2}}{L^{3}} + \\frac{315 x^{3}}{2 L^{4}} - \\frac{243 x^{4}}{2 L^{5}} + \\frac{729 x^{5}}{20 L^{6}} & - \\frac{99 x}{2 L^{2}} + \\frac{819 x^{2}}{4 L^{3}} - \\frac{1539 x^{3}}{4 L^{4}} + \\frac{2673 x^{4}}{8 L^{5}} - \\frac{2187 x^{5}}{20 L^{6}} & \\frac{99 x}{4 L^{2}} - \\frac{279 x^{2}}{2 L^{3}} + \\frac{621 x^{3}}{2 L^{4}} - \\frac{1215 x^{4}}{4 L^{5}} + \\frac{2187 x^{5}}{20 L^{6}} & - \\frac{11 x}{2 L^{2}} + \\frac{135 x^{2}}{4 L^{3}} - \\frac{333 x^{3}}{4 L^{4}} + \\frac{729 x^{4}}{8 L^{5}} - \\frac{729 x^{5}}{20 L^{6}}\\\\- \\frac{99 x}{2 L^{2}} + \\frac{819 x^{2}}{4 L^{3}} - \\frac{1539 x^{3}}{4 L^{4}} + \\frac{2673 x^{4}}{8 L^{5}} - \\frac{2187 x^{5}}{20 L^{6}} & \\frac{81 x}{L^{2}} - \\frac{405 x^{2}}{L^{3}} + \\frac{918 x^{3}}{L^{4}} - \\frac{3645 x^{4}}{4 L^{5}} + \\frac{6561 x^{5}}{20 L^{6}} & - \\frac{81 x}{2 L^{2}} + \\frac{1053 x^{2}}{4 L^{3}} - \\frac{2889 x^{3}}{4 L^{4}} + \\frac{6561 x^{4}}{8 L^{5}} - \\frac{6561 x^{5}}{20 L^{6}} & \\frac{9 x}{L^{2}} - \\frac{63 x^{2}}{L^{3}} + \\frac{189 x^{3}}{L^{4}} - \\frac{243 x^{4}}{L^{5}} + \\frac{2187 x^{5}}{20 L^{6}}\\\\\\frac{99 x}{4 L^{2}} - \\frac{279 x^{2}}{2 L^{3}} + \\frac{621 x^{3}}{2 L^{4}} - \\frac{1215 x^{4}}{4 L^{5}} + \\frac{2187 x^{5}}{20 L^{6}} & - \\frac{81 x}{2 L^{2}} + \\frac{1053 x^{2}}{4 L^{3}} - \\frac{2889 x^{3}}{4 L^{4}} + \\frac{6561 x^{4}}{8 L^{5}} - \\frac{6561 x^{5}}{20 L^{6}} & \\frac{81 x}{4 L^{2}} - \\frac{162 x^{2}}{L^{3}} + \\frac{1107 x^{3}}{2 L^{4}} - \\frac{729 x^{4}}{L^{5}} + \\frac{6561 x^{5}}{20 L^{6}} & - \\frac{9 x}{2 L^{2}} + \\frac{153 x^{2}}{4 L^{3}} - \\frac{567 x^{3}}{4 L^{4}} + \\frac{1701 x^{4}}{8 L^{5}} - \\frac{2187 x^{5}}{20 L^{6}}\\\\- \\frac{11 x}{2 L^{2}} + \\frac{135 x^{2}}{4 L^{3}} - \\frac{333 x^{3}}{4 L^{4}} + \\frac{729 x^{4}}{8 L^{5}} - \\frac{729 x^{5}}{20 L^{6}} & \\frac{9 x}{L^{2}} - \\frac{63 x^{2}}{L^{3}} + \\frac{189 x^{3}}{L^{4}} - \\frac{243 x^{4}}{L^{5}} + \\frac{2187 x^{5}}{20 L^{6}} & - \\frac{9 x}{2 L^{2}} + \\frac{153 x^{2}}{4 L^{3}} - \\frac{567 x^{3}}{4 L^{4}} + \\frac{1701 x^{4}}{8 L^{5}} - \\frac{2187 x^{5}}{20 L^{6}} & \\frac{x}{L^{2}} - \\frac{9 x^{2}}{L^{3}} + \\frac{36 x^{3}}{L^{4}} - \\frac{243 x^{4}}{4 L^{5}} + \\frac{729 x^{5}}{20 L^{6}}\\end{matrix}\\right]$"
      ],
      "text/plain": [
       "Matrix([\n",
       "[        121*x/(4*L**2) - 99*x**2/L**3 + 315*x**3/(2*L**4) - 243*x**4/(2*L**5) + 729*x**5/(20*L**6),  -99*x/(2*L**2) + 819*x**2/(4*L**3) - 1539*x**3/(4*L**4) + 2673*x**4/(8*L**5) - 2187*x**5/(20*L**6),    99*x/(4*L**2) - 279*x**2/(2*L**3) + 621*x**3/(2*L**4) - 1215*x**4/(4*L**5) + 2187*x**5/(20*L**6),  -11*x/(2*L**2) + 135*x**2/(4*L**3) - 333*x**3/(4*L**4) + 729*x**4/(8*L**5) - 729*x**5/(20*L**6)],\n",
       "[-99*x/(2*L**2) + 819*x**2/(4*L**3) - 1539*x**3/(4*L**4) + 2673*x**4/(8*L**5) - 2187*x**5/(20*L**6),                81*x/L**2 - 405*x**2/L**3 + 918*x**3/L**4 - 3645*x**4/(4*L**5) + 6561*x**5/(20*L**6), -81*x/(2*L**2) + 1053*x**2/(4*L**3) - 2889*x**3/(4*L**4) + 6561*x**4/(8*L**5) - 6561*x**5/(20*L**6),                    9*x/L**2 - 63*x**2/L**3 + 189*x**3/L**4 - 243*x**4/L**5 + 2187*x**5/(20*L**6)],\n",
       "[  99*x/(4*L**2) - 279*x**2/(2*L**3) + 621*x**3/(2*L**4) - 1215*x**4/(4*L**5) + 2187*x**5/(20*L**6), -81*x/(2*L**2) + 1053*x**2/(4*L**3) - 2889*x**3/(4*L**4) + 6561*x**4/(8*L**5) - 6561*x**5/(20*L**6),            81*x/(4*L**2) - 162*x**2/L**3 + 1107*x**3/(2*L**4) - 729*x**4/L**5 + 6561*x**5/(20*L**6), -9*x/(2*L**2) + 153*x**2/(4*L**3) - 567*x**3/(4*L**4) + 1701*x**4/(8*L**5) - 2187*x**5/(20*L**6)],\n",
       "[   -11*x/(2*L**2) + 135*x**2/(4*L**3) - 333*x**3/(4*L**4) + 729*x**4/(8*L**5) - 729*x**5/(20*L**6),                       9*x/L**2 - 63*x**2/L**3 + 189*x**3/L**4 - 243*x**4/L**5 + 2187*x**5/(20*L**6),    -9*x/(2*L**2) + 153*x**2/(4*L**3) - 567*x**3/(4*L**4) + 1701*x**4/(8*L**5) - 2187*x**5/(20*L**6),                     x/L**2 - 9*x**2/L**3 + 36*x**3/L**4 - 243*x**4/(4*L**5) + 729*x**5/(20*L**6)]])"
      ]
     },
     "execution_count": 8,
     "metadata": {},
     "output_type": "execute_result"
    }
   ],
   "source": [
    "integral = sp.integrate(vv, x)\n",
    "integral"
   ]
  },
  {
   "cell_type": "code",
   "execution_count": 9,
   "metadata": {},
   "outputs": [
    {
     "data": {
      "text/latex": [
       "$\\displaystyle \\left[\\begin{matrix}\\frac{185}{3} & - \\frac{315}{4} & \\frac{45}{2} & - \\frac{65}{12}\\\\- \\frac{315}{4} & 180 & - \\frac{495}{4} & \\frac{45}{2}\\\\\\frac{45}{2} & - \\frac{495}{4} & 180 & - \\frac{315}{4}\\\\- \\frac{65}{12} & \\frac{45}{2} & - \\frac{315}{4} & \\frac{185}{3}\\end{matrix}\\right]$"
      ],
      "text/plain": [
       "Matrix([\n",
       "[ 185/3, -315/4,   45/2, -65/12],\n",
       "[-315/4,    180, -495/4,   45/2],\n",
       "[  45/2, -495/4,    180, -315/4],\n",
       "[-65/12,   45/2, -315/4,  185/3]])"
      ]
     },
     "execution_count": 9,
     "metadata": {},
     "output_type": "execute_result"
    }
   ],
   "source": [
    "K = 50 * integral.subs({x:L}).subs({L:3})\n",
    "K"
   ]
  },
  {
   "cell_type": "code",
   "execution_count": 10,
   "metadata": {},
   "outputs": [
    {
     "data": {
      "text/latex": [
       "$\\displaystyle \\left[\\begin{matrix}15\\\\45\\\\45\\\\15\\end{matrix}\\right]$"
      ],
      "text/plain": [
       "Matrix([\n",
       "[15],\n",
       "[45],\n",
       "[45],\n",
       "[15]])"
      ]
     },
     "execution_count": 10,
     "metadata": {},
     "output_type": "execute_result"
    }
   ],
   "source": [
    "v1 = sp.Matrix([N_1, N_2, N_3, N_4])\n",
    "vQ = 40 * sp.integrate(v1, x).subs({x:L}).subs({L:3})\n",
    "vQ"
   ]
  },
  {
   "cell_type": "code",
   "execution_count": 11,
   "metadata": {},
   "outputs": [
    {
     "data": {
      "text/latex": [
       "$\\displaystyle \\left[\\begin{matrix}0 & 0 & 0 & 1\\end{matrix}\\right]$"
      ],
      "text/plain": [
       "Matrix([[0, 0, 0, 1]])"
      ]
     },
     "execution_count": 11,
     "metadata": {},
     "output_type": "execute_result"
    }
   ],
   "source": [
    "sp.Matrix([0,0,0,1]).T"
   ]
  },
  {
   "cell_type": "code",
   "execution_count": 12,
   "metadata": {},
   "outputs": [
    {
     "data": {
      "text/latex": [
       "$\\displaystyle \\left[\\begin{matrix}\\frac{185}{3} & - \\frac{315}{4} & \\frac{45}{2} & - \\frac{65}{12}\\\\- \\frac{315}{4} & 180 & - \\frac{495}{4} & \\frac{45}{2}\\\\\\frac{45}{2} & - \\frac{495}{4} & 180 & - \\frac{315}{4}\\\\0 & 0 & 0 & 1\\end{matrix}\\right]$"
      ],
      "text/plain": [
       "Matrix([\n",
       "[ 185/3, -315/4,   45/2, -65/12],\n",
       "[-315/4,    180, -495/4,   45/2],\n",
       "[  45/2, -495/4,    180, -315/4],\n",
       "[     0,      0,      0,      1]])"
      ]
     },
     "execution_count": 12,
     "metadata": {},
     "output_type": "execute_result"
    }
   ],
   "source": [
    "K = sp.Matrix([K[0,:], K[1,:], K[2,:], sp.Matrix([0,0,0,1]).T])\n",
    "K"
   ]
  },
  {
   "cell_type": "code",
   "execution_count": 13,
   "metadata": {},
   "outputs": [
    {
     "data": {
      "text/latex": [
       "$\\displaystyle \\left[\\begin{matrix}15\\\\45\\\\45\\\\300\\end{matrix}\\right]$"
      ],
      "text/plain": [
       "Matrix([\n",
       "[ 15],\n",
       "[ 45],\n",
       "[ 45],\n",
       "[300]])"
      ]
     },
     "execution_count": 13,
     "metadata": {},
     "output_type": "execute_result"
    }
   ],
   "source": [
    "vQ = sp.Matrix([vQ[0],vQ[1],vQ[2],300])\n",
    "vQ\n"
   ]
  },
  {
   "cell_type": "code",
   "execution_count": 14,
   "metadata": {},
   "outputs": [
    {
     "data": {
      "text/plain": [
       "{T_1: 3051/10, T_2: 1521/5, T_3: 605/2, T_4: 300}"
      ]
     },
     "execution_count": 14,
     "metadata": {},
     "output_type": "execute_result"
    }
   ],
   "source": [
    "solucion = sp.solve(K * T - vQ - sp.Matrix([25,0,0,0]))\n",
    "solucion"
   ]
  },
  {
   "cell_type": "code",
   "execution_count": 15,
   "metadata": {},
   "outputs": [],
   "source": [
    "T1 = solucion[T_1]\n",
    "T2 = solucion[T_2]\n",
    "T3 = solucion[T_3]\n",
    "T4 = solucion[T_4]"
   ]
  },
  {
   "cell_type": "code",
   "execution_count": 16,
   "metadata": {},
   "outputs": [
    {
     "data": {
      "text/plain": [
       "[<matplotlib.lines.Line2D at 0x7fe98f3395d0>]"
      ]
     },
     "execution_count": 16,
     "metadata": {},
     "output_type": "execute_result"
    },
    {
     "data": {
      "image/png": "[encoded data removed]",
      "text/plain": [
       "<Figure size 432x288 with 1 Axes>"
      ]
     },
     "metadata": {
      "needs_background": "light"
     },
     "output_type": "display_data"
    }
   ],
   "source": [
    "import matplotlib.pyplot as plt\n",
    "\n",
    "\n",
    "x = np.linspace(0,3,50)\n",
    "T = 300 + 4*(3**2 - x**2)/(2*5) + (3 - x)/2\n",
    "\n",
    "plt.plot(x,T)\n",
    "\n",
    "plt.plot([0,1,2,3], [T1,T2,T3,T4])"
   ]
  },
  {
   "cell_type": "code",
   "execution_count": null,
   "metadata": {},
   "outputs": [],
   "source": []
  }
 ],
 "metadata": {
  "julynter-results": {
   "filteredId": [],
   "filteredIndividual": [],
   "filteredRestart": [],
   "filteredType": [],
   "hash": "f24ba97468df98fb49afdb353750e949bf8f4922",
   "visible": [
    {
     "cellId": "group",
     "hash": "c0de46ba034d710c2b2406a37ee6816be9634aa0",
     "reason": "This groups other lint messages",
     "reportId": "group",
     "reportType": "hiddenstate",
     "suggestion": null,
     "text": "Hidden State"
    },
    {
     "cellId": 2,
     "hash": "c73d8883cf7fb322340e5b30cfc963b544b5e658",
     "reason": "A cell with results of a previous session may fail to execute or produce different results in this one, hampering the reproducibility.",
     "reportId": "h1",
     "reportType": "hiddenstate",
     "suggestion": "Please consider executing it to guarantee the reproducibility.",
     "text": "Cell 2 has execution results, but it wasn't executed on this session"
    },
    {
     "cellId": 3,
     "hash": "1f28f13c76a8862c30120c87a854a6165759a2a0",
     "reason": "A cell with results of a previous session may fail to execute or produce different results in this one, hampering the reproducibility.",
     "reportId": "h1",
     "reportType": "hiddenstate",
     "suggestion": "Please consider executing it to guarantee the reproducibility.",
     "text": "Cell 3 has execution results, but it wasn't executed on this session"
    },
    {
     "cellId": 4,
     "hash": "c2096a4d51b6ade4117c908a887991a50edc693a",
     "reason": "A cell with results of a previous session may fail to execute or produce different results in this one, hampering the reproducibility.",
     "reportId": "h1",
     "reportType": "hiddenstate",
     "suggestion": "Please consider executing it to guarantee the reproducibility.",
     "text": "Cell 4 has execution results, but it wasn't executed on this session"
    },
    {
     "cellId": 5,
     "hash": "2c3a2085d11ae0c9a24f346652f143b097950ab6",
     "reason": "A cell with results of a previous session may fail to execute or produce different results in this one, hampering the reproducibility.",
     "reportId": "h1",
     "reportType": "hiddenstate",
     "suggestion": "Please consider executing it to guarantee the reproducibility.",
     "text": "Cell 5 has execution results, but it wasn't executed on this session"
    },
    {
     "cellId": 6,
     "hash": "c172392cb22725a4dfd13de682430febfa124bab",
     "reason": "A cell with results of a previous session may fail to execute or produce different results in this one, hampering the reproducibility.",
     "reportId": "h1",
     "reportType": "hiddenstate",
     "suggestion": "Please consider executing it to guarantee the reproducibility.",
     "text": "Cell 6 has execution results, but it wasn't executed on this session"
    },
    {
     "cellId": 7,
     "hash": "7b49c32da97eff2cb6639741a4b3ce11dbb745c1",
     "reason": "A cell with results of a previous session may fail to execute or produce different results in this one, hampering the reproducibility.",
     "reportId": "h1",
     "reportType": "hiddenstate",
     "suggestion": "Please consider executing it to guarantee the reproducibility.",
     "text": "Cell 7 has execution results, but it wasn't executed on this session"
    },
    {
     "cellId": 8,
     "hash": "38f7e722e98a7e20e9bfc169cb1273c1292a35ac",
     "reason": "A cell with results of a previous session may fail to execute or produce different results in this one, hampering the reproducibility.",
     "reportId": "h1",
     "reportType": "hiddenstate",
     "suggestion": "Please consider executing it to guarantee the reproducibility.",
     "text": "Cell 8 has execution results, but it wasn't executed on this session"
    },
    {
     "cellId": 9,
     "hash": "50d62067ef223edd852f87d643e9834741c3aced",
     "reason": "A cell with results of a previous session may fail to execute or produce different results in this one, hampering the reproducibility.",
     "reportId": "h1",
     "reportType": "hiddenstate",
     "suggestion": "Please consider executing it to guarantee the reproducibility.",
     "text": "Cell 9 has execution results, but it wasn't executed on this session"
    },
    {
     "cellId": 10,
     "hash": "6881cc3c4eb4e7649b7a4e2a26f2d8e9d5b45322",
     "reason": "A cell with results of a previous session may fail to execute or produce different results in this one, hampering the reproducibility.",
     "reportId": "h1",
     "reportType": "hiddenstate",
     "suggestion": "Please consider executing it to guarantee the reproducibility.",
     "text": "Cell 10 has execution results, but it wasn't executed on this session"
    },
    {
     "cellId": 11,
     "hash": "cbf27825fdebc96ceafcc6554a7e5d3c3db3c3c6",
     "reason": "A cell with results of a previous session may fail to execute or produce different results in this one, hampering the reproducibility.",
     "reportId": "h1",
     "reportType": "hiddenstate",
     "suggestion": "Please consider executing it to guarantee the reproducibility.",
     "text": "Cell 11 has execution results, but it wasn't executed on this session"
    },
    {
     "cellId": 12,
     "hash": "1a6d107854f737c9cba436b1ac306c34969d5741",
     "reason": "A cell with results of a previous session may fail to execute or produce different results in this one, hampering the reproducibility.",
     "reportId": "h1",
     "reportType": "hiddenstate",
     "suggestion": "Please consider executing it to guarantee the reproducibility.",
     "text": "Cell 12 has execution results, but it wasn't executed on this session"
    },
    {
     "cellId": 13,
     "hash": "3ccdb48e9d7839ffd036b947427f078956e9019d",
     "reason": "A cell with results of a previous session may fail to execute or produce different results in this one, hampering the reproducibility.",
     "reportId": "h1",
     "reportType": "hiddenstate",
     "suggestion": "Please consider executing it to guarantee the reproducibility.",
     "text": "Cell 13 has execution results, but it wasn't executed on this session"
    },
    {
     "cellId": 14,
     "hash": "4eec536fb3b02533d3d7b26df5ee5ce014508668",
     "reason": "A cell with results of a previous session may fail to execute or produce different results in this one, hampering the reproducibility.",
     "reportId": "h1",
     "reportType": "hiddenstate",
     "suggestion": "Please consider executing it to guarantee the reproducibility.",
     "text": "Cell 14 has execution results, but it wasn't executed on this session"
    },
    {
     "cellId": 15,
     "hash": "651ee5e534523e613e6e4f60748760291ea32023",
     "reason": "A cell with results of a previous session may fail to execute or produce different results in this one, hampering the reproducibility.",
     "reportId": "h1",
     "reportType": "hiddenstate",
     "suggestion": "Please consider executing it to guarantee the reproducibility.",
     "text": "Cell 15 has execution results, but it wasn't executed on this session"
    },
    {
     "cellId": 16,
     "hash": "cdff81f17e5c535b391c0bf9d7baf5eda5073206",
     "reason": "A cell with results of a previous session may fail to execute or produce different results in this one, hampering the reproducibility.",
     "reportId": "h1",
     "reportType": "hiddenstate",
     "suggestion": "Please consider executing it to guarantee the reproducibility.",
     "text": "Cell 16 has execution results, but it wasn't executed on this session"
    },
    {
     "cellId": 17,
     "hash": "ea06f6b94af227f64a59a0b2b2bbcf34ac1a46e2",
     "reason": "A cell with results of a previous session may fail to execute or produce different results in this one, hampering the reproducibility.",
     "reportId": "h1",
     "reportType": "hiddenstate",
     "suggestion": "Please consider executing it to guarantee the reproducibility.",
     "text": "Cell 17 has execution results, but it wasn't executed on this session"
    },
    {
     "cellId": "group",
     "hash": "19d3d3d153f22e318cbe061df9e685ba5165b0aa",
     "reason": "This groups other lint messages",
     "reportId": "group",
     "reportType": "confusenotebook",
     "suggestion": null,
     "text": "Confuse Notebook"
    },
    {
     "cellId": 17,
     "hash": "8cede7903d6c93f34434cc9b11ff7e4afccd3920",
     "reason": "A markdown cell at the end of the notebook can conclude it, presenting a summary of the obtained results.",
     "reportId": "c5",
     "reportType": "confusenotebook",
     "suggestion": "Please consider adding a markdown cell to conclude the notebook.",
     "text": "The last cell of the notebook is not a markdown cell"
    }
   ]
  },
  "kernelspec": {
   "display_name": "Python 3 (ipykernel)",
   "language": "python",
   "name": "python3"
  },
  "language_info": {
   "codemirror_mode": {
    "name": "ipython",
    "version": 3
   },
   "file_extension": ".py",
   "mimetype": "text/x-python",
   "name": "python",
   "nbconvert_exporter": "python",
   "pygments_lexer": "ipython3",
   "version": "3.8.8"
  }
 },
 "nbformat": 4,
 "nbformat_minor": 4
}
