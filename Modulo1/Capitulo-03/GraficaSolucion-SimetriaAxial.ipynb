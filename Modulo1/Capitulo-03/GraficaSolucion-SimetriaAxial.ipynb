{
 "cells": [
  {
   "cell_type": "code",
   "execution_count": 1,
   "metadata": {},
   "outputs": [],
   "source": [
    "import sympy as sp\n",
    "import numpy as np\n",
    "sp.init_printing(use_unicode=True)"
   ]
  },
  {
   "cell_type": "code",
   "execution_count": 7,
   "metadata": {},
   "outputs": [],
   "source": [
    "r1,r2,r1ei, r2ei = sp.symbols('r1,r2, r1^{e_i}, r2^{e_i}')\n",
    "h, T_inf = sp.symbols('h, T_{\\infty}')\n",
    "Kei= sp.symbols('K^{e_i}')\n",
    "delta1, delta2 = sp.symbols('\\delta_1, \\delta_2')\n",
    "delta_e1, delta_e2 = sp.symbols('\\delta_{e_1}, \\delta_{e_2}')\n",
    "T1, T2, T3 = sp.symbols('T1, T2, T3')"
   ]
  },
  {
   "cell_type": "markdown",
   "metadata": {},
   "source": [
    "### Elemento 1"
   ]
  },
  {
   "cell_type": "code",
   "execution_count": 16,
   "metadata": {},
   "outputs": [
    {
     "data": {
      "text/latex": [
       "$\\displaystyle \\left[\\begin{matrix}K^{e_i} \\left(r1^{e_i} + r2^{e_i}\\right) & - K^{e_i} \\left(r1^{e_i} + r2^{e_i}\\right)\\\\- K^{e_i} \\left(r1^{e_i} + r2^{e_i}\\right) & K^{e_i} \\left(r1^{e_i} + r2^{e_i}\\right) + \\delta_{e_1} h r_{1} - \\delta_{e_2} h r_{2}\\end{matrix}\\right]$"
      ],
      "text/plain": [
       "⎡K_i}__{e⋅(r_1_i}__{e + r_2_i}__{e)                      -K_i}__{e⋅(r_1_i}__{e\n",
       "⎢                                                                             \n",
       "⎣-K_i}__{e⋅(r_1_i}__{e + r_2_i}__{e)  K_i}__{e⋅(r_1_i}__{e + r_2_i}__{e) + \\de\n",
       "\n",
       " + r_2_i}__{e)                    ⎤\n",
       "                                  ⎥\n",
       "lta_{e_1}⋅h⋅r₁ - \\delta_{e_2}⋅h⋅r₂⎦"
      ]
     },
     "execution_count": 16,
     "metadata": {},
     "output_type": "execute_result"
    }
   ],
   "source": [
    "V1 = Kei*(r1ei + r2ei)*sp.Matrix([[1,-1],[-1,1]]) + r1*h*sp.Matrix([[0,0],[0,1]])*delta_e1 -r2*h*sp.Matrix([[1,0],[0,0]])*delta_e2\n",
    "V1"
   ]
  },
  {
   "cell_type": "code",
   "execution_count": 17,
   "metadata": {},
   "outputs": [
    {
     "data": {
      "text/latex": [
       "$\\displaystyle \\left[\\begin{matrix}T_{1}\\\\T_{2}\\end{matrix}\\right]$"
      ],
      "text/plain": [
       "⎡T₁⎤\n",
       "⎢  ⎥\n",
       "⎣T₂⎦"
      ]
     },
     "execution_count": 17,
     "metadata": {},
     "output_type": "execute_result"
    }
   ],
   "source": [
    "Te1 = sp.Matrix([T1,T2]) \n",
    "Te1"
   ]
  },
  {
   "cell_type": "code",
   "execution_count": 18,
   "metadata": {},
   "outputs": [
    {
     "data": {
      "text/latex": [
       "$\\displaystyle \\left[\\begin{matrix}- T_{\\infty} \\delta_{e_1} h r_{1}\\\\T_{\\infty} \\delta_{e_2} h r_{2}\\end{matrix}\\right]$"
      ],
      "text/plain": [
       "⎡-T_{\\infty}⋅\\delta_{e_1}⋅h⋅r₁⎤\n",
       "⎢                             ⎥\n",
       "⎣T_{\\infty}⋅\\delta_{e_2}⋅h⋅r₂ ⎦"
      ]
     },
     "execution_count": 18,
     "metadata": {},
     "output_type": "execute_result"
    }
   ],
   "source": [
    "H1 = r2*h*T_inf*sp.Matrix([0,1])*delta_e2 - r1*h*T_inf*sp.Matrix([1,0])*delta_e1\n",
    "H1"
   ]
  },
  {
   "cell_type": "code",
   "execution_count": 19,
   "metadata": {},
   "outputs": [
    {
     "data": {
      "text/latex": [
       "$\\displaystyle \\left[\\begin{matrix}K^{e_i} T_{1} \\left(r1^{e_i} + r2^{e_i}\\right) - K^{e_i} T_{2} \\left(r1^{e_i} + r2^{e_i}\\right) - T_{\\infty} \\delta_{e_1} h r_{1}\\\\- K^{e_i} T_{1} \\left(r1^{e_i} + r2^{e_i}\\right) + T_{2} \\left(K^{e_i} \\left(r1^{e_i} + r2^{e_i}\\right) + \\delta_{e_1} h r_{1} - \\delta_{e_2} h r_{2}\\right) + T_{\\infty} \\delta_{e_2} h r_{2}\\end{matrix}\\right]$"
      ],
      "text/plain": [
       "⎡                     K_i}__{e⋅T₁⋅(r_1_i}__{e + r_2_i}__{e) - K_i}__{e⋅T₂⋅(r_1\n",
       "⎢                                                                             \n",
       "⎣-K_i}__{e⋅T₁⋅(r_1_i}__{e + r_2_i}__{e) + T₂⋅(K_i}__{e⋅(r_1_i}__{e + r_2_i}__{\n",
       "\n",
       "_i}__{e + r_2_i}__{e) - T_{\\infty}⋅\\delta_{e_1}⋅h⋅r₁                      ⎤\n",
       "                                                                          ⎥\n",
       "e) + \\delta_{e_1}⋅h⋅r₁ - \\delta_{e_2}⋅h⋅r₂) + T_{\\infty}⋅\\delta_{e_2}⋅h⋅r₂⎦"
      ]
     },
     "execution_count": 19,
     "metadata": {},
     "output_type": "execute_result"
    }
   ],
   "source": [
    "V1*Te1 + H1"
   ]
  },
  {
   "cell_type": "markdown",
   "metadata": {},
   "source": [
    "#### Elemento 2"
   ]
  },
  {
   "cell_type": "code",
   "execution_count": 20,
   "metadata": {},
   "outputs": [
    {
     "data": {
      "text/latex": [
       "$\\displaystyle \\left[\\begin{matrix}K^{e_i} \\left(r1^{e_i} + r2^{e_i}\\right) & - K^{e_i} \\left(r1^{e_i} + r2^{e_i}\\right)\\\\- K^{e_i} \\left(r1^{e_i} + r2^{e_i}\\right) & K^{e_i} \\left(r1^{e_i} + r2^{e_i}\\right) + \\delta_{e_1} h r_{1} - \\delta_{e_2} h r_{2}\\end{matrix}\\right]$"
      ],
      "text/plain": [
       "⎡K_i}__{e⋅(r_1_i}__{e + r_2_i}__{e)                      -K_i}__{e⋅(r_1_i}__{e\n",
       "⎢                                                                             \n",
       "⎣-K_i}__{e⋅(r_1_i}__{e + r_2_i}__{e)  K_i}__{e⋅(r_1_i}__{e + r_2_i}__{e) + \\de\n",
       "\n",
       " + r_2_i}__{e)                    ⎤\n",
       "                                  ⎥\n",
       "lta_{e_1}⋅h⋅r₁ - \\delta_{e_2}⋅h⋅r₂⎦"
      ]
     },
     "execution_count": 20,
     "metadata": {},
     "output_type": "execute_result"
    }
   ],
   "source": [
    "V2 = Kei*(r1ei + r2ei)*sp.Matrix([[1,-1],[-1,1]]) + r1*h*sp.Matrix([[0,0],[0,1]])*delta_e1 -r2*h*sp.Matrix([[0,0],[0,1]])*delta_e2\n",
    "V2"
   ]
  },
  {
   "cell_type": "code",
   "execution_count": 21,
   "metadata": {},
   "outputs": [
    {
     "data": {
      "text/latex": [
       "$\\displaystyle \\left[\\begin{matrix}- T_{\\infty} \\delta_{e_1} h r_{1}\\\\T_{\\infty} \\delta_{e_2} h r_{2}\\end{matrix}\\right]$"
      ],
      "text/plain": [
       "⎡-T_{\\infty}⋅\\delta_{e_1}⋅h⋅r₁⎤\n",
       "⎢                             ⎥\n",
       "⎣T_{\\infty}⋅\\delta_{e_2}⋅h⋅r₂ ⎦"
      ]
     },
     "execution_count": 21,
     "metadata": {},
     "output_type": "execute_result"
    }
   ],
   "source": [
    "H2 = r2*h*T_inf*sp.Matrix([0,1])*delta_e2 - r1*h*T_inf*sp.Matrix([1,0])*delta_e1\n",
    "H2"
   ]
  },
  {
   "cell_type": "code",
   "execution_count": 22,
   "metadata": {},
   "outputs": [
    {
     "data": {
      "text/latex": [
       "$\\displaystyle \\left[\\begin{matrix}T_{2}\\\\T_{3}\\end{matrix}\\right]$"
      ],
      "text/plain": [
       "⎡T₂⎤\n",
       "⎢  ⎥\n",
       "⎣T₃⎦"
      ]
     },
     "execution_count": 22,
     "metadata": {},
     "output_type": "execute_result"
    }
   ],
   "source": [
    "Te2 = sp.Matrix([T2,T3]) \n",
    "Te2"
   ]
  },
  {
   "cell_type": "code",
   "execution_count": 23,
   "metadata": {},
   "outputs": [
    {
     "data": {
      "text/latex": [
       "$\\displaystyle \\left[\\begin{matrix}K^{e_i} T_{2} \\left(r1^{e_i} + r2^{e_i}\\right) - K^{e_i} T_{3} \\left(r1^{e_i} + r2^{e_i}\\right) - T_{\\infty} \\delta_{e_1} h r_{1}\\\\- K^{e_i} T_{2} \\left(r1^{e_i} + r2^{e_i}\\right) + T_{3} \\left(K^{e_i} \\left(r1^{e_i} + r2^{e_i}\\right) + \\delta_{e_1} h r_{1} - \\delta_{e_2} h r_{2}\\right) + T_{\\infty} \\delta_{e_2} h r_{2}\\end{matrix}\\right]$"
      ],
      "text/plain": [
       "⎡                     K_i}__{e⋅T₂⋅(r_1_i}__{e + r_2_i}__{e) - K_i}__{e⋅T₃⋅(r_1\n",
       "⎢                                                                             \n",
       "⎣-K_i}__{e⋅T₂⋅(r_1_i}__{e + r_2_i}__{e) + T₃⋅(K_i}__{e⋅(r_1_i}__{e + r_2_i}__{\n",
       "\n",
       "_i}__{e + r_2_i}__{e) - T_{\\infty}⋅\\delta_{e_1}⋅h⋅r₁                      ⎤\n",
       "                                                                          ⎥\n",
       "e) + \\delta_{e_1}⋅h⋅r₁ - \\delta_{e_2}⋅h⋅r₂) + T_{\\infty}⋅\\delta_{e_2}⋅h⋅r₂⎦"
      ]
     },
     "execution_count": 23,
     "metadata": {},
     "output_type": "execute_result"
    }
   ],
   "source": [
    "V2*Te2 + H2"
   ]
  },
  {
   "cell_type": "markdown",
   "metadata": {},
   "source": [
    "Resolver, utilizando las ecuaciones obtenidas y dos elementos lineales, la distribución de temperatura de un tubo de pared gruesa que contiene un fluido caliente. El tubo tiene un espesor de \n",
    "10cm y un radio interno de 20cm. La conductividad del material es $K=20W/m^oC4$. La temperatura del fuido es de $400^oC$, $h=\\frac{50W}{{m^2}^oC}$ y la temperatura exterior del tubo es $TL=39.18^oC$."
   ]
  },
  {
   "cell_type": "code",
   "execution_count": 28,
   "metadata": {},
   "outputs": [],
   "source": [
    "#Para el elemento 1\n",
    "r2e1=0.25\n",
    "r1e1=0.2\n",
    "he1 = r2e1 - r1e1\n",
    "Ke1 = 20\n",
    "h=50\n",
    "Tinf = 400\n"
   ]
  },
  {
   "cell_type": "code",
   "execution_count": 33,
   "metadata": {},
   "outputs": [],
   "source": [
    "V1=(Ke1/(2*he1))*(r1e1 + r2e1)*sp.Matrix([[1,-1],[-1,1]]) + r1e1*h*sp.Matrix([[1,0],[0,0]])*delta_e1 -r2e1*h*sp.Matrix([[0,0],[0,1]])*delta_e2"
   ]
  },
  {
   "cell_type": "code",
   "execution_count": 34,
   "metadata": {},
   "outputs": [
    {
     "data": {
      "text/latex": [
       "$\\displaystyle \\left[\\begin{matrix}10.0 \\delta_{e_1} + 90.0 & -90.0\\\\-90.0 & 90.0 - 12.5 \\delta_{e_2}\\end{matrix}\\right]$"
      ],
      "text/plain": [
       "⎡10.0⋅\\delta_{e_1} + 90.0           -90.0          ⎤\n",
       "⎢                                                  ⎥\n",
       "⎣         -90.0            90.0 - 12.5⋅\\delta_{e_2}⎦"
      ]
     },
     "execution_count": 34,
     "metadata": {},
     "output_type": "execute_result"
    }
   ],
   "source": [
    "V1"
   ]
  },
  {
   "cell_type": "code",
   "execution_count": 68,
   "metadata": {},
   "outputs": [],
   "source": [
    "#Usando delta_e1 = 1, y delta_e2=0\n",
    "MK1 = V1.subs({delta_e1:1,delta_e2:0})"
   ]
  },
  {
   "cell_type": "code",
   "execution_count": 69,
   "metadata": {},
   "outputs": [
    {
     "data": {
      "text/latex": [
       "$\\displaystyle \\left[\\begin{matrix}-4000.0\\\\0\\end{matrix}\\right]$"
      ],
      "text/plain": [
       "⎡-4000.0⎤\n",
       "⎢       ⎥\n",
       "⎣   0   ⎦"
      ]
     },
     "execution_count": 69,
     "metadata": {},
     "output_type": "execute_result"
    }
   ],
   "source": [
    "H1 = r2e1*h*Tinf*sp.Matrix([0,1])*delta_e2 - r1e1*h*Tinf*sp.Matrix([1,0])*delta_e1\n",
    "H1.subs({delta_e1:1,delta_e2:0})"
   ]
  },
  {
   "cell_type": "code",
   "execution_count": 70,
   "metadata": {},
   "outputs": [
    {
     "data": {
      "text/latex": [
       "$\\displaystyle \\left[\\begin{matrix}T_{1} \\left(10.0 \\delta_{e_1} + 90.0\\right) - 90.0 T_{2} - 4000.0 \\delta_{e_1}\\\\- 90.0 T_{1} + T_{2} \\left(90.0 - 12.5 \\delta_{e_2}\\right) + 5000.0 \\delta_{e_2}\\end{matrix}\\right]$"
      ],
      "text/plain": [
       "⎡T₁⋅(10.0⋅\\delta_{e_1} + 90.0) - 90.0⋅T₂ - 4000.0⋅\\delta_{e_1} ⎤\n",
       "⎢                                                              ⎥\n",
       "⎣-90.0⋅T₁ + T₂⋅(90.0 - 12.5⋅\\delta_{e_2}) + 5000.0⋅\\delta_{e_2}⎦"
      ]
     },
     "execution_count": 70,
     "metadata": {},
     "output_type": "execute_result"
    }
   ],
   "source": [
    "V1*Te1 + H1"
   ]
  },
  {
   "cell_type": "code",
   "execution_count": 71,
   "metadata": {},
   "outputs": [],
   "source": [
    "#Para el elemento 2\n",
    "r2e2=0.3\n",
    "r1e2=0.25\n",
    "he2 = r2e2 - r1e2\n",
    "Ke2 = 20"
   ]
  },
  {
   "cell_type": "code",
   "execution_count": 72,
   "metadata": {},
   "outputs": [],
   "source": [
    "V2=(Ke2/(2*he2))*(r1e2 + r2e2)*sp.Matrix([[1,-1],[-1,1]]) "
   ]
  },
  {
   "cell_type": "code",
   "execution_count": 73,
   "metadata": {},
   "outputs": [
    {
     "data": {
      "text/latex": [
       "$\\displaystyle \\left[\\begin{matrix}0\\\\0\\end{matrix}\\right]$"
      ],
      "text/plain": [
       "⎡0⎤\n",
       "⎢ ⎥\n",
       "⎣0⎦"
      ]
     },
     "execution_count": 73,
     "metadata": {},
     "output_type": "execute_result"
    }
   ],
   "source": [
    "H2 = r2e2*h*0*sp.Matrix([0,1])*delta_e2 - r1e2*h*0*sp.Matrix([1,0])*delta_e1\n",
    "H2"
   ]
  },
  {
   "cell_type": "code",
   "execution_count": 74,
   "metadata": {},
   "outputs": [],
   "source": [
    "#usando delta_e1=0, delta_e2=1\n",
    "MK2 =V2.subs({delta_e1:0,delta_e2:1})\n"
   ]
  },
  {
   "cell_type": "code",
   "execution_count": 76,
   "metadata": {
    "scrolled": true
   },
   "outputs": [
    {
     "data": {
      "text/latex": [
       "$\\displaystyle \\left[\\begin{matrix}100.0 & -90.0\\\\-90.0 & 90.0\\end{matrix}\\right]$"
      ],
      "text/plain": [
       "⎡100.0  -90.0⎤\n",
       "⎢            ⎥\n",
       "⎣-90.0  90.0 ⎦"
      ]
     },
     "execution_count": 76,
     "metadata": {},
     "output_type": "execute_result"
    }
   ],
   "source": [
    "MK1"
   ]
  },
  {
   "cell_type": "code",
   "execution_count": 77,
   "metadata": {},
   "outputs": [
    {
     "data": {
      "text/latex": [
       "$\\displaystyle \\left[\\begin{matrix}110.0 & -110.0\\\\-110.0 & 110.0\\end{matrix}\\right]$"
      ],
      "text/plain": [
       "⎡110.0   -110.0⎤\n",
       "⎢              ⎥\n",
       "⎣-110.0  110.0 ⎦"
      ]
     },
     "execution_count": 77,
     "metadata": {},
     "output_type": "execute_result"
    }
   ],
   "source": [
    "MK2"
   ]
  },
  {
   "cell_type": "code",
   "execution_count": 78,
   "metadata": {},
   "outputs": [
    {
     "data": {
      "text/latex": [
       "$\\displaystyle \\left[\\begin{matrix}100.0 & -90.0 & 0.0\\\\-90.0 & 200.0 & -110.0\\\\0.0 & -110.0 & 110.0\\end{matrix}\\right]$"
      ],
      "text/plain": [
       "⎡100.0  -90.0    0.0  ⎤\n",
       "⎢                     ⎥\n",
       "⎢-90.0  200.0   -110.0⎥\n",
       "⎢                     ⎥\n",
       "⎣ 0.0   -110.0  110.0 ⎦"
      ]
     },
     "execution_count": 78,
     "metadata": {},
     "output_type": "execute_result"
    }
   ],
   "source": [
    "MK = np.zeros((3,3))\n",
    "\n",
    "for j, MKK in enumerate([MK1, MK2]):\n",
    "    i = j\n",
    "    MK[i,i] = MK[i,i] + np.array(MKK[0,0])\n",
    "    MK[i+1,i] = MK[i+1,i] + np.array(MKK[1,0])\n",
    "    MK[i,i+1] = MK[i,i+1] + np.array(MKK[0,1])\n",
    "    MK[i+1,i+1] = MK[i+1,i+1] + np.array(MKK[1,1])\n",
    "\n",
    "sp.Matrix(MK)"
   ]
  },
  {
   "cell_type": "code",
   "execution_count": 111,
   "metadata": {},
   "outputs": [
    {
     "data": {
      "text/latex": [
       "$\\displaystyle \\left[\\begin{matrix}4000\\\\0\\\\0\\end{matrix}\\right]$"
      ],
      "text/plain": [
       "⎡4000⎤\n",
       "⎢    ⎥\n",
       "⎢ 0  ⎥\n",
       "⎢    ⎥\n",
       "⎣ 0  ⎦"
      ]
     },
     "execution_count": 111,
     "metadata": {},
     "output_type": "execute_result"
    }
   ],
   "source": [
    "F = sp.Matrix([4000,0,0])\n",
    "F"
   ]
  },
  {
   "cell_type": "code",
   "execution_count": 112,
   "metadata": {},
   "outputs": [
    {
     "data": {
      "text/latex": [
       "$\\displaystyle \\left[\\begin{matrix}100.0 T_{1} - 90.0 T_{2} - 4000\\\\- 90.0 T_{1} + 200.0 T_{2} - 110.0 T_{3}\\\\1.0 T_{3}\\end{matrix}\\right]$"
      ],
      "text/plain": [
       "⎡  100.0⋅T₁ - 90.0⋅T₂ - 4000   ⎤\n",
       "⎢                              ⎥\n",
       "⎢-90.0⋅T₁ + 200.0⋅T₂ - 110.0⋅T₃⎥\n",
       "⎢                              ⎥\n",
       "⎣            1.0⋅T₃            ⎦"
      ]
     },
     "execution_count": 112,
     "metadata": {},
     "output_type": "execute_result"
    }
   ],
   "source": [
    "eq = sp.Matrix(MK)*sp.Matrix([T1,T2,T3]) - F\n",
    "eq"
   ]
  },
  {
   "cell_type": "markdown",
   "metadata": {},
   "source": [
    "### Aplicando dirichlet en el extremo derecho"
   ]
  },
  {
   "cell_type": "code",
   "execution_count": 113,
   "metadata": {},
   "outputs": [
    {
     "data": {
      "text/latex": [
       "$\\displaystyle \\left[\\begin{matrix}100.0 & -90.0 & 0.0\\\\-90.0 & 200.0 & -110.0\\\\0.0 & 0.0 & 1.0\\end{matrix}\\right]$"
      ],
      "text/plain": [
       "⎡100.0  -90.0   0.0  ⎤\n",
       "⎢                    ⎥\n",
       "⎢-90.0  200.0  -110.0⎥\n",
       "⎢                    ⎥\n",
       "⎣ 0.0    0.0    1.0  ⎦"
      ]
     },
     "execution_count": 113,
     "metadata": {},
     "output_type": "execute_result"
    }
   ],
   "source": [
    "MK_dirichlet = sp.Matrix(MK)\n",
    "MK_dirichlet"
   ]
  },
  {
   "cell_type": "code",
   "execution_count": 114,
   "metadata": {},
   "outputs": [
    {
     "data": {
      "text/latex": [
       "$\\displaystyle \\left[\\begin{matrix}100.0 & -90.0 & 0.0\\\\-90.0 & 200.0 & -110.0\\\\0 & 0 & 1\\end{matrix}\\right]$"
      ],
      "text/plain": [
       "⎡100.0  -90.0   0.0  ⎤\n",
       "⎢                    ⎥\n",
       "⎢-90.0  200.0  -110.0⎥\n",
       "⎢                    ⎥\n",
       "⎣  0      0      1   ⎦"
      ]
     },
     "execution_count": 114,
     "metadata": {},
     "output_type": "execute_result"
    }
   ],
   "source": [
    "MK_dirichlet[2,:] = sp.Matrix([[0,0,1]])\n",
    "MK[2,:] =np.array([[0,0,1]])\n",
    "MK_dirichlet"
   ]
  },
  {
   "cell_type": "code",
   "execution_count": 115,
   "metadata": {},
   "outputs": [
    {
     "data": {
      "text/latex": [
       "$\\displaystyle \\left[\\begin{matrix}4000\\\\0\\\\39.18\\end{matrix}\\right]$"
      ],
      "text/plain": [
       "⎡4000 ⎤\n",
       "⎢     ⎥\n",
       "⎢  0  ⎥\n",
       "⎢     ⎥\n",
       "⎣39.18⎦"
      ]
     },
     "execution_count": 115,
     "metadata": {},
     "output_type": "execute_result"
    }
   ],
   "source": [
    "F[-1] = 39.18\n",
    "F\n"
   ]
  },
  {
   "cell_type": "code",
   "execution_count": 116,
   "metadata": {},
   "outputs": [
    {
     "data": {
      "text/plain": [
       "array([4000.  ,    0.  ,   39.18])"
      ]
     },
     "execution_count": 116,
     "metadata": {},
     "output_type": "execute_result"
    }
   ],
   "source": [
    "Farray = np.array([4000,0,39.18])\n",
    "Farray"
   ]
  },
  {
   "cell_type": "code",
   "execution_count": 117,
   "metadata": {},
   "outputs": [
    {
     "data": {
      "text/plain": [
       "array([99.82201681, 66.46890756, 39.18      ])"
      ]
     },
     "execution_count": 117,
     "metadata": {},
     "output_type": "execute_result"
    }
   ],
   "source": [
    "sol = np.linalg.solve(MK,Farray)\n",
    "sol"
   ]
  },
  {
   "cell_type": "code",
   "execution_count": 1,
   "metadata": {
    "slideshow": {
     "slide_type": "-"
    },
    "tags": []
   },
   "outputs": [
    {
     "data": {
      "image/png": "[encoded data removed]",
      "text/plain": [
       "<Figure size 720x432 with 1 Axes>"
      ]
     },
     "metadata": {
      "needs_background": "light"
     },
     "output_type": "display_data"
    }
   ],
   "source": [
    "import numpy as np\n",
    "import matplotlib.pyplot as plt\n",
    "%matplotlib inline\n",
    "\n",
    "r = np.linspace(.2,.3,30)\n",
    "T = -150 * np.log(r/0.3) + 39.18\n",
    "\n",
    "r_mef1 = [.2,.25,.3]\n",
    "T_mef1 = [99.822, 66.469, 39.18]\n",
    "\n",
    "plt.figure(figsize=(10,6))\n",
    "plt.plot(r,T,label='Solución\\nAnalítica')\n",
    "plt.plot(r_mef1,T_mef1,'--ro', label='MEF Lineal $n=2$')\n",
    "\n",
    "plt.xlabel('Posición $x (m)$')\n",
    "plt.ylabel('Temperatura $T (K)$')\n",
    "plt.legend()\n",
    "plt.show()"
   ]
  }
 ],
 "metadata": {
  "julynter-results": {
   "filteredId": [],
   "filteredIndividual": [],
   "filteredRestart": [],
   "filteredType": [],
   "hash": "6aa1e2d05a5c391d8466932c9125a1c5ecdecef7",
   "visible": [
    {
     "cellId": "group",
     "hash": "c0de46ba034d710c2b2406a37ee6816be9634aa0",
     "reason": "This groups other lint messages",
     "reportId": "group",
     "reportType": "hiddenstate",
     "suggestion": null,
     "text": "Hidden State"
    },
    {
     "cellId": 0,
     "hash": "a72d8d12bb0b8a6d9ffee6ea7d82347fd7531e8b",
     "reason": "A cell with results of a previous session may fail to execute or produce different results in this one, hampering the reproducibility.",
     "reportId": "h1",
     "reportType": "hiddenstate",
     "suggestion": "Please consider executing it to guarantee the reproducibility.",
     "text": "Cell 0 has execution results, but it wasn't executed on this session"
    },
    {
     "cellId": "group",
     "hash": "19d3d3d153f22e318cbe061df9e685ba5165b0aa",
     "reason": "This groups other lint messages",
     "reportId": "group",
     "reportType": "confusenotebook",
     "suggestion": null,
     "text": "Confuse Notebook"
    },
    {
     "cellId": 0,
     "hash": "2b7e16cc0885bb9f506d400bde01285b1c5d5ad0",
     "reason": "A markdown cell at the beginning of the notebook can provide a human-friendly title with no constraints and introduce the notebook, indicating its purpose and external requirements.",
     "reportId": "c4",
     "reportType": "confusenotebook",
     "suggestion": "Please consider adding a markdown cell to describe the notebook.",
     "text": "The first cell of the notebook is not a markdown cell"
    }
   ]
  },
  "kernelspec": {
   "display_name": "Python 3 (ipykernel)",
   "language": "python",
   "name": "python3"
  },
  "language_info": {
   "codemirror_mode": {
    "name": "ipython",
    "version": 3
   },
   "file_extension": ".py",
   "mimetype": "text/x-python",
   "name": "python",
   "nbconvert_exporter": "python",
   "pygments_lexer": "ipython3",
   "version": "3.8.8"
  }
 },
 "nbformat": 4,
 "nbformat_minor": 4
}
