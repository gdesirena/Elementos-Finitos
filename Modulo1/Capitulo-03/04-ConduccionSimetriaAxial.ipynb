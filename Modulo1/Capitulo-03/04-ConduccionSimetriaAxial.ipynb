{
 "cells": [
  {
   "cell_type": "markdown",
   "metadata": {
    "slideshow": {
     "slide_type": "slide"
    }
   },
   "source": [
    "![Titulo](Imagenes/Titulos/Head2-6.png)"
   ]
  },
  {
   "cell_type": "markdown",
   "metadata": {
    "slideshow": {
     "slide_type": "slide"
    }
   },
   "source": [
    "## Conducción con simetría axial"
   ]
  },
  {
   "cell_type": "markdown",
   "metadata": {
    "slideshow": {
     "slide_type": "slide"
    }
   },
   "source": [
    "En muchos problemas la conducción de calor involucra fluidos que circulan en el interior de tubos. Para desarrollar el algoritmo correspondiente la forma correspondiente de la ecuación diferencial es:\n",
    "\n",
    "$$- \\dfrac {1} {r} \\dfrac {d} {dr} \\left( rK \\dfrac {dT} {dr} \\right) = 0 \\text{ para } r_1 \\le r \\le r_2$$"
   ]
  },
  {
   "cell_type": "markdown",
   "metadata": {
    "slideshow": {
     "slide_type": "slide"
    }
   },
   "source": [
    "En el interior el calor es transferido por el fluido:\n",
    "\n",
    "$$ -K \\dfrac {dT} {dr} + h(T-T_{\\infty})=0 \\text{ en } r=r_1$$\n",
    "\n",
    "Y en el exterior tenemos una temperatura constante:\n",
    "\n",
    "$$ T=T_L \\text{ en } r=r_2$$"
   ]
  },
  {
   "cell_type": "markdown",
   "metadata": {
    "slideshow": {
     "slide_type": "slide"
    }
   },
   "source": [
    "La ecuación de los residuos ponderados de esta ecuación queda:\n",
    "\n",
    "$$\\int_0^{2\\pi} \\int_{r_1}^{r_2}W \\left[ - \\dfrac {d} {dr} \\left(rK \\dfrac{dT} {dr} \\right) \\right] dr d\\theta = 0$$"
   ]
  },
  {
   "cell_type": "markdown",
   "metadata": {
    "slideshow": {
     "slide_type": "slide"
    }
   },
   "source": [
    "Integrando por partes y haciendo la integración con respecto a $\\theta$ obtenemos:\n",
    "\n",
    "$$2 \\pi \\int_{r_1}^{r_2} rK \\dfrac {dW} {dr} \\dfrac{dT} {dr}  dr +\\left( 2 \\pi r W h \\left(T-T_{\\infty} \\right) \\right) = 0$$"
   ]
  },
  {
   "cell_type": "markdown",
   "metadata": {
    "slideshow": {
     "slide_type": "slide"
    }
   },
   "source": [
    "Comparando esta ecuación con la obtenida en el caso de conducción con $K(x)$, percibimos que $K(x)$ fue remplazado por el producto $rK$. Suponiendo que el está hecho de un solo material y que habrá poco o nulo cambio en $K$, podemos sacar este factor e la integral. (Si hubiera un cambio importante en $K$, como en el caso de dos materiales, podremos utilizar elementos distintos). De esta manera y quitando el $2\\pi$ obtenemos:\n",
    "\n",
    "$$\\left \\{\\dfrac {K^{(e_i)}} {2h^{(e_i)}} \\left(r_1^{(e_i)}+r_2^{(e_i)} \\right) \\begin{bmatrix} 1 & -1 \\\\ -1 & 1 \\end{bmatrix} + r_1h \\begin{bmatrix} 1 & 0 \\\\ 0 & 0 \\end{bmatrix} \\delta_{e_1} - r_2h \\begin{bmatrix} 0 & 0 \\\\ 0 & 1 \\end{bmatrix} \\delta_{e_n}  \\right \\}\\begin{bmatrix} T_1^{(e_1)} \\\\ T_2^{(e_1)} \\end{bmatrix} = \\left \\{ r_1hT_{\\infty}\\begin{bmatrix} 1  \\\\ 0 \\end{bmatrix}\\delta_{e_1} - r_2hT_{\\infty}\\begin{bmatrix} 0  \\\\ 1 \\end{bmatrix}\\delta_{e_n} \\right \\}$$"
   ]
  },
  {
   "cell_type": "markdown",
   "metadata": {
    "slideshow": {
     "slide_type": "slide"
    }
   },
   "source": [
    "Para poder resumir todos los elementos en una estructura utilizamos la delta de Kronecker del __elemento__ ($\\delta_{e_i}$) esta función valdrá uno si nos encontramos en el elemento $e_i$ y cero para todos los otros elementos. Así, lo que está multiplicado por $\\delta_{e_1}$ aparece sólo en el primer elemento y lo que está marcado con $\\delta_{e_n}$ aparece sólo en el último."
   ]
  },
  {
   "cell_type": "markdown",
   "metadata": {
    "slideshow": {
     "slide_type": "slide"
    }
   },
   "source": [
    "Asi, analizando cada uno de las partes de esta ecuación:\n",
    "\n",
    "* __Comportamiento del elemento__: esta matriz modela la conducción de calor en el elemento, está presente en todos los elementos.\n",
    "\n",
    "$$\\dfrac {K^{(e_i)}} {2h^{(e_i)}} \\left(r_1^{(e_i)}+r_2^{(e_i)} \\right) \\begin{bmatrix} 1 & -1 \\\\ -1 & 1 \\end{bmatrix} \\begin{bmatrix} T_1^{(e_1)} \\\\ T_2^{(e_1)} \\end{bmatrix} $$"
   ]
  },
  {
   "cell_type": "markdown",
   "metadata": {
    "slideshow": {
     "slide_type": "slide"
    }
   },
   "source": [
    "* __Convección en el extremo izquierdo__: esta matriz modela la convección en el extremo izquierdo, está presente sólo en el el primer elemento.\n",
    "\n",
    "$$ \\left \\{ r_1h \\begin{bmatrix} 1 & 0 \\\\ 0 & 0 \\end{bmatrix} \\begin{bmatrix} T_1^{(e_1)} \\\\ T_2^{(e_1)} \\end{bmatrix} =   r_1hT_{\\infty}\\begin{bmatrix} 1  \\\\ 0 \\end{bmatrix}  \\right \\}\\delta_{e_1}$$"
   ]
  },
  {
   "cell_type": "markdown",
   "metadata": {
    "slideshow": {
     "slide_type": "slide"
    }
   },
   "source": [
    "* __Convección en el extremo derecho__: esta matriz modela la convección en el extremo derecho, está presente sólo en el el último elemento.\n",
    "\n",
    "$$ \\left \\{ - r_2h \\begin{bmatrix} 0 & 0 \\\\ 0 & 1 \\end{bmatrix} \\begin{bmatrix} T_1^{(e_1)} \\\\ T_2^{(e_1)} \\end{bmatrix} = -  r_2hT_{\\infty}\\begin{bmatrix} 0  \\\\ 1 \\end{bmatrix}  \\right \\}\\delta_{e_n}$$"
   ]
  },
  {
   "cell_type": "markdown",
   "metadata": {
    "slideshow": {
     "slide_type": "slide"
    }
   },
   "source": [
    "Resolveremos, como ejemplo, el siguiente sistema:\n",
    "\n",
    "Resolver, utilizando las ecuaciones obtenidas y dos elementos lineales, la distribución de temperatura de un tubo de pared gruesa que contiene un fluido caliente. El tubo tiene un espesor de $10 \\,cm$ y un radio interno de $20\\,cm$. La conductividad del material es $K=20\\,W/m^oC$. La temperatura del fuido es de $400\\,^oC$, $h=50W/m^{2o}C$ y la temperatura exterior del tubo es $T_L=39.18^oC$. Por lo tanto:\n",
    "\n",
    "__Elemento $e_1$__:\n",
    "\n",
    "$$h^{(e_1)} = r_2^{(e_1)}-r_1^{(e_1)}=0.25-0.2=0.05$$\n",
    "$$K^{(e_1)} = 20$$\n",
    "$$h = 50$$\n",
    "$$T_{\\infty} = 400 $$\n",
    "$$r_1^{(e_1)} + r_2^{(e_1)}=0.2+0.25=0.45$$\n",
    "$$\\dfrac {K^{(e_i)}} {2h^{(e_i)}}  \\left(r_1^{(e_i)}+r_2^{(e_i)} \\right) = 90$$"
   ]
  },
  {
   "cell_type": "markdown",
   "metadata": {
    "slideshow": {
     "slide_type": "slide"
    }
   },
   "source": [
    "__Elemento $e_2$__:\n",
    "\n",
    "$$h^{(e_2)} = r_2^{(e_2)}-r_1^{(e_2)}=0.3-0.25=0.05$$\n",
    "$$K^{(e_2)} = 20$$\n",
    "$$r_1^{(e_2)} + r_2^{(e_2)}=0.25+0.3=0.55$$\n",
    "$$\\dfrac {K^{(e_i)}} {2h^{(e_i)}}  \\left(r_1^{(e_i)}+r_2^{(e_i)} \\right) = 110$$"
   ]
  },
  {
   "cell_type": "markdown",
   "metadata": {
    "slideshow": {
     "slide_type": "slide"
    }
   },
   "source": [
    "Usando la ecuación obtenida con $\\delta_{e_1} = 1$ y $\\delta_{e_n} = 0$, el elemento $e_1$ queda:\n",
    "\n",
    "$$\\left( 90 \\begin{bmatrix} 1 &-1 \\\\ -1 & 1 \\end{bmatrix} + 10 \\begin{bmatrix} 1 & 0 \\\\ 0 & 0 \\end{bmatrix}\\right)\\begin{bmatrix} T_1 \\\\ T_2 \\end{bmatrix} = 4000 \\begin{bmatrix} 1 \\\\ 0 \\end{bmatrix}$$"
   ]
  },
  {
   "cell_type": "markdown",
   "metadata": {
    "slideshow": {
     "slide_type": "slide"
    }
   },
   "source": [
    "Y el elemento $e_2$ queda:\n",
    "\n",
    "$$ 110 \\begin{bmatrix} 1 &-1 \\\\ -1 & 1 \\end{bmatrix} \\begin{bmatrix} T_2 \\\\ T_3 \\end{bmatrix} = \\begin{bmatrix} 0 \\\\ 0 \\end{bmatrix}$$"
   ]
  },
  {
   "cell_type": "markdown",
   "metadata": {
    "slideshow": {
     "slide_type": "slide"
    }
   },
   "source": [
    "Ensamblando las matrices:\n",
    "\n",
    "$$ \\begin{bmatrix} 10 &-9 & 0\\\\ -9 & 20 & -11 \\\\ 0 & -11 & 11 \\end{bmatrix} \\begin{bmatrix} T_1 \\\\ T_2 \\\\ T_3 \\end{bmatrix} = 400 \\begin{bmatrix} 1 \\\\ 0 \\\\ 0 \\end{bmatrix}$$"
   ]
  },
  {
   "cell_type": "markdown",
   "metadata": {
    "slideshow": {
     "slide_type": "slide"
    }
   },
   "source": [
    "Remplazando nuestra condición de frontera de Dirichlet en el extremo derecho:\n",
    "\n",
    "$$ \\begin{bmatrix} 10 &-9 & 0\\\\ -9 & 20 & -11 \\\\ 0 & 0 & 1 \\end{bmatrix} \\begin{bmatrix} T_1 \\\\ T_2 \\\\ T_3 \\end{bmatrix} = \\begin{bmatrix} 400 \\\\ 0 \\\\ 39.18 \\end{bmatrix} \\begin{matrix}  \\\\ \\\\ \\leftarrow \\text{Dirichlet} \\end{matrix}$$"
   ]
  },
  {
   "cell_type": "markdown",
   "metadata": {
    "slideshow": {
     "slide_type": "slide"
    }
   },
   "source": [
    "Con la solución:\n",
    "\n",
    "$$  \\begin{bmatrix} T_1 \\\\ T_2 \\\\T_3 \\end{bmatrix}  =  \\begin{bmatrix} 99.822 \\\\ 66.469 \\\\39.18 \\end{bmatrix}$$"
   ]
  },
  {
   "cell_type": "markdown",
   "metadata": {
    "slideshow": {
     "slide_type": "slide"
    }
   },
   "source": [
    "La solución analítica de este problema es:\n",
    "\n",
    "$$T(r) = \\frac{\\left(T_L-T_{\\infty}\\right)}{\\ln\\left(\\dfrac{r_2}{r_1}\\right)+\\dfrac{K}{h\\cdot r_1}}\\ln\\left(\\dfrac{r}{r_2}\\right)+T_L$$"
   ]
  },
  {
   "cell_type": "markdown",
   "metadata": {
    "slideshow": {
     "slide_type": "slide"
    }
   },
   "source": [
    "Substituyendo los valores:\n",
    "\n",
    "$$T(r) = \\frac{\\left(39.18-400\\right)}{\\ln\\left(\\dfrac{0.3}{0.2}\\right)+\\dfrac{20}{50\\cdot0.2}}\\ln\\left(\\dfrac{r}{0.3} \\right)+39.18$$\n",
    "\n",
    "$$T(r) = -150\\ln\\left(\\frac{r}{0.3}\\right)+39.18$$"
   ]
  },
  {
   "cell_type": "markdown",
   "metadata": {
    "slideshow": {
     "slide_type": "slide"
    }
   },
   "source": [
    "Evaluando en la posición de los nodos:\n",
    "\n",
    "$$T_1 = T(0.2) = -150\\ln\\left(\\frac{0.2}{0.3}\\right)+39.18 = 100.0$$\n",
    "\n",
    "$$T_2 = T(0.25) = -150\\ln\\left(\\frac{0.25}{0.3}\\right)+39.18 = 66.528$$\n",
    "\n",
    "$$T_3 = T(0.3) = -150\\ln\\left(\\frac{0.3}{0.3}\\right)+39.18 = 39.18$$"
   ]
  }
 ],
 "metadata": {
  "celltoolbar": "Slideshow",
  "kernelspec": {
   "display_name": "Python 3 (ipykernel)",
   "language": "python",
   "name": "python3"
  },
  "language_info": {
   "codemirror_mode": {
    "name": "ipython",
    "version": 3
   },
   "file_extension": ".py",
   "mimetype": "text/x-python",
   "name": "python",
   "nbconvert_exporter": "python",
   "pygments_lexer": "ipython3",
   "version": "3.8.8"
  }
 },
 "nbformat": 4,
 "nbformat_minor": 4
}
