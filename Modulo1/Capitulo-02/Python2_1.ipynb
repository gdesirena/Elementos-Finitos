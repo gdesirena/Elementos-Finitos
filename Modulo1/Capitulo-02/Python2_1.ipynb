{
 "cells": [
  {
   "cell_type": "code",
   "execution_count": 1,
   "metadata": {},
   "outputs": [],
   "source": [
    "import sympy as sp\n",
    "sp.init_printing(use_unicode=True)"
   ]
  },
  {
   "cell_type": "code",
   "execution_count": 2,
   "metadata": {},
   "outputs": [],
   "source": [
    "x, C1, C2, Q, k, TL, L = sp.symbols('x, C1, C2, Q, k, TL, L')"
   ]
  },
  {
   "cell_type": "code",
   "execution_count": 3,
   "metadata": {},
   "outputs": [
    {
     "data": {
      "image/png": "[encoded data removed]",
      "text/latex": [
       "$$C_{1} x + C_{2} - \\frac{Q x^{2}}{2 k}$$"
      ],
      "text/plain": [
       "               2\n",
       "            Q⋅x \n",
       "C₁⋅x + C₂ - ────\n",
       "            2⋅k "
      ]
     },
     "execution_count": 3,
     "metadata": {},
     "output_type": "execute_result"
    }
   ],
   "source": [
    "dT = sp.integrate(-(Q/k), x) + C1\n",
    "T = sp.integrate(dT, x) + C2\n",
    "T"
   ]
  },
  {
   "cell_type": "code",
   "execution_count": 4,
   "metadata": {},
   "outputs": [
    {
     "data": {
      "image/png": "[encoded data removed]",
      "text/latex": [
       "$$\\left [ \\left \\{ C_{1} : \\frac{L^{2} Q + 2 TL k}{2 L k}, \\quad C_{2} : 0\\right \\}\\right ]$$"
      ],
      "text/plain": [
       "⎡⎧     2                  ⎫⎤\n",
       "⎢⎪    L ⋅Q + 2⋅TL⋅k       ⎪⎥\n",
       "⎢⎨C₁: ─────────────, C₂: 0⎬⎥\n",
       "⎢⎪        2⋅L⋅k           ⎪⎥\n",
       "⎣⎩                        ⎭⎦"
      ]
     },
     "execution_count": 4,
     "metadata": {},
     "output_type": "execute_result"
    }
   ],
   "source": [
    "s = sp.solve((T.subs({x:0}), T.subs({x:L})-TL))\n",
    "s"
   ]
  },
  {
   "cell_type": "code",
   "execution_count": 5,
   "metadata": {},
   "outputs": [
    {
     "data": {
      "image/png": "[encoded data removed]",
      "text/latex": [
       "$$- \\frac{Q x^{2}}{2 k} + \\frac{x}{2 L k} \\left(L^{2} Q + 2 TL k\\right)$$"
      ],
      "text/plain": [
       "     2     ⎛ 2           ⎞\n",
       "  Q⋅x    x⋅⎝L ⋅Q + 2⋅TL⋅k⎠\n",
       "- ──── + ─────────────────\n",
       "  2⋅k          2⋅L⋅k      "
      ]
     },
     "execution_count": 5,
     "metadata": {},
     "output_type": "execute_result"
    }
   ],
   "source": [
    "T = T.subs(s[0])\n",
    "T"
   ]
  }
 ],
 "metadata": {
  "kernelspec": {
   "display_name": "Python 3 (ipykernel)",
   "language": "python",
   "name": "python3"
  },
  "language_info": {
   "codemirror_mode": {
    "name": "ipython",
    "version": 3
   },
   "file_extension": ".py",
   "mimetype": "text/x-python",
   "name": "python",
   "nbconvert_exporter": "python",
   "pygments_lexer": "ipython3",
   "version": "3.8.8"
  }
 },
 "nbformat": 4,
 "nbformat_minor": 2
}
