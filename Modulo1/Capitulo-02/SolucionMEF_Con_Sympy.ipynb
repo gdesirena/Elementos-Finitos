{
 "cells": [
  {
   "cell_type": "markdown",
   "metadata": {},
   "source": [
    "## Solución MEF con Sympy"
   ]
  },
  {
   "cell_type": "code",
   "execution_count": 1,
   "metadata": {},
   "outputs": [],
   "source": [
    "#importar librerías necesarias\n",
    "import sympy as sp\n",
    "sp.init_printing(use_unicode=True)"
   ]
  },
  {
   "cell_type": "markdown",
   "metadata": {},
   "source": [
    "Variables simbólicas a utilizar"
   ]
  },
  {
   "cell_type": "code",
   "execution_count": 2,
   "metadata": {},
   "outputs": [],
   "source": [
    "x, L, K, Q, q, a_1, a_2, a_3, T_L = sp.symbols('x, L, K, Q, q, a_1, a_2, a_3, T_L') "
   ]
  },
  {
   "cell_type": "markdown",
   "metadata": {},
   "source": [
    "**Usando la forma matricial, la temperatura se aproxima a la forma: $T(x)=a\\phi$, declarar las marices $\\phi = [\\phi_i, \\phi_{i+1}]$, $d\\phi = [d\\phi_i, d\\phi_{i+1}]$, $a=[a_i, a_{i+1}]^T$:**"
   ]
  },
  {
   "cell_type": "code",
   "execution_count": 3,
   "metadata": {},
   "outputs": [
    {
     "data": {
      "text/latex": [
       "$\\displaystyle \\left[\\begin{matrix}1 - \\frac{2 x}{L} & \\frac{2 x}{L}\\end{matrix}\\right]$"
      ],
      "text/plain": [
       "⎡    2⋅x  2⋅x⎤\n",
       "⎢1 - ───  ───⎥\n",
       "⎣     L    L ⎦"
      ]
     },
     "execution_count": 3,
     "metadata": {},
     "output_type": "execute_result"
    }
   ],
   "source": [
    "phi = sp.Matrix([1-2*x/L, 2*x/L]).T\n",
    "phi"
   ]
  },
  {
   "cell_type": "code",
   "execution_count": 4,
   "metadata": {},
   "outputs": [
    {
     "data": {
      "text/latex": [
       "$\\displaystyle \\left[\\begin{matrix}- \\frac{2}{L} & \\frac{2}{L}\\end{matrix}\\right]$"
      ],
      "text/plain": [
       "⎡-2   2⎤\n",
       "⎢───  ─⎥\n",
       "⎣ L   L⎦"
      ]
     },
     "execution_count": 4,
     "metadata": {},
     "output_type": "execute_result"
    }
   ],
   "source": [
    "dphi = sp.diff(phi, x)\n",
    "dphi"
   ]
  },
  {
   "cell_type": "code",
   "execution_count": 5,
   "metadata": {},
   "outputs": [
    {
     "data": {
      "text/latex": [
       "$\\displaystyle \\left[\\begin{matrix}a_{1}\\\\a_{2}\\end{matrix}\\right]$"
      ],
      "text/plain": [
       "⎡a₁⎤\n",
       "⎢  ⎥\n",
       "⎣a₂⎦"
      ]
     },
     "execution_count": 5,
     "metadata": {},
     "output_type": "execute_result"
    }
   ],
   "source": [
    "# a para el primer elemento\n",
    "a = sp.Matrix([a_1, a_2])\n",
    "a"
   ]
  },
  {
   "cell_type": "markdown",
   "metadata": {},
   "source": [
    "Tomando la ecuación de la aproximación a nuestra ecuación diferencial en su forma matricial:\n",
    "\n",
    "$$K \\left[ \\int_0^{L/2} \\left[ \\frac {d}{dx}\\phi \\right] ^T \\left[ \\frac {d}{dx}\\phi \\right] dx \\right] a - Q \\int_0^{L/2} \\phi^T dx - \\begin{bmatrix}q \\\\ 0 \\end{bmatrix} = 0$$\n",
    "\n"
   ]
  },
  {
   "cell_type": "code",
   "execution_count": 6,
   "metadata": {},
   "outputs": [
    {
     "data": {
      "text/latex": [
       "$\\displaystyle \\left[\\begin{matrix}\\frac{2 K a_{1}}{L} - \\frac{2 K a_{2}}{L} - \\frac{L Q}{4} - q\\\\- \\frac{2 K a_{1}}{L} + \\frac{2 K a_{2}}{L} - \\frac{L Q}{4}\\end{matrix}\\right]$"
      ],
      "text/plain": [
       "⎡2⋅K⋅a₁   2⋅K⋅a₂   L⋅Q    ⎤\n",
       "⎢────── - ────── - ─── - q⎥\n",
       "⎢  L        L       4     ⎥\n",
       "⎢                         ⎥\n",
       "⎢   2⋅K⋅a₁   2⋅K⋅a₂   L⋅Q ⎥\n",
       "⎢ - ────── + ────── - ─── ⎥\n",
       "⎣     L        L       4  ⎦"
      ]
     },
     "execution_count": 6,
     "metadata": {},
     "output_type": "execute_result"
    }
   ],
   "source": [
    "eq1 = K*sp.integrate(dphi.T * dphi, (x,0,L/2))*a - Q*sp.integrate(phi.T, (x,0,L/2)) - sp.Matrix([q,0])\n",
    "eq1"
   ]
  },
  {
   "cell_type": "code",
   "execution_count": 7,
   "metadata": {},
   "outputs": [
    {
     "data": {
      "text/latex": [
       "$\\displaystyle \\left[\\begin{matrix}a_{2}\\\\a_{3}\\end{matrix}\\right]$"
      ],
      "text/plain": [
       "⎡a₂⎤\n",
       "⎢  ⎥\n",
       "⎣a₃⎦"
      ]
     },
     "execution_count": 7,
     "metadata": {},
     "output_type": "execute_result"
    }
   ],
   "source": [
    "# renombrando a para el segundo elemento\n",
    "a = sp.Matrix([a_2, a_3])\n",
    "a"
   ]
  },
  {
   "cell_type": "code",
   "execution_count": 8,
   "metadata": {},
   "outputs": [
    {
     "data": {
      "text/latex": [
       "$\\displaystyle \\left[\\begin{matrix}\\frac{2 K a_{2}}{L} - \\frac{2 K a_{3}}{L} - \\frac{L Q}{4}\\\\- \\frac{2 K a_{2}}{L} + \\frac{2 K a_{3}}{L} - \\frac{L Q}{4}\\end{matrix}\\right]$"
      ],
      "text/plain": [
       "⎡ 2⋅K⋅a₂   2⋅K⋅a₃   L⋅Q ⎤\n",
       "⎢ ────── - ────── - ─── ⎥\n",
       "⎢   L        L       4  ⎥\n",
       "⎢                       ⎥\n",
       "⎢  2⋅K⋅a₂   2⋅K⋅a₃   L⋅Q⎥\n",
       "⎢- ────── + ────── - ───⎥\n",
       "⎣    L        L       4 ⎦"
      ]
     },
     "execution_count": 8,
     "metadata": {},
     "output_type": "execute_result"
    }
   ],
   "source": [
    "eq2 =  K*sp.integrate(dphi.T * dphi, (x,0,L/2))*a - Q*sp.integrate(phi.T, (x,0,L/2)) - sp.Matrix([0,0])\n",
    "eq2"
   ]
  },
  {
   "cell_type": "code",
   "execution_count": 10,
   "metadata": {},
   "outputs": [
    {
     "data": {
      "text/latex": [
       "$\\displaystyle \\left[\\begin{matrix}0\\\\0\\\\0\\end{matrix}\\right]$"
      ],
      "text/plain": [
       "⎡0⎤\n",
       "⎢ ⎥\n",
       "⎢0⎥\n",
       "⎢ ⎥\n",
       "⎣0⎦"
      ]
     },
     "execution_count": 10,
     "metadata": {},
     "output_type": "execute_result"
    }
   ],
   "source": [
    "# inicializando en zeros\n",
    "eq = sp.Matrix([0,0,0])\n",
    "eq"
   ]
  },
  {
   "cell_type": "code",
   "execution_count": 11,
   "metadata": {},
   "outputs": [
    {
     "data": {
      "text/latex": [
       "$\\displaystyle \\left[\\begin{matrix}\\frac{2 K a_{1}}{L} - \\frac{2 K a_{2}}{L} - \\frac{L Q}{4} - q\\\\- \\frac{2 K a_{1}}{L} + \\frac{4 K a_{2}}{L} - \\frac{2 K a_{3}}{L} - \\frac{L Q}{2}\\\\- \\frac{2 K a_{2}}{L} + \\frac{2 K a_{3}}{L} - \\frac{L Q}{4}\\end{matrix}\\right]$"
      ],
      "text/plain": [
       "⎡   2⋅K⋅a₁   2⋅K⋅a₂   L⋅Q        ⎤\n",
       "⎢   ────── - ────── - ─── - q    ⎥\n",
       "⎢     L        L       4         ⎥\n",
       "⎢                                ⎥\n",
       "⎢  2⋅K⋅a₁   4⋅K⋅a₂   2⋅K⋅a₃   L⋅Q⎥\n",
       "⎢- ────── + ────── - ────── - ───⎥\n",
       "⎢    L        L        L       2 ⎥\n",
       "⎢                                ⎥\n",
       "⎢      2⋅K⋅a₂   2⋅K⋅a₃   L⋅Q     ⎥\n",
       "⎢    - ────── + ────── - ───     ⎥\n",
       "⎣        L        L       4      ⎦"
      ]
     },
     "execution_count": 11,
     "metadata": {},
     "output_type": "execute_result"
    }
   ],
   "source": [
    "#Ensamblando las matrices obtenidas en eq1 y eq2\n",
    "eq[0] = eq1[0]\n",
    "eq[1] = eq1[1] + eq2[0]\n",
    "eq[2] = eq2[1]\n",
    "eq"
   ]
  },
  {
   "cell_type": "code",
   "execution_count": 12,
   "metadata": {},
   "outputs": [
    {
     "data": {
      "text/latex": [
       "$\\displaystyle \\left[\\begin{matrix}\\frac{2 K a_{1}}{L} - \\frac{2 K a_{2}}{L} - \\frac{L Q}{4} - q\\\\- \\frac{2 K a_{1}}{L} + \\frac{4 K a_{2}}{L} - \\frac{2 K a_{3}}{L} - \\frac{L Q}{2}\\end{matrix}\\right]$"
      ],
      "text/plain": [
       "⎡   2⋅K⋅a₁   2⋅K⋅a₂   L⋅Q        ⎤\n",
       "⎢   ────── - ────── - ─── - q    ⎥\n",
       "⎢     L        L       4         ⎥\n",
       "⎢                                ⎥\n",
       "⎢  2⋅K⋅a₁   4⋅K⋅a₂   2⋅K⋅a₃   L⋅Q⎥\n",
       "⎢- ────── + ────── - ────── - ───⎥\n",
       "⎣    L        L        L       2 ⎦"
      ]
     },
     "execution_count": 12,
     "metadata": {},
     "output_type": "execute_result"
    }
   ],
   "source": [
    "# tomamos las dos primeras ecuaciones por que ya conocemos que a3=TL\n",
    "eq_incognitas = sp.Matrix(eq[0:2])\n",
    "eq_incognitas"
   ]
  },
  {
   "cell_type": "code",
   "execution_count": 13,
   "metadata": {},
   "outputs": [
    {
     "data": {
      "image/png": "[encoded data removed]",
      "text/latex": [
       "$\\displaystyle \\left\\{ a_{1} : \\frac{2 K T_{L} + L^{2} Q + 2 L q}{2 K}, \\  a_{2} : \\frac{8 K T_{L} + 3 L^{2} Q + 4 L q}{8 K}\\right\\}$"
      ],
      "text/plain": [
       "⎧               2                             2          ⎫\n",
       "⎪    2⋅K⋅T_L + L ⋅Q + 2⋅L⋅q      8⋅K⋅T_L + 3⋅L ⋅Q + 4⋅L⋅q⎪\n",
       "⎨a₁: ──────────────────────, a₂: ────────────────────────⎬\n",
       "⎪             2⋅K                          8⋅K           ⎪\n",
       "⎩                                                        ⎭"
      ]
     },
     "execution_count": 13,
     "metadata": {},
     "output_type": "execute_result"
    }
   ],
   "source": [
    "sol = sp.solve(eq_incognitas.subs({'a_3':'T_L'}), a_1, a_2) #Solucionando el sistema de ecuaciones conociendo a_3=TL\n",
    "sol"
   ]
  },
  {
   "cell_type": "markdown",
   "metadata": {},
   "source": [
    "Estas deberán ser subsituidas en la ecuación (aproximada) de $T(x)$:\n",
    "\n",
    "$$T(x) \\approx a_1 \\phi_1 (x) + a_2 \\phi_2 (x) + a_3 \\phi_3 (x) $$\n",
    "\n",
    "$$T(x) \\approx \\left(\\frac {qL} {K} + \\frac {QL^2} {2K} + T_L \\right) \\phi_1 (x) + \\left( \\frac {qL} {2K} + \\frac {3QL^2} {8K} + T_L \\right) \\phi_2 (x) + T_L \\phi_3 (x) $$"
   ]
  },
  {
   "cell_type": "code",
   "execution_count": null,
   "metadata": {},
   "outputs": [],
   "source": []
  }
 ],
 "metadata": {
  "kernelspec": {
   "display_name": "Python 3 (ipykernel)",
   "language": "python",
   "name": "python3"
  },
  "language_info": {
   "codemirror_mode": {
    "name": "ipython",
    "version": 3
   },
   "file_extension": ".py",
   "mimetype": "text/x-python",
   "name": "python",
   "nbconvert_exporter": "python",
   "pygments_lexer": "ipython3",
   "version": "3.8.8"
  }
 },
 "nbformat": 4,
 "nbformat_minor": 4
}
