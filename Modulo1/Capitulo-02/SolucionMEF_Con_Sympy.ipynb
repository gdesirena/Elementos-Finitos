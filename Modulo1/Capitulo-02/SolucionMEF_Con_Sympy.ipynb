{
 "cells": [
  {
   "cell_type": "markdown",
   "metadata": {},
   "source": [
    "## Solución MEF con Sympy"
   ]
  },
  {
   "cell_type": "code",
   "execution_count": null,
   "metadata": {},
   "outputs": [],
   "source": [
    "#importar librerías necesarias\n"
   ]
  },
  {
   "cell_type": "markdown",
   "metadata": {},
   "source": [
    "Variables simbólicas a utilizar"
   ]
  },
  {
   "cell_type": "code",
   "execution_count": null,
   "metadata": {},
   "outputs": [],
   "source": []
  },
  {
   "cell_type": "markdown",
   "metadata": {},
   "source": [
    "**Usando la forma matricial, la temperatura se aproxima a la forma: $T(x)=\\phi$, declarar las marices $\\phi = [\\phi_i, \\phi_{i+11}]$, $d\\phi = [d\\phi_i, d\\phi_{i+1}]$, $a=[a_i, a_{i+1}]^T$:**"
   ]
  },
  {
   "cell_type": "code",
   "execution_count": null,
   "metadata": {},
   "outputs": [],
   "source": []
  },
  {
   "cell_type": "code",
   "execution_count": null,
   "metadata": {},
   "outputs": [],
   "source": []
  },
  {
   "cell_type": "code",
   "execution_count": null,
   "metadata": {},
   "outputs": [],
   "source": [
    "# a para el primer elemento\n"
   ]
  },
  {
   "cell_type": "markdown",
   "metadata": {},
   "source": [
    "Tomando la ecuación de la aproximación a nuestra ecuación diferencial en su forma matricial:\n",
    "\n",
    "$$K \\left[ \\int_0^{L/2} \\left[ \\frac {d}{dx}\\phi \\right] ^T \\left[ \\frac {d}{dx}\\phi \\right] dx \\right] a - Q \\int_0^{L/2} \\phi^T dx - \\begin{bmatrix}q \\\\ 0 \\end{bmatrix} = 0$$\n",
    "\n"
   ]
  },
  {
   "cell_type": "code",
   "execution_count": null,
   "metadata": {},
   "outputs": [],
   "source": []
  },
  {
   "cell_type": "code",
   "execution_count": null,
   "metadata": {},
   "outputs": [],
   "source": [
    "# renombrando a para el segundo elemento\n"
   ]
  },
  {
   "cell_type": "code",
   "execution_count": null,
   "metadata": {},
   "outputs": [],
   "source": []
  },
  {
   "cell_type": "code",
   "execution_count": null,
   "metadata": {},
   "outputs": [],
   "source": [
    "# inicializando en zeros\n"
   ]
  },
  {
   "cell_type": "code",
   "execution_count": null,
   "metadata": {},
   "outputs": [],
   "source": [
    "#Ensamblando las matrices obtenidas en eq1 y eq2\n"
   ]
  },
  {
   "cell_type": "code",
   "execution_count": null,
   "metadata": {},
   "outputs": [],
   "source": [
    "# tomamos las dos primeras ecuaciones por que ya conocemos que a3=TL\n"
   ]
  },
  {
   "cell_type": "code",
   "execution_count": null,
   "metadata": {},
   "outputs": [],
   "source": []
  },
  {
   "cell_type": "markdown",
   "metadata": {},
   "source": [
    "Estas deberán ser subsituidas en la ecuación (aproximada) de $T(x)$:\n",
    "\n",
    "$$T(x) \\approx a_1 \\phi_1 (x) + a_2 \\phi_2 (x) + a_3 \\phi_3 (x) $$\n",
    "\n",
    "$$T(x) \\approx \\left(\\frac {qL} {K} + \\frac {QL^2} {2K} + T_L \\right) \\phi_1 (x) + \\left( \\frac {qL} {2K} + \\frac {3QL^2} {8K} + T_L \\right) \\phi_2 (x) + T_L \\phi_3 (x) $$"
   ]
  },
  {
   "cell_type": "code",
   "execution_count": null,
   "metadata": {},
   "outputs": [],
   "source": []
  }
 ],
 "metadata": {
  "kernelspec": {
   "display_name": "Python 3 (ipykernel)",
   "language": "python",
   "name": "python3"
  },
  "language_info": {
   "codemirror_mode": {
    "name": "ipython",
    "version": 3
   },
   "file_extension": ".py",
   "mimetype": "text/x-python",
   "name": "python",
   "nbconvert_exporter": "python",
   "pygments_lexer": "ipython3",
   "version": "3.8.8"
  }
 },
 "nbformat": 4,
 "nbformat_minor": 4
}
