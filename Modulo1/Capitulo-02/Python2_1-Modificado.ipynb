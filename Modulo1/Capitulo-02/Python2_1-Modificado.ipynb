{
 "cells": [
  {
   "cell_type": "markdown",
   "metadata": {
    "slideshow": {
     "slide_type": "slide"
    }
   },
   "source": [
    "# Uso de Python para resolver problemas algebraicos."
   ]
  },
  {
   "cell_type": "markdown",
   "metadata": {
    "slideshow": {
     "slide_type": "slide"
    }
   },
   "source": [
    "Usamos la librería sympy. Si aún no está instalado, podemos instalarla abriendo una terminal y usando el comando:\n",
    "\n",
    "    conda install sympy"
   ]
  },
  {
   "cell_type": "markdown",
   "metadata": {
    "slideshow": {
     "slide_type": "slide"
    }
   },
   "source": [
    "Para no contaminar nuestro espacio de trabajo con cuestiones no necesarias importamos la librería con un alias `sp`, así todas las funciones de esta librería estarán disponibles usando `sp.`"
   ]
  },
  {
   "cell_type": "code",
   "execution_count": 1,
   "metadata": {
    "slideshow": {
     "slide_type": "fragment"
    }
   },
   "outputs": [],
   "source": [
    "import sympy as sp"
   ]
  },
  {
   "cell_type": "markdown",
   "metadata": {
    "slideshow": {
     "slide_type": "slide"
    }
   },
   "source": [
    "Y, para tener una salida gráfica de las expresiones matemáticas usamos:"
   ]
  },
  {
   "cell_type": "code",
   "execution_count": 2,
   "metadata": {
    "slideshow": {
     "slide_type": "fragment"
    }
   },
   "outputs": [],
   "source": [
    "sp.init_printing(use_unicode=True)"
   ]
  },
  {
   "cell_type": "markdown",
   "metadata": {
    "slideshow": {
     "slide_type": "slide"
    }
   },
   "source": [
    "A continuación declaramos los símbolos que utilizaremos. Es necesario declarar todos los símbolos que utilizaremos del lado derecho de asignaciones."
   ]
  },
  {
   "cell_type": "code",
   "execution_count": 3,
   "metadata": {
    "slideshow": {
     "slide_type": "fragment"
    }
   },
   "outputs": [],
   "source": [
    "x, C_1, C_2, Q, K, T_L, L, q = sp.symbols('x, C_1, C_2, Q, K, T_L, L, q')"
   ]
  },
  {
   "cell_type": "markdown",
   "metadata": {
    "slideshow": {
     "slide_type": "fragment"
    }
   },
   "source": [
    "__Nota__: Con las expresiones dentro de la función `symbols` podemos modificar como sympy representa las variables usando __LATEX__. Por ejemplo: `C_1` se convertirá en $C_1$."
   ]
  },
  {
   "cell_type": "markdown",
   "metadata": {
    "slideshow": {
     "slide_type": "slide"
    }
   },
   "source": [
    "Comenzamos por integrar la expresión:\n",
    "\n",
    "$$\\int \\frac {d^2} {dx^2} T = - \\frac {Q} {K} $$\n",
    "\n",
    "Con respecto a $x$ y sumamos la constante de integración $C_1$."
   ]
  },
  {
   "cell_type": "code",
   "execution_count": 4,
   "metadata": {
    "slideshow": {
     "slide_type": "fragment"
    }
   },
   "outputs": [
    {
     "data": {
      "image/png": "[encoded data removed]",
      "text/latex": [
       "$$C_{1} - \\frac{Q x}{K}$$"
      ],
      "text/plain": [
       "     Q⋅x\n",
       "C₁ - ───\n",
       "      K "
      ]
     },
     "execution_count": 4,
     "metadata": {},
     "output_type": "execute_result"
    }
   ],
   "source": [
    "dT = sp.integrate(-(Q/K), x) + C_1\n",
    "dT"
   ]
  },
  {
   "cell_type": "markdown",
   "metadata": {
    "slideshow": {
     "slide_type": "slide"
    }
   },
   "source": [
    "Usando la condición de frontera conocida, para resolver las incógnitas del sistema colocamos toda la ecuación del mismo lado, obteniendo:\n",
    "\n",
    "$$\\frac {dT} {dx} \\Big|_{x=0} + \\frac {q} {K} = 0$$\n",
    "\n",
    "$$C_1 - \\frac {Qx}{K}\\Big|_{x=0} + \\frac {q} {K} = 0$$"
   ]
  },
  {
   "cell_type": "markdown",
   "metadata": {
    "slideshow": {
     "slide_type": "slide"
    }
   },
   "source": [
    "Ahora, resolvemos las incógnitas del sistema substituyendo x=0."
   ]
  },
  {
   "cell_type": "code",
   "execution_count": 5,
   "metadata": {
    "slideshow": {
     "slide_type": "fragment"
    }
   },
   "outputs": [
    {
     "data": {
      "image/png": "[encoded data removed]",
      "text/latex": [
       "$$\\left [ \\left \\{ C_{1} : - \\frac{q}{K}\\right \\}\\right ]$$"
      ],
      "text/plain": [
       "⎡⎧    -q ⎫⎤\n",
       "⎢⎨C₁: ───⎬⎥\n",
       "⎣⎩     K ⎭⎦"
      ]
     },
     "execution_count": 5,
     "metadata": {},
     "output_type": "execute_result"
    }
   ],
   "source": [
    "sp.solve(dT.subs(dict(x=0))+q/K)"
   ]
  },
  {
   "cell_type": "markdown",
   "metadata": {
    "slideshow": {
     "slide_type": "slide"
    }
   },
   "source": [
    "Substituyendo el valor que obtuvimos para $C_1$:"
   ]
  },
  {
   "cell_type": "code",
   "execution_count": 6,
   "metadata": {
    "slideshow": {
     "slide_type": "fragment"
    }
   },
   "outputs": [
    {
     "data": {
      "image/png": "[encoded data removed]",
      "text/latex": [
       "$$- \\frac{Q x}{K} - \\frac{q}{K}$$"
      ],
      "text/plain": [
       "  Q⋅x   q\n",
       "- ─── - ─\n",
       "   K    K"
      ]
     },
     "execution_count": 6,
     "metadata": {},
     "output_type": "execute_result"
    }
   ],
   "source": [
    "dT = dT.subs(dict(C_1=-q/K))\n",
    "dT"
   ]
  },
  {
   "cell_type": "markdown",
   "metadata": {
    "slideshow": {
     "slide_type": "slide"
    }
   },
   "source": [
    "Integramos una segunda vez, añadiendo la constante $C_2$:"
   ]
  },
  {
   "cell_type": "code",
   "execution_count": 7,
   "metadata": {
    "slideshow": {
     "slide_type": "fragment"
    }
   },
   "outputs": [
    {
     "data": {
      "image/png": "[encoded data removed]",
      "text/latex": [
       "$$C_{2} - \\frac{Q x^{2}}{2 K} - \\frac{q x}{K}$$"
      ],
      "text/plain": [
       "        2      \n",
       "     Q⋅x    q⋅x\n",
       "C₂ - ──── - ───\n",
       "     2⋅K     K "
      ]
     },
     "execution_count": 7,
     "metadata": {},
     "output_type": "execute_result"
    }
   ],
   "source": [
    "T = sp.integrate(dT, x) + C_2\n",
    "T"
   ]
  },
  {
   "cell_type": "markdown",
   "metadata": {
    "slideshow": {
     "slide_type": "slide"
    }
   },
   "source": [
    "Nuevamente colocamos toda la ecuación del mismo lado para resolver las incógnitas:\n",
    "\n",
    "$$ T \\, \\big|_{x=L} - T_L = 0$$\n",
    "\n",
    "$$ C_2 - \\frac {Qx^2}{2K} - \\frac {qx} {K} - TL = 0 $$"
   ]
  },
  {
   "cell_type": "markdown",
   "metadata": {
    "slideshow": {
     "slide_type": "slide"
    }
   },
   "source": [
    "Y resolvemos las incógnitas del sistema substituyendo $x=T_L$."
   ]
  },
  {
   "cell_type": "code",
   "execution_count": 8,
   "metadata": {
    "slideshow": {
     "slide_type": "fragment"
    }
   },
   "outputs": [
    {
     "data": {
      "image/png": "[encoded data removed]",
      "text/latex": [
       "$$\\left [ \\left \\{ C_{2} : \\frac{1}{K} \\left(K T_{L} + \\frac{L^{2} Q}{2} + L q\\right)\\right \\}\\right ]$$"
      ],
      "text/plain": [
       "⎡⎧             2        ⎫⎤\n",
       "⎢⎪            L ⋅Q      ⎪⎥\n",
       "⎢⎪    K⋅T_L + ──── + L⋅q⎪⎥\n",
       "⎢⎨             2        ⎬⎥\n",
       "⎢⎪C₂: ──────────────────⎪⎥\n",
       "⎢⎪            K         ⎪⎥\n",
       "⎣⎩                      ⎭⎦"
      ]
     },
     "execution_count": 8,
     "metadata": {},
     "output_type": "execute_result"
    }
   ],
   "source": [
    "s = sp.solve((T.subs({x:L})-T_L))\n",
    "s"
   ]
  },
  {
   "cell_type": "markdown",
   "metadata": {
    "slideshow": {
     "slide_type": "slide"
    }
   },
   "source": [
    "Substituimos el valor obtenido en la ecuación:"
   ]
  },
  {
   "cell_type": "code",
   "execution_count": 9,
   "metadata": {
    "slideshow": {
     "slide_type": "fragment"
    }
   },
   "outputs": [
    {
     "data": {
      "image/png": "[encoded data removed]",
      "text/latex": [
       "$$- \\frac{Q x^{2}}{2 K} - \\frac{q x}{K} + \\frac{1}{K} \\left(K T_{L} + \\frac{L^{2} Q}{2} + L q\\right)$$"
      ],
      "text/plain": [
       "                        2        \n",
       "                       L ⋅Q      \n",
       "     2         K⋅T_L + ──── + L⋅q\n",
       "  Q⋅x    q⋅x            2        \n",
       "- ──── - ─── + ──────────────────\n",
       "  2⋅K     K            K         "
      ]
     },
     "execution_count": 9,
     "metadata": {},
     "output_type": "execute_result"
    }
   ],
   "source": [
    "T = T.subs(s[0])\n",
    "T"
   ]
  },
  {
   "cell_type": "markdown",
   "metadata": {
    "slideshow": {
     "slide_type": "slide"
    }
   },
   "source": [
    "Hay varios métodos en simpy que nos pueden ayudar a simplificar los resultados:\n",
    "* `factor()` va intentar sacar factores comunes."
   ]
  },
  {
   "cell_type": "code",
   "execution_count": 10,
   "metadata": {
    "slideshow": {
     "slide_type": "fragment"
    }
   },
   "outputs": [
    {
     "data": {
      "image/png": "[encoded data removed]",
      "text/latex": [
       "$$- \\frac{1}{2 K} \\left(- 2 K T_{L} - L^{2} Q - 2 L q + Q x^{2} + 2 q x\\right)$$"
      ],
      "text/plain": [
       " ⎛            2                2        ⎞ \n",
       "-⎝-2⋅K⋅T_L - L ⋅Q - 2⋅L⋅q + Q⋅x  + 2⋅q⋅x⎠ \n",
       "──────────────────────────────────────────\n",
       "                   2⋅K                    "
      ]
     },
     "execution_count": 10,
     "metadata": {},
     "output_type": "execute_result"
    }
   ],
   "source": [
    "T.factor()"
   ]
  },
  {
   "cell_type": "markdown",
   "metadata": {
    "slideshow": {
     "slide_type": "slide"
    }
   },
   "source": [
    "* `expand()` distribuye los factores para obtener una suma (o resta)."
   ]
  },
  {
   "cell_type": "code",
   "execution_count": 11,
   "metadata": {
    "slideshow": {
     "slide_type": "fragment"
    }
   },
   "outputs": [
    {
     "data": {
      "image/png": "[encoded data removed]",
      "text/latex": [
       "$$T_{L} + \\frac{L^{2} Q}{2 K} + \\frac{L q}{K} - \\frac{Q x^{2}}{2 K} - \\frac{q x}{K}$$"
      ],
      "text/plain": [
       "       2              2      \n",
       "      L ⋅Q   L⋅q   Q⋅x    q⋅x\n",
       "T_L + ──── + ─── - ──── - ───\n",
       "      2⋅K     K    2⋅K     K "
      ]
     },
     "execution_count": 11,
     "metadata": {},
     "output_type": "execute_result"
    }
   ],
   "source": [
    "T.expand()"
   ]
  }
 ],
 "metadata": {
  "celltoolbar": "Slideshow",
  "kernelspec": {
   "display_name": "Python 3",
   "language": "python",
   "name": "python3"
  },
  "language_info": {
   "codemirror_mode": {
    "name": "ipython",
    "version": 3
   },
   "file_extension": ".py",
   "mimetype": "text/x-python",
   "name": "python",
   "nbconvert_exporter": "python",
   "pygments_lexer": "ipython3",
   "version": "3.6.7"
  }
 },
 "nbformat": 4,
 "nbformat_minor": 2
}
