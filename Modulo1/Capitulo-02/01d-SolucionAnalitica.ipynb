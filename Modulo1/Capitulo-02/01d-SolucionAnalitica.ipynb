{
 "cells": [
  {
   "cell_type": "markdown",
   "metadata": {
    "slideshow": {
     "slide_type": "slide"
    }
   },
   "source": [
    "![Titulo](Imagenes/Titulos/Head1.png)"
   ]
  },
  {
   "cell_type": "markdown",
   "metadata": {
    "slideshow": {
     "slide_type": "slide"
    }
   },
   "source": [
    "## Planteamiento del problema de transferencia de calor y solución analítica"
   ]
  },
  {
   "cell_type": "markdown",
   "metadata": {
    "slideshow": {
     "slide_type": "slide"
    }
   },
   "source": [
    "En la primera parte del curso estaremos trabajando con un problema de transferencia de calor.\n",
    "En este apartado se desarrolla la solución analítica del problema que será utilizada como punto de comparación para los resultados obtenidos por el __MEF__."
   ]
  },
  {
   "cell_type": "markdown",
   "metadata": {
    "slideshow": {
     "slide_type": "slide"
    }
   },
   "source": [
    "Existen tres mecanismos para la transferencia de calor: conducción, convección y radiación.\n",
    "En este primer problema se modela solamente la conducción que se da en objetos sólidos.\n",
    "Para simplificar el análisis se utilizará una __conductividad térmica__ $K$ constante (tanto en el espacio como con respecto a la temperatura) y se modelará con una __generación__ $Q$ también constante."
   ]
  },
  {
   "cell_type": "markdown",
   "metadata": {
    "slideshow": {
     "slide_type": "slide"
    }
   },
   "source": [
    "![Fig 2.1](Imagenes/Fig2.1.png)"
   ]
  },
  {
   "cell_type": "markdown",
   "metadata": {
    "slideshow": {
     "slide_type": "slide"
    }
   },
   "source": [
    "$$-K \\frac {d^2 T} {dx^2} = Q $$\n",
    "\n",
    "\n",
    "__Condiciones de frontera__:\n",
    "\n",
    "$$ \\frac {d} {dx} T(x)\\Big{|}_{x=0} = - \\frac {q} {K} $$\n",
    "\n",
    "$$T(x)\\Big{|}_{x=L} = T_L$$"
   ]
  },
  {
   "cell_type": "markdown",
   "metadata": {
    "slideshow": {
     "slide_type": "slide"
    }
   },
   "source": [
    "Terminología y significado de las variables utilizadas:\n",
    "\n",
    "* $x$ y $y$ forman el sistema de coordenadas donde está definido el problema.\n",
    "* $L$ es la longitud de la barra (es decir, el **dominio** está definido de $x=0$ a $x=L$)\n",
    "* $T(x)$ es la **temperatura** de la barra. Su valor para cada parte del dominio es lo que queremos obtener.\n",
    "* $Q$ representa la **generación** de calor en la barra. Normalmente asociado a una unidad de volumen.\n",
    "* $q$ representa un **flujo con valor establecido** en la **frontera** de la barra (donde termina el dominio).\n",
    "* $T_L$ representa la temperatura en $x=L$, dato conocido.\n",
    "* $K$ es la **constante de conductividad térmica**$^*$. Es una relación de cuanto se puede mover el calor (energía) dada una diferencia de temperatura. Su valor siempre es negativo, indicando que el calor siempre se mueve del punto más caliente a uno más frío.\n",
    "\n",
    "$^*$ No en todos los materiales/condiciones $K$ es constante. Se estudia este caso inicialmente para poder obtener una solución de manera sencilla."
   ]
  },
  {
   "cell_type": "markdown",
   "metadata": {
    "slideshow": {
     "slide_type": "slide"
    }
   },
   "source": [
    "## Solución analítica"
   ]
  },
  {
   "cell_type": "markdown",
   "metadata": {
    "slideshow": {
     "slide_type": "slide"
    }
   },
   "source": [
    "La solución analítica se hace por medio de integración."
   ]
  },
  {
   "cell_type": "markdown",
   "metadata": {
    "slideshow": {
     "slide_type": "slide"
    }
   },
   "source": [
    "$$ \\frac {d^2} {dx^2} T(x) +  \\frac {Q}{K} = 0 $$"
   ]
  },
  {
   "cell_type": "markdown",
   "metadata": {
    "slideshow": {
     "slide_type": "slide"
    }
   },
   "source": [
    "Primero, se multiplica toda la expresión por $dx$."
   ]
  },
  {
   "cell_type": "markdown",
   "metadata": {
    "slideshow": {
     "slide_type": "slide"
    }
   },
   "source": [
    "$$ \\frac {d} {dx} T(x) +  \\frac {Q}{K} \\int dx = 0 $$"
   ]
  },
  {
   "cell_type": "markdown",
   "metadata": {
    "slideshow": {
     "slide_type": "slide"
    }
   },
   "source": [
    "Integrando una vez:\n",
    "\n",
    "$$ \\frac {d} {dx} T(x) +  \\frac {Q}{K} \\cdot x + C_1 = 0 $$"
   ]
  },
  {
   "cell_type": "markdown",
   "metadata": {
    "slideshow": {
     "slide_type": "slide"
    }
   },
   "source": [
    "Para obtener el valor de la constante de integración $C_1$ usamos la condición de frontera para $x=0$:\n",
    "$$ \\frac {d} {dx} T(x) = - \\frac {q} {K} $$"
   ]
  },
  {
   "cell_type": "markdown",
   "metadata": {
    "slideshow": {
     "slide_type": "slide"
    }
   },
   "source": [
    "Substituyendo:\n",
    "$$ \\frac {d} {dx} T(x) +  \\frac {Q}{K} x + C_1 = 0 $$\n",
    "\n",
    "$$ - \\frac {q} {K}  +  \\frac {Q}{K} 0 + C_1 = 0 $$\n",
    "\n",
    "Con lo que obtenemos:\n",
    "$$ C_1 = \\frac {q}{K} $$"
   ]
  },
  {
   "cell_type": "markdown",
   "metadata": {
    "slideshow": {
     "slide_type": "slide"
    }
   },
   "source": [
    "Substituyendo $ C_1 $:\n",
    "$$ \\frac {d} {dx} T(x) +  \\frac {Q}{K} x + \\frac {q}{K} = 0 $$"
   ]
  },
  {
   "cell_type": "markdown",
   "metadata": {
    "slideshow": {
     "slide_type": "slide"
    }
   },
   "source": [
    "Repetimos nuevamente, multiplicando por $dx$ e integrando una segunda vez:\n",
    "\n",
    "$$ T(x) +  \\frac {Q}{2K} x^2 + \\frac {q}{K}x + C_2 = 0 $$"
   ]
  },
  {
   "cell_type": "markdown",
   "metadata": {
    "slideshow": {
     "slide_type": "slide"
    }
   },
   "source": [
    "Con la segunda condición de frontera, que determina una temperatura conocida $T(L) = T_L$:\n",
    "\n",
    "$$ T_L +  \\frac {Q}{2K} L^2 + \\frac {q}{K}L + C_2 = 0 $$\n",
    "\n",
    "Lo que nos permite obtener el valor de la constante $C_2$:\n",
    "\n",
    "$$ C_2 = -T_L - \\frac {Q}{2K} L^2 - \\frac {q}{K}L $$"
   ]
  },
  {
   "cell_type": "markdown",
   "metadata": {
    "slideshow": {
     "slide_type": "slide"
    }
   },
   "source": [
    "Substituyendo este valor y reorganizando la expresión:\n",
    "\n",
    "$$ T(x) = T_L + \\frac {Q}{2K} (L^2 - x^2) + \\frac {q}{K}(L-x) $$"
   ]
  },
  {
   "cell_type": "markdown",
   "metadata": {
    "slideshow": {
     "slide_type": "slide"
    }
   },
   "source": [
    "La anterior es la solución del problema para toda $x$."
   ]
  }
 ],
 "metadata": {
  "celltoolbar": "Slideshow",
  "kernelspec": {
   "display_name": "Python 3 (ipykernel)",
   "language": "python",
   "name": "python3"
  },
  "language_info": {
   "codemirror_mode": {
    "name": "ipython",
    "version": 3
   },
   "file_extension": ".py",
   "mimetype": "text/x-python",
   "name": "python",
   "nbconvert_exporter": "python",
   "pygments_lexer": "ipython3",
   "version": "3.11.3"
  }
 },
 "nbformat": 4,
 "nbformat_minor": 4
}
