{
 "cells": [
  {
   "cell_type": "markdown",
   "id": "efe9cb1c",
   "metadata": {},
   "source": [
    "# Actividad 1.- Ejercicios de Sympy"
   ]
  },
  {
   "cell_type": "markdown",
   "id": "9a4e5458",
   "metadata": {},
   "source": [
    "**Utilice Python/SymPy para resolver los siguientes ejercicios:**\n"
   ]
  },
  {
   "cell_type": "markdown",
   "id": "83ea1fa1",
   "metadata": {},
   "source": [
    "**1.- Resuelva las siguientes ecuaciones (para la variable):**\n",
    "\n",
    "1.1 $x + 3x = 10$\n",
    "\n",
    "1.2 $2x^2 -10x +5 =0$\n",
    "\n",
    "1.3 $\\frac{a}{x} + bx - 8 =0$\n",
    "\n",
    "1.4 $\\cos(x) + \\sin(x) = 10$\n",
    "\n"
   ]
  },
  {
   "cell_type": "code",
   "execution_count": null,
   "id": "6dbc5b53",
   "metadata": {},
   "outputs": [],
   "source": []
  },
  {
   "cell_type": "markdown",
   "id": "28978257",
   "metadata": {},
   "source": [
    "**2.- Calcule las siguientes derivadas:**\n",
    "\n",
    "2.1 $\\frac{d}{dx}(\\cos x) $\n",
    "\n",
    "2.2 $\\frac{d}{dt}(at^2 - 2\\tan t - \\frac{10}{t})$\n"
   ]
  },
  {
   "cell_type": "code",
   "execution_count": null,
   "id": "21edda3b",
   "metadata": {},
   "outputs": [],
   "source": []
  },
  {
   "cell_type": "markdown",
   "id": "dee2762c",
   "metadata": {},
   "source": [
    "**3.- Calcule las integrales indefinidas:**\n",
    "\n",
    "3.1 $\\int(\\cos x)dx $\n",
    "\n",
    "3.2 $\\int(x^3 - 8x)dx$\n",
    "\n",
    "3.2 $\\int(e^{-3x}\\sin x))dx$"
   ]
  },
  {
   "cell_type": "code",
   "execution_count": null,
   "id": "04fddb0b",
   "metadata": {},
   "outputs": [],
   "source": []
  },
  {
   "cell_type": "markdown",
   "id": "a452a773",
   "metadata": {},
   "source": [
    "**4.- Resuelva la siguiente ecuación diferencial:**\n",
    "\n",
    "$$\\frac{dS}{dr} = kS $$"
   ]
  },
  {
   "cell_type": "code",
   "execution_count": null,
   "id": "2bd1d769",
   "metadata": {},
   "outputs": [],
   "source": []
  }
 ],
 "metadata": {
  "kernelspec": {
   "display_name": "Python 3 (ipykernel)",
   "language": "python",
   "name": "python3"
  },
  "language_info": {
   "codemirror_mode": {
    "name": "ipython",
    "version": 3
   },
   "file_extension": ".py",
   "mimetype": "text/x-python",
   "name": "python",
   "nbconvert_exporter": "python",
   "pygments_lexer": "ipython3",
   "version": "3.8.8"
  }
 },
 "nbformat": 4,
 "nbformat_minor": 5
}
