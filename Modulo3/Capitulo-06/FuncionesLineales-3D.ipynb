{
 "cells": [
  {
   "cell_type": "code",
   "execution_count": 1,
   "metadata": {
    "slideshow": {
     "slide_type": ""
    },
    "tags": []
   },
   "outputs": [],
   "source": [
    "import numpy as np\n",
    "import matplotlib.pyplot as plt\n",
    "from mpl_toolkits.mplot3d import Axes3D"
   ]
  },
  {
   "cell_type": "code",
   "execution_count": 2,
   "metadata": {},
   "outputs": [],
   "source": [
    "xv = np.linspace(1,4,10)\n",
    "yv = np.linspace(1,3,10)\n",
    "zv = np.linspace(1,5,10)\n",
    "\n",
    "x, y, z = np.meshgrid(xv, yv, zv)\n",
    "\n",
    "a = 1\n",
    "b = 1.5\n",
    "c = 2\n",
    "\n",
    "xi = (x-2.5) / b\n",
    "eta = (y-2) / a\n",
    "zeta = (z-3) / c"
   ]
  },
  {
   "cell_type": "code",
   "execution_count": 3,
   "metadata": {},
   "outputs": [],
   "source": [
    "N1 = 1/8*(1-xi)*(1-eta)*(1-zeta)\n",
    "N2 = 1/8*(1+xi)*(1-eta)*(1-zeta)\n",
    "N3 = 1/8*(1+xi)*(1+eta)*(1-zeta)\n",
    "N4 = 1/8*(1-xi)*(1+eta)*(1-zeta)\n",
    "N5 = 1/8*(1-xi)*(1-eta)*(1+zeta)\n",
    "N6 = 1/8*(1+xi)*(1-eta)*(1+zeta)\n",
    "N7 = 1/8*(1+xi)*(1+eta)*(1+zeta)\n",
    "N8 = 1/8*(1-xi)*(1+eta)*(1+zeta)"
   ]
  },
  {
   "cell_type": "code",
   "execution_count": 4,
   "metadata": {
    "slideshow": {
     "slide_type": ""
    },
    "tags": []
   },
   "outputs": [
    {
     "name": "stdout",
     "output_type": "stream",
     "text": [
      "[0.5 0.  0.  0.5]\n",
      "0.0\n"
     ]
    }
   ],
   "source": [
    "def colorize(func):\n",
    "    #func = func * 2 - 1\n",
    "    b0, b1, b2 = 0,0,0\n",
    "    if func < 0:\n",
    "        b0 = - func\n",
    "    else:\n",
    "        b0 = func\n",
    "    return np.array((b0,b1,b2,b0))\n",
    "\n",
    "print(colorize(0.5))\n",
    "print(N1.flatten().min())"
   ]
  },
  {
   "cell_type": "code",
   "execution_count": 5,
   "metadata": {
    "slideshow": {
     "slide_type": ""
    },
    "tags": []
   },
   "outputs": [],
   "source": [
    "%matplotlib qt\n",
    "fig=plt.figure(figsize=(10,10))\n",
    "ax = fig.add_subplot(projection = '3d')\n",
    "xp = np.array([1,4,4,1,1])\n",
    "yp = np.array([1,1,3,3,1])\n",
    "zp = np.array([1,1,1,1,1])\n",
    "plt.plot(xp,yp, 'ko-')\n",
    "#plt.plot(x.flatten(),y.flatten(),funcion.flatten(),'.')\n",
    "for xx, yy, zz, cc in zip(x.flatten(), y.flatten(), z.flatten(), N2.flatten()):\n",
    "    #print(zz,cc)\n",
    "    ax.plot([xx],[yy],[zz],'.',c=colorize(cc))\n",
    "#ax.scatter(x.flatten(),y.flatten(),z.flatten(),'.',c=colorize(N1.flatten()))\n",
    "#plt.plot(x.flatten(),y.flatten(),N2.flatten(),'.')\n",
    "#plt.plot(x.flatten(),y.flatten(),N3.flatten(),'.')\n",
    "#plt.plot(x.flatten(),y.flatten(),N4.flatten(),'.')\n",
    "#ax.set_aspect('equal')\n"
   ]
  },
  {
   "cell_type": "code",
   "execution_count": null,
   "metadata": {},
   "outputs": [],
   "source": []
  }
 ],
 "metadata": {
  "julynter-results": {
   "filteredId": [],
   "filteredIndividual": [],
   "filteredRestart": [],
   "filteredType": [],
   "hash": "a62a0d5ef69368d10080a281dcf238bf65a4bcc8",
   "visible": [
    {
     "cellId": "group",
     "hash": "19d3d3d153f22e318cbe061df9e685ba5165b0aa",
     "reason": "This groups other lint messages",
     "reportId": "group",
     "reportType": "confusenotebook",
     "suggestion": null,
     "text": "Confuse Notebook"
    },
    {
     "cellId": 0,
     "hash": "671288bb74bb1d3032370d5fe060db7227470115",
     "reason": "A markdown cell at the beginning of the notebook can provide a human-friendly title with no constraints and introduce the notebook, indicating its purpose and external requirements.",
     "reportId": "c4",
     "reportType": "confusenotebook",
     "suggestion": "Please consider adding a markdown cell to describe the notebook.",
     "text": "The first cell of the notebook is not a markdown cell"
    },
    {
     "cellId": 4,
     "hash": "f1b852b404f5450fe9eb656a280e5757207a08db",
     "reason": "A markdown cell at the end of the notebook can conclude it, presenting a summary of the obtained results.",
     "reportId": "c5",
     "reportType": "confusenotebook",
     "suggestion": "Please consider adding a markdown cell to conclude the notebook.",
     "text": "The last cell of the notebook is not a markdown cell"
    },
    {
     "cellId": "group",
     "hash": "d6fbc9d2bdd580e18ed0bc5805dc26db323d6f5f",
     "reason": "This groups other lint messages",
     "reportId": "group",
     "reportType": "import",
     "suggestion": null,
     "text": "Import"
    },
    {
     "cellId": 0,
     "hash": "27cb5b672682628946795aa19ea6a35322e33cb9",
     "reason": "Using a requirements file with pinned versions for all imported modules increases the reproducibility of the notebook.",
     "reportId": "i2",
     "reportType": "import",
     "suggestion": "Please consider adding them to guarantee the reproducibility.",
     "text": "Module numpy was imported by Cell 0, but it is not in the requirements file"
    },
    {
     "cellId": 0,
     "hash": "0b708b2e925e8b6e6bc2721bcdc948ae9904e6e7",
     "reason": "Using a requirements file with pinned versions for all imported modules increases the reproducibility of the notebook.",
     "reportId": "i2",
     "reportType": "import",
     "suggestion": "Please consider adding them to guarantee the reproducibility.",
     "text": "Module matplotlib was imported by Cell 0, but it is not in the requirements file"
    }
   ]
  },
  "kernelspec": {
   "display_name": "Python 3 (ipykernel)",
   "language": "python",
   "name": "python3"
  },
  "language_info": {
   "codemirror_mode": {
    "name": "ipython",
    "version": 3
   },
   "file_extension": ".py",
   "mimetype": "text/x-python",
   "name": "python",
   "nbconvert_exporter": "python",
   "pygments_lexer": "ipython3",
   "version": "3.8.8"
  }
 },
 "nbformat": 4,
 "nbformat_minor": 4
}
