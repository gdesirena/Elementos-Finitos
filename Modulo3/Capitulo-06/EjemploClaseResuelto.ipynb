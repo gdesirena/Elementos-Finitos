{
 "cells": [
  {
   "cell_type": "code",
   "execution_count": 1,
   "metadata": {
    "slideshow": {
     "slide_type": ""
    },
    "tags": []
   },
   "outputs": [],
   "source": [
    "import sympy as sp\n",
    "sp.init_printing(use_unicode=True)"
   ]
  },
  {
   "cell_type": "code",
   "execution_count": null,
   "metadata": {},
   "outputs": [],
   "source": [
    "x, y, z = sp.symbols('x, y, z')"
   ]
  },
  {
   "cell_type": "code",
   "execution_count": 8,
   "metadata": {},
   "outputs": [
    {
     "data": {
      "image/png": "[encoded data removed]",
      "text/latex": [
       "$$\\left[\\begin{matrix}1 & 3 & 2 & 0\\\\1 & 0 & 4 & 0\\\\1 & 0 & 0 & 0\\\\1 & 1 & 2 & 5\\end{matrix}\\right]$$"
      ],
      "text/plain": [
       "⎡1  3  2  0⎤\n",
       "⎢          ⎥\n",
       "⎢1  0  4  0⎥\n",
       "⎢          ⎥\n",
       "⎢1  0  0  0⎥\n",
       "⎢          ⎥\n",
       "⎣1  1  2  5⎦"
      ]
     },
     "execution_count": 8,
     "metadata": {},
     "output_type": "execute_result"
    }
   ],
   "source": [
    "C = sp.Matrix([[1,3,2,0],[1,0,4,0],[1,0,0,0],[1,1,2,5]])\n",
    "C"
   ]
  },
  {
   "cell_type": "code",
   "execution_count": 9,
   "metadata": {},
   "outputs": [
    {
     "data": {
      "image/png": "[encoded data removed]",
      "text/latex": [
       "$$\\left[\\begin{matrix}0 & 0 & 1 & 0\\\\\\frac{1}{3} & - \\frac{1}{6} & - \\frac{1}{6} & 0\\\\0 & \\frac{1}{4} & - \\frac{1}{4} & 0\\\\- \\frac{1}{15} & - \\frac{1}{15} & - \\frac{1}{15} & \\frac{1}{5}\\end{matrix}\\right]$$"
      ],
      "text/plain": [
       "⎡  0      0      1     0 ⎤\n",
       "⎢                        ⎥\n",
       "⎢ 1/3   -1/6   -1/6    0 ⎥\n",
       "⎢                        ⎥\n",
       "⎢  0     1/4   -1/4    0 ⎥\n",
       "⎢                        ⎥\n",
       "⎣-1/15  -1/15  -1/15  1/5⎦"
      ]
     },
     "execution_count": 9,
     "metadata": {},
     "output_type": "execute_result"
    }
   ],
   "source": [
    "C.inv()"
   ]
  },
  {
   "cell_type": "markdown",
   "metadata": {},
   "source": [
    "Obtenemos las funciones de forma"
   ]
  },
  {
   "cell_type": "code",
   "execution_count": 12,
   "metadata": {},
   "outputs": [
    {
     "data": {
      "image/png": "[encoded data removed]",
      "text/latex": [
       "$$\\left[\\begin{matrix}\\frac{x}{3} - \\frac{z}{15} & - \\frac{x}{6} + \\frac{y}{4} - \\frac{z}{15} & - \\frac{x}{6} - \\frac{y}{4} - \\frac{z}{15} + 1 & \\frac{z}{5}\\end{matrix}\\right]$$"
      ],
      "text/plain": [
       "⎡x   z     x   y   z     x   y   z       z⎤\n",
       "⎢─ - ──  - ─ + ─ - ──  - ─ - ─ - ── + 1  ─⎥\n",
       "⎣3   15    6   4   15    6   4   15      5⎦"
      ]
     },
     "execution_count": 12,
     "metadata": {},
     "output_type": "execute_result"
    }
   ],
   "source": [
    "N = sp.Matrix([1,x,y,z]).T * C.inv()\n",
    "N"
   ]
  },
  {
   "cell_type": "code",
   "execution_count": null,
   "metadata": {},
   "outputs": [],
   "source": [
    "Para comprobar el resultado evaluamos las cuatro funciones en las coordenadas de los nodos."
   ]
  },
  {
   "cell_type": "code",
   "execution_count": 4,
   "metadata": {},
   "outputs": [
    {
     "data": {
      "image/png": "[encoded data removed]",
      "text/latex": [
       "$$\\left[\\begin{matrix}1 & 0 & 0 & 0\\end{matrix}\\right]$$"
      ],
      "text/plain": [
       "[1  0  0  0]"
      ]
     },
     "execution_count": 4,
     "metadata": {},
     "output_type": "execute_result"
    }
   ],
   "source": [
    "N.subs({'x':3, 'y':2, 'z':0})"
   ]
  },
  {
   "cell_type": "code",
   "execution_count": 5,
   "metadata": {},
   "outputs": [
    {
     "data": {
      "image/png": "[encoded data removed]",
      "text/latex": [
       "$$\\left[\\begin{matrix}0 & 1 & 0 & 0\\end{matrix}\\right]$$"
      ],
      "text/plain": [
       "[0  1  0  0]"
      ]
     },
     "execution_count": 5,
     "metadata": {},
     "output_type": "execute_result"
    }
   ],
   "source": [
    "N.subs({'x':0, 'y':4, 'z':0})"
   ]
  },
  {
   "cell_type": "code",
   "execution_count": 6,
   "metadata": {},
   "outputs": [
    {
     "data": {
      "image/png": "[encoded data removed]",
      "text/latex": [
       "$$\\left[\\begin{matrix}0 & 0 & 1 & 0\\end{matrix}\\right]$$"
      ],
      "text/plain": [
       "[0  0  1  0]"
      ]
     },
     "execution_count": 6,
     "metadata": {},
     "output_type": "execute_result"
    }
   ],
   "source": [
    "N.subs({'x':0, 'y':0, 'z':0})"
   ]
  },
  {
   "cell_type": "code",
   "execution_count": 7,
   "metadata": {},
   "outputs": [
    {
     "data": {
      "image/png": "[encoded data removed]",
      "text/latex": [
       "$$\\left[\\begin{matrix}0 & 0 & 0 & 1\\end{matrix}\\right]$$"
      ],
      "text/plain": [
       "[0  0  0  1]"
      ]
     },
     "execution_count": 7,
     "metadata": {},
     "output_type": "execute_result"
    }
   ],
   "source": [
    "N.subs({'x':1, 'y':2, 'z':5})"
   ]
  }
 ],
 "metadata": {
  "julynter-results": {
   "filteredId": [],
   "filteredIndividual": [],
   "filteredRestart": [],
   "filteredType": [],
   "hash": "5720d4f3d87a2d6c0ea9f88b9023efa9175e8b86",
   "visible": [
    {
     "cellId": "group",
     "hash": "c0de46ba034d710c2b2406a37ee6816be9634aa0",
     "reason": "This groups other lint messages",
     "reportId": "group",
     "reportType": "hiddenstate",
     "suggestion": null,
     "text": "Hidden State"
    },
    {
     "cellId": 0,
     "hash": "fa0a60e314755b3090b2eb816729c171a9cc19a6",
     "reason": "A cell with results of a previous session may fail to execute or produce different results in this one, hampering the reproducibility.",
     "reportId": "h1",
     "reportType": "hiddenstate",
     "suggestion": "Please consider executing it to guarantee the reproducibility.",
     "text": "Cell 0 has execution results, but it wasn't executed on this session"
    },
    {
     "cellId": 2,
     "hash": "37fb8aeab0c4080ebee10feb2b7bde422373d98f",
     "reason": "A cell with results of a previous session may fail to execute or produce different results in this one, hampering the reproducibility.",
     "reportId": "h1",
     "reportType": "hiddenstate",
     "suggestion": "Please consider executing it to guarantee the reproducibility.",
     "text": "Cell 2 has execution results, but it wasn't executed on this session"
    },
    {
     "cellId": 3,
     "hash": "f2580da7cc5b0359fb1d17aea2a30ae6cec7f0e1",
     "reason": "A cell with results of a previous session may fail to execute or produce different results in this one, hampering the reproducibility.",
     "reportId": "h1",
     "reportType": "hiddenstate",
     "suggestion": "Please consider executing it to guarantee the reproducibility.",
     "text": "Cell 3 has execution results, but it wasn't executed on this session"
    },
    {
     "cellId": 5,
     "hash": "f1eb3a1f22eb77f97c7dab1df2a2133663eb247d",
     "reason": "A cell with results of a previous session may fail to execute or produce different results in this one, hampering the reproducibility.",
     "reportId": "h1",
     "reportType": "hiddenstate",
     "suggestion": "Please consider executing it to guarantee the reproducibility.",
     "text": "Cell 5 has execution results, but it wasn't executed on this session"
    },
    {
     "cellId": 7,
     "hash": "828183136b04de852384b77ad090ef941a1c11d5",
     "reason": "A cell with results of a previous session may fail to execute or produce different results in this one, hampering the reproducibility.",
     "reportId": "h1",
     "reportType": "hiddenstate",
     "suggestion": "Please consider executing it to guarantee the reproducibility.",
     "text": "Cell 7 has execution results, but it wasn't executed on this session"
    },
    {
     "cellId": 8,
     "hash": "0e03fa92c185b894029acd9e97953306240313fb",
     "reason": "A cell with results of a previous session may fail to execute or produce different results in this one, hampering the reproducibility.",
     "reportId": "h1",
     "reportType": "hiddenstate",
     "suggestion": "Please consider executing it to guarantee the reproducibility.",
     "text": "Cell 8 has execution results, but it wasn't executed on this session"
    },
    {
     "cellId": 9,
     "hash": "af03e084a4405198130a4d6241274b2683680524",
     "reason": "A cell with results of a previous session may fail to execute or produce different results in this one, hampering the reproducibility.",
     "reportId": "h1",
     "reportType": "hiddenstate",
     "suggestion": "Please consider executing it to guarantee the reproducibility.",
     "text": "Cell 9 has execution results, but it wasn't executed on this session"
    },
    {
     "cellId": 10,
     "hash": "f22ad2a43d1bbef5e0d7b52bb885392a191c1ddc",
     "reason": "A cell with results of a previous session may fail to execute or produce different results in this one, hampering the reproducibility.",
     "reportId": "h1",
     "reportType": "hiddenstate",
     "suggestion": "Please consider executing it to guarantee the reproducibility.",
     "text": "Cell 10 has execution results, but it wasn't executed on this session"
    },
    {
     "cellId": 7,
     "hash": "39cbf29aad1243241a1ab8622ab61efbf97cc5e0",
     "reason": "A skip in the execution count might indicate the presence of a hidden state caused by a cell that does not exist anymore. Hidden states might prevent cells from executing or producing the same results, hampering the reproducibility.",
     "reportId": "h4",
     "reportType": "hiddenstate",
     "suggestion": "Please consider re-running the notebook to guarantee the reproducibility.",
     "text": "Cell 7 skips the execution count"
    },
    {
     "cellId": 5,
     "hash": "2b989a346e8307ca949154cbf1a1f8276e30eac4",
     "reason": "A skip in the execution count might indicate the presence of a hidden state caused by a cell that does not exist anymore. Hidden states might prevent cells from executing or producing the same results, hampering the reproducibility.",
     "reportId": "h4",
     "reportType": "hiddenstate",
     "suggestion": "Please consider re-running the notebook to guarantee the reproducibility.",
     "text": "Cell 5 skips the execution count"
    },
    {
     "cellId": "group",
     "hash": "19d3d3d153f22e318cbe061df9e685ba5165b0aa",
     "reason": "This groups other lint messages",
     "reportId": "group",
     "reportType": "confusenotebook",
     "suggestion": null,
     "text": "Confuse Notebook"
    },
    {
     "cellId": 1,
     "hash": "0cdfae4a0ce78f6eb7eb5fa1387c7b94e52a9cc2",
     "reason": "When you try to run all cells following the top-down order, non-executed cells might fail to execute or produce different results, hampering the reproducibility.",
     "reportId": "c1",
     "reportType": "confusenotebook",
     "suggestion": "Please consider cleaning it to guarantee the reproducibility.",
     "text": "Cell 1 is a non-executed cell among executed ones"
    },
    {
     "cellId": 6,
     "hash": "401cbbe308715fe81e551f77cb8cc11882e9ecc3",
     "reason": "When you try to run all cells following the top-down order, non-executed cells might fail to execute or produce different results, hampering the reproducibility.",
     "reportId": "c1",
     "reportType": "confusenotebook",
     "suggestion": "Please consider cleaning it to guarantee the reproducibility.",
     "text": "Cell 6 is a non-executed cell among executed ones"
    },
    {
     "cellId": 7,
     "hash": "ab805c389128dbeb38e71f08d6f291418dcd7660",
     "reason": "When you try to run all cells following the top-down order, cells in the wrong order might fail to execute or produce different results, hampering the reproducibility.",
     "reportId": "c2",
     "reportType": "confusenotebook",
     "suggestion": "Please consider re-running the notebook to guarantee the reproducibility.",
     "text": "Cell 7 has the execution count 4 in the wrong order"
    },
    {
     "cellId": 0,
     "hash": "e19a6a753bc0aad31c0916d1afdadd69f9ee7465",
     "reason": "A markdown cell at the beginning of the notebook can provide a human-friendly title with no constraints and introduce the notebook, indicating its purpose and external requirements.",
     "reportId": "c4",
     "reportType": "confusenotebook",
     "suggestion": "Please consider adding a markdown cell to describe the notebook.",
     "text": "The first cell of the notebook is not a markdown cell"
    },
    {
     "cellId": 10,
     "hash": "3869d65e8867db5c4a22253d55d6196dda7db338",
     "reason": "A markdown cell at the end of the notebook can conclude it, presenting a summary of the obtained results.",
     "reportId": "c5",
     "reportType": "confusenotebook",
     "suggestion": "Please consider adding a markdown cell to conclude the notebook.",
     "text": "The last cell of the notebook is not a markdown cell"
    }
   ]
  },
  "kernelspec": {
   "display_name": "Python 3 (ipykernel)",
   "language": "python",
   "name": "python3"
  },
  "language_info": {
   "codemirror_mode": {
    "name": "ipython",
    "version": 3
   },
   "file_extension": ".py",
   "mimetype": "text/x-python",
   "name": "python",
   "nbconvert_exporter": "python",
   "pygments_lexer": "ipython3",
   "version": "3.8.8"
  }
 },
 "nbformat": 4,
 "nbformat_minor": 4
}
