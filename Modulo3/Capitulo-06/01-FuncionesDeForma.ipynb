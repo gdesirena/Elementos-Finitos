{
 "cells": [
  {
   "cell_type": "markdown",
   "metadata": {
    "slideshow": {
     "slide_type": "slide"
    },
    "tags": []
   },
   "source": [
    "![Titulo](Imagenes/Titulos/Head5.png)"
   ]
  },
  {
   "cell_type": "markdown",
   "metadata": {
    "slideshow": {
     "slide_type": "slide"
    }
   },
   "source": [
    "![Titulo](Imagenes/Titulos/Head5-1.png)"
   ]
  },
  {
   "cell_type": "markdown",
   "metadata": {
    "slideshow": {
     "slide_type": "slide"
    }
   },
   "source": [
    "## Funciones de forma de elementos volumétricos"
   ]
  },
  {
   "cell_type": "markdown",
   "metadata": {
    "slideshow": {
     "slide_type": "slide"
    }
   },
   "source": [
    "![Figura 7.1](Imagenes/Fig7.1.png)"
   ]
  },
  {
   "cell_type": "markdown",
   "metadata": {
    "slideshow": {
     "slide_type": "slide"
    }
   },
   "source": [
    "![Titulo](Imagenes/Titulos/Head5-2.png)"
   ]
  },
  {
   "cell_type": "markdown",
   "metadata": {
    "slideshow": {
     "slide_type": "slide"
    }
   },
   "source": [
    "Elemento tetraedro:\n",
    "\n",
    "![Figura 7.3](Imagenes/Fig7.3.png)"
   ]
  },
  {
   "cell_type": "markdown",
   "metadata": {
    "slideshow": {
     "slide_type": "slide"
    }
   },
   "source": [
    "Las funciones de forma están dadas por:\n",
    "\n",
    "$$\\phi = \\alpha_1 + \\alpha_2 x + \\alpha_3 y + \\alpha_4 z$$"
   ]
  },
  {
   "cell_type": "markdown",
   "metadata": {
    "slideshow": {
     "slide_type": "slide"
    }
   },
   "source": [
    "Para obtener sus ecuaciones tenemos que resolver el sistema:\n",
    "\n",
    "$$\\phi_1 = \\alpha_1 + \\alpha_2 x_1 + \\alpha_3 y_1 + \\alpha_4 z_1$$\n",
    "$$\\phi_2 = \\alpha_1 + \\alpha_2 x_2 + \\alpha_3 y_2 + \\alpha_4 z_2$$\n",
    "$$\\phi_3 = \\alpha_1 + \\alpha_2 x_3 + \\alpha_3 y_3 + \\alpha_4 z_3$$\n",
    "$$\\phi_4 = \\alpha_1+ \\alpha_2 x_4 + \\alpha_3 y_4 + \\alpha_4 z_4$$"
   ]
  },
  {
   "cell_type": "markdown",
   "metadata": {
    "slideshow": {
     "slide_type": "slide"
    }
   },
   "source": [
    "$$\\mathbf{\\phi}= \\mathbf{C}\\mathbf{\\alpha}$$\n",
    "\n",
    "$$\\begin{bmatrix} \\phi_1 \\\\ \\phi_2 \\\\ \\phi_3 \\\\ \\phi_4 \\end{bmatrix} = \\begin{bmatrix} 1 & x_1 & y_1 & z_1 \\\\ 1 & x_2 & y_2 & z_2 \\\\ 1 & x_3 & y_3 & z_3 \\\\ 1 & x_4 & y_4 & z_4  \\end{bmatrix} \\begin{bmatrix} \\alpha_1 \\\\ \\alpha_2 \\\\ \\alpha_3 \\\\ \\alpha_4 \\end{bmatrix} $$"
   ]
  },
  {
   "cell_type": "markdown",
   "metadata": {
    "slideshow": {
     "slide_type": "slide"
    }
   },
   "source": [
    "El vector de $\\mathbf{\\alpha}$ se obtiene:\n",
    "\n",
    "$$\\mathbf{\\alpha} = \\mathbf{C}^{-1}\\mathbf{\\phi}$$"
   ]
  },
  {
   "cell_type": "markdown",
   "metadata": {
    "slideshow": {
     "slide_type": "slide"
    }
   },
   "source": [
    "Las funciones de forma pueden ser calculadas usando:\n",
    "\n",
    "$$\\begin{bmatrix} N_1 & N_2 & N_3 & N_4 \\end{bmatrix} = \\begin{bmatrix} 1 & x & y & z \\end{bmatrix} \\mathbf{C}^{-1}$$"
   ]
  },
  {
   "cell_type": "markdown",
   "metadata": {
    "slideshow": {
     "slide_type": "slide"
    }
   },
   "source": [
    "__Ejemplo__:\n",
    "\n",
    "__(a)__ Calcula las funciones de forma para el tetraedro:\n",
    "\n",
    "![Figura 7.7](Imagenes/Fig7.7.png)\n",
    "\n",
    "__(b)__ Verifica que las funciones $N_i$ valgan $1$ para el punto $(x_i, y_i, z_i)$ y cero para los demás."
   ]
  },
  {
   "cell_type": "markdown",
   "metadata": {
    "slideshow": {
     "slide_type": "slide"
    }
   },
   "source": [
    "__Solución__:\n",
    "\n",
    "La matriz $\\mathbf{C}$ sería:\n",
    "\n",
    "$$ \\mathbf{C} = \\begin{bmatrix} 1 & x_1 & y_1 & z_1 \\\\ 1 & x_2 & y_2 & z_2 \\\\ 1 & x_3 & y_3 & z_3 \\\\ 1 & x_4 & y_4 & z_4  \\end{bmatrix} = \\begin{bmatrix} 1 & 3 & 2 & 0 \\\\ 1 & 0 & 4 & 0 \\\\ 1 & 0 & 0 & 0 \\\\ 1 & 1 & 2 & 5  \\end{bmatrix}$$"
   ]
  },
  {
   "cell_type": "markdown",
   "metadata": {
    "slideshow": {
     "slide_type": "slide"
    }
   },
   "source": [
    "$$ \\mathbf{C}^{-1} = \\frac {1} {60} \\begin{bmatrix} 0 & 0 & 60 & 0 \\\\ 20 & -10 & -10 & 0 \\\\ 0 & 15 & -15 & 0 \\\\ -4 & -4 & -4 & 12 \\end{bmatrix}$$"
   ]
  },
  {
   "cell_type": "markdown",
   "metadata": {
    "slideshow": {
     "slide_type": "slide"
    }
   },
   "source": [
    "$$\\begin{bmatrix} N_1 & N_2 & N_3 & N_4 \\end{bmatrix} = \\begin{bmatrix} 1 & x & y & z \\end{bmatrix} \\frac {1} {60} \\begin{bmatrix} 0 & 0 & 60 & 0 \\\\ 20 & -10 & -10 & 0 \\\\ 0 & 15 & -15 & 0 \\\\ -4 & -4 & -4 & 12 \\end{bmatrix} = \\frac {1} {60} \\begin{bmatrix}20 x - 4 z & - 10 x + 15 y - 4 z & - 10 x - 15 y - 4 z + 60 & 12 z\\end{bmatrix}$$"
   ]
  },
  {
   "cell_type": "markdown",
   "metadata": {
    "slideshow": {
     "slide_type": "slide"
    }
   },
   "source": [
    "Esto es:\n",
    "\n",
    "$$N_1 = \\frac{x}{3} - \\frac{z}{15} $$\n",
    "$$N_2 = - \\frac{x}{6} + \\frac{y}{4} - \\frac{z}{15} $$\n",
    "$$N_3 = 1 - \\frac{x}{6} - \\frac{y}{4} - \\frac{z}{15} $$\n",
    "$$N_4 = \\frac{z}{5}$$"
   ]
  },
  {
   "cell_type": "markdown",
   "metadata": {
    "slideshow": {
     "slide_type": "slide"
    }
   },
   "source": [
    "### Funciones cuadráticas."
   ]
  },
  {
   "cell_type": "markdown",
   "metadata": {
    "slideshow": {
     "slide_type": "slide"
    }
   },
   "source": [
    "![Figura 7.6](Imagenes/Fig7.6.png)"
   ]
  },
  {
   "cell_type": "markdown",
   "metadata": {
    "slideshow": {
     "slide_type": "slide"
    }
   },
   "source": [
    "Las funciones de forma tienen la estructura:\n",
    "\n",
    "$$\\phi = \\alpha_1 + \\alpha_2 x + \\alpha_3 y + \\alpha_4 z + \\alpha_5 x^2 + \\alpha_6 xy + \\alpha_7 y^2 + \\alpha_8 yz + \\alpha_9 z^2 + \\alpha_{10} xz$$\n",
    "\n"
   ]
  },
  {
   "cell_type": "markdown",
   "metadata": {
    "slideshow": {
     "slide_type": "slide"
    }
   },
   "source": [
    "### Coordenadas de volumen"
   ]
  },
  {
   "cell_type": "markdown",
   "metadata": {
    "slideshow": {
     "slide_type": "slide"
    }
   },
   "source": [
    "De manera análoga a los elementos triangulares, donde usamos coordenadas de área, resulta más práctico trabajar con coordenadas de volumen $L_1$, $L_2$, $L_3$, $L_4$. Estas coordenadas corresponden a las funciones de forma lineales $N_1$, $N_2$, $N_3$, $N_4$ y cumplen:\n",
    "\n",
    "$$L_1 + L_2 + L_3 + L_4 = 1$$"
   ]
  },
  {
   "cell_type": "markdown",
   "metadata": {
    "slideshow": {
     "slide_type": "slide"
    }
   },
   "source": [
    "Esto nos permite calcular las integrales de las funciones lineales usando:\n",
    "\n",
    "$$\\int\\limits_V L_1^a L_2^b L_3^c L_4^d dV = \\dfrac {a!b!c!d!} {(3+a+b+c+d)!} 6V$$"
   ]
  },
  {
   "cell_type": "markdown",
   "metadata": {
    "slideshow": {
     "slide_type": "slide"
    }
   },
   "source": [
    "Así las funciones cuadráticas se pueden definir de una manera sencilla, por ejemplo, para $N_1$ tenemos:\n",
    "\n",
    "$$N_1 = (2L_1 -1) L_1$$\n",
    "\n",
    "(Las funciones de forma de todos los vértices son similares)"
   ]
  },
  {
   "cell_type": "markdown",
   "metadata": {
    "slideshow": {
     "slide_type": "slide"
    }
   },
   "source": [
    "La función $N_5$ queda como:\n",
    "\n",
    "$$N_5 = 4 L_1 L_2 $$\n",
    "\n",
    "(Las funciones de forma de los nodos que se encuentran en las aristas son similares)\n",
    "__Nótese la similitud con las funciones de forma para elementos triangulares.__"
   ]
  },
  {
   "cell_type": "markdown",
   "metadata": {
    "slideshow": {
     "slide_type": "slide"
    }
   },
   "source": [
    "![Titulo](Imagenes/Titulos/Head5-3.png)"
   ]
  },
  {
   "cell_type": "markdown",
   "metadata": {
    "slideshow": {
     "slide_type": "slide"
    }
   },
   "source": [
    "### Hexaedro\n",
    "\n",
    "El hexaedro más sencillo tiene ocho nodos, uno en cada vértice:\n",
    "\n",
    "![Figura 7.8](Imagenes/Fig7.8.png)"
   ]
  },
  {
   "cell_type": "markdown",
   "metadata": {
    "slideshow": {
     "slide_type": "slide"
    }
   },
   "source": [
    "Las funciones de forma tienen la estructura:\n",
    "\n",
    "$$\\phi = \\alpha_1 + \\alpha_2 x + \\alpha_3 y + \\alpha_4 z + \\alpha_5 xy + \\alpha_6 xz + \\alpha_7 yz + \\alpha_8 xyz$$"
   ]
  },
  {
   "cell_type": "markdown",
   "metadata": {
    "slideshow": {
     "slide_type": "slide"
    }
   },
   "source": [
    "El procedimiento para obtener las funciones de forma es igual que para el tetraedro: primero obtenemos la matriz $\\mathbf{C}$ que resulta del sistema:\n",
    "\n",
    "$$\\begin{bmatrix} \\phi_1 \\\\ \\cdot \\\\ \\cdot \\\\ \\phi_8 \\end{bmatrix} = \\begin{bmatrix} 1 & x_1 & y_1 & z_1 & x_1y_1 & x_1z_1 & y_1z_1 & x_1y_1z_1 \\\\ \\cdot & \\cdot & \\cdot & \\cdot & \\cdot & \\cdot & \\cdot & \\cdot & \\\\ \\cdot & \\cdot & \\cdot & \\cdot & \\cdot & \\cdot & \\cdot & \\cdot & \\\\ 1 & x_8 & y_8 & z_8 & x_8y_8 & x_8z_8 & y_8z_8 & x_8y_8z_8 \\end{bmatrix} \\begin{bmatrix} \\alpha_1 \\\\ \\cdot \\\\ \\cdot  \\\\ \\alpha_8 \\end{bmatrix} $$"
   ]
  },
  {
   "cell_type": "markdown",
   "metadata": {
    "slideshow": {
     "slide_type": "slide"
    }
   },
   "source": [
    "Siendo posible obtener las funciones de forma usando:\n",
    "\n",
    "$$\\begin{bmatrix} N_1 & N_2 & N_3 & N_4 & N_5 & N_6 & N_7 & N_8 \\end{bmatrix} = \\begin{bmatrix} 1 & x & y & z & xy & xz & yz & xyz\\end{bmatrix} \\mathbf{C}^{-1}$$"
   ]
  },
  {
   "cell_type": "markdown",
   "metadata": {
    "slideshow": {
     "slide_type": "slide"
    }
   },
   "source": [
    "### Hexaedro usando coordenadas naturales\n",
    "\n",
    "Al igual que el elemento cuadrilátero es posible utilizar coordenadas naturales para este elemento.\n",
    "![Figura 7.9](Imagenes/Fig7.9.png)"
   ]
  },
  {
   "cell_type": "markdown",
   "metadata": {
    "slideshow": {
     "slide_type": "slide"
    }
   },
   "source": [
    "Las funciones de forma se obtienen:\n",
    "\n",
    "$$\\begin{bmatrix} N_1 \\\\ N_2 \\\\ N_3 \\\\ N_4 \\\\ N_5 \\\\ N_6 \\\\ N_7 \\\\ N_8 \\end{bmatrix} = \\frac {1} {8} \\begin{bmatrix} (1-\\xi) (1-\\eta) (1-\\zeta) \\\\ (1+\\xi) (1-\\eta) (1-\\zeta) \\\\ (1+\\xi) (1+\\eta) (1-\\zeta) \\\\ (1-\\xi) (1+\\eta) (1-\\zeta) \\\\ (1-\\xi) (1-\\eta) (1+\\zeta) \\\\ (1+\\xi) (1-\\eta) (1+\\zeta) \\\\ (1+\\xi) (1+\\eta) (1+\\zeta) \\\\ (1-\\xi) (1+\\eta) (1+\\zeta) \\\\ \\end{bmatrix}$$\n"
   ]
  },
  {
   "cell_type": "markdown",
   "metadata": {
    "slideshow": {
     "slide_type": "slide"
    }
   },
   "source": [
    "Las funciones de forma se pueden escribir de manera más concisa usando la expresión:\n",
    "\n",
    "$$N_i = \\frac {1}{8} (1+\\xi\\xi_i) (1+\\eta\\eta_i)(1+\\zeta\\zeta_i) \\textrm{ para } i = 1,2,...,8$$\n",
    "\n",
    "Donde $\\xi_i$, $\\eta_i$ y $\\zeta_i$ son $= \\pm 1$ según el nodo."
   ]
  },
  {
   "cell_type": "markdown",
   "metadata": {
    "slideshow": {
     "slide_type": "slide"
    }
   },
   "source": [
    "### Hexaedro cuadrático usando coordenadas naturales\n",
    "\n",
    "Se puede extender el elemento hexaedro lineal a cuadrático aumentando nodos en la mitad de las aristas:\n",
    "\n",
    "![Figura 7.10](Imagenes/Fig7.10.png)"
   ]
  },
  {
   "cell_type": "markdown",
   "metadata": {
    "slideshow": {
     "slide_type": "slide"
    }
   },
   "source": [
    "Las funciones de forma pueden ser obtenidas usando:\n",
    "\n",
    "$$N_i = \\frac {1}{8} (1+\\xi\\xi_i) (1+\\eta\\eta_i)(1+\\zeta\\zeta_i)(\\xi\\xi_i+\\eta\\eta_i+\\zeta\\zeta_i-2) $$\n",
    "$$\\textrm{Para los nodos  } i = 1,2,...,8$$\n",
    "\n",
    "$$N_i = \\frac {1}{4} (1-\\xi^2) (1+\\eta\\eta_i)(1+\\zeta\\zeta_i) $$\n",
    "$$\\textrm{Para los nodos  } i = 10,12,18,20$$\n",
    "\n",
    "$$N_i = \\frac {1}{4} (1-\\eta^2) (1+\\xi\\xi_i)(1+\\zeta\\zeta_i) $$\n",
    "$$\\textrm{Para los nodos  } i = 9,11,17,19$$\n",
    "\n",
    "$$N_i = \\frac {1}{4} (1-\\zeta^2) (1+\\xi\\xi_i) (1+\\eta\\eta_i) $$\n",
    "$$\\textrm{Para los nodos  } i = 13,14,15,16$$"
   ]
  },
  {
   "cell_type": "markdown",
   "metadata": {
    "slideshow": {
     "slide_type": "slide"
    }
   },
   "source": [
    "__Ejercicio__: Obtén la función de forma que corresponde a tu número de lista y comprueba que vale $1$ para las coordenadas del nodo y $0$ para dos nodos más."
   ]
  }
 ],
 "metadata": {
  "celltoolbar": "Slideshow",
  "julynter-results": {
   "filteredId": [],
   "filteredIndividual": [],
   "filteredRestart": [],
   "filteredType": [],
   "hash": "ba1ad353960f48d1976811e50c2b9dc915a7d11d",
   "visible": []
  },
  "kernelspec": {
   "display_name": "Python 3 (ipykernel)",
   "language": "python",
   "name": "python3"
  },
  "language_info": {
   "codemirror_mode": {
    "name": "ipython",
    "version": 3
   },
   "file_extension": ".py",
   "mimetype": "text/x-python",
   "name": "python",
   "nbconvert_exporter": "python",
   "pygments_lexer": "ipython3",
   "version": "3.8.8"
  }
 },
 "nbformat": 4,
 "nbformat_minor": 4
}
