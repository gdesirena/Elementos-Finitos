{
 "cells": [
  {
   "cell_type": "code",
   "execution_count": 1,
   "metadata": {},
   "outputs": [],
   "source": [
    "import numpy as np\n",
    "import matplotlib.pyplot as plt\n",
    "import sympy as sp\n",
    "sp.init_printing(use_unicode=True)\n",
    "from IPython.display import display, Math"
   ]
  },
  {
   "cell_type": "code",
   "execution_count": 2,
   "metadata": {},
   "outputs": [],
   "source": [
    "q = -50 # W/m^2\n",
    "Q = 500 # W/m^3\n",
    "k = 1 # W/mC \n",
    "\n",
    "e0 = {'x':[0.000,0.000,0.020],\n",
    "      'y':[0.000,0.050,0.000],\n",
    "      'n':[0,1,2]}\n",
    "\n",
    "e1 = {'x':[0.020,0.000,0.020],\n",
    "      'y':[0.000,0.050,0.050],\n",
    "      'n':[2,1,3]}\n",
    "\n",
    "e2 = {'x':[0.020,0.020,0.040],\n",
    "      'y':[0.000,0.050,0.000],\n",
    "      'n':[2,3,4]}\n",
    "\n",
    "e3 = {'x':[0.040,0.020,0.040],\n",
    "      'y':[0.000,0.050,0.050],\n",
    "      'n':[4,3,5]}\n",
    "\n",
    "e4 = {'x':[0.040,0.040,0.060],\n",
    "      'y':[0.000,0.050,0.000],\n",
    "      'n':[4,5,6]}\n",
    "\n",
    "e5 = {'x':[0.060,0.040,0.060],\n",
    "      'y':[0.000,0.050,0.050],\n",
    "      'n':[6,5,7]}\n",
    "\n",
    "e6 = {'x':[0.060,0.060,0.080],\n",
    "      'y':[0.000,0.050,0.000],\n",
    "      'n':[6,7,8]}\n",
    "\n",
    "e7 = {'x':[0.080,0.060,0.080],\n",
    "      'y':[0.000,0.050,0.050],\n",
    "      'n':[8,7,9]}\n",
    "\n",
    "e8 = {'x':[0.080,0.080,0.100],\n",
    "      'y':[0.000,0.050,0.000],\n",
    "      'n':[8,9,10]}\n",
    "\n",
    "e9 = {'x':[0.100,0.080,0.100],\n",
    "      'y':[0.000,0.050,0.050],\n",
    "      'n':[10,9,11]}\n",
    "\n",
    "\n",
    "elementos = [e0, e1, e2, e3, e4, e5, e6, e7, e8, e9 ]"
   ]
  },
  {
   "cell_type": "code",
   "execution_count": null,
   "metadata": {},
   "outputs": [],
   "source": []
  }
 ],
 "metadata": {
  "julynter-results": {
   "filteredId": [],
   "filteredIndividual": [],
   "filteredRestart": [],
   "filteredType": [],
   "hash": "c245ac302e281261878c05bca67323c14b24617b",
   "visible": [
    {
     "cellId": "group",
     "hash": "c0de46ba034d710c2b2406a37ee6816be9634aa0",
     "reason": "This groups other lint messages",
     "reportId": "group",
     "reportType": "hiddenstate",
     "suggestion": null,
     "text": "Hidden State"
    },
    {
     "cellId": 0,
     "hash": "494dc620329639202f9b1a89dec310e7397ec582",
     "reason": "A cell with results of a previous session may fail to execute or produce different results in this one, hampering the reproducibility.",
     "reportId": "h1",
     "reportType": "hiddenstate",
     "suggestion": "Please consider executing it to guarantee the reproducibility.",
     "text": "Cell 0 has execution results, but it wasn't executed on this session"
    },
    {
     "cellId": 1,
     "hash": "8b06937b48dac12d0fe63fb48be012de951fccea",
     "reason": "A cell with results of a previous session may fail to execute or produce different results in this one, hampering the reproducibility.",
     "reportId": "h1",
     "reportType": "hiddenstate",
     "suggestion": "Please consider executing it to guarantee the reproducibility.",
     "text": "Cell 1 has execution results, but it wasn't executed on this session"
    },
    {
     "cellId": 2,
     "hash": "35019151baf62f19d3df525d602034331fcd0474",
     "reason": "A cell with results of a previous session may fail to execute or produce different results in this one, hampering the reproducibility.",
     "reportId": "h1",
     "reportType": "hiddenstate",
     "suggestion": "Please consider executing it to guarantee the reproducibility.",
     "text": "Cell 2 has execution results, but it wasn't executed on this session"
    },
    {
     "cellId": 3,
     "hash": "3c7fcde6da9bb8f2005a531a0b3a725dbfdc6029",
     "reason": "A cell with results of a previous session may fail to execute or produce different results in this one, hampering the reproducibility.",
     "reportId": "h1",
     "reportType": "hiddenstate",
     "suggestion": "Please consider executing it to guarantee the reproducibility.",
     "text": "Cell 3 has execution results, but it wasn't executed on this session"
    },
    {
     "cellId": 4,
     "hash": "aaea4a84d484404f74565f32a41a208808da413a",
     "reason": "A cell with results of a previous session may fail to execute or produce different results in this one, hampering the reproducibility.",
     "reportId": "h1",
     "reportType": "hiddenstate",
     "suggestion": "Please consider executing it to guarantee the reproducibility.",
     "text": "Cell 4 has execution results, but it wasn't executed on this session"
    },
    {
     "cellId": 5,
     "hash": "14936fec419bf01d9260f3d97d77138ae4e0774b",
     "reason": "A cell with results of a previous session may fail to execute or produce different results in this one, hampering the reproducibility.",
     "reportId": "h1",
     "reportType": "hiddenstate",
     "suggestion": "Please consider executing it to guarantee the reproducibility.",
     "text": "Cell 5 has execution results, but it wasn't executed on this session"
    },
    {
     "cellId": 6,
     "hash": "1bb0221c2b8d2c45323a7ea033793134db3b518c",
     "reason": "A cell with results of a previous session may fail to execute or produce different results in this one, hampering the reproducibility.",
     "reportId": "h1",
     "reportType": "hiddenstate",
     "suggestion": "Please consider executing it to guarantee the reproducibility.",
     "text": "Cell 6 has execution results, but it wasn't executed on this session"
    },
    {
     "cellId": 7,
     "hash": "9ea84d448c734b3e2ad032b6570cb36b79ecad7f",
     "reason": "A cell with results of a previous session may fail to execute or produce different results in this one, hampering the reproducibility.",
     "reportId": "h1",
     "reportType": "hiddenstate",
     "suggestion": "Please consider executing it to guarantee the reproducibility.",
     "text": "Cell 7 has execution results, but it wasn't executed on this session"
    },
    {
     "cellId": 8,
     "hash": "c5338ed925453be0e948fe45ce2ff027c3633d2d",
     "reason": "A cell with results of a previous session may fail to execute or produce different results in this one, hampering the reproducibility.",
     "reportId": "h1",
     "reportType": "hiddenstate",
     "suggestion": "Please consider executing it to guarantee the reproducibility.",
     "text": "Cell 8 has execution results, but it wasn't executed on this session"
    },
    {
     "cellId": 9,
     "hash": "2f33703a8410e2a291235dbf2ea9b325e3186680",
     "reason": "A cell with results of a previous session may fail to execute or produce different results in this one, hampering the reproducibility.",
     "reportId": "h1",
     "reportType": "hiddenstate",
     "suggestion": "Please consider executing it to guarantee the reproducibility.",
     "text": "Cell 9 has execution results, but it wasn't executed on this session"
    },
    {
     "cellId": 10,
     "hash": "1fbb399dee0c344567ee3eab408c4f159265ee66",
     "reason": "A cell with results of a previous session may fail to execute or produce different results in this one, hampering the reproducibility.",
     "reportId": "h1",
     "reportType": "hiddenstate",
     "suggestion": "Please consider executing it to guarantee the reproducibility.",
     "text": "Cell 10 has execution results, but it wasn't executed on this session"
    },
    {
     "cellId": 11,
     "hash": "9af9e68a29b46aae3e831012d96613835ad53810",
     "reason": "A cell with results of a previous session may fail to execute or produce different results in this one, hampering the reproducibility.",
     "reportId": "h1",
     "reportType": "hiddenstate",
     "suggestion": "Please consider executing it to guarantee the reproducibility.",
     "text": "Cell 11 has execution results, but it wasn't executed on this session"
    },
    {
     "cellId": 12,
     "hash": "7aae519e926e9b8a61f87c4a85aa8e64984469de",
     "reason": "A cell with results of a previous session may fail to execute or produce different results in this one, hampering the reproducibility.",
     "reportId": "h1",
     "reportType": "hiddenstate",
     "suggestion": "Please consider executing it to guarantee the reproducibility.",
     "text": "Cell 12 has execution results, but it wasn't executed on this session"
    },
    {
     "cellId": 13,
     "hash": "876fd870ea88b7fdfbd7a53f84e8c115a2bd07ae",
     "reason": "A cell with results of a previous session may fail to execute or produce different results in this one, hampering the reproducibility.",
     "reportId": "h1",
     "reportType": "hiddenstate",
     "suggestion": "Please consider executing it to guarantee the reproducibility.",
     "text": "Cell 13 has execution results, but it wasn't executed on this session"
    },
    {
     "cellId": 14,
     "hash": "dca57d11e5373b2d7bbcb9382c0eb1b95a35bb85",
     "reason": "A cell with results of a previous session may fail to execute or produce different results in this one, hampering the reproducibility.",
     "reportId": "h1",
     "reportType": "hiddenstate",
     "suggestion": "Please consider executing it to guarantee the reproducibility.",
     "text": "Cell 14 has execution results, but it wasn't executed on this session"
    },
    {
     "cellId": 15,
     "hash": "6a7e4d39ebeea017be4bbc879b4080933c872335",
     "reason": "A cell with results of a previous session may fail to execute or produce different results in this one, hampering the reproducibility.",
     "reportId": "h1",
     "reportType": "hiddenstate",
     "suggestion": "Please consider executing it to guarantee the reproducibility.",
     "text": "Cell 15 has execution results, but it wasn't executed on this session"
    },
    {
     "cellId": 16,
     "hash": "d01719e2b37ae609183242286cf60bb393346a3a",
     "reason": "A cell with results of a previous session may fail to execute or produce different results in this one, hampering the reproducibility.",
     "reportId": "h1",
     "reportType": "hiddenstate",
     "suggestion": "Please consider executing it to guarantee the reproducibility.",
     "text": "Cell 16 has execution results, but it wasn't executed on this session"
    },
    {
     "cellId": 17,
     "hash": "f331823ca0e85eb904dc1a685f4af425edcc4da1",
     "reason": "A cell with results of a previous session may fail to execute or produce different results in this one, hampering the reproducibility.",
     "reportId": "h1",
     "reportType": "hiddenstate",
     "suggestion": "Please consider executing it to guarantee the reproducibility.",
     "text": "Cell 17 has execution results, but it wasn't executed on this session"
    },
    {
     "cellId": "group",
     "hash": "19d3d3d153f22e318cbe061df9e685ba5165b0aa",
     "reason": "This groups other lint messages",
     "reportId": "group",
     "reportType": "confusenotebook",
     "suggestion": null,
     "text": "Confuse Notebook"
    },
    {
     "cellId": 0,
     "hash": "25caf16f166c993a99145d82ca75d3fea8e1e846",
     "reason": "A markdown cell at the beginning of the notebook can provide a human-friendly title with no constraints and introduce the notebook, indicating its purpose and external requirements.",
     "reportId": "c4",
     "reportType": "confusenotebook",
     "suggestion": "Please consider adding a markdown cell to describe the notebook.",
     "text": "The first cell of the notebook is not a markdown cell"
    },
    {
     "cellId": 17,
     "hash": "d0c481b0f5490b1371bb11b85574b05afa0f9780",
     "reason": "A markdown cell at the end of the notebook can conclude it, presenting a summary of the obtained results.",
     "reportId": "c5",
     "reportType": "confusenotebook",
     "suggestion": "Please consider adding a markdown cell to conclude the notebook.",
     "text": "The last cell of the notebook is not a markdown cell"
    }
   ]
  },
  "kernelspec": {
   "display_name": "Python 3 (ipykernel)",
   "language": "python",
   "name": "python3"
  },
  "language_info": {
   "codemirror_mode": {
    "name": "ipython",
    "version": 3
   },
   "file_extension": ".py",
   "mimetype": "text/x-python",
   "name": "python",
   "nbconvert_exporter": "python",
   "pygments_lexer": "ipython3",
   "version": "3.8.8"
  }
 },
 "nbformat": 4,
 "nbformat_minor": 4
}
