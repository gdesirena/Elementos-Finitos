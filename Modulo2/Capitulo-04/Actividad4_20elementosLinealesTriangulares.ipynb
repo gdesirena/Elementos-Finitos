{
 "cells": [
  {
   "cell_type": "code",
   "execution_count": 22,
   "metadata": {},
   "outputs": [],
   "source": [
    "import numpy as np\n",
    "import matplotlib.pyplot as plt\n",
    "import sympy as sp\n",
    "sp.init_printing(use_unicode=True)\n",
    "from IPython.display import display, Math"
   ]
  },
  {
   "cell_type": "code",
   "execution_count": 23,
   "metadata": {},
   "outputs": [],
   "source": [
    "q = -50 # W/m^2\n",
    "Q = 500 # W/m^3\n",
    "k = 1 # W/mC \n",
    "T_final = 273.15 #C \n",
    "elementos = []\n",
    "\n",
    "fil = 2\n",
    "col = 5\n",
    "\n",
    "for i in range(fil):\n",
    "    y0 = i*0.02\n",
    "    y1 = i*0.02+0.02\n",
    "    for j in range(col):\n",
    "        x0 = j * 0.02\n",
    "        x1 = j * 0.02 + 0.02\n",
    "        c = col + 1\n",
    "        elementos.append({'x':[x0,x0,x1],\n",
    "                          'y':[y0,y1,y0],\n",
    "                          'n':[0+j+i*c,c+j+i*c,1+j+i*c]})\n",
    "\n",
    "        elementos.append({'x':[x1,x0,x1],\n",
    "                          'y':[y0,y1,y1],\n",
    "                          'n':[1+j+i*c,c+j+i*c,c+1+j+i*c]})\n",
    "\n",
    "\n",
    "\n"
   ]
  },
  {
   "cell_type": "code",
   "execution_count": 24,
   "metadata": {},
   "outputs": [
    {
     "data": {
      "text/plain": [
       "[{'x': [0.0, 0.0, 0.02], 'y': [0.0, 0.02, 0.0], 'n': [0, 6, 1]},\n",
       " {'x': [0.02, 0.0, 0.02], 'y': [0.0, 0.02, 0.02], 'n': [1, 6, 7]},\n",
       " {'x': [0.02, 0.02, 0.04], 'y': [0.0, 0.02, 0.0], 'n': [1, 7, 2]},\n",
       " {'x': [0.04, 0.02, 0.04], 'y': [0.0, 0.02, 0.02], 'n': [2, 7, 8]},\n",
       " {'x': [0.04, 0.04, 0.06], 'y': [0.0, 0.02, 0.0], 'n': [2, 8, 3]},\n",
       " {'x': [0.06, 0.04, 0.06], 'y': [0.0, 0.02, 0.02], 'n': [3, 8, 9]},\n",
       " {'x': [0.06, 0.06, 0.08], 'y': [0.0, 0.02, 0.0], 'n': [3, 9, 4]},\n",
       " {'x': [0.08, 0.06, 0.08], 'y': [0.0, 0.02, 0.02], 'n': [4, 9, 10]},\n",
       " {'x': [0.08, 0.08, 0.1], 'y': [0.0, 0.02, 0.0], 'n': [4, 10, 5]},\n",
       " {'x': [0.1, 0.08, 0.1], 'y': [0.0, 0.02, 0.02], 'n': [5, 10, 11]},\n",
       " {'x': [0.0, 0.0, 0.02], 'y': [0.02, 0.04, 0.02], 'n': [6, 12, 7]},\n",
       " {'x': [0.02, 0.0, 0.02], 'y': [0.02, 0.04, 0.04], 'n': [7, 12, 13]},\n",
       " {'x': [0.02, 0.02, 0.04], 'y': [0.02, 0.04, 0.02], 'n': [7, 13, 8]},\n",
       " {'x': [0.04, 0.02, 0.04], 'y': [0.02, 0.04, 0.04], 'n': [8, 13, 14]},\n",
       " {'x': [0.04, 0.04, 0.06], 'y': [0.02, 0.04, 0.02], 'n': [8, 14, 9]},\n",
       " {'x': [0.06, 0.04, 0.06], 'y': [0.02, 0.04, 0.04], 'n': [9, 14, 15]},\n",
       " {'x': [0.06, 0.06, 0.08], 'y': [0.02, 0.04, 0.02], 'n': [9, 15, 10]},\n",
       " {'x': [0.08, 0.06, 0.08], 'y': [0.02, 0.04, 0.04], 'n': [10, 15, 16]},\n",
       " {'x': [0.08, 0.08, 0.1], 'y': [0.02, 0.04, 0.02], 'n': [10, 16, 11]},\n",
       " {'x': [0.1, 0.08, 0.1], 'y': [0.02, 0.04, 0.04], 'n': [11, 16, 17]}]"
      ]
     },
     "execution_count": 24,
     "metadata": {},
     "output_type": "execute_result"
    }
   ],
   "source": [
    "elementos"
   ]
  },
  {
   "cell_type": "code",
   "execution_count": 25,
   "metadata": {},
   "outputs": [
    {
     "data": {
      "image/png": "[encoded data removed]",
      "text/plain": [
       "<Figure size 1008x720 with 1 Axes>"
      ]
     },
     "metadata": {
      "needs_background": "light"
     },
     "output_type": "display_data"
    }
   ],
   "source": [
    "i = 0\n",
    "n = 0\n",
    "\n",
    "plt.figure(figsize=(14,10))\n",
    "\n",
    "for e in elementos:\n",
    "    plt.plot(e['x']+[e['x'][0]],e['y']+[e['y'][0]])\n",
    "    x = np.array(e['x']).mean()\n",
    "    y = np.array(e['y']).mean()\n",
    "    plt.text(x,y,i+1, ha='center', va='center')\n",
    "    for x, y, n in zip(e['x'],e['y'],e['n']):\n",
    "         plt.text(x,y,n+1)\n",
    "    n = max(n, max(e['n']))\n",
    "    i = i + 1\n",
    "    \n",
    "plt.axis('equal')\n",
    "\n",
    "plt.show()"
   ]
  },
  {
   "cell_type": "code",
   "execution_count": null,
   "metadata": {},
   "outputs": [],
   "source": []
  }
 ],
 "metadata": {
  "julynter-results": {
   "filteredId": [],
   "filteredIndividual": [],
   "filteredRestart": [],
   "filteredType": [],
   "hash": "70730ec9887bb9e04256d687e2326b8943d2df33",
   "visible": [
    {
     "cellId": "group",
     "hash": "c0de46ba034d710c2b2406a37ee6816be9634aa0",
     "reason": "This groups other lint messages",
     "reportId": "group",
     "reportType": "hiddenstate",
     "suggestion": null,
     "text": "Hidden State"
    },
    {
     "cellId": 0,
     "hash": "494dc620329639202f9b1a89dec310e7397ec582",
     "reason": "A cell with results of a previous session may fail to execute or produce different results in this one, hampering the reproducibility.",
     "reportId": "h1",
     "reportType": "hiddenstate",
     "suggestion": "Please consider executing it to guarantee the reproducibility.",
     "text": "Cell 0 has execution results, but it wasn't executed on this session"
    },
    {
     "cellId": 1,
     "hash": "6770e4e461902d19ed993fdd97f20de52e8127dc",
     "reason": "A cell with results of a previous session may fail to execute or produce different results in this one, hampering the reproducibility.",
     "reportId": "h1",
     "reportType": "hiddenstate",
     "suggestion": "Please consider executing it to guarantee the reproducibility.",
     "text": "Cell 1 has execution results, but it wasn't executed on this session"
    },
    {
     "cellId": 2,
     "hash": "40f29180a9875c9b278e13c4a3bd93670f56dead",
     "reason": "A cell with results of a previous session may fail to execute or produce different results in this one, hampering the reproducibility.",
     "reportId": "h1",
     "reportType": "hiddenstate",
     "suggestion": "Please consider executing it to guarantee the reproducibility.",
     "text": "Cell 2 has execution results, but it wasn't executed on this session"
    },
    {
     "cellId": 3,
     "hash": "3c7fcde6da9bb8f2005a531a0b3a725dbfdc6029",
     "reason": "A cell with results of a previous session may fail to execute or produce different results in this one, hampering the reproducibility.",
     "reportId": "h1",
     "reportType": "hiddenstate",
     "suggestion": "Please consider executing it to guarantee the reproducibility.",
     "text": "Cell 3 has execution results, but it wasn't executed on this session"
    },
    {
     "cellId": 4,
     "hash": "aaea4a84d484404f74565f32a41a208808da413a",
     "reason": "A cell with results of a previous session may fail to execute or produce different results in this one, hampering the reproducibility.",
     "reportId": "h1",
     "reportType": "hiddenstate",
     "suggestion": "Please consider executing it to guarantee the reproducibility.",
     "text": "Cell 4 has execution results, but it wasn't executed on this session"
    },
    {
     "cellId": 5,
     "hash": "14936fec419bf01d9260f3d97d77138ae4e0774b",
     "reason": "A cell with results of a previous session may fail to execute or produce different results in this one, hampering the reproducibility.",
     "reportId": "h1",
     "reportType": "hiddenstate",
     "suggestion": "Please consider executing it to guarantee the reproducibility.",
     "text": "Cell 5 has execution results, but it wasn't executed on this session"
    },
    {
     "cellId": 6,
     "hash": "9b72d3d3943badc89b4310d5bcaa03d2e9a8ac0e",
     "reason": "A cell with results of a previous session may fail to execute or produce different results in this one, hampering the reproducibility.",
     "reportId": "h1",
     "reportType": "hiddenstate",
     "suggestion": "Please consider executing it to guarantee the reproducibility.",
     "text": "Cell 6 has execution results, but it wasn't executed on this session"
    },
    {
     "cellId": 7,
     "hash": "f3a380ec97406e99a61b6b1eacb83ca21fcd1814",
     "reason": "A cell with results of a previous session may fail to execute or produce different results in this one, hampering the reproducibility.",
     "reportId": "h1",
     "reportType": "hiddenstate",
     "suggestion": "Please consider executing it to guarantee the reproducibility.",
     "text": "Cell 7 has execution results, but it wasn't executed on this session"
    },
    {
     "cellId": 8,
     "hash": "d56d0d4bf18511bd82f6aaa1d4e567335614aa5a",
     "reason": "A cell with results of a previous session may fail to execute or produce different results in this one, hampering the reproducibility.",
     "reportId": "h1",
     "reportType": "hiddenstate",
     "suggestion": "Please consider executing it to guarantee the reproducibility.",
     "text": "Cell 8 has execution results, but it wasn't executed on this session"
    },
    {
     "cellId": 9,
     "hash": "91cfd3ea6b84d888cf9abc02e96f67c7f0f394bc",
     "reason": "A cell with results of a previous session may fail to execute or produce different results in this one, hampering the reproducibility.",
     "reportId": "h1",
     "reportType": "hiddenstate",
     "suggestion": "Please consider executing it to guarantee the reproducibility.",
     "text": "Cell 9 has execution results, but it wasn't executed on this session"
    },
    {
     "cellId": 10,
     "hash": "abb730d7996615f8bb91767b0e555d8c43ac1bb2",
     "reason": "A cell with results of a previous session may fail to execute or produce different results in this one, hampering the reproducibility.",
     "reportId": "h1",
     "reportType": "hiddenstate",
     "suggestion": "Please consider executing it to guarantee the reproducibility.",
     "text": "Cell 10 has execution results, but it wasn't executed on this session"
    },
    {
     "cellId": 11,
     "hash": "28e6781b8fb41a01930f3ed84de6f0acc4144c88",
     "reason": "A cell with results of a previous session may fail to execute or produce different results in this one, hampering the reproducibility.",
     "reportId": "h1",
     "reportType": "hiddenstate",
     "suggestion": "Please consider executing it to guarantee the reproducibility.",
     "text": "Cell 11 has execution results, but it wasn't executed on this session"
    },
    {
     "cellId": 12,
     "hash": "652b3489c32f841e5b7866709b5230f2ddc07f4c",
     "reason": "A cell with results of a previous session may fail to execute or produce different results in this one, hampering the reproducibility.",
     "reportId": "h1",
     "reportType": "hiddenstate",
     "suggestion": "Please consider executing it to guarantee the reproducibility.",
     "text": "Cell 12 has execution results, but it wasn't executed on this session"
    },
    {
     "cellId": 13,
     "hash": "ca5977e66d3fdaa055bccafdda316230ff8d8d99",
     "reason": "A cell with results of a previous session may fail to execute or produce different results in this one, hampering the reproducibility.",
     "reportId": "h1",
     "reportType": "hiddenstate",
     "suggestion": "Please consider executing it to guarantee the reproducibility.",
     "text": "Cell 13 has execution results, but it wasn't executed on this session"
    },
    {
     "cellId": 14,
     "hash": "996c92287ed9d6817dd79efdab76c947ffaa0463",
     "reason": "A cell with results of a previous session may fail to execute or produce different results in this one, hampering the reproducibility.",
     "reportId": "h1",
     "reportType": "hiddenstate",
     "suggestion": "Please consider executing it to guarantee the reproducibility.",
     "text": "Cell 14 has execution results, but it wasn't executed on this session"
    },
    {
     "cellId": 15,
     "hash": "54181f07d501c9fe5e6add68fa9c7f3bf5f2c7f4",
     "reason": "A cell with results of a previous session may fail to execute or produce different results in this one, hampering the reproducibility.",
     "reportId": "h1",
     "reportType": "hiddenstate",
     "suggestion": "Please consider executing it to guarantee the reproducibility.",
     "text": "Cell 15 has execution results, but it wasn't executed on this session"
    },
    {
     "cellId": 16,
     "hash": "d01719e2b37ae609183242286cf60bb393346a3a",
     "reason": "A cell with results of a previous session may fail to execute or produce different results in this one, hampering the reproducibility.",
     "reportId": "h1",
     "reportType": "hiddenstate",
     "suggestion": "Please consider executing it to guarantee the reproducibility.",
     "text": "Cell 16 has execution results, but it wasn't executed on this session"
    },
    {
     "cellId": 17,
     "hash": "19db52761616066ae5aae31bc5f996cd2b465a8a",
     "reason": "A cell with results of a previous session may fail to execute or produce different results in this one, hampering the reproducibility.",
     "reportId": "h1",
     "reportType": "hiddenstate",
     "suggestion": "Please consider executing it to guarantee the reproducibility.",
     "text": "Cell 17 has execution results, but it wasn't executed on this session"
    },
    {
     "cellId": 17,
     "hash": "9cb4db2e6bfa3e2cd2c8b541a10f38d9082535f5",
     "reason": "A skip in the execution count might indicate the presence of a hidden state caused by a cell that does not exist anymore. Hidden states might prevent cells from executing or producing the same results, hampering the reproducibility.",
     "reportId": "h4",
     "reportType": "hiddenstate",
     "suggestion": "Please consider re-running the notebook to guarantee the reproducibility.",
     "text": "Cell 17 skips the execution count"
    },
    {
     "cellId": "group",
     "hash": "19d3d3d153f22e318cbe061df9e685ba5165b0aa",
     "reason": "This groups other lint messages",
     "reportId": "group",
     "reportType": "confusenotebook",
     "suggestion": null,
     "text": "Confuse Notebook"
    },
    {
     "cellId": 0,
     "hash": "25caf16f166c993a99145d82ca75d3fea8e1e846",
     "reason": "A markdown cell at the beginning of the notebook can provide a human-friendly title with no constraints and introduce the notebook, indicating its purpose and external requirements.",
     "reportId": "c4",
     "reportType": "confusenotebook",
     "suggestion": "Please consider adding a markdown cell to describe the notebook.",
     "text": "The first cell of the notebook is not a markdown cell"
    },
    {
     "cellId": 17,
     "hash": "d57f0aa3f425ee38d629ce63d772f862e9f00af3",
     "reason": "A markdown cell at the end of the notebook can conclude it, presenting a summary of the obtained results.",
     "reportId": "c5",
     "reportType": "confusenotebook",
     "suggestion": "Please consider adding a markdown cell to conclude the notebook.",
     "text": "The last cell of the notebook is not a markdown cell"
    }
   ]
  },
  "kernelspec": {
   "display_name": "Python 3 (ipykernel)",
   "language": "python",
   "name": "python3"
  },
  "language_info": {
   "codemirror_mode": {
    "name": "ipython",
    "version": 3
   },
   "file_extension": ".py",
   "mimetype": "text/x-python",
   "name": "python",
   "nbconvert_exporter": "python",
   "pygments_lexer": "ipython3",
   "version": "3.8.8"
  }
 },
 "nbformat": 4,
 "nbformat_minor": 4
}
