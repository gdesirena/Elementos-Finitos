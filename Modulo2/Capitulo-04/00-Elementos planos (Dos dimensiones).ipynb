{
 "cells": [
  {
   "cell_type": "markdown",
   "metadata": {
    "slideshow": {
     "slide_type": "slide"
    }
   },
   "source": [
    "![Titulo](Imagenes/Titulos/Head4.png)"
   ]
  },
  {
   "cell_type": "markdown",
   "metadata": {
    "slideshow": {
     "slide_type": "slide"
    }
   },
   "source": [
    "En el mundo de la ingeniería, uno descubre rápidamente que la mayoría de los problemas no se pueden solucionar con análisis unidimensional. Por otro lado, muchos problemas se pueden “analizar” y se pueden obtener soluciones realistas utilizando conceptos 2D."
   ]
  },
  {
   "cell_type": "markdown",
   "metadata": {
    "slideshow": {
     "slide_type": "slide"
    }
   },
   "source": [
    "En los problemas 2D, el dominio físico (o del problema) se subdivide en subregiones o elementos. Se pueden utilizar muchas formas poligonales para definir los elementos. Por ejemplo, los rectángulos se utilizan comúnmente cuando el dominio del problema en sí es rectangular (lo cual es un requisito en los métodos de diferencias finitas simples)."
   ]
  },
  {
   "cell_type": "markdown",
   "metadata": {
    "slideshow": {
     "slide_type": "slide"
    }
   },
   "source": [
    "Sin embargo, los rectángulos no se adaptan fácilmente cuando el dominio es irregular (una excepción a esto es el cuadrilátero general, que se analizará en el Capítulo 6). La estructura geométrica más simple que se adapta fácilmente a superficies irregulares es el **triángulo**, y es una de las formas de elementos más populares que se utilizan en la actualidad."
   ]
  },
  {
   "cell_type": "markdown",
   "metadata": {
    "slideshow": {
     "slide_type": "slide"
    }
   },
   "source": [
    "Ahora surgen dos restricciones adicionales cuando se trabaja con problemas en 2D. La primera restricción es que se involucrarán muchos más nodos en el proceso de solución. Recordando la ecuación matricial general:\n",
    "    \n",
    "$$A\\Phi = B $$\n",
    "\n",
    "Se puede ver rápidamente que la matriz global, A, se vuelve mucho más grande (n × n nodos) y más dispersa; por lo tanto, la solución directa y sencilla suele estar limitada a problemas relativamente pequeños. En segundo lugar, generalmente se requiere un refinamiento de malla local en aquellas regiones donde las variables de interés varían rápidamente o donde existen discontinuidades. La importancia de utilizar solucionadores de matrices eficientes se hace evidente muy rápidamente. El enfoque en este módulo es utilizar alguna forma de iteración de Gauss-Siedel o una descomposición de Cholesky, que es una forma modificada de eliminación de Gauss que se utiliza comúnmente en muchos programas de elementos finitos."
   ]
  },
  {
   "cell_type": "markdown",
   "metadata": {
    "slideshow": {
     "slide_type": "slide"
    }
   },
   "source": [
    "En este módulo, presentamos la primera de dos formas generales de elementos para discretizar un dominio 2-D: **el triángulo**. El segundo tipo de elementos basados en la geometría **cuadrilátera**. Históricamente, el método de elementos finitos empleó primeramente elementos triangulares para modelar problemas estructurales. Hoy, muchos programas de elementos finitos disponibles comercialmente para el análisis estructural utilizan una mezcla de triángulos y cuadriláteros."
   ]
  },
  {
   "cell_type": "markdown",
   "metadata": {
    "slideshow": {
     "slide_type": "slide"
    }
   },
   "source": [
    "El elemento de elección es un triángulo que consta de tres nodos de vértice. Saber dónde colocar y dimensionar óptimamente los elementos es más un arte que una ciencia. En general, se colocan más elementos en aquellas regiones del dominio físico donde se espera que las funciones cambien más rápidamente. Como se puede suponer rápidamente, la generación de mallas puede requerir varios \"intentos\" antes de lograr una buena malla. La solución de ecuaciones de tipo difusión es bastante indulgente: generalmente se obtienen soluciones (aunque no de la mayor precisión), incluso en las mallas más burdas. Por otro lado, es casi seguro que las soluciones de ecuaciones no lineales, en particular aquellas que están dominadas por la convección, requerirán varios remallados antes de obtener una solución adecuada."
   ]
  },
  {
   "cell_type": "markdown",
   "metadata": {
    "slideshow": {
     "slide_type": "slide"
    }
   },
   "source": [
    "Al crear una malla de elementos triangulares, se recomienda que los elementos se coloquen más cerca en la dirección del gradiente más grande. Los elementos que tienen forma equilátera son más precisos que los elementos triangulares largos y estrechos, y cuando se trabaja con límites irregulares curvos, los lados del elemento deben aproximarse al límite. El uso de elementos lineales de tres nodos (lados rectos) puede requerir muchos elementos para reducir el error en la solución; por otro lado, el uso de elementos triangulares cuadráticos con lados curvos aumenta la precisión y puede acomodar naturalmente los límites curvos, pero requiere un mayor esfuerzo computacional en el proceso de solución. La generación de la malla se puede realizar\n",
    "más fácilmente utilizando programas de computadora."
   ]
  },
  {
   "cell_type": "code",
   "execution_count": null,
   "metadata": {},
   "outputs": [],
   "source": []
  }
 ],
 "metadata": {
  "celltoolbar": "Slideshow",
  "julynter-results": {
   "filteredId": [],
   "filteredIndividual": [],
   "filteredRestart": [],
   "filteredType": [],
   "hash": "830dc2e2e2717f9f30341cc1e14ba94417727e28",
   "visible": []
  },
  "kernelspec": {
   "display_name": "Python 3 (ipykernel)",
   "language": "python",
   "name": "python3"
  },
  "language_info": {
   "codemirror_mode": {
    "name": "ipython",
    "version": 3
   },
   "file_extension": ".py",
   "mimetype": "text/x-python",
   "name": "python",
   "nbconvert_exporter": "python",
   "pygments_lexer": "ipython3",
   "version": "3.8.8"
  }
 },
 "nbformat": 4,
 "nbformat_minor": 4
}
