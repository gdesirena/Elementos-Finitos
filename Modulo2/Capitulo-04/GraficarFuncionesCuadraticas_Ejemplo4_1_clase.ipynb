{
 "cells": [
  {
   "cell_type": "code",
   "execution_count": 2,
   "metadata": {},
   "outputs": [],
   "source": [
    "import numpy as np\n",
    "import matplotlib.pyplot as plt\n",
    "from mpl_toolkits.mplot3d import Axes3D"
   ]
  },
  {
   "cell_type": "code",
   "execution_count": 3,
   "metadata": {},
   "outputs": [
    {
     "data": {
      "text/plain": [
       "array([0.66666667, 0.16666667, 0.16666667])"
      ]
     },
     "execution_count": 3,
     "metadata": {},
     "output_type": "execute_result"
    }
   ],
   "source": [
    "# Calculo de L1, L2 y L3 según x,y\n",
    "a = np.array([[0,2,1],\n",
    "             [0,1,2],\n",
    "             [1,1,1]])\n",
    "b = np.array([0.5,0.5,1])\n",
    "\n",
    "x = np.linalg.solve(a,b)\n",
    "x"
   ]
  },
  {
   "cell_type": "code",
   "execution_count": 5,
   "metadata": {},
   "outputs": [],
   "source": [
    "L1v = np.linspace(0,1,30)\n",
    "L2v = np.linspace(0,1,30)\n",
    "\n",
    "L1, L2 = np.meshgrid(L1v, L2v)\n",
    "\n",
    "L3 = 1 - L1 - L2"
   ]
  },
  {
   "cell_type": "code",
   "execution_count": 6,
   "metadata": {},
   "outputs": [],
   "source": [
    "# Declarar las funciones de forma para un elmento cuad triangular\n",
    "N1 = L1*(2*L1 - 1)\n",
    "N2 = L2*(2*L2 - 1)\n",
    "N3 = L3*(2*L3 - 1)\n",
    "N4 = 4*L2*L3\n",
    "N5 = 4*L1*L3\n",
    "N6 = 4*L1*L2\n"
   ]
  },
  {
   "cell_type": "code",
   "execution_count": 8,
   "metadata": {},
   "outputs": [],
   "source": [
    "# vamos definir las coordenadas de los nodos\n",
    "xn = [0,2,1]\n",
    "yn = [0,1,2]\n",
    "\n",
    "# el punto de interes (x,y)\n",
    "x = L1*xn[0] + L2*xn[1] + L3*xn[2]\n",
    "y = L1*yn[0] + L2*yn[1] + L3*yn[2]\n",
    "\n",
    "zero = (L1 + L2 > 1.0)\n",
    "N1[zero] = 0.0\n",
    "N2[zero] = 0.0\n",
    "N3[zero] = 0.0\n",
    "N4[zero] = 0.0\n",
    "N5[zero] = 0.0\n",
    "N6[zero] = 0.0\n",
    "\n",
    "x[zero] = 0.0\n",
    "y[zero] = 0.0\n",
    "L1[zero] = 0.0\n",
    "L2[zero] = 0.0\n",
    "L3[zero] = 0.0\n"
   ]
  },
  {
   "cell_type": "code",
   "execution_count": 9,
   "metadata": {},
   "outputs": [
    {
     "data": {
      "text/plain": [
       "1.0"
      ]
     },
     "execution_count": 9,
     "metadata": {},
     "output_type": "execute_result"
    }
   ],
   "source": [
    "N1.max()"
   ]
  },
  {
   "cell_type": "code",
   "execution_count": 13,
   "metadata": {},
   "outputs": [
    {
     "data": {
      "text/plain": [
       "(0.0, 1.0)"
      ]
     },
     "execution_count": 13,
     "metadata": {},
     "output_type": "execute_result"
    }
   ],
   "source": [
    "%matplotlib qt\n",
    "fig = plt.figure(figsize=(10,10))\n",
    "ax = fig.add_subplot(projection='3d')\n",
    "\n",
    "xp=np.array([0,2,1,0])\n",
    "yp=np.array([0,1,2,0])\n",
    "plt.plot(xp,yp,'ko-')\n",
    "\n",
    "plt.plot(x.flatten(), y.flatten(), N1.flatten(), '.')\n",
    "plt.plot(x.flatten(), y.flatten(), N2.flatten(), '.')\n",
    "plt.plot(x.flatten(), y.flatten(), N3.flatten(), '.')\n",
    "plt.plot(x.flatten(), y.flatten(), N4.flatten(), '.')\n",
    "plt.plot(x.flatten(), y.flatten(), N5.flatten(), '.')\n",
    "plt.plot(x.flatten(), y.flatten(), N6.flatten(), '.')\n",
    "\n",
    "ax.set_zlim(0,1)"
   ]
  },
  {
   "cell_type": "code",
   "execution_count": null,
   "metadata": {},
   "outputs": [],
   "source": []
  }
 ],
 "metadata": {
  "julynter-results": {
   "filteredId": [],
   "filteredIndividual": [],
   "filteredRestart": [],
   "filteredType": [],
   "hash": "007b8508d983f80705a343715d625527fd42efb0",
   "visible": [
    {
     "cellId": "group",
     "hash": "19d3d3d153f22e318cbe061df9e685ba5165b0aa",
     "reason": "This groups other lint messages",
     "reportId": "group",
     "reportType": "confusenotebook",
     "suggestion": null,
     "text": "Confuse Notebook"
    },
    {
     "cellId": 0,
     "hash": "671288bb74bb1d3032370d5fe060db7227470115",
     "reason": "A markdown cell at the beginning of the notebook can provide a human-friendly title with no constraints and introduce the notebook, indicating its purpose and external requirements.",
     "reportId": "c4",
     "reportType": "confusenotebook",
     "suggestion": "Please consider adding a markdown cell to describe the notebook.",
     "text": "The first cell of the notebook is not a markdown cell"
    },
    {
     "cellId": 4,
     "hash": "e47a49b4433828f646f1f4e2502e7f04e0162647",
     "reason": "A markdown cell at the end of the notebook can conclude it, presenting a summary of the obtained results.",
     "reportId": "c5",
     "reportType": "confusenotebook",
     "suggestion": "Please consider adding a markdown cell to conclude the notebook.",
     "text": "The last cell of the notebook is not a markdown cell"
    },
    {
     "cellId": "group",
     "hash": "d6fbc9d2bdd580e18ed0bc5805dc26db323d6f5f",
     "reason": "This groups other lint messages",
     "reportId": "group",
     "reportType": "import",
     "suggestion": null,
     "text": "Import"
    },
    {
     "cellId": 0,
     "hash": "27cb5b672682628946795aa19ea6a35322e33cb9",
     "reason": "Using a requirements file with pinned versions for all imported modules increases the reproducibility of the notebook.",
     "reportId": "i2",
     "reportType": "import",
     "suggestion": "Please consider adding them to guarantee the reproducibility.",
     "text": "Module numpy was imported by Cell 0, but it is not in the requirements file"
    },
    {
     "cellId": 0,
     "hash": "0b708b2e925e8b6e6bc2721bcdc948ae9904e6e7",
     "reason": "Using a requirements file with pinned versions for all imported modules increases the reproducibility of the notebook.",
     "reportId": "i2",
     "reportType": "import",
     "suggestion": "Please consider adding them to guarantee the reproducibility.",
     "text": "Module matplotlib was imported by Cell 0, but it is not in the requirements file"
    }
   ]
  },
  "kernelspec": {
   "display_name": "Python 3 (ipykernel)",
   "language": "python",
   "name": "python3"
  },
  "language_info": {
   "codemirror_mode": {
    "name": "ipython",
    "version": 3
   },
   "file_extension": ".py",
   "mimetype": "text/x-python",
   "name": "python",
   "nbconvert_exporter": "python",
   "pygments_lexer": "ipython3",
   "version": "3.8.8"
  }
 },
 "nbformat": 4,
 "nbformat_minor": 4
}
