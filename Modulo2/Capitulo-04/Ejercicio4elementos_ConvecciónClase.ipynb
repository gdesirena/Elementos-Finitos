{
 "cells": [
  {
   "cell_type": "code",
   "execution_count": 1,
   "metadata": {},
   "outputs": [],
   "source": [
    "import numpy as np\n",
    "import matplotlib.pyplot as plt\n",
    "import sympy as sp\n",
    "sp.init_printing(use_unicode=True)"
   ]
  },
  {
   "cell_type": "code",
   "execution_count": 2,
   "metadata": {},
   "outputs": [],
   "source": [
    "# Área, las cuatro son iguales\n",
    "A = .0025 #m^2 \n",
    "h = 100 # W/m^2C\n",
    "\n",
    "e1 = {'x':[0.00,0.00,0.05],\n",
    "      'y':[0.00,0.10,0.05],\n",
    "      'n':[0,1,2]}\n",
    "\n",
    "e2 = {'x':[0.00,0.10,0.05],\n",
    "      'y':[0.10,0.10,0.05],\n",
    "      'n':[1,3,2]}\n",
    "\n",
    "e3 = {'x':[0.00,0.05,0.10],\n",
    "      'y':[0.00,0.05,0.00],\n",
    "      'n':[0,2,4]}\n",
    "\n",
    "e4 = {'x':[0.10,0.05,0.10],\n",
    "      'y':[0.00,0.05,0.10],\n",
    "      'n':[4,2,3]}\n",
    "\n",
    "\n",
    "elementos = [e1, e2, e3, e4]"
   ]
  },
  {
   "cell_type": "code",
   "execution_count": 3,
   "metadata": {},
   "outputs": [
    {
     "data": {
      "image/png": "[encoded data removed]",
      "text/plain": [
       "<Figure size 360x360 with 1 Axes>"
      ]
     },
     "metadata": {
      "needs_background": "light"
     },
     "output_type": "display_data"
    }
   ],
   "source": [
    "i = 0\n",
    "n = 0\n",
    "\n",
    "plt.figure(figsize=(5,5))\n",
    "\n",
    "for e in elementos:\n",
    "    plt.plot(e['x']+[e['x'][0]],e['y']+[e['y'][0]])\n",
    "    x = np.array(e['x']).mean()\n",
    "    y = np.array(e['y']).mean()\n",
    "    plt.text(x,y,i)\n",
    "    for x, y, n in zip(e['x'],e['y'],e['n']):\n",
    "         plt.text(x,y,n)\n",
    "    n = max(n, max(e['n']))\n",
    "    i = i + 1\n",
    "    \n",
    "plt.axis('equal')\n",
    "plt.show()"
   ]
  },
  {
   "cell_type": "code",
   "execution_count": 4,
   "metadata": {},
   "outputs": [],
   "source": [
    "for e in elementos:\n",
    "    e.update(A=A)\n",
    "    e.update(b1=e['y'][1]-e['y'][2])\n",
    "    e.update(c1=e['x'][2]-e['x'][1])\n",
    "    e.update(b2=e['y'][2]-e['y'][0])\n",
    "    e.update(c2=e['x'][0]-e['x'][2])\n",
    "    e.update(b3=e['y'][0]-e['y'][1])\n",
    "    e.update(c3=e['x'][1]-e['x'][0])"
   ]
  },
  {
   "cell_type": "code",
   "execution_count": 5,
   "metadata": {},
   "outputs": [
    {
     "data": {
      "text/plain": [
       "{'x': [0.1, 0.05, 0.1],\n",
       " 'y': [0.0, 0.05, 0.1],\n",
       " 'n': [4, 2, 3],\n",
       " 'A': 0.0025,\n",
       " 'b1': -0.05,\n",
       " 'c1': 0.05,\n",
       " 'b2': 0.1,\n",
       " 'c2': 0.0,\n",
       " 'b3': -0.05,\n",
       " 'c3': -0.05}"
      ]
     },
     "execution_count": 5,
     "metadata": {},
     "output_type": "execute_result"
    }
   ],
   "source": [
    "e"
   ]
  },
  {
   "cell_type": "code",
   "execution_count": 7,
   "metadata": {},
   "outputs": [
    {
     "name": "stdout",
     "output_type": "stream",
     "text": [
      "{'x': [0.0, 0.0, 0.05], 'y': [0.0, 0.1, 0.05], 'n': [0, 1, 2], 'A': 0.0025, 'b1': 0.05, 'c1': 0.05, 'b2': 0.05, 'c2': -0.05, 'b3': -0.1, 'c3': 0.0, 'K': array([[ 25.,   0., -25.],\n",
      "       [  0.,  25., -25.],\n",
      "       [-25., -25.,  50.]]), 'F': array([0, 0, 0])}\n",
      "{'x': [0.0, 0.1, 0.05], 'y': [0.1, 0.1, 0.05], 'n': [1, 3, 2], 'A': 0.0025, 'b1': 0.05, 'c1': -0.05, 'b2': -0.05, 'c2': -0.05, 'b3': 0.0, 'c3': 0.1, 'K': array([[ 25.,   0., -25.],\n",
      "       [  0.,  25., -25.],\n",
      "       [-25., -25.,  50.]]), 'F': array([0, 0, 0])}\n",
      "{'x': [0.0, 0.05, 0.1], 'y': [0.0, 0.05, 0.0], 'n': [0, 2, 4], 'A': 0.0025, 'b1': 0.05, 'c1': 0.05, 'b2': 0.0, 'c2': -0.1, 'b3': -0.05, 'c3': 0.05, 'K': array([[ 25., -25.,   0.],\n",
      "       [-25.,  50., -25.],\n",
      "       [  0., -25.,  25.]]), 'F': array([0, 0, 0])}\n",
      "{'x': [0.1, 0.05, 0.1], 'y': [0.0, 0.05, 0.1], 'n': [4, 2, 3], 'A': 0.0025, 'b1': -0.05, 'c1': 0.05, 'b2': 0.1, 'c2': 0.0, 'b3': -0.05, 'c3': -0.05, 'K': array([[ 25., -25.,   0.],\n",
      "       [-25.,  50., -25.],\n",
      "       [  0., -25.,  25.]]), 'F': array([0, 0, 0])}\n"
     ]
    }
   ],
   "source": [
    "for e in elementos:\n",
    "    K = np.zeros((3,3))\n",
    "    for i in range(0,3):\n",
    "        for j in range(0,3):\n",
    "            K[i,j] = e['b{}'.format(i+1)]*e['b{}'.format(j+1)]+e['c{}'.format(i+1)]*e['c{}'.format(j+1)]\n",
    "    K = 50 / 4 / e['A'] * K\n",
    "    e.update({'K':K})\n",
    "    F = np.array([0,0,0])\n",
    "    e.update({'F':F})\n",
    "    print(e)\n",
    "   "
   ]
  },
  {
   "cell_type": "code",
   "execution_count": 8,
   "metadata": {},
   "outputs": [],
   "source": [
    "# Condiciones de frontera\n",
    "\n",
    "H1 = 100 * 0.1 /6 * np.array([[2,1,0],[1,2,0],[0,0,0]])\n",
    "\n",
    "e1['K'] = e1['K'] + H1"
   ]
  },
  {
   "cell_type": "code",
   "execution_count": 9,
   "metadata": {},
   "outputs": [],
   "source": [
    "F1 = 100 * 400 * 0.1 / 2 * np.array([1,1,0])\n",
    "\n",
    "e1['F'] = e1['F'] + F1"
   ]
  },
  {
   "cell_type": "code",
   "execution_count": 10,
   "metadata": {},
   "outputs": [
    {
     "name": "stdout",
     "output_type": "stream",
     "text": [
      "[[ 28.33333333   1.66666667 -25.        ]\n",
      " [  1.66666667  28.33333333 -25.        ]\n",
      " [-25.         -25.          50.        ]]\n"
     ]
    }
   ],
   "source": [
    "print(e1['K'])"
   ]
  },
  {
   "cell_type": "code",
   "execution_count": 11,
   "metadata": {},
   "outputs": [
    {
     "data": {
      "text/latex": [
       "$\\displaystyle \\left[\\begin{matrix}53.3333333333333 & 1.66666666666667 & -50.0 & 0.0 & 0.0\\\\1.66666666666667 & 53.3333333333333 & -50.0 & 0.0 & 0.0\\\\-50.0 & -50.0 & 200.0 & -50.0 & -50.0\\\\0.0 & 0.0 & -50.0 & 50.0 & 0.0\\\\0.0 & 0.0 & -50.0 & 0.0 & 50.0\\end{matrix}\\right]$"
      ],
      "text/plain": [
       "⎡53.3333333333333  1.66666666666667  -50.0   0.0    0.0 ⎤\n",
       "⎢                                                       ⎥\n",
       "⎢1.66666666666667  53.3333333333333  -50.0   0.0    0.0 ⎥\n",
       "⎢                                                       ⎥\n",
       "⎢     -50.0             -50.0        200.0  -50.0  -50.0⎥\n",
       "⎢                                                       ⎥\n",
       "⎢      0.0               0.0         -50.0  50.0    0.0 ⎥\n",
       "⎢                                                       ⎥\n",
       "⎣      0.0               0.0         -50.0   0.0   50.0 ⎦"
      ]
     },
     "execution_count": 11,
     "metadata": {},
     "output_type": "execute_result"
    }
   ],
   "source": [
    "#Ensamble de la matriz de conducxtividad\n",
    "K = np.zeros((n+1,n+1))\n",
    "F = np.zeros((n+1))\n",
    "\n",
    "for e in elementos:\n",
    "    for i, j in enumerate(e['n']):\n",
    "        for k, m in enumerate(e['n']):\n",
    "            #print(j,m)\n",
    "            K[j,m] = K[j,m] + e['K'][i,k]\n",
    "        F[j] = F[j] + e['F'][i]\n",
    "\n",
    "sp.Matrix(K)"
   ]
  },
  {
   "cell_type": "code",
   "execution_count": 11,
   "metadata": {},
   "outputs": [
    {
     "data": {
      "image/png": "[encoded data removed]",
      "text/latex": [
       "$\\displaystyle \\left[\\begin{matrix}2000.0\\\\2000.0\\\\0.0\\\\0.0\\\\0.0\\end{matrix}\\right]$"
      ],
      "text/plain": [
       "⎡2000.0⎤\n",
       "⎢      ⎥\n",
       "⎢2000.0⎥\n",
       "⎢      ⎥\n",
       "⎢ 0.0  ⎥\n",
       "⎢      ⎥\n",
       "⎢ 0.0  ⎥\n",
       "⎢      ⎥\n",
       "⎣ 0.0  ⎦"
      ]
     },
     "execution_count": 11,
     "metadata": {},
     "output_type": "execute_result"
    }
   ],
   "source": [
    "sp.Matrix(F)"
   ]
  },
  {
   "cell_type": "code",
   "execution_count": 12,
   "metadata": {},
   "outputs": [
    {
     "name": "stderr",
     "output_type": "stream",
     "text": [
      "C:\\Users\\uie70742\\AppData\\Local\\Temp/ipykernel_47272/2505593965.py:3: DeprecationWarning: `np.float` is a deprecated alias for the builtin `float`. To silence this warning, use `float` by itself. Doing this will not modify any behavior and is safe. If you specifically wanted the numpy scalar type, use `np.float64` here.\n",
      "Deprecated in NumPy 1.20; for more details and guidance: https://numpy.org/devdocs/release/1.20.0-notes.html#deprecations\n",
      "  Tf = np.array([None] * int(n+1), dtype=np.float)\n"
     ]
    },
    {
     "data": {
      "text/plain": [
       "array([ nan,  nan,  nan, 100., 100.])"
      ]
     },
     "execution_count": 12,
     "metadata": {},
     "output_type": "execute_result"
    }
   ],
   "source": [
    "# Condición La temperatura conocida\n",
    "\n",
    "Tf = np.array([None] * int(n+1), dtype=np.float)\n",
    "\n",
    "Tf[3] = 100\n",
    "Tf[4] = 100\n",
    "\n",
    "Tf"
   ]
  },
  {
   "cell_type": "code",
   "execution_count": 13,
   "metadata": {},
   "outputs": [
    {
     "data": {
      "text/latex": [
       "$\\displaystyle \\left[\\begin{matrix}53.3333333333333 & 1.66666666666667 & -50.0 & 0.0 & 0.0\\\\1.66666666666667 & 53.3333333333333 & -50.0 & 0.0 & 0.0\\\\-50.0 & -50.0 & 200.0 & -50.0 & -50.0\\\\0.0 & 0.0 & 0.0 & 1.0 & 0.0\\\\0.0 & 0.0 & 0.0 & 0.0 & 1.0\\end{matrix}\\right]$"
      ],
      "text/plain": [
       "⎡53.3333333333333  1.66666666666667  -50.0   0.0    0.0 ⎤\n",
       "⎢                                                       ⎥\n",
       "⎢1.66666666666667  53.3333333333333  -50.0   0.0    0.0 ⎥\n",
       "⎢                                                       ⎥\n",
       "⎢     -50.0             -50.0        200.0  -50.0  -50.0⎥\n",
       "⎢                                                       ⎥\n",
       "⎢      0.0               0.0          0.0    1.0    0.0 ⎥\n",
       "⎢                                                       ⎥\n",
       "⎣      0.0               0.0          0.0    0.0    1.0 ⎦"
      ]
     },
     "execution_count": 13,
     "metadata": {},
     "output_type": "execute_result"
    }
   ],
   "source": [
    "for i, t in enumerate(Tf):\n",
    "    if not np.isnan(t):\n",
    "        for j in range(n+1):\n",
    "            K[i,j] = 0\n",
    "            if i == j:\n",
    "                K[i,j] = 1\n",
    "            F[i] = t\n",
    "            \n",
    "sp.Matrix(K)"
   ]
  },
  {
   "cell_type": "code",
   "execution_count": 14,
   "metadata": {},
   "outputs": [
    {
     "data": {
      "text/plain": [
       "array([2000., 2000.,    0.,  100.,  100.])"
      ]
     },
     "execution_count": 14,
     "metadata": {},
     "output_type": "execute_result"
    }
   ],
   "source": [
    "F"
   ]
  },
  {
   "cell_type": "code",
   "execution_count": null,
   "metadata": {},
   "outputs": [],
   "source": [
    "# K*T = F"
   ]
  },
  {
   "cell_type": "code",
   "execution_count": 15,
   "metadata": {},
   "outputs": [
    {
     "data": {
      "text/latex": [
       "$\\displaystyle \\left[\\begin{matrix}150.0\\\\150.0\\\\125.0\\\\100.0\\\\100.0\\end{matrix}\\right]$"
      ],
      "text/plain": [
       "⎡150.0⎤\n",
       "⎢     ⎥\n",
       "⎢150.0⎥\n",
       "⎢     ⎥\n",
       "⎢125.0⎥\n",
       "⎢     ⎥\n",
       "⎢100.0⎥\n",
       "⎢     ⎥\n",
       "⎣100.0⎦"
      ]
     },
     "execution_count": 15,
     "metadata": {},
     "output_type": "execute_result"
    }
   ],
   "source": [
    "T = np.linalg.solve(K,F)\n",
    "sp.Matrix(T)"
   ]
  },
  {
   "cell_type": "markdown",
   "metadata": {},
   "source": [
    "## 14 de noviembre examen 2"
   ]
  },
  {
   "cell_type": "code",
   "execution_count": null,
   "metadata": {},
   "outputs": [],
   "source": []
  }
 ],
 "metadata": {
  "julynter-results": {
   "filteredId": [],
   "filteredIndividual": [],
   "filteredRestart": [],
   "filteredType": [],
   "hash": "e8da440127cca9693337281bbd702be3212fbd2b",
   "visible": [
    {
     "cellId": "group",
     "hash": "c0de46ba034d710c2b2406a37ee6816be9634aa0",
     "reason": "This groups other lint messages",
     "reportId": "group",
     "reportType": "hiddenstate",
     "suggestion": null,
     "text": "Hidden State"
    },
    {
     "cellId": 0,
     "hash": "34384e652227d55dd746d9dae1bce4c40fe04bad",
     "reason": "A cell with results of a previous session may fail to execute or produce different results in this one, hampering the reproducibility.",
     "reportId": "h1",
     "reportType": "hiddenstate",
     "suggestion": "Please consider executing it to guarantee the reproducibility.",
     "text": "Cell 0 has execution results, but it wasn't executed on this session"
    },
    {
     "cellId": 1,
     "hash": "234883f525feba0c5efa5b6c986c7cea04bc84b4",
     "reason": "A cell with results of a previous session may fail to execute or produce different results in this one, hampering the reproducibility.",
     "reportId": "h1",
     "reportType": "hiddenstate",
     "suggestion": "Please consider executing it to guarantee the reproducibility.",
     "text": "Cell 1 has execution results, but it wasn't executed on this session"
    },
    {
     "cellId": 2,
     "hash": "8c96a38f23cdc506da9f4de036698cc10c82bd09",
     "reason": "A cell with results of a previous session may fail to execute or produce different results in this one, hampering the reproducibility.",
     "reportId": "h1",
     "reportType": "hiddenstate",
     "suggestion": "Please consider executing it to guarantee the reproducibility.",
     "text": "Cell 2 has execution results, but it wasn't executed on this session"
    },
    {
     "cellId": 3,
     "hash": "b69ff89e99df3bc13eb6e0a32e40c1f2f7087e94",
     "reason": "A cell with results of a previous session may fail to execute or produce different results in this one, hampering the reproducibility.",
     "reportId": "h1",
     "reportType": "hiddenstate",
     "suggestion": "Please consider executing it to guarantee the reproducibility.",
     "text": "Cell 3 has execution results, but it wasn't executed on this session"
    },
    {
     "cellId": 5,
     "hash": "ebb7851bf13dfbcd2298ba6a0f7dd227d1192cde",
     "reason": "A cell with results of a previous session may fail to execute or produce different results in this one, hampering the reproducibility.",
     "reportId": "h1",
     "reportType": "hiddenstate",
     "suggestion": "Please consider executing it to guarantee the reproducibility.",
     "text": "Cell 5 has execution results, but it wasn't executed on this session"
    },
    {
     "cellId": 6,
     "hash": "2dcc472354b2f362ba3fca7c67b4f22017ce467e",
     "reason": "A cell with results of a previous session may fail to execute or produce different results in this one, hampering the reproducibility.",
     "reportId": "h1",
     "reportType": "hiddenstate",
     "suggestion": "Please consider executing it to guarantee the reproducibility.",
     "text": "Cell 6 has execution results, but it wasn't executed on this session"
    },
    {
     "cellId": 7,
     "hash": "ad578d0bd208d9dbe1ad4d839c4e131dd0d24861",
     "reason": "A cell with results of a previous session may fail to execute or produce different results in this one, hampering the reproducibility.",
     "reportId": "h1",
     "reportType": "hiddenstate",
     "suggestion": "Please consider executing it to guarantee the reproducibility.",
     "text": "Cell 7 has execution results, but it wasn't executed on this session"
    },
    {
     "cellId": 8,
     "hash": "8928823bf493aaa1faeccb75e95f9f43be9fb92b",
     "reason": "A cell with results of a previous session may fail to execute or produce different results in this one, hampering the reproducibility.",
     "reportId": "h1",
     "reportType": "hiddenstate",
     "suggestion": "Please consider executing it to guarantee the reproducibility.",
     "text": "Cell 8 has execution results, but it wasn't executed on this session"
    },
    {
     "cellId": 9,
     "hash": "c5338ed925453be0e948fe45ce2ff027c3633d2d",
     "reason": "A cell with results of a previous session may fail to execute or produce different results in this one, hampering the reproducibility.",
     "reportId": "h1",
     "reportType": "hiddenstate",
     "suggestion": "Please consider executing it to guarantee the reproducibility.",
     "text": "Cell 9 has execution results, but it wasn't executed on this session"
    },
    {
     "cellId": 10,
     "hash": "2f33703a8410e2a291235dbf2ea9b325e3186680",
     "reason": "A cell with results of a previous session may fail to execute or produce different results in this one, hampering the reproducibility.",
     "reportId": "h1",
     "reportType": "hiddenstate",
     "suggestion": "Please consider executing it to guarantee the reproducibility.",
     "text": "Cell 10 has execution results, but it wasn't executed on this session"
    },
    {
     "cellId": 11,
     "hash": "1fbb399dee0c344567ee3eab408c4f159265ee66",
     "reason": "A cell with results of a previous session may fail to execute or produce different results in this one, hampering the reproducibility.",
     "reportId": "h1",
     "reportType": "hiddenstate",
     "suggestion": "Please consider executing it to guarantee the reproducibility.",
     "text": "Cell 11 has execution results, but it wasn't executed on this session"
    },
    {
     "cellId": 12,
     "hash": "f451a1cac0e10bf2ad144a51b76e0327548fa850",
     "reason": "A cell with results of a previous session may fail to execute or produce different results in this one, hampering the reproducibility.",
     "reportId": "h1",
     "reportType": "hiddenstate",
     "suggestion": "Please consider executing it to guarantee the reproducibility.",
     "text": "Cell 12 has execution results, but it wasn't executed on this session"
    },
    {
     "cellId": 13,
     "hash": "7aae519e926e9b8a61f87c4a85aa8e64984469de",
     "reason": "A cell with results of a previous session may fail to execute or produce different results in this one, hampering the reproducibility.",
     "reportId": "h1",
     "reportType": "hiddenstate",
     "suggestion": "Please consider executing it to guarantee the reproducibility.",
     "text": "Cell 13 has execution results, but it wasn't executed on this session"
    },
    {
     "cellId": 15,
     "hash": "9d0702e0bdef661eadacf9c75b08b57d4c2bd093",
     "reason": "A cell with results of a previous session may fail to execute or produce different results in this one, hampering the reproducibility.",
     "reportId": "h1",
     "reportType": "hiddenstate",
     "suggestion": "Please consider executing it to guarantee the reproducibility.",
     "text": "Cell 15 has execution results, but it wasn't executed on this session"
    },
    {
     "cellId": "group",
     "hash": "19d3d3d153f22e318cbe061df9e685ba5165b0aa",
     "reason": "This groups other lint messages",
     "reportId": "group",
     "reportType": "confusenotebook",
     "suggestion": null,
     "text": "Confuse Notebook"
    },
    {
     "cellId": 4,
     "hash": "9ac149a253b1ec3fb6d0bcc8fc4f2af2264ef8a2",
     "reason": "Empty cells in between executable ones occupy space and might impact the readability of the notebook.",
     "reportId": "c3",
     "reportType": "confusenotebook",
     "suggestion": "Please consider removing it to improve the readability.",
     "text": "Cell 4 is empty in the middle of the notebook"
    },
    {
     "cellId": 14,
     "hash": "8b4bf7569f0d07c0b60aef66bc99844d3050496d",
     "reason": "Empty cells in between executable ones occupy space and might impact the readability of the notebook.",
     "reportId": "c3",
     "reportType": "confusenotebook",
     "suggestion": "Please consider removing it to improve the readability.",
     "text": "Cell 14 is empty in the middle of the notebook"
    },
    {
     "cellId": 0,
     "hash": "437893ce624f577c18f4da8752943041700289f3",
     "reason": "A markdown cell at the beginning of the notebook can provide a human-friendly title with no constraints and introduce the notebook, indicating its purpose and external requirements.",
     "reportId": "c4",
     "reportType": "confusenotebook",
     "suggestion": "Please consider adding a markdown cell to describe the notebook.",
     "text": "The first cell of the notebook is not a markdown cell"
    },
    {
     "cellId": 15,
     "hash": "92fefb8b523ebc473c49171c51b61fedd29e2856",
     "reason": "A markdown cell at the end of the notebook can conclude it, presenting a summary of the obtained results.",
     "reportId": "c5",
     "reportType": "confusenotebook",
     "suggestion": "Please consider adding a markdown cell to conclude the notebook.",
     "text": "The last cell of the notebook is not a markdown cell"
    }
   ]
  },
  "kernelspec": {
   "display_name": "Python 3 (ipykernel)",
   "language": "python",
   "name": "python3"
  },
  "language_info": {
   "codemirror_mode": {
    "name": "ipython",
    "version": 3
   },
   "file_extension": ".py",
   "mimetype": "text/x-python",
   "name": "python",
   "nbconvert_exporter": "python",
   "pygments_lexer": "ipython3",
   "version": "3.8.8"
  }
 },
 "nbformat": 4,
 "nbformat_minor": 4
}
