{
 "cells": [
  {
   "cell_type": "markdown",
   "metadata": {
    "slideshow": {
     "slide_type": "slide"
    }
   },
   "source": [
    "![Titulo](Imagenes/Titulos/Head4.png)"
   ]
  },
  {
   "cell_type": "markdown",
   "metadata": {
    "slideshow": {
     "slide_type": "slide"
    }
   },
   "source": [
    "![Titulo](Imagenes/Titulos/Head4-1.png)"
   ]
  },
  {
   "cell_type": "markdown",
   "metadata": {
    "slideshow": {
     "slide_type": "slide"
    }
   },
   "source": [
    "## Elementos triangulares"
   ]
  },
  {
   "cell_type": "markdown",
   "metadata": {
    "slideshow": {
     "slide_type": "slide"
    }
   },
   "source": [
    "### Funciones de forma lineales\n",
    "\n",
    "Lo primero que haremos para establecer las funciones de forma lineales para el elemento triangular. "
   ]
  },
  {
   "cell_type": "markdown",
   "metadata": {
    "slideshow": {
     "slide_type": "slide"
    }
   },
   "source": [
    "Dado un triangulo con los vértices en los puntos $(x_1, y_1)$, $(x_2, y_2)$, $(x_3, y_3)$:"
   ]
  },
  {
   "cell_type": "markdown",
   "metadata": {
    "slideshow": {
     "slide_type": "slide"
    }
   },
   "source": [
    "Estamos buscando 3 funciones $N_1$, $N_2$ y $N_3$ que cumplan, la primera $N_1$: \n",
    "\n",
    "\n",
    "$$a_{1} + a_{2} x_{1} + a_{3} y_{1} = 1$$\n",
    "$$a_{1} + a_{2} x_{2} + a_{3} y_{2} = 0$$ \n",
    "$$a_{1} + a_{2} x_{3} + a_{3} y_{3} = 0$$"
   ]
  },
  {
   "cell_type": "markdown",
   "metadata": {
    "slideshow": {
     "slide_type": "slide"
    }
   },
   "source": [
    "La segunda $N_2$: \n",
    "\n",
    "\n",
    "$$a_{1} + a_{2} x_{1} + a_{3} y_{1} = 0$$\n",
    "$$a_{1} + a_{2} x_{2} + a_{3} y_{2} = 1$$ \n",
    "$$a_{1} + a_{2} x_{3} + a_{3} y_{3} = 0$$"
   ]
  },
  {
   "cell_type": "markdown",
   "metadata": {
    "slideshow": {
     "slide_type": "slide"
    }
   },
   "source": [
    "La tercera $N_3$: \n",
    "\n",
    "\n",
    "$$a_{1} + a_{2} x_{1} + a_{3} y_{1} = 0$$\n",
    "$$a_{1} + a_{2} x_{2} + a_{3} y_{2} = 0$$ \n",
    "$$a_{1} + a_{2} x_{3} + a_{3} y_{3} = 1$$"
   ]
  },
  {
   "cell_type": "markdown",
   "metadata": {
    "slideshow": {
     "slide_type": "slide"
    }
   },
   "source": [
    "Si resolvemos cada una de estas ecuaciones de manera simultanea, obtenemos las tres funciones de forma $N_1^{(e)}, N_2^{(e)}, N_3^{(e)}$:\n",
    "\n",
    "$$N_1^{(e)}(x,y) = \\dfrac {1} {2A^{(e)}} \\left[ (x_2y_3-x_3y_2)+(y_2-y_3)x+(x_3-x_2)y\\right]$$\n",
    "\n",
    "$$N_2^{(e)}(x,y) = \\dfrac {1} {2A^{(e)}} \\left[ (x_3y_1-x_1y_3)+(y_3-y_1)x+(x_1-x_3)y\\right]$$\n",
    "\n",
    "$$N_3^{(e)}(x,y) = \\dfrac {1} {2A^{(e)}} \\left[ (x_1y_2-x_2y_1)+(y_1-y_2)x+(x_2-x_1)y\\right]$$"
   ]
  },
  {
   "cell_type": "markdown",
   "metadata": {
    "slideshow": {
     "slide_type": "slide"
    }
   },
   "source": [
    "Donde $2A^{(e)}$ es igual a 2 veces el área del elemento $^{(e)}$, que puede ser calculada usado:\n",
    "\n",
    "$$2A^{(e)} = (x_1y_2-x_2y_1)+(x_3y_1-x_1y_3)+(x_2y_3-x_3y_2)$$"
   ]
  },
  {
   "cell_type": "markdown",
   "metadata": {
    "slideshow": {
     "slide_type": "slide"
    }
   },
   "source": [
    "Igual que con los elementos unidimensionales, estas funciones de forma podremos utilizarlas para calcular el valor de nuestra función dependiente $\\Phi$ en el interior del elemento usando:\n",
    "\n",
    "$$\\Phi = N_1(x,y)\\Phi_1 + N_2(x,y)\\Phi_2 +N_3(x,y)\\Phi_3$$"
   ]
  },
  {
   "cell_type": "markdown",
   "metadata": {
    "slideshow": {
     "slide_type": "slide"
    }
   },
   "source": [
    "__Ejemplo 4.1__:\n",
    "\n",
    "Como un ejemplo ilustrativo, queremos calcular la temperatura $T$ en un punto específico dentro de un elemento. Definiremos los valores de nuestra variable dependiente $T$ en los nodos como $T_1= 10^oC$, $T_2= 20^oC$, $T_3= 30^oC$. Las coordenadas de los nodos son $x_1=0$, $y_1=0$, $x_2=2$, $y_2=1$, $x_3=1$ y $y_3=2$ ($cm$). El punto del que queremos saber la temperatura es $x=0.5$ y $y=0.5$"
   ]
  },
  {
   "cell_type": "markdown",
   "metadata": {
    "slideshow": {
     "slide_type": "slide"
    }
   },
   "source": [
    "Usamos:\n",
    "\n",
    "$$T = N_1 T_1 + N_2 T_2 +N_3 T_3$$"
   ]
  },
  {
   "cell_type": "markdown",
   "metadata": {
    "slideshow": {
     "slide_type": "slide"
    }
   },
   "source": [
    "Donde:\n",
    "\n",
    "$$N_1^{(e)}(x,y) = \\dfrac {1} {2A^{(e)}} \\left[ (2\\cdot 2-1\\cdot 1)+(1-2)x+(1-2)y\\right]$$\n",
    "\n",
    "$$N_2^{(e)}(x,y) = \\dfrac {1} {2A^{(e)}} \\left[ (1\\cdot 0-0\\cdot 2)+(2-0)x+(0-1)y\\right]$$\n",
    "\n",
    "$$N_3^{(e)}(x,y) = \\dfrac {1} {2A^{(e)}} \\left[ (0\\cdot 1-2\\cdot 0)+(0-1)x+(2-0)y\\right]$$\n",
    "\n",
    "y\n",
    "\n",
    "$$2A^{(e)} = (0\\cdot 1-2\\cdot 0)+(1\\cdot 0-0\\cdot 2)+(2\\cdot 2-1\\cdot 1)= 3$$"
   ]
  },
  {
   "cell_type": "markdown",
   "metadata": {
    "slideshow": {
     "slide_type": "slide"
    }
   },
   "source": [
    "Por lo tanto, en $x=0.5$ y $y=0.5$:\n",
    "\n",
    "$$N_1^{(e)}(x,y) = \\dfrac {1} {3} \\left[ 3-0.5-0.5 \\right] = \\dfrac {2.0} {3}$$\n",
    "\n",
    "$$N_2^{(e)}(x,y) = \\dfrac {1} {3} \\left[ 1-0.5 \\right] = \\dfrac {0.5} {3}$$\n",
    "\n",
    "$$N_3^{(e)}(x,y) = \\dfrac {1} {3} \\left[ 0.5+1\\right] = \\dfrac {0.5} {3}$$"
   ]
  },
  {
   "cell_type": "markdown",
   "metadata": {
    "slideshow": {
     "slide_type": "slide"
    }
   },
   "source": [
    "Y:\n",
    "\n",
    "$$T(0.5,0.5)=\\dfrac {2.0} {3}(10)+\\dfrac {0.5} {3} (20)+\\dfrac {0.5} {3} (30)=15^oC$$"
   ]
  },
  {
   "cell_type": "markdown",
   "metadata": {
    "slideshow": {
     "slide_type": "slide"
    }
   },
   "source": [
    "### Gradiente de las funciones de forma lineales\n",
    "\n",
    "Los componentes del gradiente $\\nabla$ de la función se pueden obtener haciendo:\n",
    "\n",
    "$$\\dfrac{\\partial\\Phi}{\\partial x} = \\dfrac{\\partial N_1}{\\partial x} \\Phi_1 +\\dfrac{\\partial N_2}{\\partial x} \\Phi_2 +\\dfrac{\\partial N_3}{\\partial x} \\Phi_3 $$\n",
    "\n",
    "$$\\dfrac{\\partial\\Phi}{\\partial y} = \\dfrac{\\partial N_1}{\\partial y} \\Phi_1 +\\dfrac{\\partial N_2}{\\partial y} \\Phi_2 +\\dfrac{\\partial N_3}{\\partial y} \\Phi_3 $$"
   ]
  },
  {
   "cell_type": "markdown",
   "metadata": {
    "slideshow": {
     "slide_type": "slide"
    }
   },
   "source": [
    "Las derivadas de cada función se pueden calcular fácilmente, por ejemplo:\n",
    "\n",
    "$$\\dfrac{\\partial N_1}{\\partial x} = \\dfrac {y_2-y_3} {2A}$$"
   ]
  },
  {
   "cell_type": "markdown",
   "metadata": {
    "slideshow": {
     "slide_type": "slide"
    }
   },
   "source": [
    "De tal manera que:\n",
    "\n",
    "$$\\dfrac{\\partial\\Phi}{\\partial x} = \\dfrac {1} {2A} \\left[ (y_2-y_3)\\Phi_1 + (y_3-y_1)\\Phi_2 + (y_1-y_2)\\Phi_3 \\right]$$\n",
    "\n",
    "$$\\dfrac{\\partial\\Phi}{\\partial y} = \\dfrac {1} {2A} \\left[ (x_3-x_2)\\Phi_1 + (x_1-x_3)\\Phi_2 + (x_2-x_1)\\Phi_3 \\right]$$\n",
    "\n",
    "Nótese como las derivadas son constantes en todo el elemento (no dependen de $x$ ni de $y$), pues se trata de planos."
   ]
  },
  {
   "cell_type": "markdown",
   "metadata": {
    "slideshow": {
     "slide_type": "slide"
    }
   },
   "source": [
    "### Funciones de forma cuadráticas y cúbicas\n",
    "\n",
    "Si colocamos nodos extra en las aristas podemos hacer una interpolación de la forma:\n",
    "\n",
    "$$\\Phi= a_1+a_2x+a_3y+a_4x^2+a_5xy+a_6y^2$$\n",
    "\n",
    "Con estas es posible resolver seis ecuaciones simultaneas con seis incógnitas (¡por nodo!)."
   ]
  },
  {
   "cell_type": "markdown",
   "metadata": {
    "slideshow": {
     "slide_type": "slide"
    }
   },
   "source": [
    "De manera similar, las ecuaciones cúbicas serían:\n",
    "\n",
    "$$\\Phi= a_1+a_2x+a_3y+a_4x^2+a_5xy+a_6y^2+a_7x^3+a_8x^2y+a_9xy^2+a_{10}y^3$$"
   ]
  },
  {
   "cell_type": "markdown",
   "metadata": {
    "slideshow": {
     "slide_type": "slide"
    }
   },
   "source": [
    "La solución de estas ecuaciones no solo es implica mucho trabajo, sino que además su resultado es extremadamente extenso."
   ]
  }
 ],
 "metadata": {
  "celltoolbar": "Slideshow",
  "julynter-results": {
   "filteredId": [],
   "filteredIndividual": [],
   "filteredRestart": [],
   "filteredType": [],
   "hash": "830dc2e2e2717f9f30341cc1e14ba94417727e28",
   "visible": []
  },
  "kernelspec": {
   "display_name": "Python 3 (ipykernel)",
   "language": "python",
   "name": "python3"
  },
  "language_info": {
   "codemirror_mode": {
    "name": "ipython",
    "version": 3
   },
   "file_extension": ".py",
   "mimetype": "text/x-python",
   "name": "python",
   "nbconvert_exporter": "python",
   "pygments_lexer": "ipython3",
   "version": "3.11.3"
  }
 },
 "nbformat": 4,
 "nbformat_minor": 4
}
