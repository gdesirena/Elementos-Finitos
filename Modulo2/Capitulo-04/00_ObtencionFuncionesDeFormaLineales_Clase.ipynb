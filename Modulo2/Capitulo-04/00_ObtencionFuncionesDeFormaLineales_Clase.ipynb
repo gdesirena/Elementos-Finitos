{
 "cells": [
  {
   "cell_type": "code",
   "execution_count": 1,
   "metadata": {},
   "outputs": [],
   "source": [
    "import numpy as np\n",
    "import sympy as sp\n",
    "from mpl_toolkits.mplot3d import Axes3D\n",
    "import matplotlib.pyplot as plt\n",
    "%matplotlib qt\n",
    "sp.init_printing(use_unicode=True)"
   ]
  },
  {
   "cell_type": "code",
   "execution_count": 6,
   "metadata": {},
   "outputs": [],
   "source": [
    "a_1, a_2, a_3 = sp.symbols('a_1, a_2, a_3')\n",
    "x_1, x_2, x_3 = sp.symbols('x_1, x_2, x_3')\n",
    "y_1, y_2, y_3 = sp.symbols('y_1, y_2, y_3')\n",
    "\n",
    "x, y = sp.symbols('x,y')"
   ]
  },
  {
   "cell_type": "markdown",
   "metadata": {},
   "source": [
    "## Gauss Jordan"
   ]
  },
  {
   "cell_type": "code",
   "execution_count": 10,
   "metadata": {},
   "outputs": [],
   "source": [
    "renglon1 = sp.Matrix([1,x_1, y_1, 1]).T\n",
    "renglon2 = sp.Matrix([1,x_2, y_2, 0]).T\n",
    "renglon3 = sp.Matrix([1,x_3, y_3, 0]).T"
   ]
  },
  {
   "cell_type": "code",
   "execution_count": 11,
   "metadata": {},
   "outputs": [
    {
     "data": {
      "text/latex": [
       "$\\displaystyle \\left[\\begin{matrix}1 & x_{1} & y_{1} & 1\\\\0 & - x_{1} + x_{2} & - y_{1} + y_{2} & -1\\\\0 & - x_{1} + x_{3} & - y_{1} + y_{3} & -1\\end{matrix}\\right]$"
      ],
      "text/plain": [
       "⎡1     x₁        y₁     1 ⎤\n",
       "⎢                         ⎥\n",
       "⎢0  -x₁ + x₂  -y₁ + y₂  -1⎥\n",
       "⎢                         ⎥\n",
       "⎣0  -x₁ + x₃  -y₁ + y₃  -1⎦"
      ]
     },
     "execution_count": 11,
     "metadata": {},
     "output_type": "execute_result"
    }
   ],
   "source": [
    "renglon2= renglon2 -renglon1\n",
    "renglon3= renglon3 -renglon1\n",
    "\n",
    "sp.Matrix((renglon1,renglon2,renglon3))"
   ]
  },
  {
   "cell_type": "code",
   "execution_count": 12,
   "metadata": {},
   "outputs": [
    {
     "data": {
      "text/latex": [
       "$\\displaystyle \\left[\\begin{matrix}1 & 0 & - \\frac{x_{1} \\left(- y_{1} + y_{2}\\right)}{- x_{1} + x_{2}} + y_{1} & \\frac{x_{1}}{- x_{1} + x_{2}} + 1\\\\0 & 1 & \\frac{- y_{1} + y_{2}}{- x_{1} + x_{2}} & - \\frac{1}{- x_{1} + x_{2}}\\\\0 & 0 & - y_{1} + y_{3} - \\frac{\\left(- x_{1} + x_{3}\\right) \\left(- y_{1} + y_{2}\\right)}{- x_{1} + x_{2}} & -1 + \\frac{- x_{1} + x_{3}}{- x_{1} + x_{2}}\\end{matrix}\\right]$"
      ],
      "text/plain": [
       "⎡              x₁⋅(-y₁ + y₂)                x₁        ⎤\n",
       "⎢1  0        - ───────────── + y₁        ──────── + 1 ⎥\n",
       "⎢                 -x₁ + x₂               -x₁ + x₂     ⎥\n",
       "⎢                                                     ⎥\n",
       "⎢                  -y₁ + y₂                  -1       ⎥\n",
       "⎢0  1              ────────                ────────   ⎥\n",
       "⎢                  -x₁ + x₂                -x₁ + x₂   ⎥\n",
       "⎢                                                     ⎥\n",
       "⎢                 (-x₁ + x₃)⋅(-y₁ + y₂)       -x₁ + x₃⎥\n",
       "⎢0  0  -y₁ + y₃ - ─────────────────────  -1 + ────────⎥\n",
       "⎣                        -x₁ + x₂             -x₁ + x₂⎦"
      ]
     },
     "execution_count": 12,
     "metadata": {},
     "output_type": "execute_result"
    }
   ],
   "source": [
    "renglon2 = renglon2/renglon2[1]\n",
    "renglon1 = renglon1 - renglon2*renglon1[1]\n",
    "renglon3 = renglon3 - renglon2*renglon3[1]\n",
    "sp.Matrix((renglon1,renglon2,renglon3))"
   ]
  },
  {
   "cell_type": "code",
   "execution_count": 14,
   "metadata": {},
   "outputs": [
    {
     "data": {
      "text/latex": [
       "$\\displaystyle \\left[\\begin{matrix}1 & 0 & 0 & \\frac{x_{1}}{- x_{1} + x_{2}} - \\frac{\\left(-1 + \\frac{- x_{1} + x_{3}}{- x_{1} + x_{2}}\\right) \\left(- \\frac{x_{1} \\left(- y_{1} + y_{2}\\right)}{- x_{1} + x_{2}} + y_{1}\\right)}{- y_{1} + y_{3} - \\frac{\\left(- x_{1} + x_{3}\\right) \\left(- y_{1} + y_{2}\\right)}{- x_{1} + x_{2}}} + 1\\\\0 & 1 & 0 & - \\frac{\\left(-1 + \\frac{- x_{1} + x_{3}}{- x_{1} + x_{2}}\\right) \\left(- y_{1} + y_{2}\\right)}{\\left(- x_{1} + x_{2}\\right) \\left(- y_{1} + y_{3} - \\frac{\\left(- x_{1} + x_{3}\\right) \\left(- y_{1} + y_{2}\\right)}{- x_{1} + x_{2}}\\right)} - \\frac{1}{- x_{1} + x_{2}}\\\\0 & 0 & 1 & \\frac{-1 + \\frac{- x_{1} + x_{3}}{- x_{1} + x_{2}}}{- y_{1} + y_{3} - \\frac{\\left(- x_{1} + x_{3}\\right) \\left(- y_{1} + y_{2}\\right)}{- x_{1} + x_{2}}}\\end{matrix}\\right]$"
      ],
      "text/plain": [
       "⎡                      ⎛     -x₁ + x₃⎞ ⎛  x₁⋅(-y₁ + y₂)     ⎞       ⎤\n",
       "⎢                      ⎜-1 + ────────⎟⋅⎜- ───────────── + y₁⎟       ⎥\n",
       "⎢              x₁      ⎝     -x₁ + x₂⎠ ⎝     -x₁ + x₂       ⎠       ⎥\n",
       "⎢1  0  0    ──────── - ────────────────────────────────────── + 1   ⎥\n",
       "⎢           -x₁ + x₂                 (-x₁ + x₃)⋅(-y₁ + y₂)          ⎥\n",
       "⎢                         -y₁ + y₃ - ─────────────────────          ⎥\n",
       "⎢                                           -x₁ + x₂                ⎥\n",
       "⎢                                                                   ⎥\n",
       "⎢                     ⎛     -x₁ + x₃⎞                               ⎥\n",
       "⎢                     ⎜-1 + ────────⎟⋅(-y₁ + y₂)                    ⎥\n",
       "⎢                     ⎝     -x₁ + x₂⎠                          1    ⎥\n",
       "⎢0  1  0  - ───────────────────────────────────────────── - ────────⎥\n",
       "⎢                      ⎛           (-x₁ + x₃)⋅(-y₁ + y₂)⎞   -x₁ + x₂⎥\n",
       "⎢           (-x₁ + x₂)⋅⎜-y₁ + y₃ - ─────────────────────⎟           ⎥\n",
       "⎢                      ⎝                  -x₁ + x₂      ⎠           ⎥\n",
       "⎢                                                                   ⎥\n",
       "⎢                                    -x₁ + x₃                       ⎥\n",
       "⎢                               -1 + ────────                       ⎥\n",
       "⎢                                    -x₁ + x₂                       ⎥\n",
       "⎢0  0  1               ────────────────────────────────             ⎥\n",
       "⎢                                 (-x₁ + x₃)⋅(-y₁ + y₂)             ⎥\n",
       "⎢                      -y₁ + y₃ - ─────────────────────             ⎥\n",
       "⎣                                        -x₁ + x₂                   ⎦"
      ]
     },
     "execution_count": 14,
     "metadata": {},
     "output_type": "execute_result"
    }
   ],
   "source": [
    "renglon3 = renglon3/renglon3[2]\n",
    "renglon1 = renglon1 - renglon3*renglon1[2]\n",
    "renglon2 = renglon2 - renglon3*renglon2[2]\n",
    "\n",
    "resultado_gauss = sp.Matrix((renglon1,renglon2,renglon3))\n",
    "resultado_gauss"
   ]
  },
  {
   "cell_type": "code",
   "execution_count": 15,
   "metadata": {},
   "outputs": [],
   "source": [
    "resultado_gauss.simplify()"
   ]
  },
  {
   "cell_type": "code",
   "execution_count": 16,
   "metadata": {},
   "outputs": [
    {
     "data": {
      "text/latex": [
       "$\\displaystyle \\left[\\begin{matrix}1 & 0 & 0 & \\frac{x_{2} y_{3} - x_{3} y_{2}}{x_{1} y_{2} - x_{1} y_{3} - x_{2} y_{1} + x_{2} y_{3} + x_{3} y_{1} - x_{3} y_{2}}\\\\0 & 1 & 0 & \\frac{y_{2} - y_{3}}{x_{1} y_{2} - x_{1} y_{3} - x_{2} y_{1} + x_{2} y_{3} + x_{3} y_{1} - x_{3} y_{2}}\\\\0 & 0 & 1 & \\frac{- x_{2} + x_{3}}{\\left(x_{1} - x_{2}\\right) \\left(y_{1} - y_{3}\\right) - \\left(x_{1} - x_{3}\\right) \\left(y_{1} - y_{2}\\right)}\\end{matrix}\\right]$"
      ],
      "text/plain": [
       "⎡                         x₂⋅y₃ - x₃⋅y₂                ⎤\n",
       "⎢1  0  0  ─────────────────────────────────────────────⎥\n",
       "⎢         x₁⋅y₂ - x₁⋅y₃ - x₂⋅y₁ + x₂⋅y₃ + x₃⋅y₁ - x₃⋅y₂⎥\n",
       "⎢                                                      ⎥\n",
       "⎢                            y₂ - y₃                   ⎥\n",
       "⎢0  1  0  ─────────────────────────────────────────────⎥\n",
       "⎢         x₁⋅y₂ - x₁⋅y₃ - x₂⋅y₁ + x₂⋅y₃ + x₃⋅y₁ - x₃⋅y₂⎥\n",
       "⎢                                                      ⎥\n",
       "⎢                            -x₂ + x₃                  ⎥\n",
       "⎢0  0  1    ─────────────────────────────────────────  ⎥\n",
       "⎣           (x₁ - x₂)⋅(y₁ - y₃) - (x₁ - x₃)⋅(y₁ - y₂)  ⎦"
      ]
     },
     "execution_count": 16,
     "metadata": {},
     "output_type": "execute_result"
    }
   ],
   "source": [
    "resultado_gauss"
   ]
  },
  {
   "cell_type": "code",
   "execution_count": null,
   "metadata": {},
   "outputs": [],
   "source": [
    "#N1(x,y) = a1 + a2x + a3y"
   ]
  },
  {
   "cell_type": "markdown",
   "metadata": {},
   "source": [
    "### Ecuaciones"
   ]
  },
  {
   "cell_type": "code",
   "execution_count": 17,
   "metadata": {},
   "outputs": [],
   "source": [
    "#Para N1\n",
    "eq1 = sp.Matrix([0,0,0])\n",
    "eq1[0] = a_1 + a_2*x_1 + a_3*y_1 - 1\n",
    "eq1[1] = a_1 + a_2*x_2 + a_3*y_2 - 0\n",
    "eq1[2] = a_1 + a_2*x_3 + a_3*y_3 - 0"
   ]
  },
  {
   "cell_type": "code",
   "execution_count": 19,
   "metadata": {},
   "outputs": [
    {
     "data": {
      "image/png": "[encoded data removed]",
      "text/latex": [
       "$\\displaystyle \\left\\{ a_{1} : \\frac{x_{2} y_{3} - x_{3} y_{2}}{x_{1} y_{2} - x_{1} y_{3} - x_{2} y_{1} + x_{2} y_{3} + x_{3} y_{1} - x_{3} y_{2}}, \\  a_{2} : \\frac{y_{2} - y_{3}}{x_{1} y_{2} - x_{1} y_{3} - x_{2} y_{1} + x_{2} y_{3} + x_{3} y_{1} - x_{3} y_{2}}, \\  a_{3} : - \\frac{x_{2} - x_{3}}{x_{1} y_{2} - x_{1} y_{3} - x_{2} y_{1} + x_{2} y_{3} + x_{3} y_{1} - x_{3} y_{2}}\\right\\}$"
      ],
      "text/plain": [
       "⎧                    x₂⋅y₃ - x₃⋅y₂                                         y₂ \n",
       "⎨a₁: ─────────────────────────────────────────────, a₂: ──────────────────────\n",
       "⎩    x₁⋅y₂ - x₁⋅y₃ - x₂⋅y₁ + x₂⋅y₃ + x₃⋅y₁ - x₃⋅y₂      x₁⋅y₂ - x₁⋅y₃ - x₂⋅y₁ \n",
       "\n",
       "- y₃                                          -(x₂ - x₃)                  ⎫\n",
       "───────────────────────, a₃: ─────────────────────────────────────────────⎬\n",
       "+ x₂⋅y₃ + x₃⋅y₁ - x₃⋅y₂      x₁⋅y₂ - x₁⋅y₃ - x₂⋅y₁ + x₂⋅y₃ + x₃⋅y₁ - x₃⋅y₂⎭"
      ]
     },
     "execution_count": 19,
     "metadata": {},
     "output_type": "execute_result"
    }
   ],
   "source": [
    "sol_N1 = sp.solve(eq1)[0]\n",
    "sol_N1"
   ]
  },
  {
   "cell_type": "code",
   "execution_count": 20,
   "metadata": {},
   "outputs": [
    {
     "data": {
      "image/png": "[encoded data removed]",
      "text/latex": [
       "$\\displaystyle \\frac{x \\left(y_{2} - y_{3}\\right)}{x_{1} y_{2} - x_{1} y_{3} - x_{2} y_{1} + x_{2} y_{3} + x_{3} y_{1} - x_{3} y_{2}} - \\frac{y \\left(x_{2} - x_{3}\\right)}{x_{1} y_{2} - x_{1} y_{3} - x_{2} y_{1} + x_{2} y_{3} + x_{3} y_{1} - x_{3} y_{2}} + \\frac{x_{2} y_{3} - x_{3} y_{2}}{x_{1} y_{2} - x_{1} y_{3} - x_{2} y_{1} + x_{2} y_{3} + x_{3} y_{1} - x_{3} y_{2}}$"
      ],
      "text/plain": [
       "                 x⋅(y₂ - y₃)                                     y⋅(x₂ - x₃)  \n",
       "───────────────────────────────────────────── - ──────────────────────────────\n",
       "x₁⋅y₂ - x₁⋅y₃ - x₂⋅y₁ + x₂⋅y₃ + x₃⋅y₁ - x₃⋅y₂   x₁⋅y₂ - x₁⋅y₃ - x₂⋅y₁ + x₂⋅y₃ \n",
       "\n",
       "                                  x₂⋅y₃ - x₃⋅y₂                \n",
       "─────────────── + ─────────────────────────────────────────────\n",
       "+ x₃⋅y₁ - x₃⋅y₂   x₁⋅y₂ - x₁⋅y₃ - x₂⋅y₁ + x₂⋅y₃ + x₃⋅y₁ - x₃⋅y₂"
      ]
     },
     "execution_count": 20,
     "metadata": {},
     "output_type": "execute_result"
    }
   ],
   "source": [
    "#La función de forma N1(x,y)\n",
    "N_1 = sol_N1[a_1] + sol_N1[a_2]*x + sol_N1[a_3]*y\n",
    "N_1"
   ]
  },
  {
   "cell_type": "code",
   "execution_count": 23,
   "metadata": {},
   "outputs": [],
   "source": [
    "#Para N2\n",
    "eq2 = sp.Matrix([0,0,0])\n",
    "eq2[0] = a_1 + a_2*x_1 + a_3*y_1 - 0\n",
    "eq2[1] = a_1 + a_2*x_2 + a_3*y_2 - 1\n",
    "eq2[2] = a_1 + a_2*x_3 + a_3*y_3 - 0"
   ]
  },
  {
   "cell_type": "code",
   "execution_count": 24,
   "metadata": {},
   "outputs": [
    {
     "data": {
      "image/png": "[encoded data removed]",
      "text/latex": [
       "$\\displaystyle \\left\\{ a_{1} : - \\frac{x_{1} y_{3} - x_{3} y_{1}}{x_{1} y_{2} - x_{1} y_{3} - x_{2} y_{1} + x_{2} y_{3} + x_{3} y_{1} - x_{3} y_{2}}, \\  a_{2} : - \\frac{y_{1} - y_{3}}{x_{1} y_{2} - x_{1} y_{3} - x_{2} y_{1} + x_{2} y_{3} + x_{3} y_{1} - x_{3} y_{2}}, \\  a_{3} : \\frac{x_{1} - x_{3}}{x_{1} y_{2} - x_{1} y_{3} - x_{2} y_{1} + x_{2} y_{3} + x_{3} y_{1} - x_{3} y_{2}}\\right\\}$"
      ],
      "text/plain": [
       "⎧                  -(x₁⋅y₃ - x₃⋅y₁)                                      -(y₁ \n",
       "⎨a₁: ─────────────────────────────────────────────, a₂: ──────────────────────\n",
       "⎩    x₁⋅y₂ - x₁⋅y₃ - x₂⋅y₁ + x₂⋅y₃ + x₃⋅y₁ - x₃⋅y₂      x₁⋅y₂ - x₁⋅y₃ - x₂⋅y₁ \n",
       "\n",
       "- y₃)                                           x₁ - x₃                   ⎫\n",
       "───────────────────────, a₃: ─────────────────────────────────────────────⎬\n",
       "+ x₂⋅y₃ + x₃⋅y₁ - x₃⋅y₂      x₁⋅y₂ - x₁⋅y₃ - x₂⋅y₁ + x₂⋅y₃ + x₃⋅y₁ - x₃⋅y₂⎭"
      ]
     },
     "execution_count": 24,
     "metadata": {},
     "output_type": "execute_result"
    }
   ],
   "source": [
    "sol_N2 = sp.solve(eq2)[0]\n",
    "sol_N2"
   ]
  },
  {
   "cell_type": "code",
   "execution_count": 25,
   "metadata": {},
   "outputs": [
    {
     "data": {
      "image/png": "[encoded data removed]",
      "text/latex": [
       "$\\displaystyle - \\frac{x \\left(y_{1} - y_{3}\\right)}{x_{1} y_{2} - x_{1} y_{3} - x_{2} y_{1} + x_{2} y_{3} + x_{3} y_{1} - x_{3} y_{2}} + \\frac{y \\left(x_{1} - x_{3}\\right)}{x_{1} y_{2} - x_{1} y_{3} - x_{2} y_{1} + x_{2} y_{3} + x_{3} y_{1} - x_{3} y_{2}} - \\frac{x_{1} y_{3} - x_{3} y_{1}}{x_{1} y_{2} - x_{1} y_{3} - x_{2} y_{1} + x_{2} y_{3} + x_{3} y_{1} - x_{3} y_{2}}$"
      ],
      "text/plain": [
       "                   x⋅(y₁ - y₃)                                     y⋅(x₁ - x₃)\n",
       "- ───────────────────────────────────────────── + ────────────────────────────\n",
       "  x₁⋅y₂ - x₁⋅y₃ - x₂⋅y₁ + x₂⋅y₃ + x₃⋅y₁ - x₃⋅y₂   x₁⋅y₂ - x₁⋅y₃ - x₂⋅y₁ + x₂⋅y\n",
       "\n",
       "                                    x₁⋅y₃ - x₃⋅y₁                \n",
       "───────────────── - ─────────────────────────────────────────────\n",
       "₃ + x₃⋅y₁ - x₃⋅y₂   x₁⋅y₂ - x₁⋅y₃ - x₂⋅y₁ + x₂⋅y₃ + x₃⋅y₁ - x₃⋅y₂"
      ]
     },
     "execution_count": 25,
     "metadata": {},
     "output_type": "execute_result"
    }
   ],
   "source": [
    "#La función de forma N2(x,y)\n",
    "N_2 = sol_N2[a_1] + sol_N2[a_2]*x + sol_N2[a_3]*y\n",
    "N_2"
   ]
  },
  {
   "cell_type": "code",
   "execution_count": 26,
   "metadata": {},
   "outputs": [],
   "source": [
    "#Para N3\n",
    "eq3 = sp.Matrix([0,0,0])\n",
    "eq3[0] = a_1 + a_2*x_1 + a_3*y_1 - 0\n",
    "eq3[1] = a_1 + a_2*x_2 + a_3*y_2 - 0\n",
    "eq3[2] = a_1 + a_2*x_3 + a_3*y_3 - 1"
   ]
  },
  {
   "cell_type": "code",
   "execution_count": 27,
   "metadata": {},
   "outputs": [
    {
     "data": {
      "image/png": "[encoded data removed]",
      "text/latex": [
       "$\\displaystyle \\left\\{ a_{1} : \\frac{x_{1} y_{2} - x_{2} y_{1}}{x_{1} y_{2} - x_{1} y_{3} - x_{2} y_{1} + x_{2} y_{3} + x_{3} y_{1} - x_{3} y_{2}}, \\  a_{2} : \\frac{y_{1} - y_{2}}{x_{1} y_{2} - x_{1} y_{3} - x_{2} y_{1} + x_{2} y_{3} + x_{3} y_{1} - x_{3} y_{2}}, \\  a_{3} : - \\frac{x_{1} - x_{2}}{x_{1} y_{2} - x_{1} y_{3} - x_{2} y_{1} + x_{2} y_{3} + x_{3} y_{1} - x_{3} y_{2}}\\right\\}$"
      ],
      "text/plain": [
       "⎧                    x₁⋅y₂ - x₂⋅y₁                                         y₁ \n",
       "⎨a₁: ─────────────────────────────────────────────, a₂: ──────────────────────\n",
       "⎩    x₁⋅y₂ - x₁⋅y₃ - x₂⋅y₁ + x₂⋅y₃ + x₃⋅y₁ - x₃⋅y₂      x₁⋅y₂ - x₁⋅y₃ - x₂⋅y₁ \n",
       "\n",
       "- y₂                                          -(x₁ - x₂)                  ⎫\n",
       "───────────────────────, a₃: ─────────────────────────────────────────────⎬\n",
       "+ x₂⋅y₃ + x₃⋅y₁ - x₃⋅y₂      x₁⋅y₂ - x₁⋅y₃ - x₂⋅y₁ + x₂⋅y₃ + x₃⋅y₁ - x₃⋅y₂⎭"
      ]
     },
     "execution_count": 27,
     "metadata": {},
     "output_type": "execute_result"
    }
   ],
   "source": [
    "sol_N3 = sp.solve(eq3)[0]\n",
    "sol_N3"
   ]
  },
  {
   "cell_type": "code",
   "execution_count": 28,
   "metadata": {},
   "outputs": [
    {
     "data": {
      "image/png": "[encoded data removed]",
      "text/latex": [
       "$\\displaystyle \\frac{x \\left(y_{1} - y_{2}\\right)}{x_{1} y_{2} - x_{1} y_{3} - x_{2} y_{1} + x_{2} y_{3} + x_{3} y_{1} - x_{3} y_{2}} - \\frac{y \\left(x_{1} - x_{2}\\right)}{x_{1} y_{2} - x_{1} y_{3} - x_{2} y_{1} + x_{2} y_{3} + x_{3} y_{1} - x_{3} y_{2}} + \\frac{x_{1} y_{2} - x_{2} y_{1}}{x_{1} y_{2} - x_{1} y_{3} - x_{2} y_{1} + x_{2} y_{3} + x_{3} y_{1} - x_{3} y_{2}}$"
      ],
      "text/plain": [
       "                 x⋅(y₁ - y₂)                                     y⋅(x₁ - x₂)  \n",
       "───────────────────────────────────────────── - ──────────────────────────────\n",
       "x₁⋅y₂ - x₁⋅y₃ - x₂⋅y₁ + x₂⋅y₃ + x₃⋅y₁ - x₃⋅y₂   x₁⋅y₂ - x₁⋅y₃ - x₂⋅y₁ + x₂⋅y₃ \n",
       "\n",
       "                                  x₁⋅y₂ - x₂⋅y₁                \n",
       "─────────────── + ─────────────────────────────────────────────\n",
       "+ x₃⋅y₁ - x₃⋅y₂   x₁⋅y₂ - x₁⋅y₃ - x₂⋅y₁ + x₂⋅y₃ + x₃⋅y₁ - x₃⋅y₂"
      ]
     },
     "execution_count": 28,
     "metadata": {},
     "output_type": "execute_result"
    }
   ],
   "source": [
    "#La función de forma N2(x,y)\n",
    "N_3 = sol_N3[a_1] + sol_N3[a_2]*x + sol_N3[a_3]*y\n",
    "N_3"
   ]
  },
  {
   "cell_type": "markdown",
   "metadata": {},
   "source": [
    "Para calcular el área de un triángulo conociendo las coordenadas de sus tres vértices mediante el determinante, se puede usar la fórmula del determinante de una matriz. Esta fórmula es una forma eficiente y directa de calcular el área de un triángulo en un plano cartesiano.\n",
    "\n",
    "Si los vértices del triángulo son ((x1, y1)), ((x2, y2)), y ((x3, y3)), el área del triángulo se puede calcular con la siguiente fórmula:\n",
    "\n",
    "$$\\text{A} = \\frac{1}{2} \\left| x1(y2 - y3) + x2(y3 - y1) + x3(y1 - y2) \\right|$$\n",
    "\n",
    "Esta fórmula se deriva del determinante de una matriz que representa las coordenadas de los vértices del triángulo."
   ]
  },
  {
   "cell_type": "code",
   "execution_count": 30,
   "metadata": {},
   "outputs": [
    {
     "data": {
      "image/png": "[encoded data removed]",
      "text/latex": [
       "$\\displaystyle x_{1} y_{2} - x_{1} y_{3} - x_{2} y_{1} + x_{2} y_{3} + x_{3} y_{1} - x_{3} y_{2}$"
      ],
      "text/plain": [
       "x₁⋅y₂ - x₁⋅y₃ - x₂⋅y₁ + x₂⋅y₃ + x₃⋅y₁ - x₃⋅y₂"
      ]
     },
     "execution_count": 30,
     "metadata": {},
     "output_type": "execute_result"
    }
   ],
   "source": [
    "A = sp.Matrix([[1,1,1], [x_1,x_2, x_3], [y_1,y_2,y_3]]).det()/2\n",
    "2*A\n"
   ]
  },
  {
   "cell_type": "code",
   "execution_count": null,
   "metadata": {},
   "outputs": [],
   "source": []
  },
  {
   "cell_type": "code",
   "execution_count": null,
   "metadata": {},
   "outputs": [],
   "source": []
  }
 ],
 "metadata": {
  "julynter-results": {
   "filteredId": [],
   "filteredIndividual": [],
   "filteredRestart": [],
   "filteredType": [],
   "hash": "95839dba813137c7b5606c9377d5d8c992c83558",
   "visible": [
    {
     "cellId": "group",
     "hash": "c0de46ba034d710c2b2406a37ee6816be9634aa0",
     "reason": "This groups other lint messages",
     "reportId": "group",
     "reportType": "hiddenstate",
     "suggestion": null,
     "text": "Hidden State"
    },
    {
     "cellId": 0,
     "hash": "7fa3a71e267bc888e096c1602c0e58b7911c59e8",
     "reason": "A cell with results of a previous session may fail to execute or produce different results in this one, hampering the reproducibility.",
     "reportId": "h1",
     "reportType": "hiddenstate",
     "suggestion": "Please consider executing it to guarantee the reproducibility.",
     "text": "Cell 0 has execution results, but it wasn't executed on this session"
    },
    {
     "cellId": 1,
     "hash": "094f31a7a163db7a03819c00d0e93e12283aa8b6",
     "reason": "A cell with results of a previous session may fail to execute or produce different results in this one, hampering the reproducibility.",
     "reportId": "h1",
     "reportType": "hiddenstate",
     "suggestion": "Please consider executing it to guarantee the reproducibility.",
     "text": "Cell 1 has execution results, but it wasn't executed on this session"
    },
    {
     "cellId": 2,
     "hash": "bcd355fc62136dcccbde79459c1461b89c3928b8",
     "reason": "A cell with results of a previous session may fail to execute or produce different results in this one, hampering the reproducibility.",
     "reportId": "h1",
     "reportType": "hiddenstate",
     "suggestion": "Please consider executing it to guarantee the reproducibility.",
     "text": "Cell 2 has execution results, but it wasn't executed on this session"
    },
    {
     "cellId": 3,
     "hash": "873ab7a3bc8cf76c428948652bec118b8a97c312",
     "reason": "A cell with results of a previous session may fail to execute or produce different results in this one, hampering the reproducibility.",
     "reportId": "h1",
     "reportType": "hiddenstate",
     "suggestion": "Please consider executing it to guarantee the reproducibility.",
     "text": "Cell 3 has execution results, but it wasn't executed on this session"
    },
    {
     "cellId": 4,
     "hash": "a894bc99e893438edd5debf0e857b5bc07924a0b",
     "reason": "A cell with results of a previous session may fail to execute or produce different results in this one, hampering the reproducibility.",
     "reportId": "h1",
     "reportType": "hiddenstate",
     "suggestion": "Please consider executing it to guarantee the reproducibility.",
     "text": "Cell 4 has execution results, but it wasn't executed on this session"
    },
    {
     "cellId": 5,
     "hash": "dcabd1de3e4454897b83307d52147f2d50d59e8d",
     "reason": "A cell with results of a previous session may fail to execute or produce different results in this one, hampering the reproducibility.",
     "reportId": "h1",
     "reportType": "hiddenstate",
     "suggestion": "Please consider executing it to guarantee the reproducibility.",
     "text": "Cell 5 has execution results, but it wasn't executed on this session"
    },
    {
     "cellId": 6,
     "hash": "9dd9ef146fabbb0cc955bfe1eb1471217ccf12a3",
     "reason": "A cell with results of a previous session may fail to execute or produce different results in this one, hampering the reproducibility.",
     "reportId": "h1",
     "reportType": "hiddenstate",
     "suggestion": "Please consider executing it to guarantee the reproducibility.",
     "text": "Cell 6 has execution results, but it wasn't executed on this session"
    },
    {
     "cellId": 7,
     "hash": "3616acbcf02e2278c550c7b759d494fd3d0af356",
     "reason": "A cell with results of a previous session may fail to execute or produce different results in this one, hampering the reproducibility.",
     "reportId": "h1",
     "reportType": "hiddenstate",
     "suggestion": "Please consider executing it to guarantee the reproducibility.",
     "text": "Cell 7 has execution results, but it wasn't executed on this session"
    },
    {
     "cellId": 8,
     "hash": "d59398cb256a69fb6bec2d1231e7ce3eaa468ee8",
     "reason": "A cell with results of a previous session may fail to execute or produce different results in this one, hampering the reproducibility.",
     "reportId": "h1",
     "reportType": "hiddenstate",
     "suggestion": "Please consider executing it to guarantee the reproducibility.",
     "text": "Cell 8 has execution results, but it wasn't executed on this session"
    },
    {
     "cellId": 9,
     "hash": "6364f5ff44fc3648b41902cb4ea810bba772947e",
     "reason": "A cell with results of a previous session may fail to execute or produce different results in this one, hampering the reproducibility.",
     "reportId": "h1",
     "reportType": "hiddenstate",
     "suggestion": "Please consider executing it to guarantee the reproducibility.",
     "text": "Cell 9 has execution results, but it wasn't executed on this session"
    },
    {
     "cellId": 10,
     "hash": "d402f2ba6976e90c5c722ef7c89e1b6aa236709d",
     "reason": "A cell with results of a previous session may fail to execute or produce different results in this one, hampering the reproducibility.",
     "reportId": "h1",
     "reportType": "hiddenstate",
     "suggestion": "Please consider executing it to guarantee the reproducibility.",
     "text": "Cell 10 has execution results, but it wasn't executed on this session"
    },
    {
     "cellId": 11,
     "hash": "d0401588b45076aef93e4006417277947a6cd457",
     "reason": "A cell with results of a previous session may fail to execute or produce different results in this one, hampering the reproducibility.",
     "reportId": "h1",
     "reportType": "hiddenstate",
     "suggestion": "Please consider executing it to guarantee the reproducibility.",
     "text": "Cell 11 has execution results, but it wasn't executed on this session"
    },
    {
     "cellId": 12,
     "hash": "48ebd0a7b45a2c6bab9b97c05e4546886426a769",
     "reason": "A cell with results of a previous session may fail to execute or produce different results in this one, hampering the reproducibility.",
     "reportId": "h1",
     "reportType": "hiddenstate",
     "suggestion": "Please consider executing it to guarantee the reproducibility.",
     "text": "Cell 12 has execution results, but it wasn't executed on this session"
    },
    {
     "cellId": 13,
     "hash": "b81af2423495c09ceb1fd236a4d2389f61446142",
     "reason": "A cell with results of a previous session may fail to execute or produce different results in this one, hampering the reproducibility.",
     "reportId": "h1",
     "reportType": "hiddenstate",
     "suggestion": "Please consider executing it to guarantee the reproducibility.",
     "text": "Cell 13 has execution results, but it wasn't executed on this session"
    },
    {
     "cellId": 14,
     "hash": "700ad18f721449ce6177ca2043b6a2fc38b2813c",
     "reason": "A cell with results of a previous session may fail to execute or produce different results in this one, hampering the reproducibility.",
     "reportId": "h1",
     "reportType": "hiddenstate",
     "suggestion": "Please consider executing it to guarantee the reproducibility.",
     "text": "Cell 14 has execution results, but it wasn't executed on this session"
    },
    {
     "cellId": 15,
     "hash": "fad81e2f4213e371f069a83bb7f210690995469f",
     "reason": "A cell with results of a previous session may fail to execute or produce different results in this one, hampering the reproducibility.",
     "reportId": "h1",
     "reportType": "hiddenstate",
     "suggestion": "Please consider executing it to guarantee the reproducibility.",
     "text": "Cell 15 has execution results, but it wasn't executed on this session"
    },
    {
     "cellId": 16,
     "hash": "441a933700249fbb1dccb3a6d14ea586267b2515",
     "reason": "A cell with results of a previous session may fail to execute or produce different results in this one, hampering the reproducibility.",
     "reportId": "h1",
     "reportType": "hiddenstate",
     "suggestion": "Please consider executing it to guarantee the reproducibility.",
     "text": "Cell 16 has execution results, but it wasn't executed on this session"
    },
    {
     "cellId": 17,
     "hash": "4c3edf2fa296c41bf65eb147b2068068d334f4ad",
     "reason": "A cell with results of a previous session may fail to execute or produce different results in this one, hampering the reproducibility.",
     "reportId": "h1",
     "reportType": "hiddenstate",
     "suggestion": "Please consider executing it to guarantee the reproducibility.",
     "text": "Cell 17 has execution results, but it wasn't executed on this session"
    },
    {
     "cellId": 18,
     "hash": "b35ae9b937445d884fc8c25f3f99b181f04b3321",
     "reason": "A cell with results of a previous session may fail to execute or produce different results in this one, hampering the reproducibility.",
     "reportId": "h1",
     "reportType": "hiddenstate",
     "suggestion": "Please consider executing it to guarantee the reproducibility.",
     "text": "Cell 18 has execution results, but it wasn't executed on this session"
    },
    {
     "cellId": 19,
     "hash": "9a1c0a7c2499b78f998fc12346c696334536fbb5",
     "reason": "A cell with results of a previous session may fail to execute or produce different results in this one, hampering the reproducibility.",
     "reportId": "h1",
     "reportType": "hiddenstate",
     "suggestion": "Please consider executing it to guarantee the reproducibility.",
     "text": "Cell 19 has execution results, but it wasn't executed on this session"
    },
    {
     "cellId": 20,
     "hash": "650f32fee2385bb66456d221c4a0cd2c9acf6f59",
     "reason": "A cell with results of a previous session may fail to execute or produce different results in this one, hampering the reproducibility.",
     "reportId": "h1",
     "reportType": "hiddenstate",
     "suggestion": "Please consider executing it to guarantee the reproducibility.",
     "text": "Cell 20 has execution results, but it wasn't executed on this session"
    },
    {
     "cellId": 21,
     "hash": "6103302f1ece2b6ffd721f3817ba0ef567ddc84f",
     "reason": "A cell with results of a previous session may fail to execute or produce different results in this one, hampering the reproducibility.",
     "reportId": "h1",
     "reportType": "hiddenstate",
     "suggestion": "Please consider executing it to guarantee the reproducibility.",
     "text": "Cell 21 has execution results, but it wasn't executed on this session"
    },
    {
     "cellId": 22,
     "hash": "4900dbcbc78079eef3be945b272d162f854ac309",
     "reason": "A cell with results of a previous session may fail to execute or produce different results in this one, hampering the reproducibility.",
     "reportId": "h1",
     "reportType": "hiddenstate",
     "suggestion": "Please consider executing it to guarantee the reproducibility.",
     "text": "Cell 22 has execution results, but it wasn't executed on this session"
    },
    {
     "cellId": 23,
     "hash": "c307d24bb9634968c33eac3c46d352d32b762c77",
     "reason": "A cell with results of a previous session may fail to execute or produce different results in this one, hampering the reproducibility.",
     "reportId": "h1",
     "reportType": "hiddenstate",
     "suggestion": "Please consider executing it to guarantee the reproducibility.",
     "text": "Cell 23 has execution results, but it wasn't executed on this session"
    },
    {
     "cellId": 24,
     "hash": "93927b4e1eb3539e9d65b2e5c06f5c5b57b1ac74",
     "reason": "A cell with results of a previous session may fail to execute or produce different results in this one, hampering the reproducibility.",
     "reportId": "h1",
     "reportType": "hiddenstate",
     "suggestion": "Please consider executing it to guarantee the reproducibility.",
     "text": "Cell 24 has execution results, but it wasn't executed on this session"
    },
    {
     "cellId": 26,
     "hash": "31241ffcba9a579381d56a8d71a8b549fd070954",
     "reason": "A cell with results of a previous session may fail to execute or produce different results in this one, hampering the reproducibility.",
     "reportId": "h1",
     "reportType": "hiddenstate",
     "suggestion": "Please consider executing it to guarantee the reproducibility.",
     "text": "Cell 26 has execution results, but it wasn't executed on this session"
    },
    {
     "cellId": 27,
     "hash": "b22e8f58b7d78ab3beea1c0410cf203f4ad0e2a8",
     "reason": "A cell with results of a previous session may fail to execute or produce different results in this one, hampering the reproducibility.",
     "reportId": "h1",
     "reportType": "hiddenstate",
     "suggestion": "Please consider executing it to guarantee the reproducibility.",
     "text": "Cell 27 has execution results, but it wasn't executed on this session"
    },
    {
     "cellId": 3,
     "hash": "d5506ab28583b4179ab127dab0594b1aeb6ec53a",
     "reason": "A skip in the execution count might indicate the presence of a hidden state caused by a cell that does not exist anymore. Hidden states might prevent cells from executing or producing the same results, hampering the reproducibility.",
     "reportId": "h4",
     "reportType": "hiddenstate",
     "suggestion": "Please consider re-running the notebook to guarantee the reproducibility.",
     "text": "Cell 3 skips the execution count"
    },
    {
     "cellId": 1,
     "hash": "bd97603c7cc4ed75da50daf391f2eb5931c57cb6",
     "reason": "A skip in the execution count might indicate the presence of a hidden state caused by a cell that does not exist anymore. Hidden states might prevent cells from executing or producing the same results, hampering the reproducibility.",
     "reportId": "h4",
     "reportType": "hiddenstate",
     "suggestion": "Please consider re-running the notebook to guarantee the reproducibility.",
     "text": "Cell 1 skips the execution count"
    },
    {
     "cellId": "group",
     "hash": "19d3d3d153f22e318cbe061df9e685ba5165b0aa",
     "reason": "This groups other lint messages",
     "reportId": "group",
     "reportType": "confusenotebook",
     "suggestion": null,
     "text": "Confuse Notebook"
    },
    {
     "cellId": 3,
     "hash": "7c487b11c58918652d46c58447855a1e65457ca4",
     "reason": "When you try to run all cells following the top-down order, cells in the wrong order might fail to execute or produce different results, hampering the reproducibility.",
     "reportId": "c2",
     "reportType": "confusenotebook",
     "suggestion": "Please consider re-running the notebook to guarantee the reproducibility.",
     "text": "Cell 3 has the execution count 4 in the wrong order"
    },
    {
     "cellId": 25,
     "hash": "e16c3bb5c664900ca17fb1c4ccab0d3f577e6639",
     "reason": "Empty cells in between executable ones occupy space and might impact the readability of the notebook.",
     "reportId": "c3",
     "reportType": "confusenotebook",
     "suggestion": "Please consider removing it to improve the readability.",
     "text": "Cell 25 is empty in the middle of the notebook"
    },
    {
     "cellId": 0,
     "hash": "6877f50615a3532b3de3489befa9c332c8cdf1fe",
     "reason": "A markdown cell at the beginning of the notebook can provide a human-friendly title with no constraints and introduce the notebook, indicating its purpose and external requirements.",
     "reportId": "c4",
     "reportType": "confusenotebook",
     "suggestion": "Please consider adding a markdown cell to describe the notebook.",
     "text": "The first cell of the notebook is not a markdown cell"
    },
    {
     "cellId": 27,
     "hash": "e9c08ed722c25d51bcf7552da59b49e486658d65",
     "reason": "A markdown cell at the end of the notebook can conclude it, presenting a summary of the obtained results.",
     "reportId": "c5",
     "reportType": "confusenotebook",
     "suggestion": "Please consider adding a markdown cell to conclude the notebook.",
     "text": "The last cell of the notebook is not a markdown cell"
    }
   ]
  },
  "kernelspec": {
   "display_name": "Python 3 (ipykernel)",
   "language": "python",
   "name": "python3"
  },
  "language_info": {
   "codemirror_mode": {
    "name": "ipython",
    "version": 3
   },
   "file_extension": ".py",
   "mimetype": "text/x-python",
   "name": "python",
   "nbconvert_exporter": "python",
   "pygments_lexer": "ipython3",
   "version": "3.8.8"
  }
 },
 "nbformat": 4,
 "nbformat_minor": 4
}
