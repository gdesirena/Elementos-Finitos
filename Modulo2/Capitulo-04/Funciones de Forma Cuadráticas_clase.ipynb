{
 "cells": [
  {
   "cell_type": "code",
   "execution_count": 1,
   "metadata": {},
   "outputs": [],
   "source": [
    "import numpy as np\n",
    "import sympy as sp\n",
    "from mpl_toolkits.mplot3d import Axes3D\n",
    "import matplotlib.pyplot as plt\n",
    "%matplotlib qt\n",
    "sp.init_printing(use_unicode=True)"
   ]
  },
  {
   "cell_type": "code",
   "execution_count": 2,
   "metadata": {},
   "outputs": [],
   "source": [
    "a_1, a_2, a_3, a_3, a_4, a_5, a_6 = sp.symbols('a_1, a_2, a_3, a_3, a_4, a_5, a_6')\n",
    "x_1, x_2, x_3, x_3, x_4, x_5, x_6 = sp.symbols('x_1, x_2, x_3, x_3, x_4, x_5, x_6')\n",
    "y_1, y_2, y_3, y_3, y_4, y_5, y_6 = sp.symbols('y_1, y_2, y_3, y_3, y_4, y_5, y_6')\n",
    "x,   y = sp.symbols('x,y')"
   ]
  },
  {
   "cell_type": "code",
   "execution_count": 3,
   "metadata": {},
   "outputs": [
    {
     "data": {
      "text/latex": [
       "$\\displaystyle \\left[\\begin{matrix}a_{1} + a_{2} x_{1} + a_{3} y_{1} + a_{4} x_{1}^{2} + a_{5} x_{1} y_{1} + a_{6} y_{1}^{2}\\\\a_{1} + a_{2} x_{2} + a_{3} y_{2} + a_{4} x_{2}^{2} + a_{5} x_{2} y_{2} + a_{6} y_{2}^{2}\\\\a_{1} + a_{2} x_{3} + a_{3} y_{3} + a_{4} x_{3}^{2} + a_{5} x_{3} y_{3} + a_{6} y_{3}^{2}\\\\a_{1} + a_{2} x_{4} + a_{3} y_{4} + a_{4} x_{4}^{2} + a_{5} x_{4} y_{4} + a_{6} y_{4}^{2}\\\\a_{1} + a_{2} x_{5} + a_{3} y_{5} + a_{4} x_{5}^{2} + a_{5} x_{5} y_{5} + a_{6} y_{5}^{2}\\\\a_{1} + a_{2} x_{6} + a_{3} y_{6} + a_{4} x_{6}^{2} + a_{5} x_{6} y_{6} + a_{6} y_{6}^{2}\\end{matrix}\\right]$"
      ],
      "text/plain": [
       "⎡                          2                   2⎤\n",
       "⎢a₁ + a₂⋅x₁ + a₃⋅y₁ + a₄⋅x₁  + a₅⋅x₁⋅y₁ + a₆⋅y₁ ⎥\n",
       "⎢                                               ⎥\n",
       "⎢                          2                   2⎥\n",
       "⎢a₁ + a₂⋅x₂ + a₃⋅y₂ + a₄⋅x₂  + a₅⋅x₂⋅y₂ + a₆⋅y₂ ⎥\n",
       "⎢                                               ⎥\n",
       "⎢                          2                   2⎥\n",
       "⎢a₁ + a₂⋅x₃ + a₃⋅y₃ + a₄⋅x₃  + a₅⋅x₃⋅y₃ + a₆⋅y₃ ⎥\n",
       "⎢                                               ⎥\n",
       "⎢                          2                   2⎥\n",
       "⎢a₁ + a₂⋅x₄ + a₃⋅y₄ + a₄⋅x₄  + a₅⋅x₄⋅y₄ + a₆⋅y₄ ⎥\n",
       "⎢                                               ⎥\n",
       "⎢                          2                   2⎥\n",
       "⎢a₁ + a₂⋅x₅ + a₃⋅y₅ + a₄⋅x₅  + a₅⋅x₅⋅y₅ + a₆⋅y₅ ⎥\n",
       "⎢                                               ⎥\n",
       "⎢                          2                   2⎥\n",
       "⎣a₁ + a₂⋅x₆ + a₃⋅y₆ + a₄⋅x₆  + a₅⋅x₆⋅y₆ + a₆⋅y₆ ⎦"
      ]
     },
     "execution_count": 3,
     "metadata": {},
     "output_type": "execute_result"
    }
   ],
   "source": [
    "eq1 = sp.Matrix([0,0,0,0,0,0])\n",
    "eq1[0] = a_1+a_2*x_1+a_3*y_1+a_4*x_1**2+a_5*x_1*y_1+a_6*y_1**2\n",
    "eq1[1] = a_1+a_2*x_2+a_3*y_2+a_4*x_2**2+a_5*x_2*y_2+a_6*y_2**2\n",
    "eq1[2] = a_1+a_2*x_3+a_3*y_3+a_4*x_3**2+a_5*x_3*y_3+a_6*y_3**2\n",
    "eq1[3] = a_1+a_2*x_4+a_3*y_4+a_4*x_4**2+a_5*x_4*y_4+a_6*y_4**2\n",
    "eq1[4] = a_1+a_2*x_5+a_3*y_5+a_4*x_5**2+a_5*x_5*y_5+a_6*y_5**2\n",
    "eq1[5] = a_1+a_2*x_6+a_3*y_6+a_4*x_6**2+a_5*x_6*y_6+a_6*y_6**2\n",
    "eq1"
   ]
  },
  {
   "cell_type": "code",
   "execution_count": 4,
   "metadata": {},
   "outputs": [],
   "source": [
    "#sol1 = sp.solve(eq1, a_1, a_2, a_3, a_3, a_4, a_5, a_6)\n",
    "#sol1"
   ]
  },
  {
   "cell_type": "code",
   "execution_count": 5,
   "metadata": {},
   "outputs": [],
   "source": [
    "#sol1[a_6].simplify()"
   ]
  },
  {
   "cell_type": "code",
   "execution_count": 6,
   "metadata": {},
   "outputs": [],
   "source": [
    "#ejemplo\n",
    "\n",
    "#su = {x_1:0, x_2:1, x_3:2, x_4:1.5, x_5:1, x_6:0.5, y_1:0, y_2:0.5, y_3:1, y_4:1.5, y_5:2, y_6:1}\n",
    "#a = np.array([0] * 6)\n",
    "#for j,i in enumerate([a_1, a_2, a_3, a_4, a_5, a_6]):\n",
    "#    print(j,i)\n",
    "#    a[j] = sol1[i].subs(su).simplify()\n",
    "    \n",
    "#a[3]=.25"
   ]
  },
  {
   "cell_type": "code",
   "execution_count": 7,
   "metadata": {},
   "outputs": [
    {
     "data": {
      "image/png": "[encoded data removed]",
      "text/latex": [
       "$\\displaystyle \\left[ \\left\\{ a_{1} : 1.0, \\  a_{2} : -1.0, \\  a_{3} : -1.0, \\  a_{4} : 0.222222222222222, \\  a_{5} : 0.444444444444444, \\  a_{6} : 0.222222222222222\\right\\}, \\  \\left\\{ a_{1} : 0.0, \\  a_{2} : 2.66666666666667, \\  a_{3} : -1.33333333333333, \\  a_{4} : -0.888888888888889, \\  a_{5} : -0.444444444444444, \\  a_{6} : 0.444444444444444\\right\\}, \\  \\left\\{ a_{1} : 0.0, \\  a_{2} : -0.666666666666667, \\  a_{3} : 0.333333333333333, \\  a_{4} : 0.888888888888889, \\  a_{5} : -0.888888888888889, \\  a_{6} : 0.222222222222222\\right\\}, \\  \\left\\{ a_{1} : 0.0, \\  a_{2} : 0.0, \\  a_{3} : 0.0, \\  a_{4} : -0.888888888888889, \\  a_{5} : 2.22222222222222, \\  a_{6} : -0.888888888888889\\right\\}, \\  \\left\\{ a_{1} : 0.0, \\  a_{2} : 0.333333333333333, \\  a_{3} : -0.666666666666667, \\  a_{4} : 0.222222222222222, \\  a_{5} : -0.888888888888889, \\  a_{6} : 0.888888888888889\\right\\}, \\  \\left\\{ a_{1} : 0.0, \\  a_{2} : -1.33333333333333, \\  a_{3} : 2.66666666666667, \\  a_{4} : 0.444444444444444, \\  a_{5} : -0.444444444444444, \\  a_{6} : -0.888888888888889\\right\\}\\right]$"
      ],
      "text/plain": [
       "[{a₁: 1.0, a₂: -1.0, a₃: -1.0, a₄: 0.222222222222222, a₅: 0.444444444444444, a\n",
       "₆: 0.222222222222222}, {a₁: 0.0, a₂: 2.66666666666667, a₃: -1.33333333333333, \n",
       "a₄: -0.888888888888889, a₅: -0.444444444444444, a₆: 0.444444444444444}, {a₁: 0\n",
       ".0, a₂: -0.666666666666667, a₃: 0.333333333333333, a₄: 0.888888888888889, a₅: \n",
       "-0.888888888888889, a₆: 0.222222222222222}, {a₁: 0.0, a₂: 0.0, a₃: 0.0, a₄: -0\n",
       ".888888888888889, a₅: 2.22222222222222, a₆: -0.888888888888889}, {a₁: 0.0, a₂:\n",
       " 0.333333333333333, a₃: -0.666666666666667, a₄: 0.222222222222222, a₅: -0.8888\n",
       "88888888889, a₆: 0.888888888888889}, {a₁: 0.0, a₂: -1.33333333333333, a₃: 2.66\n",
       "666666666667, a₄: 0.444444444444444, a₅: -0.444444444444444, a₆: -0.8888888888\n",
       "88889}]"
      ]
     },
     "execution_count": 7,
     "metadata": {},
     "output_type": "execute_result"
    }
   ],
   "source": [
    "su = {x_1:0, x_2:1, x_3:2, x_4:1.5, x_5:1, x_6:0.5, y_1:0, y_2:0.5, y_3:1, y_4:1.5, y_5:2, y_6:1}\n",
    "\n",
    "sol = []\n",
    "\n",
    "for i in range(6):\n",
    "    eq2 = eq1.subs(su)\n",
    "    eq2[i] = eq2[i]-1\n",
    "    sol.append(sp.solve(eq2, a_1, a_2, a_3, a_3, a_4, a_5, a_6))\n",
    "\n",
    "sol"
   ]
  },
  {
   "cell_type": "code",
   "execution_count": 8,
   "metadata": {},
   "outputs": [
    {
     "data": {
      "image/png": "[encoded data removed]",
      "text/latex": [
       "$\\displaystyle \\left\\{ a_{1} : 0.0, \\  a_{2} : -1.33333333333333, \\  a_{3} : 2.66666666666667, \\  a_{4} : 0.444444444444444, \\  a_{5} : -0.444444444444444, \\  a_{6} : -0.888888888888889\\right\\}$"
      ],
      "text/plain": [
       "{a₁: 0.0, a₂: -1.33333333333333, a₃: 2.66666666666667, a₄: 0.444444444444444, \n",
       "a₅: -0.444444444444444, a₆: -0.888888888888889}"
      ]
     },
     "execution_count": 8,
     "metadata": {},
     "output_type": "execute_result"
    }
   ],
   "source": [
    "sol2 = sp.solve(eq2, a_1, a_2, a_3, a_3, a_4, a_5, a_6)\n",
    "sol2"
   ]
  },
  {
   "cell_type": "code",
   "execution_count": 9,
   "metadata": {},
   "outputs": [
    {
     "data": {
      "text/plain": [
       "[array([ 1.        , -1.        , -1.        ,  0.22222222,  0.44444444,\n",
       "         0.22222222]),\n",
       " array([ 0.        ,  2.66666667, -1.33333333, -0.88888889, -0.44444444,\n",
       "         0.44444444]),\n",
       " array([ 0.        , -0.66666667,  0.33333333,  0.88888889, -0.88888889,\n",
       "         0.22222222]),\n",
       " array([ 0.        ,  0.        ,  0.        , -0.88888889,  2.22222222,\n",
       "        -0.88888889]),\n",
       " array([ 0.        ,  0.33333333, -0.66666667,  0.22222222, -0.88888889,\n",
       "         0.88888889]),\n",
       " array([ 0.        , -1.33333333,  2.66666667,  0.44444444, -0.44444444,\n",
       "        -0.88888889])]"
      ]
     },
     "execution_count": 9,
     "metadata": {},
     "output_type": "execute_result"
    }
   ],
   "source": [
    "b = []\n",
    "\n",
    "for k in range(6):\n",
    "    a = np.array([0.0] * 6)\n",
    "    for j,i in enumerate([a_1, a_2, a_3, a_4, a_5, a_6]):\n",
    "        a[j] = float(sol[k][i])\n",
    "    b.append(a)\n",
    "    \n",
    "b"
   ]
  },
  {
   "cell_type": "code",
   "execution_count": 10,
   "metadata": {},
   "outputs": [
    {
     "name": "stderr",
     "output_type": "stream",
     "text": [
      "C:\\Users\\uie70742\\AppData\\Local\\Temp/ipykernel_11004/3185085520.py:3: MatplotlibDeprecationWarning: Calling gca() with keyword arguments was deprecated in Matplotlib 3.4. Starting two minor releases later, gca() will take no keyword arguments. The gca() function should only be used to get the current axes, or if no axes exist, create new axes with default keyword arguments. To create a new axes with non-default arguments, use plt.axes() or plt.subplot().\n",
      "  ax = fig.gca(projection='3d')\n"
     ]
    }
   ],
   "source": [
    "%matplotlib qt\n",
    "fig=plt.figure(figsize=(10,10))\n",
    "ax = fig.gca(projection='3d')\n",
    "x = [0,1,2,1.5,1,0.5,0]\n",
    "y = [0,0.5,1,1.5,2,1,0]\n",
    "z1 = [0]*7\n",
    "\n",
    "l1_x = np.linspace(0,2,20)\n",
    "l1_y = np.linspace(0,1,20)\n",
    "\n",
    "l2_x = np.linspace(2,1,20)\n",
    "l2_y = np.linspace(1,2,20)\n",
    "\n",
    "l3_x = np.linspace(1,0,20)\n",
    "l3_y = np.linspace(2,0,20)\n",
    "\n",
    "plt.plot(x,y,z1,'ko-')\n",
    "for i, c in enumerate(['b','r','b:','r:','b--','r--']):\n",
    "    L1_N_1 = b[i][0]+b[i][1]*l1_x+b[i][2]*l1_y+b[i][3]*l1_x**2+b[i][4]*l1_x*l1_y+b[i][5]*l1_y**2\n",
    "    L2_N_1 = b[i][0]+b[i][1]*l2_x+b[i][2]*l2_y+b[i][3]*l2_x**2+b[i][4]*l2_x*l2_y+b[i][5]*l2_y**2\n",
    "    L3_N_1 = b[i][0]+b[i][1]*l3_x+b[i][2]*l3_y+b[i][3]*l3_x**2+b[i][4]*l3_x*l3_y+b[i][5]*l3_y**2\n",
    "\n",
    "\n",
    "    plt.plot(l1_x,l1_y,L1_N_1,c)\n",
    "    plt.plot(l2_x,l2_y,L2_N_1,c)\n",
    "    plt.plot(l3_x,l3_y,L3_N_1,c)"
   ]
  },
  {
   "cell_type": "code",
   "execution_count": null,
   "metadata": {},
   "outputs": [],
   "source": []
  }
 ],
 "metadata": {
  "julynter-results": {
   "filteredId": [],
   "filteredIndividual": [],
   "filteredRestart": [],
   "filteredType": [],
   "hash": "6fe0018df5f3092ff1189e718fdca5b4619b6d26",
   "visible": [
    {
     "cellId": "group",
     "hash": "f1533669aecd4af79dc6255a1e56c261582897f8",
     "reason": "This groups other lint messages",
     "reportId": "group",
     "reportType": "invalidtitle",
     "suggestion": null,
     "text": "Invalid Title"
    },
    {
     "cellId": "title",
     "hash": "38696273f0b8ec3ab317073d653f6a6bab2fe13a",
     "reason": "Untitled notebooks provide no context for who is selecting the notebook in the file browser.",
     "reportId": "t2",
     "reportType": "invalidtitle",
     "suggestion": "Please consider renaming it to a meaningful name.",
     "text": "Title starts with \"Untitled\""
    },
    {
     "cellId": "group",
     "hash": "c0de46ba034d710c2b2406a37ee6816be9634aa0",
     "reason": "This groups other lint messages",
     "reportId": "group",
     "reportType": "hiddenstate",
     "suggestion": null,
     "text": "Hidden State"
    },
    {
     "cellId": 0,
     "hash": "7fa3a71e267bc888e096c1602c0e58b7911c59e8",
     "reason": "A cell with results of a previous session may fail to execute or produce different results in this one, hampering the reproducibility.",
     "reportId": "h1",
     "reportType": "hiddenstate",
     "suggestion": "Please consider executing it to guarantee the reproducibility.",
     "text": "Cell 0 has execution results, but it wasn't executed on this session"
    },
    {
     "cellId": 1,
     "hash": "12ee04e74cbe183fbb56b7f4f9b00000d33c829d",
     "reason": "A cell with results of a previous session may fail to execute or produce different results in this one, hampering the reproducibility.",
     "reportId": "h1",
     "reportType": "hiddenstate",
     "suggestion": "Please consider executing it to guarantee the reproducibility.",
     "text": "Cell 1 has execution results, but it wasn't executed on this session"
    },
    {
     "cellId": 2,
     "hash": "194102aae96dc3f06f06700f49db69fc630ba0a0",
     "reason": "A cell with results of a previous session may fail to execute or produce different results in this one, hampering the reproducibility.",
     "reportId": "h1",
     "reportType": "hiddenstate",
     "suggestion": "Please consider executing it to guarantee the reproducibility.",
     "text": "Cell 2 has execution results, but it wasn't executed on this session"
    },
    {
     "cellId": 3,
     "hash": "43276f72757ccd7a9708d53a1155d0506b0985e3",
     "reason": "A cell with results of a previous session may fail to execute or produce different results in this one, hampering the reproducibility.",
     "reportId": "h1",
     "reportType": "hiddenstate",
     "suggestion": "Please consider executing it to guarantee the reproducibility.",
     "text": "Cell 3 has execution results, but it wasn't executed on this session"
    },
    {
     "cellId": 4,
     "hash": "f4799dcfe618626ed993e9dab44824d9a7f85b52",
     "reason": "A cell with results of a previous session may fail to execute or produce different results in this one, hampering the reproducibility.",
     "reportId": "h1",
     "reportType": "hiddenstate",
     "suggestion": "Please consider executing it to guarantee the reproducibility.",
     "text": "Cell 4 has execution results, but it wasn't executed on this session"
    },
    {
     "cellId": 5,
     "hash": "1b417b083e0c32ab481a9521abfa0891ce87ec21",
     "reason": "A cell with results of a previous session may fail to execute or produce different results in this one, hampering the reproducibility.",
     "reportId": "h1",
     "reportType": "hiddenstate",
     "suggestion": "Please consider executing it to guarantee the reproducibility.",
     "text": "Cell 5 has execution results, but it wasn't executed on this session"
    },
    {
     "cellId": 6,
     "hash": "4f83070a96d6a4711a92b94d937a353ca354d5d2",
     "reason": "A cell with results of a previous session may fail to execute or produce different results in this one, hampering the reproducibility.",
     "reportId": "h1",
     "reportType": "hiddenstate",
     "suggestion": "Please consider executing it to guarantee the reproducibility.",
     "text": "Cell 6 has execution results, but it wasn't executed on this session"
    },
    {
     "cellId": 7,
     "hash": "a1ce4ab09731da11956b7d5e34ea3e548e3bc4fd",
     "reason": "A cell with results of a previous session may fail to execute or produce different results in this one, hampering the reproducibility.",
     "reportId": "h1",
     "reportType": "hiddenstate",
     "suggestion": "Please consider executing it to guarantee the reproducibility.",
     "text": "Cell 7 has execution results, but it wasn't executed on this session"
    },
    {
     "cellId": 8,
     "hash": "c3d1da920c12ecc43c7d97abac137c393108c1b9",
     "reason": "A cell with results of a previous session may fail to execute or produce different results in this one, hampering the reproducibility.",
     "reportId": "h1",
     "reportType": "hiddenstate",
     "suggestion": "Please consider executing it to guarantee the reproducibility.",
     "text": "Cell 8 has execution results, but it wasn't executed on this session"
    },
    {
     "cellId": 9,
     "hash": "78bdbca0a68f8fcbad71dd2806590411de7b5313",
     "reason": "A cell with results of a previous session may fail to execute or produce different results in this one, hampering the reproducibility.",
     "reportId": "h1",
     "reportType": "hiddenstate",
     "suggestion": "Please consider executing it to guarantee the reproducibility.",
     "text": "Cell 9 has execution results, but it wasn't executed on this session"
    },
    {
     "cellId": "group",
     "hash": "19d3d3d153f22e318cbe061df9e685ba5165b0aa",
     "reason": "This groups other lint messages",
     "reportId": "group",
     "reportType": "confusenotebook",
     "suggestion": null,
     "text": "Confuse Notebook"
    },
    {
     "cellId": 0,
     "hash": "6877f50615a3532b3de3489befa9c332c8cdf1fe",
     "reason": "A markdown cell at the beginning of the notebook can provide a human-friendly title with no constraints and introduce the notebook, indicating its purpose and external requirements.",
     "reportId": "c4",
     "reportType": "confusenotebook",
     "suggestion": "Please consider adding a markdown cell to describe the notebook.",
     "text": "The first cell of the notebook is not a markdown cell"
    },
    {
     "cellId": 9,
     "hash": "904dc2a6b042e1d3036c10dfe2bcda0da94f4e22",
     "reason": "A markdown cell at the end of the notebook can conclude it, presenting a summary of the obtained results.",
     "reportId": "c5",
     "reportType": "confusenotebook",
     "suggestion": "Please consider adding a markdown cell to conclude the notebook.",
     "text": "The last cell of the notebook is not a markdown cell"
    }
   ]
  },
  "kernelspec": {
   "display_name": "Python 3 (ipykernel)",
   "language": "python",
   "name": "python3"
  },
  "language_info": {
   "codemirror_mode": {
    "name": "ipython",
    "version": 3
   },
   "file_extension": ".py",
   "mimetype": "text/x-python",
   "name": "python",
   "nbconvert_exporter": "python",
   "pygments_lexer": "ipython3",
   "version": "3.8.8"
  }
 },
 "nbformat": 4,
 "nbformat_minor": 4
}
