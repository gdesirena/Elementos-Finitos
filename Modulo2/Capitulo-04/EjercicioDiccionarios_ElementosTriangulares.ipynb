{
 "cells": [
  {
   "cell_type": "code",
   "execution_count": 1,
   "id": "89ea48d3-4be3-4092-83ac-6b8e39fcbee0",
   "metadata": {
    "slideshow": {
     "slide_type": "slide"
    },
    "tags": []
   },
   "outputs": [],
   "source": [
    "import numpy as np"
   ]
  },
  {
   "cell_type": "markdown",
   "id": "82b647b7-cc18-4610-997b-b2594d161500",
   "metadata": {
    "slideshow": {
     "slide_type": "slide"
    },
    "tags": []
   },
   "source": [
    "El objetivo es obtener, a partir de las coordenadas del elemento y de las propiedades del material, las condiciones de frontera, la ecuación __KT=F__. \n",
    "\n",
    "Para esto utilizaremos una estructura tipo _diccionario_ que deberá contener:\n",
    "\n",
    "* `'n'` - Numero de los nodos globales que corresponden a los nodos del triángulo (3)\n",
    "* `'x'` - Coordenadas __x__ del triángulo (3)\n",
    "* `'y'` - Coordenadas __y__ el tríangulo (3)\n",
    "* `'A'` - Área del tríangulo\n",
    "* `'b1'` - Valor __b1__ del elemento\n",
    "* `'c1'` - Valor __c1__ del elemento\n",
    "* `'b2'` - Valor __b2__ del elemento\n",
    "* `'c2'` - Valor __c2__ del elemento\n",
    "* `'b3'` - Valor __b3__ del elemento\n",
    "* `'c3'` - Valor __c3__ del elemento\n",
    "* `'K'` - Matriz __K__ del elemento\n",
    "* `'F'` - Vector __F__ del elemento\n"
   ]
  },
  {
   "cell_type": "markdown",
   "id": "4a548eef-0d9d-44e8-a9d8-6d1fd71d6dc1",
   "metadata": {
    "slideshow": {
     "slide_type": "slide"
    },
    "tags": []
   },
   "source": [
    "Así, el diccionario con las llaves necesarias sería:"
   ]
  },
  {
   "cell_type": "code",
   "execution_count": 2,
   "id": "27baa436-95b5-4307-8690-7a18b327bcab",
   "metadata": {
    "slideshow": {
     "slide_type": "fragment"
    },
    "tags": []
   },
   "outputs": [],
   "source": [
    "el = {'n': None, \n",
    "      'x': None, \n",
    "      'y': None, \n",
    "      'A': None, \n",
    "      'b1': None, \n",
    "      'c1': None, \n",
    "      'b2': None, \n",
    "      'c2': None, \n",
    "      'b3': None, \n",
    "      'c3': None, \n",
    "      'K': None, \n",
    "      'F': None\n",
    "     }"
   ]
  },
  {
   "cell_type": "markdown",
   "id": "9cb42d61-a4aa-46d3-af9c-021cd2abf869",
   "metadata": {
    "slideshow": {
     "slide_type": "fragment"
    },
    "tags": []
   },
   "source": [
    "__Nota__: este paso es últil para este ejercicio, pero en realidad no es necesario declarar las llaves puesto que podemos añadirlas en cualquier momento."
   ]
  },
  {
   "cell_type": "markdown",
   "id": "ecec1eac-d06e-4651-85bf-85ef45d242f2",
   "metadata": {
    "slideshow": {
     "slide_type": "fragment"
    },
    "tags": []
   },
   "source": [
    "Las constantes del material:"
   ]
  },
  {
   "cell_type": "code",
   "execution_count": 3,
   "id": "beeac344-a839-491e-a847-40a0cd78c519",
   "metadata": {
    "slideshow": {
     "slide_type": "fragment"
    },
    "tags": []
   },
   "outputs": [],
   "source": [
    "k = 50 # W / m°C"
   ]
  },
  {
   "cell_type": "markdown",
   "id": "f8b9c580-4d30-44b5-8e42-7bc5466208cd",
   "metadata": {
    "slideshow": {
     "slide_type": "slide"
    },
    "tags": []
   },
   "source": [
    "Para _actualizar_ un valor del diccionario utilizamos el __metodo__ `.update()`:"
   ]
  },
  {
   "cell_type": "code",
   "execution_count": 4,
   "id": "194d21eb-e5a6-4921-be1f-b53cbc21fad7",
   "metadata": {
    "slideshow": {
     "slide_type": "fragment"
    },
    "tags": []
   },
   "outputs": [
    {
     "data": {
      "text/plain": [
       "{'n': None,\n",
       " 'x': [0, 3, 1],\n",
       " 'y': [0, 1, 3],\n",
       " 'A': None,\n",
       " 'b1': None,\n",
       " 'c1': None,\n",
       " 'b2': None,\n",
       " 'c2': None,\n",
       " 'b3': None,\n",
       " 'c3': None,\n",
       " 'K': None,\n",
       " 'F': None}"
      ]
     },
     "execution_count": 4,
     "metadata": {},
     "output_type": "execute_result"
    }
   ],
   "source": [
    "el.update({'x':[0,3,1]})\n",
    "el.update({'y':[0,1,3]})\n",
    "el"
   ]
  }
 ],
 "metadata": {
  "kernelspec": {
   "display_name": "Python 3 (ipykernel)",
   "language": "python",
   "name": "python3"
  },
  "language_info": {
   "codemirror_mode": {
    "name": "ipython",
    "version": 3
   },
   "file_extension": ".py",
   "mimetype": "text/x-python",
   "name": "python",
   "nbconvert_exporter": "python",
   "pygments_lexer": "ipython3",
   "version": "3.8.8"
  }
 },
 "nbformat": 4,
 "nbformat_minor": 5
}
