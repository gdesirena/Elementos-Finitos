{
 "cells": [
  {
   "cell_type": "code",
   "execution_count": 2,
   "id": "89ea48d3-4be3-4092-83ac-6b8e39fcbee0",
   "metadata": {
    "slideshow": {
     "slide_type": "slide"
    },
    "tags": []
   },
   "outputs": [],
   "source": [
    "import numpy as np\n",
    "import pandas as pd"
   ]
  },
  {
   "cell_type": "markdown",
   "id": "82b647b7-cc18-4610-997b-b2594d161500",
   "metadata": {
    "slideshow": {
     "slide_type": "slide"
    },
    "tags": []
   },
   "source": [
    "El objetivo es obtener, a partir de las coordenadas del elemento y de las propiedades del material, las condiciones de frontera, la ecuación __KT=F__. \n",
    "\n",
    "Para esto utilizaremos una estructura tipo _diccionario_ que deberá contener:\n",
    "\n",
    "* `'n'` - Numero de los nodos globales que corresponden a los nodos del triángulo (3)\n",
    "* `'x'` - Coordenadas __x__ del triángulo (3)\n",
    "* `'y'` - Coordenadas __y__ el tríangulo (3)\n",
    "* `'A'` - Área del tríangulo\n",
    "* `'b1'` - Valor __b1__ del elemento\n",
    "* `'c1'` - Valor __c1__ del elemento\n",
    "* `'b2'` - Valor __b2__ del elemento\n",
    "* `'c2'` - Valor __c2__ del elemento\n",
    "* `'b3'` - Valor __b3__ del elemento\n",
    "* `'c3'` - Valor __c3__ del elemento\n",
    "* `'K'` - Matriz __K__ del elemento\n",
    "* `'F'` - Vector __F__ del elemento\n"
   ]
  },
  {
   "cell_type": "code",
   "execution_count": null,
   "id": "e7717b69",
   "metadata": {},
   "outputs": [],
   "source": [
    "ele = {'x':[0,1,2], 'y':[1,2,3], K = [[1,2,3],[3,4,5],[3,3,4]]}"
   ]
  },
  {
   "cell_type": "code",
   "execution_count": 3,
   "id": "14401b13",
   "metadata": {},
   "outputs": [
    {
     "data": {
      "text/plain": [
       "{'key': 10, 'A': 0, 'B': 1}"
      ]
     },
     "execution_count": 3,
     "metadata": {},
     "output_type": "execute_result"
    }
   ],
   "source": [
    "value=10\n",
    "dic = {'key':value, 'A':0, 'B':1}\n",
    "dic"
   ]
  },
  {
   "cell_type": "code",
   "execution_count": 4,
   "id": "81879cad",
   "metadata": {},
   "outputs": [
    {
     "data": {
      "text/plain": [
       "dict"
      ]
     },
     "execution_count": 4,
     "metadata": {},
     "output_type": "execute_result"
    }
   ],
   "source": [
    "type(dic)"
   ]
  },
  {
   "cell_type": "code",
   "execution_count": 7,
   "id": "11086084",
   "metadata": {},
   "outputs": [
    {
     "data": {
      "text/plain": [
       "(dict_keys(['key', 'A', 'B']), dict_values([10, 0, 1]))"
      ]
     },
     "execution_count": 7,
     "metadata": {},
     "output_type": "execute_result"
    }
   ],
   "source": [
    "dic.keys(), dic.values()"
   ]
  },
  {
   "cell_type": "markdown",
   "id": "4a548eef-0d9d-44e8-a9d8-6d1fd71d6dc1",
   "metadata": {
    "slideshow": {
     "slide_type": "slide"
    },
    "tags": []
   },
   "source": [
    "Así, el diccionario con las llaves necesarias sería:"
   ]
  },
  {
   "cell_type": "code",
   "execution_count": 8,
   "id": "27baa436-95b5-4307-8690-7a18b327bcab",
   "metadata": {
    "slideshow": {
     "slide_type": "fragment"
    },
    "tags": []
   },
   "outputs": [],
   "source": [
    "el = {'n': None, \n",
    "      'x': None, \n",
    "      'y': None, \n",
    "      'A': None, \n",
    "      'b1': None, \n",
    "      'c1': None, \n",
    "      'b2': None, \n",
    "      'c2': None, \n",
    "      'b3': None, \n",
    "      'c3': None, \n",
    "      'K': None, \n",
    "      'F': None\n",
    "     }"
   ]
  },
  {
   "cell_type": "code",
   "execution_count": 9,
   "id": "e62121b8",
   "metadata": {},
   "outputs": [
    {
     "data": {
      "text/plain": [
       "{'n': None,\n",
       " 'x': None,\n",
       " 'y': None,\n",
       " 'A': None,\n",
       " 'b1': None,\n",
       " 'c1': None,\n",
       " 'b2': None,\n",
       " 'c2': None,\n",
       " 'b3': None,\n",
       " 'c3': None,\n",
       " 'K': None,\n",
       " 'F': None}"
      ]
     },
     "execution_count": 9,
     "metadata": {},
     "output_type": "execute_result"
    }
   ],
   "source": [
    "el"
   ]
  },
  {
   "cell_type": "markdown",
   "id": "9cb42d61-a4aa-46d3-af9c-021cd2abf869",
   "metadata": {
    "slideshow": {
     "slide_type": "fragment"
    },
    "tags": []
   },
   "source": [
    "__Nota__: este paso es últil para este ejercicio, pero en realidad no es necesario declarar las llaves puesto que podemos añadirlas en cualquier momento."
   ]
  },
  {
   "cell_type": "markdown",
   "id": "ecec1eac-d06e-4651-85bf-85ef45d242f2",
   "metadata": {
    "slideshow": {
     "slide_type": "fragment"
    },
    "tags": []
   },
   "source": [
    "Las constantes del material:"
   ]
  },
  {
   "cell_type": "code",
   "execution_count": 13,
   "id": "beeac344-a839-491e-a847-40a0cd78c519",
   "metadata": {
    "slideshow": {
     "slide_type": "fragment"
    },
    "tags": []
   },
   "outputs": [],
   "source": [
    "k = 50 # W / m°C"
   ]
  },
  {
   "cell_type": "markdown",
   "id": "f8b9c580-4d30-44b5-8e42-7bc5466208cd",
   "metadata": {
    "slideshow": {
     "slide_type": "slide"
    },
    "tags": []
   },
   "source": [
    "Para _actualizar_ un valor del diccionario utilizamos el __metodo__ `.update()`:"
   ]
  },
  {
   "cell_type": "code",
   "execution_count": 18,
   "id": "194d21eb-e5a6-4921-be1f-b53cbc21fad7",
   "metadata": {
    "slideshow": {
     "slide_type": "fragment"
    },
    "tags": []
   },
   "outputs": [],
   "source": [
    "el.update({'x':[0,3,1]})\n",
    "el.update({'y':[0,1,3]})\n",
    "A = (1/2)*np.abs(el['x'][0]*(el['y'][1] - el['y'][2]) + \n",
    "           el['x'][1]*(el['y'][2] - el['y'][0]) +\n",
    "           el['x'][2]*(el['y'][0] - el['y'][1]))\n",
    "el.update(A=A)\n",
    "el.update(b1 = el['y'][1] - el['y'][2])\n",
    "el.update(c1 = el['x'][2] - el['x'][1])\n",
    "el.update(b2 = el['y'][2] - el['y'][0])\n",
    "el.update(c2 = el['x'][0] - el['x'][2])\n",
    "el.update(b3 = el['y'][0] - el['y'][1])\n",
    "el.update(c3 = el['x'][1] - el['x'][0])\n",
    "\n",
    "Kb = np.array([[el['b1']*el['b1'], el['b1']*el['b2'], el['b1']*el['b3']],\n",
    "               [el['b2']*el['b1'], el['b2']*el['b2'], el['b2']*el['b3']],\n",
    "               [el['b3']*el['b1'], el['b3']*el['b2'], el['b3']*el['b3']] ])\n",
    "\n",
    "Kc = np.array([[el['c1']*el['c1'], el['c1']*el['c2'], el['c1']*el['c3']],\n",
    "               [el['c2']*el['c1'], el['c2']*el['c2'], el['c2']*el['c3']],\n",
    "               [el['c3']*el['c1'], el['c3']*el['c2'], el['c3']*el['c3']] ])\n",
    "\n",
    "K = (k/(4*el['A']))*(Kb + Kc)\n",
    "el.update(K=K)\n",
    "F = [1,2,3]\n",
    "el.update(F=F)\n",
    "el.update(n=3)"
   ]
  },
  {
   "cell_type": "code",
   "execution_count": 19,
   "id": "f4bd36e5",
   "metadata": {},
   "outputs": [
    {
     "data": {
      "text/plain": [
       "{'n': 3,\n",
       " 'x': [0, 3, 1],\n",
       " 'y': [0, 1, 3],\n",
       " 'A': 4.0,\n",
       " 'b1': -2,\n",
       " 'c1': -2,\n",
       " 'b2': 3,\n",
       " 'c2': -1,\n",
       " 'b3': -1,\n",
       " 'c3': 3,\n",
       " 'K': array([[ 25.  , -12.5 , -12.5 ],\n",
       "        [-12.5 ,  31.25, -18.75],\n",
       "        [-12.5 , -18.75,  31.25]]),\n",
       " 'F': [1, 2, 3]}"
      ]
     },
     "execution_count": 19,
     "metadata": {},
     "output_type": "execute_result"
    }
   ],
   "source": [
    "el"
   ]
  },
  {
   "cell_type": "code",
   "execution_count": 22,
   "id": "d3b209e6",
   "metadata": {},
   "outputs": [],
   "source": [
    "def DesarrolloElementoTriangularL(x,y,n):\n",
    "    '''\n",
    "    param:\n",
    "    x : lista de coordenadas en x\n",
    "    y : lista de coordenadas en y\n",
    "    n : Número de nodos\n",
    "    Output:\n",
    "    el: Diccionario con los parámetros 'n','x', 'y' , 'A' 'b1, 'c1' , 'b2', 'c2', 'b3', 'c3', 'K', 'F'\n",
    "    '''\n",
    "    el = {'x':x, 'y':y, 'n':n}\n",
    "    \n",
    "    A = (1/2)*np.abs(el['x'][0]*(el['y'][1] - el['y'][2]) + \n",
    "           el['x'][1]*(el['y'][2] - el['y'][0]) +\n",
    "           el['x'][2]*(el['y'][0] - el['y'][1]))\n",
    "    el.update(A=A)\n",
    "    el.update(b1 = el['y'][1] - el['y'][2])\n",
    "    el.update(c1 = el['x'][2] - el['x'][1])\n",
    "    el.update(b2 = el['y'][2] - el['y'][0])\n",
    "    el.update(c2 = el['x'][0] - el['x'][2])\n",
    "    el.update(b3 = el['y'][0] - el['y'][1])\n",
    "    el.update(c3 = el['x'][1] - el['x'][0])\n",
    "\n",
    "    Kb = np.array([[el['b1']*el['b1'], el['b1']*el['b2'], el['b1']*el['b3']],\n",
    "                   [el['b2']*el['b1'], el['b2']*el['b2'], el['b2']*el['b3']],\n",
    "                   [el['b3']*el['b1'], el['b3']*el['b2'], el['b3']*el['b3']] ])\n",
    "\n",
    "    Kc = np.array([[el['c1']*el['c1'], el['c1']*el['c2'], el['c1']*el['c3']],\n",
    "                   [el['c2']*el['c1'], el['c2']*el['c2'], el['c2']*el['c3']],\n",
    "                   [el['c3']*el['c1'], el['c3']*el['c2'], el['c3']*el['c3']] ])\n",
    "\n",
    "    K = (k/(4*el['A']))*(Kb + Kc)\n",
    "    el.update(K=K)\n",
    "    \n",
    "    return el"
   ]
  },
  {
   "cell_type": "code",
   "execution_count": 21,
   "id": "1d97b7da",
   "metadata": {},
   "outputs": [
    {
     "name": "stdout",
     "output_type": "stream",
     "text": [
      "Help on function DesarrolloElementoTriangularL in module __main__:\n",
      "\n",
      "DesarrolloElementoTriangularL(x, y, n)\n",
      "    param:\n",
      "    x : lista de coordenadas en x\n",
      "    y : lista de coordenadas en y\n",
      "    n : Número de nodos\n",
      "    Output:\n",
      "    el: Diccionario con los parámetros 'n','x', 'y' , 'A' 'b1, 'c1' , 'b2', 'c2', 'b3', 'c3', 'K', 'F'\n",
      "\n"
     ]
    }
   ],
   "source": [
    "help(DesarrolloElementoTriangularL)"
   ]
  },
  {
   "cell_type": "code",
   "execution_count": 26,
   "id": "c677d9a0",
   "metadata": {},
   "outputs": [
    {
     "data": {
      "text/plain": [
       "{'x': [0, 3, 1],\n",
       " 'y': [0, 1, 3],\n",
       " 'n': [1, 2, 3],\n",
       " 'A': 4.0,\n",
       " 'b1': -2,\n",
       " 'c1': -2,\n",
       " 'b2': 3,\n",
       " 'c2': -1,\n",
       " 'b3': -1,\n",
       " 'c3': 3,\n",
       " 'K': array([[ 25.  , -12.5 , -12.5 ],\n",
       "        [-12.5 ,  31.25, -18.75],\n",
       "        [-12.5 , -18.75,  31.25]])}"
      ]
     },
     "execution_count": 26,
     "metadata": {},
     "output_type": "execute_result"
    }
   ],
   "source": [
    "el1 = DesarrolloElementoTriangularL(x=[0,3,1], y=[0,1,3], n=[1,2,3])\n",
    "el1"
   ]
  },
  {
   "cell_type": "code",
   "execution_count": null,
   "id": "f6c6d2ea",
   "metadata": {},
   "outputs": [],
   "source": [
    "(1,2,3), [1,2,3]"
   ]
  },
  {
   "cell_type": "code",
   "execution_count": 29,
   "id": "23680914",
   "metadata": {},
   "outputs": [],
   "source": [
    "def graficarElemento(el):\n",
    "    import matplotlib.pyplot as plt\n",
    "    if isinstance(el, dict):\n",
    "        plt.figure(figsize=(5,5))\n",
    "        plt.plot(el['x'] + [el['x'][0]], el['y'] + [el['y'][0]])\n",
    "        for x, y, n in zip(el['x'], el['y'], el['n']):\n",
    "            plt.text(x,y,n)\n",
    "    \n",
    "    if isinstance(el, list) or isinstance(el, tuple): \n",
    "        plt.figure(figsize=(5,5))\n",
    "        for ele in el:\n",
    "            plt.plot(ele['x'] + [ele['x'][0]], ele['y'] + [ele['y'][0]] )\n",
    "            for x, y, n in zip(ele['x'], ele['y'], ele['n']):\n",
    "                plt.text(x,y,n)\n",
    "    plt.grid()\n",
    "    plt.axis('equal')\n",
    "    plt.show()\n",
    "    "
   ]
  },
  {
   "cell_type": "code",
   "execution_count": 30,
   "id": "f1eef27d",
   "metadata": {},
   "outputs": [
    {
     "data": {
      "image/png": "[encoded data removed]",
      "text/plain": [
       "<Figure size 360x360 with 1 Axes>"
      ]
     },
     "metadata": {
      "needs_background": "light"
     },
     "output_type": "display_data"
    }
   ],
   "source": [
    "graficarElemento(el1)"
   ]
  },
  {
   "cell_type": "code",
   "execution_count": 33,
   "id": "1de6637f",
   "metadata": {},
   "outputs": [
    {
     "data": {
      "image/png": "[encoded data removed]",
      "text/plain": [
       "<Figure size 360x360 with 1 Axes>"
      ]
     },
     "metadata": {
      "needs_background": "light"
     },
     "output_type": "display_data"
    }
   ],
   "source": [
    "el2 = DesarrolloElementoTriangularL(x=[7,5,5], y=[1,5,6], n=[1,2,3])\n",
    "graficarElemento(el2)"
   ]
  },
  {
   "cell_type": "code",
   "execution_count": 34,
   "id": "d14a9f59",
   "metadata": {},
   "outputs": [
    {
     "data": {
      "text/plain": [
       "{'x': [7, 5, 5],\n",
       " 'y': [1, 5, 6],\n",
       " 'n': [1, 2, 3],\n",
       " 'A': 1.0,\n",
       " 'b1': -1,\n",
       " 'c1': 0,\n",
       " 'b2': 5,\n",
       " 'c2': 2,\n",
       " 'b3': -4,\n",
       " 'c3': -2,\n",
       " 'K': array([[  12.5,  -62.5,   50. ],\n",
       "        [ -62.5,  362.5, -300. ],\n",
       "        [  50. , -300. ,  250. ]])}"
      ]
     },
     "execution_count": 34,
     "metadata": {},
     "output_type": "execute_result"
    }
   ],
   "source": [
    "el2"
   ]
  },
  {
   "cell_type": "code",
   "execution_count": null,
   "id": "413e6db6",
   "metadata": {},
   "outputs": [],
   "source": [
    "class ElementosTriangular:\n",
    "    def __init__(self):\n",
    "        self.el = None\n",
    "    \n",
    "    def DesarrolloElementoTriangularL(self, x,y,n):\n",
    "        '''\n",
    "        param:\n",
    "        x : lista de coordenadas en x\n",
    "        y : lista de coordenadas en y\n",
    "        n : Número de nodos\n",
    "        Output:\n",
    "        el: Diccionario con los parámetros 'n','x', 'y' , 'A' 'b1, 'c1' , 'b2', 'c2', 'b3', 'c3', 'K', 'F'\n",
    "        '''\n",
    "        el = {'x':x, 'y':y, 'n':n}\n",
    "\n",
    "        A = (1/2)*np.abs(el['x'][0]*(el['y'][1] - el['y'][2]) + \n",
    "               el['x'][1]*(el['y'][2] - el['y'][0]) +\n",
    "               el['x'][2]*(el['y'][0] - el['y'][1]))\n",
    "        el.update(A=A)\n",
    "        el.update(b1 = el['y'][1] - el['y'][2])\n",
    "        el.update(c1 = el['x'][2] - el['x'][1])\n",
    "        el.update(b2 = el['y'][2] - el['y'][0])\n",
    "        el.update(c2 = el['x'][0] - el['x'][2])\n",
    "        el.update(b3 = el['y'][0] - el['y'][1])\n",
    "        el.update(c3 = el['x'][1] - el['x'][0])\n",
    "\n",
    "        Kb = np.array([[el['b1']*el['b1'], el['b1']*el['b2'], el['b1']*el['b3']],\n",
    "                       [el['b2']*el['b1'], el['b2']*el['b2'], el['b2']*el['b3']],\n",
    "                       [el['b3']*el['b1'], el['b3']*el['b2'], el['b3']*el['b3']] ])\n",
    "\n",
    "        Kc = np.array([[el['c1']*el['c1'], el['c1']*el['c2'], el['c1']*el['c3']],\n",
    "                       [el['c2']*el['c1'], el['c2']*el['c2'], el['c2']*el['c3']],\n",
    "                       [el['c3']*el['c1'], el['c3']*el['c2'], el['c3']*el['c3']] ])\n",
    "\n",
    "        K = (k/(4*el['A']))*(Kb + Kc)\n",
    "        el.update(K=K)\n",
    "\n",
    "        return el\n",
    "    \n",
    "    def graficarElemento(self, el):\n",
    "        import matplotlib.pyplot as plt\n",
    "        if isinstance(el, dict):\n",
    "            plt.figure(figsize=(5,5))\n",
    "            plt.plot(el['x'] + [el['x'][0]], el['y'] + [el['y'][0]])\n",
    "            for x, y, n in zip(el['x'], el['y'], el['n']):\n",
    "                plt.text(x,y,n)\n",
    "\n",
    "        if isinstance(el, list) or isinstance(el, tuple): \n",
    "            plt.figure(figsize=(5,5))\n",
    "            for ele in el:\n",
    "                plt.plot(ele['x'] + [ele['x'][0]], ele['y'] + [ele['y'][0]] )\n",
    "                for x, y, n in zip(ele['x'], ele['y'], ele['n']):\n",
    "                    plt.text(x,y,n)\n",
    "        plt.grid()\n",
    "        plt.axis('equal')\n",
    "        plt.show()"
   ]
  },
  {
   "cell_type": "code",
   "execution_count": null,
   "id": "5033bd70",
   "metadata": {},
   "outputs": [],
   "source": [
    "from Elementos import ElementosTriangular as elt"
   ]
  }
 ],
 "metadata": {
  "kernelspec": {
   "display_name": "Python 3 (ipykernel)",
   "language": "python",
   "name": "python3"
  },
  "language_info": {
   "codemirror_mode": {
    "name": "ipython",
    "version": 3
   },
   "file_extension": ".py",
   "mimetype": "text/x-python",
   "name": "python",
   "nbconvert_exporter": "python",
   "pygments_lexer": "ipython3",
   "version": "3.8.8"
  }
 },
 "nbformat": 4,
 "nbformat_minor": 5
}
