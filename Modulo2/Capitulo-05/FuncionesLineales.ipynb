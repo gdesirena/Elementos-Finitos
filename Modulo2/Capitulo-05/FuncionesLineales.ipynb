{
 "cells": [
  {
   "cell_type": "code",
   "execution_count": 1,
   "metadata": {},
   "outputs": [],
   "source": [
    "import numpy as np\n",
    "import matplotlib.pyplot as plt\n",
    "from mpl_toolkits.mplot3d import Axes3D"
   ]
  },
  {
   "cell_type": "code",
   "execution_count": 2,
   "metadata": {},
   "outputs": [],
   "source": [
    "xv = np.linspace(1,4,30)\n",
    "yv = np.linspace(1,3,30)\n",
    "\n",
    "x, y = np.meshgrid(xv, yv)\n",
    "\n",
    "a = 1\n",
    "b = 1.5"
   ]
  },
  {
   "cell_type": "code",
   "execution_count": 3,
   "metadata": {},
   "outputs": [],
   "source": [
    "N1 = 1/(4*a*b)*(b-(x-2.5))*(a-(y-2))\n",
    "N2 = 1/(4*a*b)*(b+(x-2.5))*(a-(y-2))\n",
    "N3 = 1/(4*a*b)*(b+(x-2.5))*(a+(y-2))\n",
    "N4 = 1/(4*a*b)*(b-(x-2.5))*(a+(y-2))"
   ]
  },
  {
   "cell_type": "code",
   "execution_count": 7,
   "metadata": {},
   "outputs": [
    {
     "data": {
      "text/plain": [
       "(0.0, 1.0)"
      ]
     },
     "execution_count": 7,
     "metadata": {},
     "output_type": "execute_result"
    }
   ],
   "source": [
    "\n",
    "%matplotlib qt\n",
    "fig=plt.figure(figsize=(10,10))\n",
    "ax = fig.add_subplot(projection = '3d')\n",
    "xp = np.array([1,4,4,1,1])\n",
    "yp = np.array([1,1,3,3,1])\n",
    "plt.plot(xp,yp, 'ko-')\n",
    "#plt.plot(x.flatten(),y.flatten(),funcion.flatten(),'.')\n",
    "plt.plot(x.flatten(),y.flatten(),N1.flatten(),'.')\n",
    "#plt.plot([2],[2],'*')\n",
    "plt.plot(x.flatten(),y.flatten(),N2.flatten(),'.')\n",
    "plt.plot(x.flatten(),y.flatten(),N3.flatten(),'.')\n",
    "plt.plot(x.flatten(),y.flatten(),N4.flatten(),'.')\n",
    "#ax.set_aspect('equal')\n",
    "ax.set_zlim(0,1)"
   ]
  },
  {
   "cell_type": "code",
   "execution_count": null,
   "metadata": {},
   "outputs": [],
   "source": []
  }
 ],
 "metadata": {
  "julynter-results": {
   "filteredId": [],
   "filteredIndividual": [],
   "filteredRestart": [],
   "filteredType": [],
   "hash": "e83aee136beda83e31f26763c1d07964a510ca02",
   "visible": [
    {
     "cellId": "group",
     "hash": "c0de46ba034d710c2b2406a37ee6816be9634aa0",
     "reason": "This groups other lint messages",
     "reportId": "group",
     "reportType": "hiddenstate",
     "suggestion": null,
     "text": "Hidden State"
    },
    {
     "cellId": 3,
     "hash": "2b578fe0496c32f5b2abb2c08c7ec297eb44b156",
     "reason": "A skip in the execution count might indicate the presence of a hidden state caused by a cell that does not exist anymore. Hidden states might prevent cells from executing or producing the same results, hampering the reproducibility.",
     "reportId": "h4",
     "reportType": "hiddenstate",
     "suggestion": "Please consider re-running the notebook to guarantee the reproducibility.",
     "text": "Cell 3 skips the execution count"
    },
    {
     "cellId": "group",
     "hash": "19d3d3d153f22e318cbe061df9e685ba5165b0aa",
     "reason": "This groups other lint messages",
     "reportId": "group",
     "reportType": "confusenotebook",
     "suggestion": null,
     "text": "Confuse Notebook"
    },
    {
     "cellId": 0,
     "hash": "671288bb74bb1d3032370d5fe060db7227470115",
     "reason": "A markdown cell at the beginning of the notebook can provide a human-friendly title with no constraints and introduce the notebook, indicating its purpose and external requirements.",
     "reportId": "c4",
     "reportType": "confusenotebook",
     "suggestion": "Please consider adding a markdown cell to describe the notebook.",
     "text": "The first cell of the notebook is not a markdown cell"
    },
    {
     "cellId": 3,
     "hash": "0a42617452953b1d1d91f872f6e7357d34442cf8",
     "reason": "A markdown cell at the end of the notebook can conclude it, presenting a summary of the obtained results.",
     "reportId": "c5",
     "reportType": "confusenotebook",
     "suggestion": "Please consider adding a markdown cell to conclude the notebook.",
     "text": "The last cell of the notebook is not a markdown cell"
    },
    {
     "cellId": "group",
     "hash": "d6fbc9d2bdd580e18ed0bc5805dc26db323d6f5f",
     "reason": "This groups other lint messages",
     "reportId": "group",
     "reportType": "import",
     "suggestion": null,
     "text": "Import"
    },
    {
     "cellId": 0,
     "hash": "27cb5b672682628946795aa19ea6a35322e33cb9",
     "reason": "Using a requirements file with pinned versions for all imported modules increases the reproducibility of the notebook.",
     "reportId": "i2",
     "reportType": "import",
     "suggestion": "Please consider adding them to guarantee the reproducibility.",
     "text": "Module numpy was imported by Cell 0, but it is not in the requirements file"
    },
    {
     "cellId": 0,
     "hash": "0b708b2e925e8b6e6bc2721bcdc948ae9904e6e7",
     "reason": "Using a requirements file with pinned versions for all imported modules increases the reproducibility of the notebook.",
     "reportId": "i2",
     "reportType": "import",
     "suggestion": "Please consider adding them to guarantee the reproducibility.",
     "text": "Module matplotlib was imported by Cell 0, but it is not in the requirements file"
    }
   ]
  },
  "kernelspec": {
   "display_name": "Python 3 (ipykernel)",
   "language": "python",
   "name": "python3"
  },
  "language_info": {
   "codemirror_mode": {
    "name": "ipython",
    "version": 3
   },
   "file_extension": ".py",
   "mimetype": "text/x-python",
   "name": "python",
   "nbconvert_exporter": "python",
   "pygments_lexer": "ipython3",
   "version": "3.11.3"
  }
 },
 "nbformat": 4,
 "nbformat_minor": 4
}
