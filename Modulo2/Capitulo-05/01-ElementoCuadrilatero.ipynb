{
 "cells": [
  {
   "cell_type": "markdown",
   "metadata": {
    "slideshow": {
     "slide_type": "slide"
    }
   },
   "source": [
    "![Titulo](Imagenes/Titulos/Head4-4.png)"
   ]
  },
  {
   "cell_type": "markdown",
   "metadata": {
    "slideshow": {
     "slide_type": "slide"
    }
   },
   "source": [
    "## Elemento Cuadrilátero"
   ]
  },
  {
   "cell_type": "markdown",
   "metadata": {
    "slideshow": {
     "slide_type": "slide"
    }
   },
   "source": [
    "Originalmente el MEF utilizaba únicamente elementos triangulares. Sin embargo, en la actualidad muchos investigadores prefieren elementos cuadriláteros. En una aproximación lineal (bilineal) el elemento cuadrilátero añade un nodo (a los tres del elemento triangular).  "
   ]
  },
  {
   "cell_type": "markdown",
   "metadata": {
    "slideshow": {
     "slide_type": "slide"
    }
   },
   "source": [
    "![Figura 5.2](Imagenes/Fig5.2.png)"
   ]
  },
  {
   "cell_type": "markdown",
   "metadata": {
    "slideshow": {
     "slide_type": "slide"
    }
   },
   "source": [
    "Sin embargo, aunque añadir un nodo más que el elemento sea más complejo normalmente reduce el número de elementos por la mitad."
   ]
  },
  {
   "cell_type": "markdown",
   "metadata": {
    "slideshow": {
     "slide_type": "slide"
    }
   },
   "source": [
    "### Elemento rectangular linear"
   ]
  },
  {
   "cell_type": "markdown",
   "metadata": {
    "slideshow": {
     "slide_type": "slide"
    }
   },
   "source": [
    "Como una simplificación empezaremos nuestro desarrollo con elementos __Rectangulares__. A diferencia de los elementos cuadriláteros en general estos tienen sus lados alineados con los ejes $x$ y $y$."
   ]
  },
  {
   "cell_type": "markdown",
   "metadata": {
    "slideshow": {
     "slide_type": "slide"
    }
   },
   "source": [
    "La función de interpolación de un rectángulo bilineal está dada por:\n",
    "\n",
    "$$f= \\alpha_1 +  \\alpha_2 x + \\alpha_3 y + \\alpha_4 xy$$\n",
    "\n"
   ]
  },
  {
   "cell_type": "markdown",
   "metadata": {
    "slideshow": {
     "slide_type": "slide"
    }
   },
   "source": [
    "El término $xy$ fue escogido en lugar de $x^2$ o $y^2$ porque no rompe la simetría y permite que el comportamiento sea lineal, lo que puede ser observado al calular:\n",
    "\n",
    "$$\\dfrac {\\partial \\phi} {\\partial x}= \\alpha_2+ \\alpha_4 y$$\n",
    "\n",
    "$$\\dfrac {\\partial \\phi} {\\partial y}= \\alpha_3+ \\alpha_4 x$$\n",
    "\n",
    "Es decir: _si nos movemos en la dirección $x$ ($y$ constante) o $y$ ($x$ constante) tendremos un comportamiento lineal_."
   ]
  },
  {
   "cell_type": "markdown",
   "metadata": {
    "slideshow": {
     "slide_type": "slide"
    }
   },
   "source": [
    "Si medimos las distancias a los nodos desde el centro del elemento:\n",
    "\n",
    "![Figura 5.3](Imagenes/Fig5.3.png)"
   ]
  },
  {
   "cell_type": "markdown",
   "metadata": {
    "slideshow": {
     "slide_type": "slide"
    }
   },
   "source": [
    "Los valores de la variable dependiente $\\phi$ en los nodos $i = 1,2,3,4$ serán:\n",
    "\n",
    "$$\\phi = \\phi_1\\text{ en } x=-b, y=-a$$\n",
    "$$\\phi = \\phi_2\\text{ en } x=b, y=-a$$\n",
    "$$\\phi = \\phi_3\\text{ en } x=b, y=a$$\n",
    "$$\\phi = \\phi_4\\text{ en } x=-b, y=a$$"
   ]
  },
  {
   "cell_type": "markdown",
   "metadata": {
    "slideshow": {
     "slide_type": "slide"
    }
   },
   "source": [
    "Lo que nos permite obtener un sistema de cuatro ecuaciones con cuatro incógnitas:\n",
    "\n",
    "$$\\phi_1= \\alpha_1 +  \\alpha_2 (-b) + \\alpha_3 (-a) + \\alpha_4 (-b)(-a) $$\n",
    "\n",
    "$$\\phi_2= \\alpha_1 +  \\alpha_2 (b) + \\alpha_3 (-a) + \\alpha_4 (b)(-a)$$\n",
    "\n",
    "$$\\phi_3= \\alpha_1 +  \\alpha_2 (b) + \\alpha_3 (a) + \\alpha_4 (b)(a)$$\n",
    "\n",
    "$$\\phi_4= \\alpha_1 +  \\alpha_2 (-b) + \\alpha_3 (a) + \\alpha_4 (-b)(a)$$\n"
   ]
  },
  {
   "cell_type": "markdown",
   "metadata": {
    "slideshow": {
     "slide_type": "slide"
    }
   },
   "source": [
    "Resolviendo este sistema para $\\alpha_1, \\alpha_2, \\alpha_3, \\alpha_4$:\n",
    "\n",
    "$$\\alpha_1 = \\dfrac{\\phi_1+\\phi_2+\\phi_3+\\phi_4} {4}$$\n",
    "\n",
    "$$\\alpha_2 = \\dfrac{-\\phi_1+\\phi_2+\\phi_3-\\phi_4} {4b}$$\n",
    "\n",
    "$$\\alpha_3 = \\dfrac{-\\phi_1-\\phi_2+\\phi_3+\\phi_4} {4a}$$\n",
    "\n",
    "$$\\alpha_4 = \\dfrac{\\phi_1-\\phi_2+\\phi_3-\\phi_4} {4ab}$$"
   ]
  },
  {
   "cell_type": "markdown",
   "metadata": {
    "slideshow": {
     "slide_type": "slide"
    }
   },
   "source": [
    "Así, nuestra función dependiente queda como:\n",
    "\n",
    "$$f= \\dfrac{\\phi_1+\\phi_2+\\phi_3+\\phi_4} {4} +  \\dfrac{-\\phi_1+\\phi_2+\\phi_3-\\phi_4} {4b} x + \\dfrac{-\\phi_1-\\phi_2+\\phi_3+\\phi_4} {4a} y + \\dfrac{\\phi_1-\\phi_2+\\phi_3-\\phi_4} {4ab} xy$$"
   ]
  },
  {
   "cell_type": "markdown",
   "metadata": {
    "slideshow": {
     "slide_type": "slide"
    }
   },
   "source": [
    "Si reacomodamos nuestra función para tener la forma:\n",
    "\n",
    "$$\\phi = N_1\\phi_1 + N_2\\phi_2 + N_3\\phi_3 + N_4\\phi_4$$"
   ]
  },
  {
   "cell_type": "markdown",
   "metadata": {
    "slideshow": {
     "slide_type": "slide"
    }
   },
   "source": [
    "Obtenemos:\n",
    "\n",
    "$$N_1 = \\dfrac {1} {4ab}\\left(b-x \\right)\\left(a-y \\right)$$\n",
    "\n",
    "$$N_2 = \\dfrac {1} {4ab}\\left(b+x \\right)\\left(a-y \\right)$$\n",
    "\n",
    "$$N_3 = \\dfrac {1} {4ab}\\left(b+x \\right)\\left(a+y \\right)$$\n",
    "\n",
    "$$N_4 = \\dfrac {1} {4ab}\\left(b-x \\right)\\left(a+y \\right)$$"
   ]
  },
  {
   "cell_type": "markdown",
   "metadata": {
    "slideshow": {
     "slide_type": "slide"
    }
   },
   "source": [
    "### Elemento rectangular cuadrático (8 nodos)"
   ]
  },
  {
   "cell_type": "markdown",
   "metadata": {
    "slideshow": {
     "slide_type": "slide"
    }
   },
   "source": [
    "Existen dos variaciones del elemento rectangular cuadrático. Una tiene nodos en los cuatro vértices y en el centro de los cuatro lados (sumando ocho nodos). La otra tiene un nodo extra al centro del elemento. Para el elemento de ocho nodos: \n",
    "\n",
    "![Figura 5.4](Imagenes/Fig5.4.png)"
   ]
  },
  {
   "cell_type": "markdown",
   "metadata": {
    "slideshow": {
     "slide_type": "slide"
    }
   },
   "source": [
    "La función de la variable dependiente es:\n",
    "\n",
    "$$\\phi = \\alpha_1 + \\alpha_2 x + \\alpha_3 y + \\alpha_4 xy + \\alpha_5 x^2 + \\alpha_6 y^2 + \\alpha_7 x^2y + \\alpha_8 x y^2$$"
   ]
  },
  {
   "cell_type": "markdown",
   "metadata": {
    "slideshow": {
     "slide_type": "slide"
    }
   },
   "source": [
    "Los valores nodales:\n",
    "\n",
    "$$\\phi = \\phi_1\\text{ en } x=-b, y=-a$$\n",
    "$$\\phi = \\phi_2\\text{ en } x=0, y=-a$$\n",
    "$$\\phi = \\phi_3\\text{ en } x=b, y=-a$$\n",
    "$$\\phi = \\phi_4\\text{ en } x=b, y=0$$\n",
    "$$\\phi = \\phi_5\\text{ en } x=b, y=a$$\n",
    "$$\\phi = \\phi_6\\text{ en } x=0, y=a$$\n",
    "$$\\phi = \\phi_7\\text{ en } x=-b, y=a$$\n",
    "$$\\phi = \\phi_8\\text{ en } x=-b, y=0$$"
   ]
  },
  {
   "cell_type": "markdown",
   "metadata": {
    "slideshow": {
     "slide_type": "slide"
    }
   },
   "source": [
    "De donde resulta el sistema:\n",
    "\n",
    "$$\\begin{bmatrix} 1 & -b & -a &  ab & b^2 & a^2 & -ab^2 & -a^2b \\\\ 1 &  0 & -a &   0 &   0 & a^2 &     0 &    0  \\\\ 1 &  b & -a & -ab & b^2 & a^2 & -ab^2 &  a^2b \\\\ 1 &  b &  0 &   0 & b^2 &   0 &     0 &    0  \\\\ 1 &  b &  a &  ab & b^2 & a^2 &  ab^2 &  a^2b \\\\ 1 &  0 &  a &   0 &   0 & a^2 &     0 &    0  \\\\ 1 & -b &  a & -ab & b^2 & a^2 &  ab^2 & -a^2b \\\\ 1 & -b &  0 &   0 & b^2 &   0 &     0 &    0  \\end{bmatrix} \\begin{bmatrix} \\alpha_1 \\\\ \\alpha_2 \\\\ \\alpha_3 \\\\ \\alpha_4 \\\\ \\alpha_5 \\\\ \\alpha_6 \\\\ \\alpha_7 \\\\ \\alpha_8 \\end{bmatrix} = \\begin{bmatrix} \\phi_1 \\\\ \\phi_2 \\\\ \\phi_3 \\\\ \\phi_4 \\\\ \\phi_5 \\\\ \\phi_6 \\\\ \\phi_7 \\\\ \\phi_8 \\end{bmatrix}$$\n"
   ]
  },
  {
   "cell_type": "markdown",
   "metadata": {
    "slideshow": {
     "slide_type": "slide"
    }
   },
   "source": [
    "La función de la variable dependiente se puede construir con:\n",
    "\n",
    "$$\\phi = N_1\\phi_1 + N_2\\phi_2 + N_3\\phi_3 + N_4\\phi_4 + N_5\\phi_5 + N_6\\phi_6 + N_7\\phi_7 + N_8\\phi_8$$"
   ]
  },
  {
   "cell_type": "markdown",
   "metadata": {
    "slideshow": {
     "slide_type": "slide"
    }
   },
   "source": [
    "Así, se pueden obtener las funciones de forma:\n",
    "\n",
    "$$N_1 = \\dfrac{1} {4(ab)^2}(b-x)(a-y)(-ax-by-ab)$$\n",
    "\n",
    "$$N_2 = \\dfrac{1} {2ab^2}(b^2-x^2)(a-y)$$\n",
    "\n",
    "$$N_3 = \\dfrac{1} {4(ab)^2}(b-x)(a-y)(ax-by-ab)$$\n",
    "\n",
    "$$N_4 = \\dfrac{1} {2a^2b}(a^2-y^2)(b+x)$$\n",
    "\n",
    "$$N_5 = \\dfrac{1} {4(ab)^2}(b+x)(a+y)(ax+by-ab)$$\n",
    "\n",
    "$$N_6 = \\dfrac{1} {2ab^2}(b^2-x^2)(a+y)$$\n",
    "\n",
    "$$N_7 = \\dfrac{1} {4(ab)^2}(b-x)(a+y)(ax-by+ab)$$\n",
    "\n",
    "$$N_8 = \\dfrac{1} {2a^2b}(a^2-y^2)(b-x)$$"
   ]
  },
  {
   "cell_type": "markdown",
   "metadata": {
    "slideshow": {
     "slide_type": "slide"
    }
   },
   "source": [
    "### Coordenadas naturales"
   ]
  },
  {
   "cell_type": "markdown",
   "metadata": {
    "slideshow": {
     "slide_type": "slide"
    }
   },
   "source": [
    "En la mayoría de las situaciones el dominio no estará limitado por lados rectos y ortogonales. Una región con fronteras curvas se puede discretizar con elementos cuadriláteros (no rectangulares) para obtener una solución más precisa. La transformación de lados rectos a lados curvos se puede lograr expresando las coordenadas $x$, $y$ en usando las coordenadas:\n",
    "\n",
    "$$x=x(\\xi, \\eta)$$\n",
    "\n",
    "$$y=y(\\xi, \\eta)$$"
   ]
  },
  {
   "cell_type": "markdown",
   "metadata": {
    "slideshow": {
     "slide_type": "slide"
    }
   },
   "source": [
    "La selección de $\\xi$ y $\\eta$ dependerá de la geometría del elemento. Estas coordenadas se conocen como coordenadas _naturales_ cuando se cumple que $ (-1 \\le \\xi \\le 1)$ y $ (-1 \\le \\eta \\le 1).$"
   ]
  },
  {
   "cell_type": "markdown",
   "metadata": {
    "slideshow": {
     "slide_type": "slide"
    }
   },
   "source": [
    "En el caso de un elemento rectangular las coordenadas se pueden obtener usando:\n",
    "\n",
    "$$\\xi = \\dfrac {x-x_c} {b}$$\n",
    "\n",
    "$$\\eta = \\dfrac {y-y_c} {a}$$\n",
    "\n",
    "Donde $(x_c, y_c)$ son las coordenadas del centro del elemento y $b$ y $a$ son la mitad del tamaño del elemento en las direcciones $x$ y $y$ respectivamente."
   ]
  },
  {
   "cell_type": "markdown",
   "metadata": {
    "slideshow": {
     "slide_type": "slide"
    }
   },
   "source": [
    "![Figura 5.5](Imagenes/Fig5.5.png)"
   ]
  },
  {
   "cell_type": "markdown",
   "metadata": {
    "slideshow": {
     "slide_type": "slide"
    }
   },
   "source": [
    "Así, las funciones de forma bilineales se pueden reescribir como:\n",
    "\n",
    "$$N_1 = \\dfrac {1} {4}\\left(1-\\xi \\right)\\left(1-\\eta \\right)$$\n",
    "\n",
    "$$N_2 = \\dfrac {1} {4}\\left(1+\\xi \\right)\\left(1-\\eta \\right)$$\n",
    "\n",
    "$$N_3 = \\dfrac {1} {4}\\left(1+\\xi \\right)\\left(1+\\eta \\right)$$\n",
    "\n",
    "$$N_4 = \\dfrac {1} {4}\\left(1-\\xi \\right)\\left(1+\\eta \\right)$$"
   ]
  },
  {
   "cell_type": "markdown",
   "metadata": {
    "slideshow": {
     "slide_type": "slide"
    }
   },
   "source": [
    "La evaluación de las derivadas es similar a la utilizada en los elementos triangulares. El __Jacobiano__ relaciona las derivadas:\n",
    "\n",
    "$$\\begin{bmatrix} \\dfrac {\\partial N_i} {\\partial \\xi} \\\\ \\dfrac {\\partial N_i} {\\partial \\eta}\\end{bmatrix} =\\begin{bmatrix} \\dfrac {\\partial x}{\\partial \\xi}&\\dfrac {\\partial y}{\\partial \\xi} \\\\ \\dfrac {\\partial x}{\\partial \\eta}&\\dfrac {\\partial y}{\\partial \\eta} \\end{bmatrix}\\begin{bmatrix} \\dfrac {\\partial N_i} {\\partial x} \\\\ \\dfrac {\\partial N_i} {\\partial y}\\end{bmatrix} = \\mathbf{J}\\begin{bmatrix} \\dfrac {\\partial N_i} {\\partial x} \\\\ \\dfrac {\\partial N_i} {\\partial y}\\end{bmatrix}$$"
   ]
  },
  {
   "cell_type": "markdown",
   "metadata": {
    "slideshow": {
     "slide_type": "slide"
    }
   },
   "source": [
    "Así las derivadas se con respecto a las coordenadas ($x$, $y$) se pueden encontrar usando:\n",
    "\n",
    "$$\\begin{bmatrix} \\dfrac {\\partial N_i} {\\partial x} \\\\ \\dfrac {\\partial N_i} {\\partial y}\\end{bmatrix} = \\mathbf{J}^{-1}\\begin{bmatrix} \\dfrac {\\partial N_i} {\\partial \\xi} \\\\ \\dfrac {\\partial N_i} {\\partial \\eta}\\end{bmatrix} $$"
   ]
  },
  {
   "cell_type": "markdown",
   "metadata": {
    "slideshow": {
     "slide_type": "slide"
    }
   },
   "source": [
    "__Ejemplo 5.1__:\n",
    "\n",
    "Encontrar las el valor de las derivadas $\\partial N_1/\\partial x$ y $\\partial N_1/\\partial y$ en $x=2$ y $y=2$ para el elemento mostrado:\n",
    "\n",
    "![Figura 5.6](Imagenes/Fig5.6.png)"
   ]
  },
  {
   "cell_type": "markdown",
   "metadata": {
    "slideshow": {
     "slide_type": "slide"
    }
   },
   "source": [
    "Las transformaciones de estos elementos quedan:\n",
    "\n",
    "$$\\xi = \\dfrac {x-x_c} {b} = \\dfrac {x-5/2} {3/2} $$\n",
    "\n",
    "$$\\eta = \\dfrac {y-y_c} {a} = \\dfrac {y-2} {1}$$"
   ]
  },
  {
   "cell_type": "markdown",
   "metadata": {
    "slideshow": {
     "slide_type": "slide"
    }
   },
   "source": [
    "De donde:\n",
    "\n",
    "$$ x = \\dfrac {1} {2} (3\\xi + 5)$$\n",
    "\n",
    "$$ y = \\eta +2 $$"
   ]
  },
  {
   "cell_type": "markdown",
   "metadata": {
    "slideshow": {
     "slide_type": "slide"
    }
   },
   "source": [
    "El Jacobiano esta definido como:\n",
    "\n",
    "$$\\mathbf{J} = \\begin{bmatrix} \\dfrac {\\partial x}{\\partial \\xi}&\\dfrac {\\partial y}{\\partial \\xi} \\\\ \\dfrac {\\partial x}{\\partial \\eta}&\\dfrac {\\partial y}{\\partial \\eta} \\end{bmatrix}$$"
   ]
  },
  {
   "cell_type": "markdown",
   "metadata": {
    "slideshow": {
     "slide_type": "slide"
    }
   },
   "source": [
    "Evaluando las derivadas:\n",
    "\n",
    "$$\\dfrac {\\partial x}{\\partial \\xi} = \\dfrac {3} {2}$$\n",
    "\n",
    "$$\\dfrac {\\partial y}{\\partial \\xi} = 0$$\n",
    "\n",
    "$$\\dfrac {\\partial x}{\\partial \\eta} = 0$$\n",
    "\n",
    "$$\\dfrac {\\partial y}{\\partial \\eta} = 1$$"
   ]
  },
  {
   "cell_type": "markdown",
   "metadata": {
    "slideshow": {
     "slide_type": "slide"
    }
   },
   "source": [
    "$$\\mathbf{J} = \\dfrac{1} {2}\\begin{bmatrix} 3 & 0 \\\\ 0 & 2 \\end{bmatrix}$$"
   ]
  },
  {
   "cell_type": "markdown",
   "metadata": {
    "slideshow": {
     "slide_type": "slide"
    }
   },
   "source": [
    "La inversa es:\n",
    "\n",
    "$$\\mathbf{J}^{-1} = \\dfrac{1} {3}\\begin{bmatrix} 2 & 0 \\\\ 0 & 3 \\end{bmatrix}$$"
   ]
  },
  {
   "cell_type": "markdown",
   "metadata": {
    "slideshow": {
     "slide_type": "slide"
    }
   },
   "source": [
    "La función de forma $N_1$ es igual a:\n",
    "\n",
    "$$N_1 = \\dfrac {1} {4}\\left(1-\\xi \\right)\\left(1-\\eta \\right)$$"
   ]
  },
  {
   "cell_type": "markdown",
   "metadata": {
    "slideshow": {
     "slide_type": "slide"
    }
   },
   "source": [
    "De manera que las derivadas son:\n",
    "\n",
    "$$\\dfrac {\\partial N_1} {\\partial \\xi} = -  \\dfrac {1-\\eta} {4} $$\n",
    "\n",
    "\n",
    "$$ \\dfrac {\\partial N_1} {\\partial \\eta} = -  \\dfrac {1-\\xi} {4}$$"
   ]
  },
  {
   "cell_type": "markdown",
   "metadata": {
    "slideshow": {
     "slide_type": "slide"
    }
   },
   "source": [
    "Evaluamos estas derivadas en $x=2$ y $y=2$, estos puntos tienen coordenadas $\\xi$, $\\eta$:\n",
    "\n",
    "$$\\xi = \\dfrac {x-5/2} {3/2} = \\dfrac {(2)-5/2} {3/2} = -\\dfrac {1} {3}$$\n",
    "\n",
    "$$\\eta = y-2 = (2)-2 = 0$$ "
   ]
  },
  {
   "cell_type": "markdown",
   "metadata": {
    "slideshow": {
     "slide_type": "slide"
    }
   },
   "source": [
    "Por lo que:\n",
    "\n",
    "$$\\dfrac {\\partial N_1} {\\partial \\xi} = -  \\dfrac {1-\\eta} {4} = -  \\dfrac {1-(0)} {4} = - \\dfrac {1} {4}$$\n",
    "\n",
    "\n",
    "$$ \\dfrac {\\partial N_1} {\\partial \\eta} = -  \\dfrac {1-\\xi} {4} = -  \\dfrac {1-(1/3)} {4} = - \\dfrac {1} {3}$$"
   ]
  },
  {
   "cell_type": "markdown",
   "metadata": {
    "slideshow": {
     "slide_type": "slide"
    }
   },
   "source": [
    "La multiplicación de las matrices nos da las derivadas:\n",
    "\n",
    "$$\\begin{bmatrix} \\dfrac {\\partial N_1} {\\partial x} \\\\ \\dfrac {\\partial N_1} {\\partial y}\\end{bmatrix} = \\dfrac{1} {3}\\begin{bmatrix} 2 & 0 \\\\ 0 & 3 \\end{bmatrix} \\begin{bmatrix} - \\dfrac {1} {4} \\\\ - \\dfrac {1} {3}\\end{bmatrix} = \\begin{bmatrix} - \\dfrac {1} {6} \\\\ - \\dfrac {1} {3}\\end{bmatrix} $$"
   ]
  },
  {
   "cell_type": "markdown",
   "metadata": {
    "slideshow": {
     "slide_type": "slide"
    }
   },
   "source": [
    "### Elemento cuadrático en coordenadas naturales (8 nodos)"
   ]
  },
  {
   "cell_type": "markdown",
   "metadata": {
    "slideshow": {
     "slide_type": "slide"
    }
   },
   "source": [
    "El elemento cuadrático con ocho nodos queda expresado en coordenadas naturales como:\n",
    "\n",
    "$$\\phi = \\alpha_1 + \\alpha_2 \\xi + \\alpha_3 \\eta + \\alpha_4 \\xi \\eta + \\alpha_5 \\xi^2 + \\alpha_6 \\eta^2 + \\alpha_7 \\xi^2 \\eta + \\alpha_8 \\xi \\eta^2$$"
   ]
  },
  {
   "cell_type": "markdown",
   "metadata": {
    "slideshow": {
     "slide_type": "slide"
    }
   },
   "source": [
    "![Figura 5.7](Imagenes/Fig5.7.png)"
   ]
  },
  {
   "cell_type": "markdown",
   "metadata": {
    "slideshow": {
     "slide_type": "slide"
    }
   },
   "source": [
    "Las funciones de forma están dadas por:\n",
    "\n",
    "$$N_1 = -\\dfrac{1} {4}(1-\\xi)(1-\\eta)(1+\\xi+\\eta)$$\n",
    "\n",
    "$$N_2 = \\dfrac{1} {2}(1-\\xi^2)(1-\\eta)$$\n",
    "\n",
    "$$N_3 = \\dfrac{1} {4}(1+\\xi)(1-\\eta)(\\xi-\\eta-1)$$\n",
    "\n",
    "$$N_4 = \\dfrac{1} {2}(1-\\eta^2)(1+\\xi)$$\n",
    "\n",
    "$$N_5 = \\dfrac{1} {4}(1+\\xi)(1+\\eta)(\\xi+\\eta-1)$$\n",
    "\n",
    "$$N_6 = \\dfrac{1} {2}(1-\\xi^2)(1+\\eta)$$\n",
    "\n",
    "$$N_7 = -\\dfrac{1} {4}(1-\\xi)(1+\\eta)(1+\\xi-\\eta)$$\n",
    "\n",
    "$$N_8 = \\dfrac{1} {2}(1-\\eta^2)(1-\\xi)$$"
   ]
  },
  {
   "cell_type": "markdown",
   "metadata": {
    "slideshow": {
     "slide_type": "slide"
    }
   },
   "source": [
    "La evaluación de las derivadas sigue el mismo camino que en el caso lineal:\n",
    "\n",
    "$$\\begin{bmatrix} \\dfrac {\\partial N_i} {\\partial \\xi} \\\\ \\dfrac {\\partial N_i} {\\partial \\eta}\\end{bmatrix} = \\mathbf{J}\\begin{bmatrix} \\dfrac {\\partial N_i} {\\partial x} \\\\ \\dfrac {\\partial N_i} {\\partial y}\\end{bmatrix}$$"
   ]
  },
  {
   "cell_type": "markdown",
   "metadata": {
    "slideshow": {
     "slide_type": "slide"
    }
   },
   "source": [
    "Con el Jacobiano:\n",
    "\n",
    "$$\\mathbf{J} = \\begin{bmatrix} \\dfrac {\\partial x}{\\partial \\xi}&\\dfrac {\\partial y}{\\partial \\xi} \\\\ \\dfrac {\\partial x}{\\partial \\eta}&\\dfrac {\\partial y}{\\partial \\eta} \\end{bmatrix}$$"
   ]
  },
  {
   "cell_type": "markdown",
   "metadata": {
    "slideshow": {
     "slide_type": "slide"
    }
   },
   "source": [
    "Las derivadas que forman el Jacobiano se pueden obtener a partir de las fórmulas:\n",
    "\n",
    "$$x = b \\xi + x_c = \\dfrac {1} {2} (x_3-x_1) \\xi + \\dfrac {1} {2} (x_1 +x_3)$$\n",
    "\n",
    "$$y = a \\eta + y_c = \\dfrac {1} {2} (y_7-y_1) \\eta + \\dfrac {1} {2} (y_1 +y_7)$$"
   ]
  }
 ],
 "metadata": {
  "celltoolbar": "Slideshow",
  "julynter-results": {
   "filteredId": [],
   "filteredIndividual": [],
   "filteredRestart": [],
   "filteredType": [],
   "hash": "50759ee206a49b92fd31bf802175d75a92100659",
   "visible": []
  },
  "kernelspec": {
   "display_name": "Python 3 (ipykernel)",
   "language": "python",
   "name": "python3"
  },
  "language_info": {
   "codemirror_mode": {
    "name": "ipython",
    "version": 3
   },
   "file_extension": ".py",
   "mimetype": "text/x-python",
   "name": "python",
   "nbconvert_exporter": "python",
   "pygments_lexer": "ipython3",
   "version": "3.8.8"
  }
 },
 "nbformat": 4,
 "nbformat_minor": 4
}
