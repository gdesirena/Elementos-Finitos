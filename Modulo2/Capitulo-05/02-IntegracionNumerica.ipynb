{
 "cells": [
  {
   "cell_type": "markdown",
   "metadata": {
    "slideshow": {
     "slide_type": "slide"
    }
   },
   "source": [
    "![Titulo](Imagenes/Titulos/Head4-5.png)"
   ]
  },
  {
   "cell_type": "markdown",
   "metadata": {
    "slideshow": {
     "slide_type": "slide"
    }
   },
   "source": [
    "## Integración numérica"
   ]
  },
  {
   "cell_type": "markdown",
   "metadata": {
    "slideshow": {
     "slide_type": "slide"
    }
   },
   "source": [
    "La formulación de las integrales en términos de $\\xi$ y $\\eta$ permite plantear las ecuaciones con límites de integración simples. Esto es particularmente práctico cuando tenemos fronteras curvas o fronteras que no son paralelas a los ejes de coordenadas."
   ]
  },
  {
   "cell_type": "markdown",
   "metadata": {
    "slideshow": {
     "slide_type": "slide"
    }
   },
   "source": [
    "Las integrales se definen como:\n",
    "\n",
    "$$\\int\\limits_{-a}^{a}\\int\\limits_{-b}^{b}F(x,y)dxdy = \\int\\limits_{-1}^{1}\\int\\limits_{-1}^{1}f(\\xi,\\eta)|\\mathbf{J}|d\\xi d\\eta$$"
   ]
  },
  {
   "cell_type": "markdown",
   "metadata": {
    "slideshow": {
     "slide_type": "slide"
    }
   },
   "source": [
    "La matriz de conducción se convierte en:\n",
    "\n",
    "$$\\mathbf{K}^{(e)} = \\iint\\limits_{\\Omega^{(e)}}K\\left[ \\dfrac {\\partial N_i} {\\partial x}\\dfrac {\\partial N_j} {\\partial x} + \\dfrac {\\partial N_i} {\\partial y}\\dfrac {\\partial N_j} {\\partial y} \\right]dxdy$$\n",
    "\n",
    "$$\\mathbf{K}^{(e)} =\\int\\limits_{-1}^{1}\\int\\limits_{-1}^{1} K\\left[ \\dfrac {\\partial N_i} {\\partial \\xi}\\dfrac {\\partial N_j} {\\partial \\xi} + \\dfrac {\\partial N_i} {\\partial \\eta}\\dfrac {\\partial N_j} {\\partial \\eta} \\right]|\\mathbf{J}|d\\xi d\\eta$$\n",
    "\n",
    "Donde las derivadas se pueden obtener de las funciones de forma utilizadas."
   ]
  },
  {
   "cell_type": "markdown",
   "metadata": {
    "slideshow": {
     "slide_type": "slide"
    }
   },
   "source": [
    "La integral del producto $N_iN_j$ se convierte en:\n",
    "\n",
    "$$\\iint\\limits_{\\Omega^{(e)}} N_i N_j dxdy = \\int\\limits_{-1}^{1}\\int\\limits_{-1}^{1} N_i N_j |\\mathbf{J}|d\\xi d\\eta$$\n",
    "\n",
    "La integral del lado derecho no se trata ya de polinomios simples y debido al término $1/|\\mathbf{J}|$ las derivadas con respecto a $\\xi$ y $\\eta$ pueden ser problemáticas. Al igual que con los elementos triangulares el método más común para resolver _numéricamente_ estas integrales es usar la Cuadratura de Gauss."
   ]
  },
  {
   "cell_type": "markdown",
   "metadata": {
    "slideshow": {
     "slide_type": "slide"
    }
   },
   "source": [
    "Este método aproxima el valor de una integral con una suma ponderada sobre un número finito de puntos. Para estos elementos usamos:\n",
    "\n",
    "$$\\int\\limits_{-1}^{1}\\int\\limits_{-1}^{1} N_i N_j d\\xi d\\eta \\cong \\sum_{i=1}^N\\sum_{j=1}^N W_i W_j f(\\xi_i, \\eta_i)$$"
   ]
  },
  {
   "cell_type": "markdown",
   "metadata": {
    "slideshow": {
     "slide_type": "slide"
    }
   },
   "source": [
    "El valor de $N$ dependerá del máximo exponente que exista para $\\xi$ y $\\eta$ en la expresión: podemos integrar exactamente un polinomio de grado $2N-1$. "
   ]
  },
  {
   "cell_type": "markdown",
   "metadata": {
    "slideshow": {
     "slide_type": "slide"
    }
   },
   "source": [
    "Para un elemento bilinear podemos utilizar, con $N=2$:\n",
    "\n",
    "| Punto | $\\xi_i$ | $\\eta_j$ | $W_i$  | $W_j$  |\n",
    "|:-----:|:-------:|:--------:|:--:|:--:|\n",
    "| $1$|$-1/\\sqrt{3}$ |$-1/\\sqrt{3}$| $1$ | $1$ |\n",
    "| $2$|$1/\\sqrt{3}$ |$-1/\\sqrt{3}$| $1$ | $1$ |\n",
    "| $3$|$1/\\sqrt{3}$ |$1/\\sqrt{3}$| $1$ | $1$ |\n",
    "| $4$|$-1/\\sqrt{3}$ |$1/\\sqrt{3}$| $1$ | $1$ |"
   ]
  },
  {
   "cell_type": "markdown",
   "metadata": {
    "slideshow": {
     "slide_type": "slide"
    }
   },
   "source": [
    "![Figura 5.8](Imagenes/Fig5.8.png)"
   ]
  },
  {
   "cell_type": "markdown",
   "metadata": {
    "slideshow": {
     "slide_type": "slide"
    }
   },
   "source": [
    "Para elemento cuadrático de 8 nodos, con $N=3$: \n",
    "\n",
    "![Table5.2](Imagenes/Table5.2.png)"
   ]
  },
  {
   "cell_type": "markdown",
   "metadata": {
    "slideshow": {
     "slide_type": "slide"
    }
   },
   "source": [
    "![Figura 5.9](Imagenes/Fig5.9.png)"
   ]
  },
  {
   "cell_type": "markdown",
   "metadata": {
    "slideshow": {
     "slide_type": "slide"
    }
   },
   "source": [
    "__Ejercicio:__\n",
    "\n",
    "Integrar numérica y analíticamente la expresión:\n",
    "\n",
    "$$\\int\\limits_{-1}^1 \\int\\limits_{-1}^1 9 \\xi^2 \\eta^2 d\\xi d\\eta$$"
   ]
  }
 ],
 "metadata": {
  "celltoolbar": "Slideshow",
  "julynter-results": {
   "filteredId": [],
   "filteredIndividual": [],
   "filteredRestart": [],
   "filteredType": [],
   "hash": "154ec60210ca60cfc0d86aa70f7bd55ba63d0ab5",
   "visible": []
  },
  "kernelspec": {
   "display_name": "Python 3 (ipykernel)",
   "language": "python",
   "name": "python3"
  },
  "language_info": {
   "codemirror_mode": {
    "name": "ipython",
    "version": 3
   },
   "file_extension": ".py",
   "mimetype": "text/x-python",
   "name": "python",
   "nbconvert_exporter": "python",
   "pygments_lexer": "ipython3",
   "version": "3.8.8"
  }
 },
 "nbformat": 4,
 "nbformat_minor": 4
}
