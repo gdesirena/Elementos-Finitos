{
 "cells": [
  {
   "cell_type": "code",
   "execution_count": 1,
   "metadata": {},
   "outputs": [],
   "source": [
    "import numpy as np\n",
    "import sympy as sp\n",
    "import matplotlib.pyplot as plt"
   ]
  },
  {
   "cell_type": "code",
   "execution_count": 2,
   "metadata": {},
   "outputs": [],
   "source": [
    "x1, x2, x3, x4 = sp.symbols('x_1, x_2, x_3, x_4')\n",
    "y1, y2, y3, y4 = sp.symbols('y_1, y_2, y_3, y_4')\n",
    "xi, eta = sp.symbols('xi, eta')\n",
    "Wi, Wj = sp.symbols('Wi, Wj')\n"
   ]
  },
  {
   "cell_type": "code",
   "execution_count": 3,
   "metadata": {},
   "outputs": [
    {
     "data": {
      "text/latex": [
       "$\\displaystyle 4.0$"
      ],
      "text/plain": [
       "4.00000000000000"
      ]
     },
     "execution_count": 3,
     "metadata": {},
     "output_type": "execute_result"
    }
   ],
   "source": [
    "#f = (9*xi**2*eta**2)/(xi+2)\n",
    "f = (9*xi**2*eta**2)\n",
    "\n",
    "sp.integrate(sp.integrate(f, (xi,-1,1)), (eta,-1,1)).evalf()"
   ]
  },
  {
   "cell_type": "code",
   "execution_count": 4,
   "metadata": {},
   "outputs": [
    {
     "data": {
      "text/latex": [
       "$\\displaystyle 9 \\eta^{2} \\xi^{2}$"
      ],
      "text/plain": [
       "9*eta**2*xi**2"
      ]
     },
     "execution_count": 4,
     "metadata": {},
     "output_type": "execute_result"
    }
   ],
   "source": [
    "f"
   ]
  },
  {
   "cell_type": "code",
   "execution_count": 5,
   "metadata": {},
   "outputs": [
    {
     "name": "stdout",
     "output_type": "stream",
     "text": [
      "4\n"
     ]
    }
   ],
   "source": [
    "# 4 puntos\n",
    "\n",
    "gauss_4 = []\n",
    "gauss_4.append({xi:-1/sp.sqrt(3), eta:-1/sp.sqrt(3), Wi:1, Wj:1})\n",
    "gauss_4.append({xi: 1/sp.sqrt(3), eta:-1/sp.sqrt(3), Wi:1, Wj:1})\n",
    "gauss_4.append({xi: 1/sp.sqrt(3), eta: 1/sp.sqrt(3), Wi:1, Wj:1})\n",
    "gauss_4.append({xi:-1/sp.sqrt(3), eta: 1/sp.sqrt(3), Wi:1, Wj:1})\n",
    "\n",
    "integral = 0\n",
    "for g in gauss_4:\n",
    "    integral += f.subs(g)*g[Wi]*g[Wj]\n",
    "\n",
    "print(integral.simplify())"
   ]
  },
  {
   "cell_type": "code",
   "execution_count": 6,
   "metadata": {},
   "outputs": [
    {
     "name": "stdout",
     "output_type": "stream",
     "text": [
      "4.00013280165265\n"
     ]
    }
   ],
   "source": [
    "# 9 puntos\n",
    "\n",
    "gauss_9 = []\n",
    "gauss_9.append({xi:-0.77460, eta:-0.77460, Wi:0.55556, Wj:0.55556})\n",
    "gauss_9.append({xi: 0.00000, eta:-0.77460, Wi:0.88889, Wj:0.55556})\n",
    "gauss_9.append({xi: 0.77460, eta:-0.77460, Wi:0.55556, Wj:0.55556})\n",
    "gauss_9.append({xi: 0.77460, eta: 0.00000, Wi:0.55556, Wj:0.88889})\n",
    "gauss_9.append({xi: 0.77460, eta: 0.77460, Wi:0.55556, Wj:0.55556})\n",
    "gauss_9.append({xi: 0.00000, eta: 0.77460, Wi:0.88889, Wj:0.55556})\n",
    "gauss_9.append({xi:-0.77460, eta: 0.77460, Wi:0.55556, Wj:0.55556})\n",
    "gauss_9.append({xi:-0.77460, eta: 0.00000, Wi:0.55556, Wj:0.88889})\n",
    "gauss_9.append({xi: 0.00000, eta: 0.00000, Wi:0.88889, Wj:0.88889})\n",
    "\n",
    "integral = 0\n",
    "for g in gauss_9:\n",
    "    integral += f.subs(g)*g[Wi]*g[Wj]\n",
    "\n",
    "print(integral)"
   ]
  },
  {
   "cell_type": "code",
   "execution_count": null,
   "metadata": {},
   "outputs": [],
   "source": []
  }
 ],
 "metadata": {
  "julynter-results": {
   "filteredId": [],
   "filteredIndividual": [],
   "filteredRestart": [],
   "filteredType": [],
   "hash": "2cf3584bc30ab880f543ce518b55f7afd0d374ee",
   "visible": [
    {
     "cellId": "group",
     "hash": "c0de46ba034d710c2b2406a37ee6816be9634aa0",
     "reason": "This groups other lint messages",
     "reportId": "group",
     "reportType": "hiddenstate",
     "suggestion": null,
     "text": "Hidden State"
    },
    {
     "cellId": 0,
     "hash": "a95e849de4acef3fe07bda83086554d85d97f38a",
     "reason": "A cell with results of a previous session may fail to execute or produce different results in this one, hampering the reproducibility.",
     "reportId": "h1",
     "reportType": "hiddenstate",
     "suggestion": "Please consider executing it to guarantee the reproducibility.",
     "text": "Cell 0 has execution results, but it wasn't executed on this session"
    },
    {
     "cellId": 1,
     "hash": "d6aa5097428d4547277266a04e0e649f7acc9aa5",
     "reason": "A cell with results of a previous session may fail to execute or produce different results in this one, hampering the reproducibility.",
     "reportId": "h1",
     "reportType": "hiddenstate",
     "suggestion": "Please consider executing it to guarantee the reproducibility.",
     "text": "Cell 1 has execution results, but it wasn't executed on this session"
    },
    {
     "cellId": 2,
     "hash": "ee7816aa3db4a57a1285e7866928d0e4cd31ac06",
     "reason": "A cell with results of a previous session may fail to execute or produce different results in this one, hampering the reproducibility.",
     "reportId": "h1",
     "reportType": "hiddenstate",
     "suggestion": "Please consider executing it to guarantee the reproducibility.",
     "text": "Cell 2 has execution results, but it wasn't executed on this session"
    },
    {
     "cellId": 3,
     "hash": "35cbe042bc36f9f08d446fb7590ebcc7545216d8",
     "reason": "A cell with results of a previous session may fail to execute or produce different results in this one, hampering the reproducibility.",
     "reportId": "h1",
     "reportType": "hiddenstate",
     "suggestion": "Please consider executing it to guarantee the reproducibility.",
     "text": "Cell 3 has execution results, but it wasn't executed on this session"
    },
    {
     "cellId": 4,
     "hash": "70fb57b12c901dc50dd11aaded6e8da8ed1ea98a",
     "reason": "A cell with results of a previous session may fail to execute or produce different results in this one, hampering the reproducibility.",
     "reportId": "h1",
     "reportType": "hiddenstate",
     "suggestion": "Please consider executing it to guarantee the reproducibility.",
     "text": "Cell 4 has execution results, but it wasn't executed on this session"
    },
    {
     "cellId": 5,
     "hash": "3c49acd4fe38bb866e478e64205c89653a8dba3e",
     "reason": "A cell with results of a previous session may fail to execute or produce different results in this one, hampering the reproducibility.",
     "reportId": "h1",
     "reportType": "hiddenstate",
     "suggestion": "Please consider executing it to guarantee the reproducibility.",
     "text": "Cell 5 has execution results, but it wasn't executed on this session"
    },
    {
     "cellId": 0,
     "hash": "f16c14c691707542ae9930fa3d72973af55070d6",
     "reason": "A skip in the execution count might indicate the presence of a hidden state caused by a cell that does not exist anymore. Hidden states might prevent cells from executing or producing the same results, hampering the reproducibility.",
     "reportId": "h4",
     "reportType": "hiddenstate",
     "suggestion": "Please consider re-running the notebook to guarantee the reproducibility.",
     "text": "Cell 0 skips the execution count"
    },
    {
     "cellId": "group",
     "hash": "19d3d3d153f22e318cbe061df9e685ba5165b0aa",
     "reason": "This groups other lint messages",
     "reportId": "group",
     "reportType": "confusenotebook",
     "suggestion": null,
     "text": "Confuse Notebook"
    },
    {
     "cellId": 0,
     "hash": "a0861280b32f2737af7adfef45b3c3db624b7d96",
     "reason": "A markdown cell at the beginning of the notebook can provide a human-friendly title with no constraints and introduce the notebook, indicating its purpose and external requirements.",
     "reportId": "c4",
     "reportType": "confusenotebook",
     "suggestion": "Please consider adding a markdown cell to describe the notebook.",
     "text": "The first cell of the notebook is not a markdown cell"
    },
    {
     "cellId": 5,
     "hash": "0fa19c1575a4f824a18c545bb4351e100a0aba87",
     "reason": "A markdown cell at the end of the notebook can conclude it, presenting a summary of the obtained results.",
     "reportId": "c5",
     "reportType": "confusenotebook",
     "suggestion": "Please consider adding a markdown cell to conclude the notebook.",
     "text": "The last cell of the notebook is not a markdown cell"
    }
   ]
  },
  "kernelspec": {
   "display_name": "Python 3",
   "language": "python",
   "name": "python3"
  },
  "language_info": {
   "codemirror_mode": {
    "name": "ipython",
    "version": 3
   },
   "file_extension": ".py",
   "mimetype": "text/x-python",
   "name": "python",
   "nbconvert_exporter": "python",
   "pygments_lexer": "ipython3",
   "version": "3.7.12"
  }
 },
 "nbformat": 4,
 "nbformat_minor": 4
}
