{
 "cells": [
  {
   "cell_type": "code",
   "execution_count": 1,
   "metadata": {
    "editable": true,
    "slideshow": {
     "slide_type": ""
    },
    "tags": []
   },
   "outputs": [],
   "source": [
    "import numpy as np\n",
    "import matplotlib.pyplot as plt\n",
    "from mpl_toolkits.mplot3d import Axes3D"
   ]
  },
  {
   "cell_type": "code",
   "execution_count": 2,
   "metadata": {},
   "outputs": [],
   "source": [
    "xv = np.linspace(1,4,30)\n",
    "yv = np.linspace(1,3,30)\n",
    "\n",
    "x, y = np.meshgrid(xv, yv)\n",
    "\n",
    "a = 1\n",
    "b = 1.5\n",
    "\n",
    "xi = (x-2.5) / b\n",
    "eta = (y-2) / a"
   ]
  },
  {
   "cell_type": "code",
   "execution_count": 3,
   "metadata": {},
   "outputs": [],
   "source": [
    "N1 = 1/4*(1-xi)*(1-eta)\n",
    "N2 = 1/4*(1+xi)*(1-eta)\n",
    "N3 = 1/4*(1+xi)*(1+eta)\n",
    "N4 = 1/4*(1-xi)*(1+eta)"
   ]
  },
  {
   "cell_type": "code",
   "execution_count": 4,
   "metadata": {
    "editable": true,
    "slideshow": {
     "slide_type": ""
    },
    "tags": []
   },
   "outputs": [
    {
     "data": {
      "text/plain": [
       "(0.0, 1.0)"
      ]
     },
     "execution_count": 4,
     "metadata": {},
     "output_type": "execute_result"
    }
   ],
   "source": [
    "\n",
    "%matplotlib qt\n",
    "fig=plt.figure(figsize=(10,10))\n",
    "ax = fig.add_subplot(projection = '3d')\n",
    "xp = np.array([1,4,4,1,1])\n",
    "yp = np.array([1,1,3,3,1])\n",
    "plt.plot(xp,yp, 'ko-')\n",
    "#plt.plot(x.flatten(),y.flatten(),funcion.flatten(),'.')\n",
    "plt.plot(x.flatten(),y.flatten(),N1.flatten(),'.')\n",
    "#plt.plot(x.flatten(),y.flatten(),N2.flatten(),'.')\n",
    "#plt.plot(x.flatten(),y.flatten(),N3.flatten(),'.')\n",
    "#plt.plot(x.flatten(),y.flatten(),N4.flatten(),'.')\n",
    "#ax.set_aspect('equal')\n",
    "ax.set_zlim(0,1)"
   ]
  }
 ],
 "metadata": {
  "kernelspec": {
   "display_name": "Python 3 (ipykernel)",
   "language": "python",
   "name": "python3"
  },
  "language_info": {
   "codemirror_mode": {
    "name": "ipython",
    "version": 3
   },
   "file_extension": ".py",
   "mimetype": "text/x-python",
   "name": "python",
   "nbconvert_exporter": "python",
   "pygments_lexer": "ipython3",
   "version": "3.11.3"
  }
 },
 "nbformat": 4,
 "nbformat_minor": 4
}
