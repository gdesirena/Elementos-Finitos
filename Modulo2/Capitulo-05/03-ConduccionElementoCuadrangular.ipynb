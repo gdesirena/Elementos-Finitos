{
 "cells": [
  {
   "cell_type": "markdown",
   "metadata": {
    "slideshow": {
     "slide_type": "slide"
    }
   },
   "source": [
    "![Titulo](Imagenes/Titulos/Head4-6.png)"
   ]
  },
  {
   "cell_type": "markdown",
   "metadata": {
    "slideshow": {
     "slide_type": "slide"
    }
   },
   "source": [
    "## Ecuación de conducción en estado estacionario"
   ]
  },
  {
   "cell_type": "markdown",
   "metadata": {
    "slideshow": {
     "slide_type": "slide"
    }
   },
   "source": [
    "Plantearemos la ecuación de conducción usando el elemento cuadrilátero bilineal. La ecuación de comportamiento es:\n",
    "\n",
    "$$-\\dfrac {\\partial} {\\partial x} \\left( K \\dfrac {\\partial T} {\\partial x} \\right)-\\dfrac {\\partial} {\\partial y} \\left( K \\dfrac {\\partial T} {\\partial y} \\right) = Q$$"
   ]
  },
  {
   "cell_type": "markdown",
   "metadata": {
    "slideshow": {
     "slide_type": "slide"
    }
   },
   "source": [
    "La condición de flujo constante en la frontera como:\n",
    "\n",
    "$$- K \\left( \\dfrac {\\partial T} {\\partial x} n_x + \\dfrac {\\partial T} {\\partial y} n_y \\right) = q$$\n",
    "\n",
    "donde $n_x$ y $n_y$ son los cosenos directores del vector normal a la frontera."
   ]
  },
  {
   "cell_type": "markdown",
   "metadata": {
    "slideshow": {
     "slide_type": "slide"
    }
   },
   "source": [
    "Usando el mismo procedimiento que utilizamos para el elemento triangular, la ecuación de residuos ponderados es:\n",
    "\n",
    "$$\\int\\limits_{\\Omega} W \\left[ -\\dfrac {\\partial} {\\partial x} \\left( K \\dfrac {\\partial T} {\\partial x} \\right)-\\dfrac {\\partial} {\\partial y} \\left( K \\dfrac {\\partial T} {\\partial y} \\right) - Q \\right] d\\Omega = 0 $$"
   ]
  },
  {
   "cell_type": "markdown",
   "metadata": {
    "slideshow": {
     "slide_type": "slide"
    }
   },
   "source": [
    "Aplicamos el teorema de Green para obtener:\n",
    "\n",
    "$$\\int\\limits_{\\Omega} \\left[ K \\dfrac {\\partial W} {\\partial x} \\dfrac {\\partial T} {\\partial x} + K \\dfrac {\\partial W} {\\partial y} \\dfrac {\\partial T} {\\partial y} - WQ \\right] dxdy + \\int\\limits_{\\Gamma_B} - KW \\left( \\dfrac {\\partial T} {\\partial x} n_x + \\dfrac {\\partial T} {\\partial y} n_y \\right) d \\Gamma = 0 $$"
   ]
  },
  {
   "cell_type": "markdown",
   "metadata": {
    "slideshow": {
     "slide_type": "slide"
    }
   },
   "source": [
    "Aproximamos la solución usando funciones bilineales:\n",
    "\n",
    "$$T=\\sum_{i=1}^4 N_i T_i$$\n",
    "\n",
    "Y establecemos $W = N_i$, según la metodología de Galerkin."
   ]
  },
  {
   "cell_type": "markdown",
   "metadata": {
    "slideshow": {
     "slide_type": "slide"
    }
   },
   "source": [
    "La expresión anterior se convierte en:\n",
    "\n",
    "\n",
    "$$\\left[ \\int\\limits_{\\Omega}  \\left( K \\dfrac {\\partial N_i} {\\partial x} \\dfrac {\\partial N_j} {\\partial x} + K \\dfrac {\\partial N_i} {\\partial y} \\dfrac {\\partial N_j} {\\partial y} \\right) dxdy \\right] T_j = \\left[ \\int\\limits_{\\Omega} N_i Q dxdy - \\int\\limits_{\\Gamma_B}  N_i q  d \\Gamma \\right] $$"
   ]
  },
  {
   "cell_type": "markdown",
   "metadata": {
    "slideshow": {
     "slide_type": "slide"
    }
   },
   "source": [
    "Ahora transformamos la ecuación para usar las coordenadas naturales $\\xi$ y $\\eta$. La temperatura será:\n",
    "\n",
    "$$T(\\xi,\\eta) = \\sum_{i=1}^4 N_i(\\xi,\\eta) T_i$$"
   ]
  },
  {
   "cell_type": "markdown",
   "metadata": {
    "slideshow": {
     "slide_type": "slide"
    }
   },
   "source": [
    "La primera derivada la podemos obtener usando:\n",
    "\n",
    "$$\\begin{bmatrix} \\dfrac {\\partial N_i} {\\partial x} \\\\ \\dfrac {\\partial N_i} {\\partial y}\\end{bmatrix} = \\mathbf{J}^{-1}\\begin{bmatrix} \\dfrac {\\partial N_i} {\\partial \\xi} \\\\ \\dfrac {\\partial N_i} {\\partial \\eta}\\end{bmatrix} $$"
   ]
  },
  {
   "cell_type": "markdown",
   "metadata": {
    "slideshow": {
     "slide_type": "slide"
    }
   },
   "source": [
    "Donde el el Jacobiano es:\n",
    "\n",
    "$$\\mathbf{J} = \\begin{bmatrix} \\dfrac {\\partial x}{\\partial \\xi}&\\dfrac {\\partial y}{\\partial \\xi} \\\\ \\dfrac {\\partial x}{\\partial \\eta}&\\dfrac {\\partial y}{\\partial \\eta} \\end{bmatrix} = \\begin{bmatrix} J_{11} & J_{21} \\\\ J_{12} & J_{22} \\end{bmatrix} = \\dfrac {1} {2} \\begin{bmatrix} x_2-x_1 & 0 \\\\ 0 & y_4-y_1 \\end{bmatrix}$$"
   ]
  },
  {
   "cell_type": "markdown",
   "metadata": {
    "slideshow": {
     "slide_type": "slide"
    }
   },
   "source": [
    "La inversa del Jacobiano es:\n",
    "\n",
    "$$\\mathbf{J}^{-1} =  \\dfrac {1} {|\\mathbf{J}|} \\begin{bmatrix} J_{22} & -J_{12} \\\\ -J_{21} & J_{11} \\end{bmatrix}$$"
   ]
  },
  {
   "cell_type": "markdown",
   "metadata": {
    "slideshow": {
     "slide_type": "slide"
    }
   },
   "source": [
    "Con:\n",
    "\n",
    "$$|\\mathbf{J}| = J_{11}J_{22} - J_{12}J_{21}$$"
   ]
  },
  {
   "cell_type": "markdown",
   "metadata": {
    "slideshow": {
     "slide_type": "slide"
    }
   },
   "source": [
    "Con este cambio de variable nuestra ecuación se convierte en:\n",
    "\n",
    "$$\\int\\limits_{-1}^{1}\\int\\limits_{-1}^{1} K \\left[   \\left(  \\dfrac {\\partial N_i} {\\partial \\xi} \\dfrac {\\partial \\xi} {\\partial x} + \\dfrac {\\partial N_i} {\\partial \\eta} \\dfrac {\\partial \\eta} {\\partial x} \\right) \\left(  \\dfrac {\\partial N_j} {\\partial \\xi} \\dfrac {\\partial \\xi} {\\partial x} + \\dfrac {\\partial N_j} {\\partial \\eta} \\dfrac {\\partial \\eta} {\\partial x} \\right) + \\left(  \\dfrac {\\partial N_i} {\\partial \\xi} \\dfrac {\\partial \\xi} {\\partial y} + \\dfrac {\\partial N_i} {\\partial \\eta} \\dfrac {\\partial \\eta} {\\partial y} \\right) \\left(  \\dfrac {\\partial N_j} {\\partial \\xi} \\dfrac {\\partial \\xi} {\\partial y} + \\dfrac {\\partial N_j} {\\partial \\eta} \\dfrac {\\partial \\eta} {\\partial y} \\right)\\right] |\\mathbf{J}| d\\xi d\\eta [ T_j ]$$\n",
    "\n",
    "$$ = \\int\\limits_{-1}^{1}\\int\\limits_{-1}^{1} Q N_i |\\mathbf{J}| d\\xi d\\eta - \\int\\limits_{\\Gamma} q N_i d \\Gamma  $$\n",
    "\n",
    "Esta es la expresión general de estado estable para un elemento con generación y con flujo constante."
   ]
  },
  {
   "cell_type": "markdown",
   "metadata": {
    "slideshow": {
     "slide_type": "slide"
    }
   },
   "source": [
    "__Ejemplo__:\n",
    "\n",
    "Plantea las ecuaciones matriciales para el siguiente elemento:\n",
    "\n",
    "(__Nota__: este ejemplo se diferenciá del ejemplo 5.2 del libro porque aquí se utilizan coordenadas naturales.)\n",
    "\n",
    "![Figura 5.11](Imagenes/Fig5.11-Mod.png)"
   ]
  },
  {
   "cell_type": "markdown",
   "metadata": {
    "slideshow": {
     "slide_type": "slide"
    }
   },
   "source": [
    "__Solución__:\n",
    "\n",
    "Las funciones de forma son:\n",
    "\n",
    "$$N_1 = \\dfrac {1} {4}\\left(1-\\xi \\right)\\left(1-\\eta \\right)$$\n",
    "\n",
    "$$N_2 = \\dfrac {1} {4}\\left(1+\\xi \\right)\\left(1-\\eta \\right)$$\n",
    "\n",
    "$$N_3 = \\dfrac {1} {4}\\left(1+\\xi \\right)\\left(1+\\eta \\right)$$\n",
    "\n",
    "$$N_4 = \\dfrac {1} {4}\\left(1-\\xi \\right)\\left(1+\\eta \\right)$$"
   ]
  },
  {
   "cell_type": "markdown",
   "metadata": {
    "slideshow": {
     "slide_type": "slide"
    }
   },
   "source": [
    "Resolveremos el sistema:\n",
    "\n",
    "$$\\int\\limits_{-1}^{1}\\int\\limits_{-1}^{1} \\left[  K \\left(  \\dfrac {\\partial N_i} {\\partial \\xi} \\dfrac {\\partial \\xi} {\\partial x} + \\dfrac {\\partial N_i} {\\partial \\eta} \\dfrac {\\partial \\eta} {\\partial y} \\right) \\left(  \\dfrac {\\partial N_j} {\\partial \\xi} \\dfrac {\\partial \\xi} {\\partial x} + \\dfrac {\\partial N_j} {\\partial \\eta} \\dfrac {\\partial \\eta} {\\partial y} \\right)\\right] |\\mathbf{J}| d\\xi d\\eta [ T_j ]$$\n",
    "\n",
    "$$ = \\int\\limits_{-1}^{1}\\int\\limits_{-1}^{1} Q N_i |\\mathbf{J}| d\\xi d\\eta - \\int\\limits_{\\Gamma} q N_i d \\Gamma   $$"
   ]
  },
  {
   "cell_type": "markdown",
   "metadata": {
    "slideshow": {
     "slide_type": "slide"
    }
   },
   "source": [
    "Las coordenadas $x$ y $y$ se pueden obtener utilizando:\n",
    "\n",
    "$$x = b \\xi + x_c = \\dfrac {1} {2} (x_2-x_1) \\xi + \\dfrac {1} {2} (x_1 +x_2)$$\n",
    "\n",
    "$$y = a \\eta + y_c = \\dfrac {1} {2} (y_4-y_1) \\eta + \\dfrac {1} {2} (y_1 +y_4)$$"
   ]
  },
  {
   "cell_type": "markdown",
   "metadata": {
    "slideshow": {
     "slide_type": "slide"
    }
   },
   "source": [
    "Por lo que el Jacobiano resulta:\n",
    "\n",
    "$$\\mathbf{J} = \\begin{bmatrix} \\dfrac {\\partial x}{\\partial \\xi}&\\dfrac {\\partial y}{\\partial \\xi} \\\\ \\dfrac {\\partial x}{\\partial \\eta}&\\dfrac {\\partial y}{\\partial \\eta} \\end{bmatrix} = \\begin{bmatrix} J_{11} & J_{21} \\\\ J_{12} & J_{22} \\end{bmatrix} = \\begin{bmatrix} b & 0 \\\\ 0 & a \\end{bmatrix}$$"
   ]
  },
  {
   "cell_type": "markdown",
   "metadata": {
    "slideshow": {
     "slide_type": "slide"
    }
   },
   "source": [
    "$$\\mathbf{J}^{-1} =  \\dfrac {1} {ab} \\begin{bmatrix} a & 0 \\\\ 0 & b \\end{bmatrix}$$"
   ]
  },
  {
   "cell_type": "markdown",
   "metadata": {
    "slideshow": {
     "slide_type": "slide"
    }
   },
   "source": [
    "Las derivadas de las funciones de forma respecto a $x$ y $y$:\n",
    "\n",
    "$$\\begin{bmatrix} \\dfrac {\\partial N_1} {\\partial x} \\\\ \\dfrac {\\partial N_1} {\\partial y}\\end{bmatrix} = \\mathbf{J}^{-1}\\begin{bmatrix} \\dfrac {\\partial N_1} {\\partial \\xi} \\\\ \\dfrac {\\partial N_1} {\\partial \\eta}\\end{bmatrix} =  \\dfrac {1} {4ab} \\begin{bmatrix} a & 0 \\\\ 0 & b \\end{bmatrix} \\begin{bmatrix} \\eta-1 \\\\ \\xi -1 \\end{bmatrix} = \\left[\\begin{matrix} \\dfrac {\\eta- 1}{4b} \\\\ \\dfrac {\\xi - 1} {4a}\\end{matrix}\\right]$$"
   ]
  },
  {
   "cell_type": "markdown",
   "metadata": {
    "slideshow": {
     "slide_type": "slide"
    }
   },
   "source": [
    "$$\\begin{bmatrix} \\dfrac {\\partial N_2} {\\partial x} \\\\ \\dfrac {\\partial N_2} {\\partial y}\\end{bmatrix} = \\left[\\begin{matrix} \\dfrac {1- \\eta}{4b} \\\\ -\\dfrac {\\xi + 1} {4a}\\end{matrix}\\right]$$"
   ]
  },
  {
   "cell_type": "markdown",
   "metadata": {
    "slideshow": {
     "slide_type": "slide"
    }
   },
   "source": [
    "$$\\begin{bmatrix} \\dfrac {\\partial N_3} {\\partial x} \\\\ \\dfrac {\\partial N_3} {\\partial y}\\end{bmatrix} = \\left[\\begin{matrix} \\dfrac {\\eta+1}{4b} \\\\ \\dfrac {\\xi + 1} {4a}\\end{matrix}\\right]$$"
   ]
  },
  {
   "cell_type": "markdown",
   "metadata": {
    "slideshow": {
     "slide_type": "slide"
    }
   },
   "source": [
    "$$\\begin{bmatrix} \\dfrac {\\partial N_4} {\\partial x} \\\\ \\dfrac {\\partial N_4} {\\partial y}\\end{bmatrix} = \\left[\\begin{matrix} -\\dfrac {\\eta+1}{4b} \\\\ \\dfrac {1-\\xi} {4a}\\end{matrix}\\right]$$"
   ]
  },
  {
   "cell_type": "markdown",
   "metadata": {
    "slideshow": {
     "slide_type": "slide"
    }
   },
   "source": [
    "Para obtener la **Matriz de conductividad** $\\mathbf{K}$ y tomando en cuenta de que se trata de un elemento rectangular ($\\partial \\eta / \\partial x = 0$ y $\\partial \\xi / \\partial y = 0$) por lo que:\n",
    "\n",
    "$$\\left(  \\dfrac {\\partial N_i} {\\partial \\xi} \\dfrac {\\partial \\xi} {\\partial x} + \\dfrac {\\partial N_i} {\\partial \\eta} \\dfrac {\\partial \\eta} {\\partial x} \\right) \\left(  \\dfrac {\\partial N_j} {\\partial \\xi} \\dfrac {\\partial \\xi} {\\partial x} + \\dfrac {\\partial N_j} {\\partial \\eta} \\dfrac {\\partial \\eta} {\\partial x} \\right)=  \\dfrac {\\partial N_i} {\\partial x} \\dfrac {\\partial N_j} {\\partial x}  $$"
   ]
  },
  {
   "cell_type": "markdown",
   "metadata": {
    "slideshow": {
     "slide_type": "slide"
    }
   },
   "source": [
    "y:\n",
    "\n",
    "$$\\left(  \\dfrac {\\partial N_i} {\\partial \\xi} \\dfrac {\\partial \\xi} {\\partial y} + \\dfrac {\\partial N_i} {\\partial \\eta} \\dfrac {\\partial \\eta} {\\partial y} \\right) \\left(  \\dfrac {\\partial N_j} {\\partial \\xi} \\dfrac {\\partial \\xi} {\\partial y} + \\dfrac {\\partial N_j} {\\partial \\eta} \\dfrac {\\partial \\eta} {\\partial y} \\right) =   \\dfrac {\\partial N_i} {\\partial y} \\dfrac {\\partial N_j} {\\partial y}  $$"
   ]
  },
  {
   "cell_type": "markdown",
   "metadata": {
    "slideshow": {
     "slide_type": "slide"
    }
   },
   "source": [
    "El primer producto es igual a:\n",
    "\n",
    "$$\\left(  \\dfrac {\\partial N_i} {\\partial x} \\dfrac {\\partial N_j} {\\partial x}  \\right)= \\dfrac {1} {16 b^2}\\begin{bmatrix}\\left(\\eta - 1\\right)^{2} & \\left(1 - \\eta\\right) \\left(\\eta - 1\\right) & \\left(\\eta - 1\\right) \\left(\\eta + 1\\right) & \\left(- \\eta - 1\\right) \\left(\\eta - 1\\right)\\\\\\left(1 - \\eta\\right) \\left(\\eta - 1\\right) & \\left(1 - \\eta\\right)^{2} & \\left(1 - \\eta\\right) \\left(\\eta + 1\\right) & \\left(1 - \\eta\\right) \\left(- \\eta - 1\\right)\\\\\\left(\\eta - 1\\right) \\left(\\eta + 1\\right) & \\left(1 - \\eta\\right) \\left(\\eta + 1\\right) & \\left(\\eta + 1\\right)^{2} & \\left(- \\eta - 1\\right) \\left(\\eta + 1\\right)\\\\\\left(- \\eta - 1\\right) \\left(\\eta - 1\\right) & \\left(1 - \\eta\\right) \\left(- \\eta - 1\\right) & \\left(- \\eta - 1\\right) \\left(\\eta + 1\\right) & \\left(- \\eta - 1\\right)^{2}\\end{bmatrix}$$"
   ]
  },
  {
   "cell_type": "markdown",
   "metadata": {
    "slideshow": {
     "slide_type": "slide"
    }
   },
   "source": [
    "Calculando la integral:\n",
    "\n",
    "$$\\dfrac {K|\\mathbf{J}|} {16 b^2} \\int\\limits_{-1}^{1}\\int\\limits_{-1}^{1}\\begin{bmatrix}\\left(\\eta - 1\\right)^{2} & \\left(1 - \\eta\\right) \\left(\\eta - 1\\right) & \\left(\\eta - 1\\right) \\left(\\eta + 1\\right) & \\left(- \\eta - 1\\right) \\left(\\eta - 1\\right)\\\\\\left(1 - \\eta\\right) \\left(\\eta - 1\\right) & \\left(1 - \\eta\\right)^{2} & \\left(1 - \\eta\\right) \\left(\\eta + 1\\right) & \\left(1 - \\eta\\right) \\left(- \\eta - 1\\right)\\\\\\left(\\eta - 1\\right) \\left(\\eta + 1\\right) & \\left(1 - \\eta\\right) \\left(\\eta + 1\\right) & \\left(\\eta + 1\\right)^{2} & \\left(- \\eta - 1\\right) \\left(\\eta + 1\\right)\\\\\\left(- \\eta - 1\\right) \\left(\\eta - 1\\right) & \\left(1 - \\eta\\right) \\left(- \\eta - 1\\right) & \\left(- \\eta - 1\\right) \\left(\\eta + 1\\right) & \\left(- \\eta - 1\\right)^{2}\\end{bmatrix} d\\xi d\\eta=$$"
   ]
  },
  {
   "cell_type": "markdown",
   "metadata": {
    "slideshow": {
     "slide_type": "slide"
    }
   },
   "source": [
    "$$=\\dfrac {Ka} {6b} \\begin{bmatrix}2 & -2 & -1 & 1\\\\-2 & 2 & 1 & -1\\\\-1 & 1 & 2 & -2\\\\1 & -1 & -2 & 2\\end{bmatrix}$$"
   ]
  },
  {
   "cell_type": "markdown",
   "metadata": {
    "slideshow": {
     "slide_type": "slide"
    }
   },
   "source": [
    "Para el segundo producto tenemos:\n",
    "\n",
    "$$\\left(  \\dfrac {\\partial N_i} {\\partial y} \\dfrac {\\partial N_j} {\\partial y}  \\right)=\\dfrac {1} {16 a^2} \\begin{bmatrix}\\left(\\xi - 1\\right)^{2} & \\left(- \\xi - 1\\right) \\left(\\xi - 1\\right) & \\left(\\xi - 1\\right) \\left(\\xi + 1\\right) & \\left(1 - \\xi\\right) \\left(\\xi - 1\\right)\\\\\\left(- \\xi - 1\\right) \\left(\\xi - 1\\right) & \\left(- \\xi - 1\\right)^{2} & \\left(- \\xi - 1\\right) \\left(\\xi + 1\\right) & \\left(1 - \\xi\\right) \\left(- \\xi - 1\\right)\\\\\\left(\\xi - 1\\right) \\left(\\xi + 1\\right) & \\left(- \\xi - 1\\right) \\left(\\xi + 1\\right) & \\left(\\xi + 1\\right)^{2} & \\left(1 - \\xi\\right) \\left(\\xi + 1\\right)\\\\\\left(1 - \\xi\\right) \\left(\\xi - 1\\right) & \\left(1 - \\xi\\right) \\left(- \\xi - 1\\right) & \\left(1 - \\xi\\right) \\left(\\xi + 1\\right) & \\left(1 - \\xi\\right)^{2}\\end{bmatrix}$$"
   ]
  },
  {
   "cell_type": "markdown",
   "metadata": {
    "slideshow": {
     "slide_type": "slide"
    }
   },
   "source": [
    "Calculando la integral:\n",
    "\n",
    "$$\\dfrac {K|\\mathbf{J}|} {16 b^2} \\int\\limits_{-1}^{1}\\int\\limits_{-1}^{1}\\begin{bmatrix}\\left(\\xi - 1\\right)^{2} & \\left(- \\xi - 1\\right) \\left(\\xi - 1\\right) & \\left(\\xi - 1\\right) \\left(\\xi + 1\\right) & \\left(1 - \\xi\\right) \\left(\\xi - 1\\right)\\\\\\left(- \\xi - 1\\right) \\left(\\xi - 1\\right) & \\left(- \\xi - 1\\right)^{2} & \\left(- \\xi - 1\\right) \\left(\\xi + 1\\right) & \\left(1 - \\xi\\right) \\left(- \\xi - 1\\right)\\\\\\left(\\xi - 1\\right) \\left(\\xi + 1\\right) & \\left(- \\xi - 1\\right) \\left(\\xi + 1\\right) & \\left(\\xi + 1\\right)^{2} & \\left(1 - \\xi\\right) \\left(\\xi + 1\\right)\\\\\\left(1 - \\xi\\right) \\left(\\xi - 1\\right) & \\left(1 - \\xi\\right) \\left(- \\xi - 1\\right) & \\left(1 - \\xi\\right) \\left(\\xi + 1\\right) & \\left(1 - \\xi\\right)^{2}\\end{bmatrix} d\\xi d\\eta=$$"
   ]
  },
  {
   "cell_type": "markdown",
   "metadata": {
    "slideshow": {
     "slide_type": "slide"
    }
   },
   "source": [
    "$$=\\frac {Kb} {6a} \\begin{bmatrix}2 & 1 & -1 & -2\\\\1 & 2 & -2 & -1\\\\-1 & -2 & 2 & 1\\\\-2 & -1 & 1 & 2\\end{bmatrix}$$"
   ]
  },
  {
   "cell_type": "markdown",
   "metadata": {
    "slideshow": {
     "slide_type": "slide"
    }
   },
   "source": [
    "Para el término de **Generación**:\n",
    "\n",
    "$$\\int\\limits_{-1}^{1}\\int\\limits_{-1}^{1} Q N_i |\\mathbf{J}| d\\xi d\\eta = $$"
   ]
  },
  {
   "cell_type": "markdown",
   "metadata": {
    "slideshow": {
     "slide_type": "slide"
    }
   },
   "source": [
    "$$= Qab \\int\\limits_{-1}^{1}\\int\\limits_{-1}^{1} N_i d\\xi d\\eta $$"
   ]
  },
  {
   "cell_type": "markdown",
   "metadata": {
    "slideshow": {
     "slide_type": "slide"
    }
   },
   "source": [
    "$$= \\frac{Qab}{4} \\int\\limits_{-1}^{1}\\int\\limits_{-1}^{1}\\begin{bmatrix}\\left(1 - \\xi\\right) \\left(1 - \\eta\\right)\\\\\\left(\\xi + 1\\right) \\left(1 - \\eta\\right) \\\\\\left(\\xi +1\\right) \\left(\\eta + 1\\right) \\\\\\left(1-\\xi\\right) \\left(\\eta + 1\\right)\\end{bmatrix} d\\xi d\\eta$$"
   ]
  },
  {
   "cell_type": "markdown",
   "metadata": {
    "slideshow": {
     "slide_type": "slide"
    }
   },
   "source": [
    "$$= Qab \\begin{bmatrix} 1 \\\\ 1 \\\\ 1 \\\\ 1 \\end{bmatrix}$$"
   ]
  },
  {
   "cell_type": "markdown",
   "metadata": {
    "slideshow": {
     "slide_type": "slide"
    }
   },
   "source": [
    "Finalmente, para el **Flujo en la frontera** evaluaremos la integral:\n",
    "\n",
    "$$\\int\\limits_{\\Gamma} q N_i d \\Gamma$$"
   ]
  },
  {
   "cell_type": "markdown",
   "metadata": {
    "slideshow": {
     "slide_type": "slide"
    }
   },
   "source": [
    "En este caso el flujo se da por la frontera a la derecha, donde $\\xi = 1$. De tal manera:\n",
    "\n",
    "$$\\int\\limits_{\\Gamma} \\frac{q}{4} \\begin{bmatrix}\\left(1 - 1\\right) \\left(1 - \\eta\\right)\\\\\\left(1 + 1\\right) \\left(1 - \\eta\\right) \\\\\\left(1 +1\\right) \\left(\\eta + 1\\right) \\\\\\left(1-1\\right) \\left(\\eta + 1\\right)\\end{bmatrix} d \\Gamma$$"
   ]
  },
  {
   "cell_type": "markdown",
   "metadata": {
    "slideshow": {
     "slide_type": "slide"
    }
   },
   "source": [
    "Para hacer el cambio de variable usamos:\n",
    "\n",
    "$$\\partial \\Gamma = |\\mathbf{J}| \\partial \\eta$$\n",
    "\n",
    "En este caso, al tratarse de la frontera $\\Gamma_{2-3}$ tenemos que:\n",
    "\n",
    "$$|\\mathbf{J}| = \\dfrac {d\\Gamma} {d\\eta} =  \\ell_{2-3} = 2 a$$\n",
    "\n",
    "$${d\\Gamma} = 2 a {d\\eta}$$"
   ]
  },
  {
   "cell_type": "markdown",
   "metadata": {
    "slideshow": {
     "slide_type": "slide"
    }
   },
   "source": [
    "Substituyendo en la integral:\n",
    "\n",
    "$$\\dfrac{2qa}{4} \\int\\limits_{-1}^{+1} \\begin{bmatrix}0 \\\\ 2 \\left(1 - \\eta\\right) \\\\2 \\left(\\eta + 1\\right) \\\\ 0 \\end{bmatrix} d \\eta$$"
   ]
  },
  {
   "cell_type": "markdown",
   "metadata": {
    "slideshow": {
     "slide_type": "slide"
    }
   },
   "source": [
    "$$= aq \\begin{bmatrix}0 \\\\ 1 \\\\ 1 \\\\ 0 \\end{bmatrix}$$"
   ]
  },
  {
   "cell_type": "markdown",
   "metadata": {
    "slideshow": {
     "slide_type": "slide"
    }
   },
   "source": [
    "Así, el elemento queda:\n",
    "\n",
    "$$\\left( \\dfrac {Ka} {6b} \\begin{bmatrix}2 & -2 & -1 & 1\\\\-2 & 2 & 1 & -1\\\\-1 & 1 & 2 & -2\\\\1 & -1 & -2 & 2\\end{bmatrix} + \\dfrac {Kb} {6a} \\begin{bmatrix}2 & 1 & -1 & -2\\\\1 & 2 & -2 & -1\\\\-1 & -2 & 2 & 1\\\\-2 & -1 & 1 & 2\\end{bmatrix} \\right) \\begin{bmatrix} T_1 \\\\ T_2 \\\\ T_3 \\\\ T_4 \\end{bmatrix} = Qab \\begin{bmatrix} 1 \\\\ 1 \\\\ 1 \\\\ 1 \\end{bmatrix} - aq \\begin{bmatrix}0 \\\\ 1 \\\\ 1 \\\\ 0 \\end{bmatrix}$$"
   ]
  },
  {
   "cell_type": "markdown",
   "metadata": {
    "slideshow": {
     "slide_type": "slide"
    }
   },
   "source": [
    "## Elementos con convección\n",
    "\n",
    "Siguiendo la misma lógica de lo anterior obtenemos, para convección en la frontera 2-3:\n",
    "\n",
    "$$\\int\\limits_{\\ell_{2-3}} h N_i T d\\Gamma = \\dfrac {h \\ell_{2-3}} {6} \\begin{bmatrix} 0 & 0 & 0 & 0 \\\\ 0 & 2 & 1 & 0 \\\\ 0 & 1 & 2 & 0 \\\\ 0 & 0 & 0 & 0 \\end{bmatrix} \\begin{bmatrix} T_1 \\\\ T_2 \\\\ T_3 \\\\ T_4 \\end{bmatrix}$$\n",
    "\n",
    "Que tendrá que ser adicionado a la matriz $\\mathbf{K}$."
   ]
  },
  {
   "cell_type": "markdown",
   "metadata": {
    "slideshow": {
     "slide_type": "slide"
    }
   },
   "source": [
    "Y, del lado del vector de fuerza $\\mathbf{F}$:\n",
    "\n",
    "$$ - h T_\\infty \\int\\limits_{\\Gamma} N_1 d\\Gamma = - \\dfrac {hT_\\infty\\ell_{2-3}} {2} \\begin{bmatrix}0 \\\\ 1 \\\\ 1 \\\\ 0 \\end{bmatrix}$$"
   ]
  }
 ],
 "metadata": {
  "celltoolbar": "Slideshow",
  "julynter-results": {
   "filteredId": [],
   "filteredIndividual": [],
   "filteredRestart": [],
   "filteredType": [],
   "hash": "f423a64f74517af352d05844e7e61b772b348efd",
   "visible": []
  },
  "kernelspec": {
   "display_name": "Python 3 (ipykernel)",
   "language": "python",
   "name": "python3"
  },
  "language_info": {
   "codemirror_mode": {
    "name": "ipython",
    "version": 3
   },
   "file_extension": ".py",
   "mimetype": "text/x-python",
   "name": "python",
   "nbconvert_exporter": "python",
   "pygments_lexer": "ipython3",
   "version": "3.8.8"
  }
 },
 "nbformat": 4,
 "nbformat_minor": 4
}
